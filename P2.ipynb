{
 "cells": [
  {
   "cell_type": "markdown",
   "metadata": {},
   "source": [
    "# Advanced Lane Finding Project\n",
    "\n",
    "The goals / steps of this project are the following:\n",
    "\n",
    "* Compute the camera calibration matrix and distortion coefficients given a set of chessboard images.\n",
    "* Apply a distortion correction to raw images.\n",
    "* Use color transforms, gradients, etc., to create a thresholded binary image.\n",
    "* Apply a perspective transform to rectify binary image (\"birds-eye view\").\n",
    "* Detect lane pixels and fit to find the lane boundary.\n",
    "* Determine the curvature of the lane and vehicle position with respect to center.\n",
    "* Warp the detected lane boundaries back onto the original image.\n",
    "* Output visual display of the lane boundaries and numerical estimation of lane curvature and vehicle position.\n",
    "\n",
    "---\n",
    "## First, I'll compute the camera calibration using chessboard images"
   ]
  },
  {
   "cell_type": "code",
   "execution_count": 1,
   "metadata": {},
   "outputs": [],
   "source": [
    "import numpy as np\n",
    "import cv2\n",
    "import matplotlib.pyplot as plt\n",
    "import matplotlib.image as mpimg\n",
    "import pickle\n",
    "import glob\n",
    "%matplotlib inline\n",
    "\n",
    "dist_pickle = pickle.load(open('camera_cal/calibration_pickle.p','rb'))\n",
    "mtx = dist_pickle['mtx']\n",
    "dist = dist_pickle['dist']\n",
    "\n",
    "def abs_sobel_thresh(img, orient='x', sobel_kernel=3, thresh=(0,255)):\n",
    "    gray = cv2.cvtColor(img, cv2.COLOR_BGR2GRAY)\n",
    "    if orient == 'x':\n",
    "        abs_sobel = np.absolute(cv2.Sobel(gray, cv2.CV_64F, 1, 0))\n",
    "    if orient == 'y':\n",
    "        abs_sobel = np.absolute(cv2.Sobel(gray, cv2.CV_64F, 0, 1))\n",
    "    scaled_sobel = np.uint8(255*abs_sobel/np.max(abs_sobel))\n",
    "    binary_output = np.zeros_like(scaled_sobel)\n",
    "    binary_output[(scaled_sobel>=thresh[0]) & (scaled_sobel<=thresh[1])] = 1\n",
    "    return binary_output\n",
    "\n",
    "def color_thresh(img, sthresh=(0,255), vthresh=(0,255)):\n",
    "    hls = cv2.cvtColor(img, cv2.COLOR_BGR2HLS)\n",
    "    s_channel = hls[:,:,2]\n",
    "    s_binary = np.zeros_like(s_channel)\n",
    "    s_binary[(s_channel>=sthresh[0]) & (s_channel<=sthresh[1])] = 1\n",
    "    \n",
    "    hsv = cv2.cvtColor(img, cv2.COLOR_BGR2HSV)\n",
    "    v_channel = hsv[:,:,2]\n",
    "    v_binary = np.zeros_like(v_channel)\n",
    "    v_binary[(v_channel>=vthresh[0]) & (v_channel<=vthresh[1])] = 1\n",
    "    \n",
    "    output = np.zeros_like(s_channel)\n",
    "    output[(s_binary==1) & (v_binary==1)] = 1\n",
    "    return output\n",
    "\n",
    "def weighted_img(img, initial_img, α=0.8, β=1., γ=0.):\n",
    "    \"\"\"\n",
    "    `img` is the output of the hough_lines(), An image with lines drawn on it.\n",
    "    Should be a blank image (all black) with lines drawn on it.\n",
    "    \n",
    "    `initial_img` should be the image before any processing.\n",
    "    \n",
    "    The result image is computed as follows:\n",
    "    \n",
    "    initial_img * α + img * β + γ\n",
    "    NOTE: initial_img and img must be the same shape!\n",
    "    \"\"\"\n",
    "    return cv2.addWeighted(initial_img, α, img, β, γ)\n",
    "\n",
    "\n",
    "\n"
   ]
  },
  {
   "cell_type": "code",
   "execution_count": 2,
   "metadata": {},
   "outputs": [],
   "source": [
    "img = cv2.imread('test_images/test1.jpg')\n",
    "img = cv2.undistort(img, mtx, dist, None, mtx)\n",
    "img_size = (img.shape[1], img.shape[0])\n",
    "bot_width = .76\n",
    "mid_width = .08\n",
    "height_pct = .62\n",
    "bottom_trim = .935\n",
    "\n",
    "src = np.float32([ [img_size[0]*(.5-mid_width/2), img_size[1]*height_pct], [img_size[0]*(.5+mid_width/2), img_size[1]*height_pct],\\\n",
    "                [img_size[0]*(.5+bot_width/2), img_size[1]*bottom_trim], [img_size[0]*(.5-bot_width/2), img_size[1]*bottom_trim] ])\n",
    "offset = img_size[0]*.25\n",
    "dst = np.float32([ [offset, 0], [img_size[0]-offset, 0],\\\n",
    "                   [img_size[0]-offset, img_size[1]], [offset, img_size[1]] ])\n",
    "\n",
    "M = cv2.getPerspectiveTransform(src, dst)\n",
    "Minv = cv2.getPerspectiveTransform(dst, src)\n"
   ]
  },
  {
   "cell_type": "code",
   "execution_count": 3,
   "metadata": {},
   "outputs": [],
   "source": [
    "images = glob.glob('test_images/test*.jpg')\n",
    "\n",
    "for idx,fname in enumerate(images):\n",
    "    img = cv2.imread(fname)\n",
    "    img = cv2.undistort(img,mtx,dist,None,mtx)\n",
    "    \n",
    "    preprocessImage = np.zeros_like(img[:,:,0])\n",
    "    gradx = abs_sobel_thresh(img, orient='x', thresh=(12,255))\n",
    "    grady = abs_sobel_thresh(img, orient='y', thresh=(25,255))\n",
    "    c_binary = color_thresh(img, sthresh=(100,255), vthresh=(50,255))\n",
    "    preprocessImage[((gradx==1) & (grady==1) | (c_binary==1))] = 255\n",
    "    \n",
    "    warped = cv2.warpPerspective(preprocessImage, M, img_size, flags=cv2.INTER_NEAREST)\n",
    "    \n",
    "    result = warped\n",
    "    write_name = 'test_images/tracked' + str(idx) + '.jpg'\n",
    "    cv2.imwrite(write_name, result)"
   ]
  },
  {
   "cell_type": "code",
   "execution_count": 10,
   "metadata": {},
   "outputs": [
    {
     "name": "stderr",
     "output_type": "stream",
     "text": [
      "Clipping input data to the valid range for imshow with RGB data ([0..1] for floats or [0..255] for integers).\n"
     ]
    },
    {
     "name": "stdout",
     "output_type": "stream",
     "text": [
      "95604.3671376836 m 467.8729897973614 m\n"
     ]
    },
    {
     "data": {
      "text/plain": [
       "<matplotlib.image.AxesImage at 0x179dc73aac0>"
      ]
     },
     "execution_count": 10,
     "metadata": {},
     "output_type": "execute_result"
    },
    {
     "data": {
      "image/png": "[encoded data removed]",
      "text/plain": [
       "<Figure size 432x288 with 1 Axes>"
      ]
     },
     "metadata": {
      "needs_background": "light"
     },
     "output_type": "display_data"
    }
   ],
   "source": [
    "binary_warped = mpimg.imread('test_images/tracked0.jpg')/255\n",
    "\n",
    "# Define conversions in x and y from pixels space to meters\n",
    "ym_per_pix = 30/720 # meters per pixel in y dimension\n",
    "xm_per_pix = 3.7/700 # meters per pixel in x dimension\n",
    "\n",
    "def find_lane_pixels(binary_warped):\n",
    "    # Take a histogram of the bottom half of the image\n",
    "    histogram = np.sum(binary_warped[binary_warped.shape[0]//2:,:], axis=0)\n",
    "    # Create an output image to draw on and visualize the result\n",
    "    out_img = np.dstack((binary_warped, binary_warped, binary_warped))\n",
    "    # Find the peak of the left and right halves of the histogram\n",
    "    # These will be the starting point for the left and right lines\n",
    "    midpoint = np.int(histogram.shape[0]//2)\n",
    "    leftx_base = np.argmax(histogram[:midpoint])\n",
    "    rightx_base = np.argmax(histogram[midpoint:]) + midpoint\n",
    "\n",
    "    # HYPERPARAMETERS\n",
    "    # Choose the number of sliding windows\n",
    "    nwindows = 9\n",
    "    # Set the width of the windows +/- margin\n",
    "    margin = 100\n",
    "    # Set minimum number of pixels found to recenter window\n",
    "    minpix = 50\n",
    "\n",
    "    # Set height of windows - based on nwindows above and image shape\n",
    "    window_height = np.int(binary_warped.shape[0]//nwindows)\n",
    "    # Identify the x and y positions of all nonzero pixels in the image\n",
    "    nonzero = binary_warped.nonzero()\n",
    "    nonzeroy = np.array(nonzero[0])\n",
    "    nonzerox = np.array(nonzero[1])\n",
    "    # Current positions to be updated later for each window in nwindows\n",
    "    leftx_current = leftx_base\n",
    "    rightx_current = rightx_base\n",
    "\n",
    "    # Create empty lists to receive left and right lane pixel indices\n",
    "    left_lane_inds = []\n",
    "    right_lane_inds = []\n",
    "\n",
    "    # Step through the windows one by one\n",
    "    for window in range(nwindows):\n",
    "        # Identify window boundaries in x and y (and right and left)\n",
    "        win_y_low = binary_warped.shape[0] - (window+1)*window_height\n",
    "        win_y_high = binary_warped.shape[0] - window*window_height\n",
    "        win_xleft_low = leftx_current - margin\n",
    "        win_xleft_high = leftx_current + margin\n",
    "        win_xright_low = rightx_current - margin\n",
    "        win_xright_high = rightx_current + margin\n",
    "        \n",
    "#         # Draw the windows on the visualization image\n",
    "#         cv2.rectangle(out_img,(win_xleft_low,win_y_low),\n",
    "#         (win_xleft_high,win_y_high),(0,255,0), 2) \n",
    "#         cv2.rectangle(out_img,(win_xright_low,win_y_low),\n",
    "#         (win_xright_high,win_y_high),(0,255,0), 2) \n",
    "        \n",
    "        # Identify the nonzero pixels in x and y within the window #\n",
    "        good_left_inds = ((nonzeroy >= win_y_low) & (nonzeroy < win_y_high) & \n",
    "        (nonzerox >= win_xleft_low) &  (nonzerox < win_xleft_high)).nonzero()[0]\n",
    "        good_right_inds = ((nonzeroy >= win_y_low) & (nonzeroy < win_y_high) & \n",
    "        (nonzerox >= win_xright_low) &  (nonzerox < win_xright_high)).nonzero()[0]\n",
    "        \n",
    "        # Append these indices to the lists\n",
    "        left_lane_inds.append(good_left_inds)\n",
    "        right_lane_inds.append(good_right_inds)\n",
    "        \n",
    "        # If you found > minpix pixels, recenter next window on their mean position\n",
    "        if len(good_left_inds) > minpix:\n",
    "            leftx_current = np.int(np.mean(nonzerox[good_left_inds]))\n",
    "        if len(good_right_inds) > minpix:        \n",
    "            rightx_current = np.int(np.mean(nonzerox[good_right_inds]))\n",
    "\n",
    "    # Concatenate the arrays of indices (previously was a list of lists of pixels)\n",
    "    try:\n",
    "        left_lane_inds = np.concatenate(left_lane_inds)\n",
    "        right_lane_inds = np.concatenate(right_lane_inds)\n",
    "    except ValueError:\n",
    "        # Avoids an error if the above is not implemented fully\n",
    "        pass\n",
    "\n",
    "    # Extract left and right line pixel positions\n",
    "    leftx = nonzerox[left_lane_inds]\n",
    "    lefty = nonzeroy[left_lane_inds] \n",
    "    rightx = nonzerox[right_lane_inds]\n",
    "    righty = nonzeroy[right_lane_inds]\n",
    "\n",
    "    return leftx, lefty, rightx, righty, out_img\n",
    "\n",
    "\n",
    "def fit_polynomial(binary_warped):\n",
    "    #margin = 100\n",
    "    # Find our lane pixels first\n",
    "    leftx, lefty, rightx, righty, out_img = find_lane_pixels(binary_warped)\n",
    "\n",
    "    # Fit a second order polynomial to each using `np.polyfit`\n",
    "    left_fit = np.polyfit(lefty, leftx, 2)\n",
    "    right_fit = np.polyfit(righty, rightx, 2)\n",
    "\n",
    "    # Generate x and y values for plotting\n",
    "    ploty = np.linspace(0, binary_warped.shape[0]-1, binary_warped.shape[0] )\n",
    "    \n",
    "    left_fit_cr = np.polyfit(lefty*ym_per_pix, leftx*xm_per_pix, 2)\n",
    "    right_fit_cr = np.polyfit(righty*ym_per_pix, rightx*xm_per_pix, 2)\n",
    "    \n",
    "     # Define y-value where we want radius of curvature\n",
    "    # We'll choose the maximum y-value, corresponding to the bottom of the image\n",
    "    y_eval = np.max(ploty)\n",
    "    \n",
    "    # Calculation of R_curve (radius of curvature)\n",
    "    left_curverad = ((1 + (2*left_fit_cr[0]*y_eval*ym_per_pix + left_fit_cr[1])**2)**1.5) / np.absolute(2*left_fit_cr[0])\n",
    "    right_curverad = ((1 + (2*right_fit_cr[0]*y_eval*ym_per_pix + right_fit_cr[1])**2)**1.5) / np.absolute(2*right_fit_cr[0])  \n",
    "    print(left_curverad, 'm', right_curverad, 'm')\n",
    "    curverad = min(left_curverad, right_curverad)\n",
    "    \n",
    "    try:\n",
    "        left_fitx = left_fit[0]*ploty**2 + left_fit[1]*ploty + left_fit[2]\n",
    "        right_fitx = right_fit[0]*ploty**2 + right_fit[1]*ploty + right_fit[2]\n",
    "    except TypeError:\n",
    "        # Avoids an error if `left` and `right_fit` are still none or incorrect\n",
    "        print('The function failed to fit a line!')\n",
    "        left_fitx = 1*ploty**2 + 1*ploty\n",
    "        right_fitx = 1*ploty**2 + 1*ploty\n",
    "        \n",
    "    camera_center = (left_fitx[-1] + right_fitx[-1])/2\n",
    "    center_diff = (camera_center - binary_warped.shape[1]/2)*xm_per_pix\n",
    "    side_pos = 'left'\n",
    "    if center_diff <= 0:\n",
    "        side_pos = 'right'\n",
    "\n",
    "    ## Visualization ##\n",
    "    # Colors in the left and right lane regions\n",
    "    out_img[lefty, leftx] = [255, 0, 0]\n",
    "    out_img[righty, rightx] = [0, 0, 255]\n",
    "    \n",
    "    window_img = np.zeros_like(out_img)\n",
    "    left_boundary = np.array([np.transpose(np.vstack([left_fitx, ploty]))])\n",
    "    right_boundary = np.array([np.flipud(np.transpose(np.vstack([right_fitx, \n",
    "                              ploty])))])\n",
    "    boundary = np.hstack((left_boundary, right_boundary))\n",
    "    cv2.fillPoly(window_img, np.int_([boundary]), (0,255, 0))\n",
    "    out_img = cv2.addWeighted(out_img, 1, window_img, 0.3, 0)\n",
    "\n",
    "    # Plots the left and right polynomials on the lane lines\n",
    "    plt.plot(left_fitx, ploty, color='yellow')\n",
    "    plt.plot(right_fitx, ploty, color='yellow')\n",
    "\n",
    "    return out_img, curverad, center_diff, side_pos\n",
    "\n",
    "\n",
    "out_img, curverad, center_diff, side_pos = fit_polynomial(binary_warped)\n",
    "\n",
    "plt.imshow(out_img)\n",
    "#plt.imshow(out_img.astype('uint8'))"
   ]
  },
  {
   "cell_type": "code",
   "execution_count": 11,
   "metadata": {},
   "outputs": [
    {
     "name": "stdout",
     "output_type": "stream",
     "text": [
      "(720, 1280, 3)\n"
     ]
    },
    {
     "data": {
      "text/plain": [
       "<matplotlib.image.AxesImage at 0x179dcaee850>"
      ]
     },
     "execution_count": 11,
     "metadata": {},
     "output_type": "execute_result"
    },
    {
     "data": {
      "image/png": "[encoded data removed]",
      "text/plain": [
       "<Figure size 432x288 with 1 Axes>"
      ]
     },
     "metadata": {
      "needs_background": "light"
     },
     "output_type": "display_data"
    }
   ],
   "source": [
    "image = mpimg.imread('test_images/test1.jpg')\n",
    "unwarped = cv2.warpPerspective(out_img, Minv, img_size, flags=cv2.INTER_NEAREST)\n",
    "print(unwarped.shape)\n",
    "unwarped = np.array(unwarped, dtype=np.uint8)\n",
    "plt.imshow(unwarped)"
   ]
  },
  {
   "cell_type": "code",
   "execution_count": 12,
   "metadata": {},
   "outputs": [
    {
     "data": {
      "text/plain": [
       "<matplotlib.image.AxesImage at 0x179dd0aa6a0>"
      ]
     },
     "execution_count": 12,
     "metadata": {},
     "output_type": "execute_result"
    },
    {
     "data": {
      "image/png": "[encoded data removed]",
      "text/plain": [
       "<Figure size 432x288 with 1 Axes>"
      ]
     },
     "metadata": {
      "needs_background": "light"
     },
     "output_type": "display_data"
    }
   ],
   "source": [
    "result = weighted_img(unwarped,image,α=0.8, β=1.)\n",
    "\n",
    "cv2.putText(result, 'Radius of Curvature = ' + str(round(curverad,3))\\\n",
    "                + 'm', (50,50), cv2.FONT_HERSHEY_SIMPLEX, 1, (255,255,255), 2)\n",
    "cv2.putText(result, 'Vehicle is  ' + str(abs(round(center_diff,3)))\\\n",
    "                + 'm ' + side_pos +' of center', (50,100), cv2.FONT_HERSHEY_SIMPLEX, 1, (255,255,255), 2)\n",
    "              \n",
    "plt.imshow(result, cmap='gray')\n",
    "\n",
    "#plt.imshow(unwarped)"
   ]
  },
  {
   "cell_type": "code",
   "execution_count": 13,
   "metadata": {},
   "outputs": [],
   "source": [
    "# Import everything needed to edit/save/watch video clips\n",
    "from moviepy.editor import VideoFileClip\n",
    "from IPython.display import HTML\n",
    "\n",
    "def process_image(img):\n",
    "    img = cv2.undistort(img, mtx, dist, None, mtx)\n",
    "    img_size = (img.shape[1], img.shape[0])  \n",
    "    preprocessImage = np.zeros_like(img[:,:,0])\n",
    "    gradx = abs_sobel_thresh(img, orient='x', thresh=(12,255))\n",
    "    grady = abs_sobel_thresh(img, orient='y', thresh=(25,255))\n",
    "    c_binary = color_thresh(img, sthresh=(100,255), vthresh=(50,255))\n",
    "    preprocessImage[((gradx==1) & (grady==1) | (c_binary==1))] = 255\n",
    "    \n",
    "    warped = cv2.warpPerspective(preprocessImage, M, img_size, flags=cv2.INTER_NEAREST)\n",
    "    binary_warped = warped/255\n",
    "    \n",
    "    out_img, curverad, center_diff, side_pos = fit_polynomial(binary_warped) #find left/right line pixels and polyfit\n",
    "    \n",
    "    unwarped = cv2.warpPerspective(out_img, Minv, img_size, flags=cv2.INTER_NEAREST)\n",
    "    unwarped = np.array(unwarped, dtype=np.uint8)\n",
    "    \n",
    "    result = weighted_img(unwarped,img,α=0.8, β=1.)  \n",
    "    cv2.putText(result, 'Radius of Curvature = ' + str(round(curverad,3))\\\n",
    "                + 'm', (50,50), cv2.FONT_HERSHEY_SIMPLEX, 1, (255,255,255), 2)\n",
    "    cv2.putText(result, 'Vehicle is  ' + str(abs(round(center_diff,3)))\\\n",
    "                + 'm ' + side_pos +' of center', (50,100), cv2.FONT_HERSHEY_SIMPLEX, 1, (255,255,255), 2)\n",
    "    \n",
    "    return result\n",
    "\n"
   ]
  },
  {
   "cell_type": "code",
   "execution_count": 14,
   "metadata": {},
   "outputs": [
    {
     "name": "stderr",
     "output_type": "stream",
     "text": [
      "\r",
      "t:   0%|                                                                            | 0/1260 [00:00<?, ?it/s, now=None]"
     ]
    },
    {
     "name": "stdout",
     "output_type": "stream",
     "text": [
      "400.57334404093325 m 577.0638701797707 m\n",
      "Moviepy - Building video output_images/project_video_output.mp4.\n",
      "Moviepy - Writing video output_images/project_video_output.mp4\n",
      "\n",
      "400.57334404093325 m 577.0638701797707 m\n"
     ]
    },
    {
     "name": "stderr",
     "output_type": "stream",
     "text": [
      "t:   0%|▏                                                                   | 4/1260 [00:00<01:53, 11.02it/s, now=None]"
     ]
    },
    {
     "name": "stdout",
     "output_type": "stream",
     "text": [
      "399.7740845925668 m 416.97537590098614 m\n",
      "402.1404158586944 m 450.3441066201134 m\n"
     ]
    },
    {
     "name": "stderr",
     "output_type": "stream",
     "text": [
      "t:   0%|▎                                                                   | 6/1260 [00:00<02:11,  9.52it/s, now=None]"
     ]
    },
    {
     "name": "stdout",
     "output_type": "stream",
     "text": [
      "429.32756018486674 m 567.6144482663052 m\n",
      "423.1567492900487 m 661.8691175488345 m\n"
     ]
    },
    {
     "name": "stderr",
     "output_type": "stream",
     "text": [
      "t:   1%|▍                                                                   | 8/1260 [00:00<02:17,  9.11it/s, now=None]"
     ]
    },
    {
     "name": "stdout",
     "output_type": "stream",
     "text": [
      "428.392222501294 m 730.9430708815207 m\n",
      "455.6671064771194 m 847.7140391404384 m\n"
     ]
    },
    {
     "name": "stderr",
     "output_type": "stream",
     "text": [
      "\r",
      "t:   1%|▍                                                                   | 9/1260 [00:00<02:22,  8.78it/s, now=None]"
     ]
    },
    {
     "name": "stdout",
     "output_type": "stream",
     "text": [
      "464.8062488004641 m 877.4905032831664 m\n",
      "474.97489125121314 m 808.6685978251242 m\n"
     ]
    },
    {
     "name": "stderr",
     "output_type": "stream",
     "text": [
      "t:   1%|▋                                                                  | 12/1260 [00:01<02:33,  8.11it/s, now=None]"
     ]
    },
    {
     "name": "stdout",
     "output_type": "stream",
     "text": [
      "448.5306424075117 m 756.6502059232943 m\n",
      "453.14547597907966 m 793.3504648960565 m\n"
     ]
    },
    {
     "name": "stderr",
     "output_type": "stream",
     "text": [
      "t:   1%|▋                                                                  | 14/1260 [00:01<02:27,  8.42it/s, now=None]"
     ]
    },
    {
     "name": "stdout",
     "output_type": "stream",
     "text": [
      "496.12040261169756 m 743.3585921852508 m\n",
      "507.2959106815516 m 540.6604964865844 m\n"
     ]
    },
    {
     "name": "stderr",
     "output_type": "stream",
     "text": [
      "t:   1%|▊                                                                  | 16/1260 [00:01<02:23,  8.68it/s, now=None]"
     ]
    },
    {
     "name": "stdout",
     "output_type": "stream",
     "text": [
      "509.4335794047469 m 421.1380487927838 m\n",
      "450.91628034970256 m 453.1923726014507 m\n"
     ]
    },
    {
     "name": "stderr",
     "output_type": "stream",
     "text": [
      "t:   1%|▉                                                                  | 18/1260 [00:02<02:19,  8.88it/s, now=None]"
     ]
    },
    {
     "name": "stdout",
     "output_type": "stream",
     "text": [
      "427.46147788224755 m 550.2813779614896 m\n",
      "411.01783073460916 m 569.5823245372253 m\n"
     ]
    },
    {
     "name": "stderr",
     "output_type": "stream",
     "text": [
      "t:   2%|█                                                                  | 20/1260 [00:02<02:20,  8.84it/s, now=None]"
     ]
    },
    {
     "name": "stdout",
     "output_type": "stream",
     "text": [
      "403.19485961702395 m 510.96626789183995 m\n",
      "416.2139412702167 m 511.0771420282644 m\n"
     ]
    },
    {
     "name": "stderr",
     "output_type": "stream",
     "text": [
      "\r",
      "t:   2%|█                                                                  | 21/1260 [00:02<02:25,  8.54it/s, now=None]"
     ]
    },
    {
     "name": "stdout",
     "output_type": "stream",
     "text": [
      "427.8342576073414 m 550.8911726388845 m\n",
      "462.6127656374649 m 763.1208977914926 m\n"
     ]
    },
    {
     "name": "stderr",
     "output_type": "stream",
     "text": [
      "t:   2%|█▎                                                                 | 24/1260 [00:02<02:34,  8.03it/s, now=None]"
     ]
    },
    {
     "name": "stdout",
     "output_type": "stream",
     "text": [
      "470.9434327130771 m 750.939425494859 m\n",
      "374.399227079338 m 723.5751957790989 m\n"
     ]
    },
    {
     "name": "stderr",
     "output_type": "stream",
     "text": [
      "t:   2%|█▍                                                                 | 26/1260 [00:03<02:27,  8.37it/s, now=None]"
     ]
    },
    {
     "name": "stdout",
     "output_type": "stream",
     "text": [
      "349.33837632312225 m 674.7605698787968 m\n",
      "367.78961866474856 m 561.4328778000604 m\n"
     ]
    },
    {
     "name": "stderr",
     "output_type": "stream",
     "text": [
      "t:   2%|█▍                                                                 | 28/1260 [00:03<02:22,  8.65it/s, now=None]"
     ]
    },
    {
     "name": "stdout",
     "output_type": "stream",
     "text": [
      "396.3669503701049 m 696.1673564406644 m\n",
      "376.30264182075587 m 527.9316710506436 m\n"
     ]
    },
    {
     "name": "stderr",
     "output_type": "stream",
     "text": [
      "\r",
      "t:   2%|█▌                                                                 | 29/1260 [00:03<02:27,  8.36it/s, now=None]"
     ]
    },
    {
     "name": "stdout",
     "output_type": "stream",
     "text": [
      "391.7021480415175 m 637.8249801126174 m\n",
      "373.1014458008634 m 377.2880442428164 m\n"
     ]
    },
    {
     "name": "stderr",
     "output_type": "stream",
     "text": [
      "t:   3%|█▋                                                                 | 32/1260 [00:03<02:30,  8.16it/s, now=None]"
     ]
    },
    {
     "name": "stdout",
     "output_type": "stream",
     "text": [
      "352.63092317975367 m 371.7455663664275 m\n",
      "360.62700118120995 m 472.8281384864607 m\n"
     ]
    },
    {
     "name": "stderr",
     "output_type": "stream",
     "text": [
      "t:   3%|█▊                                                                 | 34/1260 [00:03<02:30,  8.13it/s, now=None]"
     ]
    },
    {
     "name": "stdout",
     "output_type": "stream",
     "text": [
      "333.77145966828743 m 475.26548449057594 m\n",
      "340.67374958917196 m 615.9649288063114 m\n"
     ]
    },
    {
     "name": "stderr",
     "output_type": "stream",
     "text": [
      "t:   3%|█▉                                                                 | 36/1260 [00:04<02:33,  7.98it/s, now=None]"
     ]
    },
    {
     "name": "stdout",
     "output_type": "stream",
     "text": [
      "322.58745238423137 m 528.5012742797693 m\n",
      "322.6900680350154 m 457.20697140272296 m\n"
     ]
    },
    {
     "name": "stderr",
     "output_type": "stream",
     "text": [
      "t:   3%|██                                                                 | 38/1260 [00:04<02:26,  8.35it/s, now=None]"
     ]
    },
    {
     "name": "stdout",
     "output_type": "stream",
     "text": [
      "315.60476525977 m 406.82994539321675 m\n",
      "318.38949864104563 m 328.8648816843725 m\n"
     ]
    },
    {
     "name": "stderr",
     "output_type": "stream",
     "text": [
      "t:   3%|██▏                                                                | 40/1260 [00:04<02:23,  8.52it/s, now=None]"
     ]
    },
    {
     "name": "stdout",
     "output_type": "stream",
     "text": [
      "318.5828123526186 m 324.70063410101636 m\n",
      "314.69954961078366 m 386.20108129423693 m\n"
     ]
    },
    {
     "name": "stderr",
     "output_type": "stream",
     "text": [
      "t:   3%|██▏                                                                | 42/1260 [00:04<02:26,  8.33it/s, now=None]"
     ]
    },
    {
     "name": "stdout",
     "output_type": "stream",
     "text": [
      "323.23832220317445 m 410.49791813132657 m\n",
      "323.183564413195 m 426.5188364440613 m\n"
     ]
    },
    {
     "name": "stderr",
     "output_type": "stream",
     "text": [
      "t:   3%|██▎                                                                | 44/1260 [00:05<02:29,  8.15it/s, now=None]"
     ]
    },
    {
     "name": "stdout",
     "output_type": "stream",
     "text": [
      "333.1193047557524 m 427.3794928268778 m\n",
      "345.07900890035756 m 509.4909260912549 m\n"
     ]
    },
    {
     "name": "stderr",
     "output_type": "stream",
     "text": [
      "t:   4%|██▍                                                                | 46/1260 [00:05<02:27,  8.22it/s, now=None]"
     ]
    },
    {
     "name": "stdout",
     "output_type": "stream",
     "text": [
      "362.03318842184046 m 503.48542960947424 m\n",
      "374.0362984306877 m 546.8614165609922 m\n"
     ]
    },
    {
     "name": "stderr",
     "output_type": "stream",
     "text": [
      "t:   4%|██▌                                                                | 48/1260 [00:05<02:31,  8.00it/s, now=None]"
     ]
    },
    {
     "name": "stdout",
     "output_type": "stream",
     "text": [
      "387.76630197229207 m 544.5262625035327 m\n",
      "406.16596522758397 m 564.3831918302484 m\n"
     ]
    },
    {
     "name": "stderr",
     "output_type": "stream",
     "text": [
      "t:   4%|██▋                                                                | 50/1260 [00:05<02:22,  8.51it/s, now=None]"
     ]
    },
    {
     "name": "stdout",
     "output_type": "stream",
     "text": [
      "411.17283786334474 m 474.16505397427466 m\n",
      "431.1635414608791 m 499.1814984698654 m\n"
     ]
    },
    {
     "name": "stderr",
     "output_type": "stream",
     "text": [
      "t:   4%|██▊                                                                | 52/1260 [00:06<02:21,  8.52it/s, now=None]"
     ]
    },
    {
     "name": "stdout",
     "output_type": "stream",
     "text": [
      "437.9133181626749 m 585.2898006006559 m\n",
      "459.9238046616889 m 424.0932907648881 m\n"
     ]
    },
    {
     "name": "stderr",
     "output_type": "stream",
     "text": [
      "t:   4%|██▊                                                                | 54/1260 [00:06<02:19,  8.67it/s, now=None]"
     ]
    },
    {
     "name": "stdout",
     "output_type": "stream",
     "text": [
      "448.4516908164285 m 395.2276384904379 m\n",
      "450.33827362880055 m 518.8795710460146 m\n"
     ]
    },
    {
     "name": "stderr",
     "output_type": "stream",
     "text": [
      "t:   4%|██▉                                                                | 56/1260 [00:06<02:24,  8.34it/s, now=None]"
     ]
    },
    {
     "name": "stdout",
     "output_type": "stream",
     "text": [
      "466.56097015575983 m 659.6871740123709 m\n",
      "486.6248642103359 m 585.1335516966595 m\n"
     ]
    },
    {
     "name": "stderr",
     "output_type": "stream",
     "text": [
      "t:   5%|███                                                                | 58/1260 [00:06<02:32,  7.88it/s, now=None]"
     ]
    },
    {
     "name": "stdout",
     "output_type": "stream",
     "text": [
      "478.4405627414464 m 637.8683433528508 m\n",
      "469.8844972870196 m 581.0153167689525 m\n"
     ]
    },
    {
     "name": "stderr",
     "output_type": "stream",
     "text": [
      "t:   5%|███▏                                                               | 60/1260 [00:07<02:25,  8.26it/s, now=None]"
     ]
    },
    {
     "name": "stdout",
     "output_type": "stream",
     "text": [
      "903.6024369438153 m 953.3543262051958 m\n",
      "4371.167051230599 m 455.2295507557019 m\n"
     ]
    },
    {
     "name": "stderr",
     "output_type": "stream",
     "text": [
      "t:   5%|███▎                                                               | 62/1260 [00:07<02:19,  8.58it/s, now=None]"
     ]
    },
    {
     "name": "stdout",
     "output_type": "stream",
     "text": [
      "2384.3678462049547 m 390.95602255283626 m\n",
      "1659.9581626845613 m 439.3823610063618 m\n"
     ]
    },
    {
     "name": "stderr",
     "output_type": "stream",
     "text": [
      "t:   5%|███▍                                                               | 64/1260 [00:07<02:17,  8.67it/s, now=None]"
     ]
    },
    {
     "name": "stdout",
     "output_type": "stream",
     "text": [
      "1141.406385647542 m 522.9919940111579 m\n",
      "1141.1266944445972 m 519.3186684152179 m\n"
     ]
    },
    {
     "name": "stderr",
     "output_type": "stream",
     "text": [
      "t:   5%|███▌                                                               | 66/1260 [00:07<02:18,  8.60it/s, now=None]"
     ]
    },
    {
     "name": "stdout",
     "output_type": "stream",
     "text": [
      "982.1189363628635 m 364.61170026881217 m\n",
      "1026.320355648304 m 399.69259011140315 m\n"
     ]
    },
    {
     "name": "stderr",
     "output_type": "stream",
     "text": [
      "t:   5%|███▌                                                               | 68/1260 [00:08<02:18,  8.62it/s, now=None]"
     ]
    },
    {
     "name": "stdout",
     "output_type": "stream",
     "text": [
      "935.6435490755676 m 370.9834930160338 m\n",
      "1056.4513466202393 m 363.5546395336739 m\n"
     ]
    },
    {
     "name": "stderr",
     "output_type": "stream",
     "text": [
      "t:   6%|███▋                                                               | 70/1260 [00:08<02:19,  8.55it/s, now=None]"
     ]
    },
    {
     "name": "stdout",
     "output_type": "stream",
     "text": [
      "1396.4453250098338 m 360.9539366598076 m\n",
      "1070.2414168984078 m 338.93736935140277 m\n"
     ]
    },
    {
     "name": "stderr",
     "output_type": "stream",
     "text": [
      "t:   6%|███▊                                                               | 72/1260 [00:08<02:19,  8.52it/s, now=None]"
     ]
    },
    {
     "name": "stdout",
     "output_type": "stream",
     "text": [
      "446.70236383023195 m 340.88006866711504 m\n",
      "432.956283961868 m 354.62460538806897 m\n"
     ]
    },
    {
     "name": "stderr",
     "output_type": "stream",
     "text": [
      "t:   6%|███▉                                                               | 74/1260 [00:08<02:19,  8.53it/s, now=None]"
     ]
    },
    {
     "name": "stdout",
     "output_type": "stream",
     "text": [
      "474.65186255939585 m 375.4139166622076 m\n",
      "489.90287471671564 m 315.80779392476387 m\n"
     ]
    },
    {
     "name": "stderr",
     "output_type": "stream",
     "text": [
      "t:   6%|████                                                               | 76/1260 [00:08<02:16,  8.66it/s, now=None]"
     ]
    },
    {
     "name": "stdout",
     "output_type": "stream",
     "text": [
      "491.90129567179895 m 378.7420709524765 m\n",
      "511.3233919541356 m 363.2902875507545 m\n"
     ]
    },
    {
     "name": "stderr",
     "output_type": "stream",
     "text": [
      "t:   6%|████▏                                                              | 78/1260 [00:09<02:16,  8.66it/s, now=None]"
     ]
    },
    {
     "name": "stdout",
     "output_type": "stream",
     "text": [
      "2276.6637750347604 m 443.020614759589 m\n",
      "4363.346662972328 m 383.15784873966777 m\n"
     ]
    },
    {
     "name": "stderr",
     "output_type": "stream",
     "text": [
      "t:   6%|████▎                                                              | 80/1260 [00:09<02:14,  8.77it/s, now=None]"
     ]
    },
    {
     "name": "stdout",
     "output_type": "stream",
     "text": [
      "4353.065898654002 m 400.8928152936886 m\n",
      "1994.8585283456814 m 448.85519605809606 m\n"
     ]
    },
    {
     "name": "stderr",
     "output_type": "stream",
     "text": [
      "t:   7%|████▎                                                              | 82/1260 [00:09<02:23,  8.22it/s, now=None]"
     ]
    },
    {
     "name": "stdout",
     "output_type": "stream",
     "text": [
      "3988.724884625129 m 499.04554426939427 m\n",
      "3896.135792276154 m 590.2924767659312 m\n"
     ]
    },
    {
     "name": "stderr",
     "output_type": "stream",
     "text": [
      "\r",
      "t:   7%|████▍                                                              | 83/1260 [00:09<02:33,  7.69it/s, now=None]"
     ]
    },
    {
     "name": "stdout",
     "output_type": "stream",
     "text": [
      "3483.0543566297806 m 646.0572341356483 m\n",
      "1596.0556265849264 m 809.143590693252 m\n"
     ]
    },
    {
     "name": "stderr",
     "output_type": "stream",
     "text": [
      "t:   7%|████▌                                                              | 86/1260 [00:10<02:33,  7.65it/s, now=None]"
     ]
    },
    {
     "name": "stdout",
     "output_type": "stream",
     "text": [
      "1330.1457537067133 m 1059.2819982509468 m\n",
      "1213.289720441172 m 895.0580794827866 m\n"
     ]
    },
    {
     "name": "stderr",
     "output_type": "stream",
     "text": [
      "t:   7%|████▋                                                              | 88/1260 [00:10<02:27,  7.94it/s, now=None]"
     ]
    },
    {
     "name": "stdout",
     "output_type": "stream",
     "text": [
      "463.7786994068162 m 747.6918102761996 m\n",
      "435.0054506015051 m 382.37653138742036 m\n"
     ]
    },
    {
     "name": "stderr",
     "output_type": "stream",
     "text": [
      "t:   7%|████▊                                                              | 90/1260 [00:10<02:22,  8.20it/s, now=None]"
     ]
    },
    {
     "name": "stdout",
     "output_type": "stream",
     "text": [
      "390.02377504713166 m 372.56866069426644 m\n",
      "360.2609953120498 m 453.2964613451357 m\n"
     ]
    },
    {
     "name": "stderr",
     "output_type": "stream",
     "text": [
      "t:   7%|████▉                                                              | 92/1260 [00:10<02:21,  8.28it/s, now=None]"
     ]
    },
    {
     "name": "stdout",
     "output_type": "stream",
     "text": [
      "320.471641876309 m 457.4129087214796 m\n",
      "339.46953694068105 m 477.6935270869619 m\n"
     ]
    },
    {
     "name": "stderr",
     "output_type": "stream",
     "text": [
      "t:   7%|████▉                                                              | 94/1260 [00:11<02:19,  8.34it/s, now=None]"
     ]
    },
    {
     "name": "stdout",
     "output_type": "stream",
     "text": [
      "339.4605980629636 m 506.19524149949547 m\n",
      "317.1164250919058 m 448.67563922299877 m\n"
     ]
    },
    {
     "name": "stderr",
     "output_type": "stream",
     "text": [
      "t:   8%|█████                                                              | 96/1260 [00:11<02:21,  8.22it/s, now=None]"
     ]
    },
    {
     "name": "stdout",
     "output_type": "stream",
     "text": [
      "318.33794271244136 m 364.06340716993304 m\n",
      "334.1821751290457 m 383.48711825505427 m\n"
     ]
    },
    {
     "name": "stderr",
     "output_type": "stream",
     "text": [
      "t:   8%|█████▏                                                             | 98/1260 [00:11<02:21,  8.21it/s, now=None]"
     ]
    },
    {
     "name": "stdout",
     "output_type": "stream",
     "text": [
      "341.8634375797209 m 343.11666565210976 m\n",
      "333.4492416321507 m 351.20664682774805 m\n"
     ]
    },
    {
     "name": "stderr",
     "output_type": "stream",
     "text": [
      "t:   8%|█████▏                                                            | 100/1260 [00:11<02:21,  8.18it/s, now=None]"
     ]
    },
    {
     "name": "stdout",
     "output_type": "stream",
     "text": [
      "352.5579309458769 m 348.40540517245665 m\n",
      "338.8077289859199 m 323.6203145132238 m\n"
     ]
    },
    {
     "name": "stderr",
     "output_type": "stream",
     "text": [
      "t:   8%|█████▎                                                            | 102/1260 [00:12<02:35,  7.43it/s, now=None]"
     ]
    },
    {
     "name": "stdout",
     "output_type": "stream",
     "text": [
      "349.3734739004524 m 318.46395703790637 m\n",
      "339.66718476443947 m 346.93702867394353 m\n"
     ]
    },
    {
     "name": "stderr",
     "output_type": "stream",
     "text": [
      "t:   8%|█████▍                                                            | 104/1260 [00:12<02:28,  7.80it/s, now=None]"
     ]
    },
    {
     "name": "stdout",
     "output_type": "stream",
     "text": [
      "333.52564862031903 m 389.23419638327897 m\n",
      "338.86180981536813 m 403.50675749471253 m\n"
     ]
    },
    {
     "name": "stderr",
     "output_type": "stream",
     "text": [
      "t:   8%|█████▌                                                            | 106/1260 [00:12<02:21,  8.17it/s, now=None]"
     ]
    },
    {
     "name": "stdout",
     "output_type": "stream",
     "text": [
      "335.80451436572395 m 400.92712466167353 m\n",
      "365.11130603022104 m 451.6925595210467 m\n"
     ]
    },
    {
     "name": "stderr",
     "output_type": "stream",
     "text": [
      "t:   9%|█████▋                                                            | 108/1260 [00:12<02:19,  8.23it/s, now=None]"
     ]
    },
    {
     "name": "stdout",
     "output_type": "stream",
     "text": [
      "360.51043052802277 m 478.01412387784586 m\n",
      "366.93599108858234 m 486.75583558100055 m\n"
     ]
    },
    {
     "name": "stderr",
     "output_type": "stream",
     "text": [
      "t:   9%|█████▊                                                            | 110/1260 [00:13<02:16,  8.44it/s, now=None]"
     ]
    },
    {
     "name": "stdout",
     "output_type": "stream",
     "text": [
      "345.09505968588667 m 545.8193243030083 m\n",
      "339.60971050863054 m 485.4232516325315 m\n"
     ]
    },
    {
     "name": "stderr",
     "output_type": "stream",
     "text": [
      "t:   9%|█████▊                                                            | 112/1260 [00:13<02:14,  8.56it/s, now=None]"
     ]
    },
    {
     "name": "stdout",
     "output_type": "stream",
     "text": [
      "338.457853022074 m 392.3352050609014 m\n",
      "336.0678338742072 m 395.86082081685566 m\n"
     ]
    },
    {
     "name": "stderr",
     "output_type": "stream",
     "text": [
      "t:   9%|█████▉                                                            | 114/1260 [00:13<02:14,  8.52it/s, now=None]"
     ]
    },
    {
     "name": "stdout",
     "output_type": "stream",
     "text": [
      "365.5960611172368 m 395.311638237451 m\n",
      "352.51826659047 m 312.01645221633316 m\n"
     ]
    },
    {
     "name": "stderr",
     "output_type": "stream",
     "text": [
      "t:   9%|██████                                                            | 116/1260 [00:13<02:11,  8.68it/s, now=None]"
     ]
    },
    {
     "name": "stdout",
     "output_type": "stream",
     "text": [
      "350.2759122741884 m 290.85533438282874 m\n",
      "334.25636577280227 m 370.05453704200664 m\n"
     ]
    },
    {
     "name": "stderr",
     "output_type": "stream",
     "text": [
      "t:   9%|██████▏                                                           | 118/1260 [00:14<02:12,  8.62it/s, now=None]"
     ]
    },
    {
     "name": "stdout",
     "output_type": "stream",
     "text": [
      "330.38156704860137 m 390.63528928666864 m\n",
      "333.6962469730515 m 393.9877709794635 m\n"
     ]
    },
    {
     "name": "stderr",
     "output_type": "stream",
     "text": [
      "t:  10%|██████▎                                                           | 120/1260 [00:14<02:13,  8.53it/s, now=None]"
     ]
    },
    {
     "name": "stdout",
     "output_type": "stream",
     "text": [
      "339.17577492778275 m 440.07398259405534 m\n",
      "343.89297836226393 m 396.481570355173 m\n"
     ]
    },
    {
     "name": "stderr",
     "output_type": "stream",
     "text": [
      "t:  10%|██████▍                                                           | 122/1260 [00:14<02:09,  8.81it/s, now=None]"
     ]
    },
    {
     "name": "stdout",
     "output_type": "stream",
     "text": [
      "324.0743170322762 m 384.7309395077801 m\n",
      "338.86647636075196 m 315.18541402525005 m\n"
     ]
    },
    {
     "name": "stderr",
     "output_type": "stream",
     "text": [
      "t:  10%|██████▍                                                           | 124/1260 [00:14<02:06,  8.96it/s, now=None]"
     ]
    },
    {
     "name": "stdout",
     "output_type": "stream",
     "text": [
      "339.6690463796967 m 314.23613580603075 m\n",
      "308.7818394207134 m 352.84456612738603 m\n"
     ]
    },
    {
     "name": "stderr",
     "output_type": "stream",
     "text": [
      "t:  10%|██████▌                                                           | 126/1260 [00:15<02:09,  8.75it/s, now=None]"
     ]
    },
    {
     "name": "stdout",
     "output_type": "stream",
     "text": [
      "277.88556679461954 m 392.22742535723035 m\n",
      "251.69037943699252 m 447.02992608203834 m\n"
     ]
    },
    {
     "name": "stderr",
     "output_type": "stream",
     "text": [
      "t:  10%|██████▋                                                           | 128/1260 [00:15<02:07,  8.90it/s, now=None]"
     ]
    },
    {
     "name": "stdout",
     "output_type": "stream",
     "text": [
      "294.3384719047507 m 452.0671373446841 m\n",
      "264.50113341373356 m 544.4211688695433 m\n"
     ]
    },
    {
     "name": "stderr",
     "output_type": "stream",
     "text": [
      "t:  10%|██████▊                                                           | 130/1260 [00:15<02:21,  8.01it/s, now=None]"
     ]
    },
    {
     "name": "stdout",
     "output_type": "stream",
     "text": [
      "266.86416802521916 m 503.45173851040545 m\n",
      "224.47875418804108 m 380.78094709079966 m\n"
     ]
    },
    {
     "name": "stderr",
     "output_type": "stream",
     "text": [
      "t:  10%|██████▉                                                           | 132/1260 [00:15<02:16,  8.25it/s, now=None]"
     ]
    },
    {
     "name": "stdout",
     "output_type": "stream",
     "text": [
      "244.1600467869979 m 439.67361099452967 m\n",
      "244.6623877321296 m 384.82401805761253 m\n"
     ]
    },
    {
     "name": "stderr",
     "output_type": "stream",
     "text": [
      "t:  11%|███████                                                           | 134/1260 [00:16<02:21,  7.95it/s, now=None]"
     ]
    },
    {
     "name": "stdout",
     "output_type": "stream",
     "text": [
      "234.99745644538612 m 353.5275694935903 m\n",
      "239.83844480981986 m 362.44687201988125 m\n"
     ]
    },
    {
     "name": "stderr",
     "output_type": "stream",
     "text": [
      "t:  11%|███████                                                           | 136/1260 [00:16<02:17,  8.17it/s, now=None]"
     ]
    },
    {
     "name": "stdout",
     "output_type": "stream",
     "text": [
      "240.21994422317437 m 378.8890502115512 m\n",
      "266.0664010174173 m 394.60466964089807 m\n"
     ]
    },
    {
     "name": "stderr",
     "output_type": "stream",
     "text": [
      "t:  11%|███████▏                                                          | 138/1260 [00:16<02:14,  8.33it/s, now=None]"
     ]
    },
    {
     "name": "stdout",
     "output_type": "stream",
     "text": [
      "268.939147735306 m 366.7036188597279 m\n",
      "311.91870371937273 m 389.61809638941986 m\n"
     ]
    },
    {
     "name": "stderr",
     "output_type": "stream",
     "text": [
      "t:  11%|███████▎                                                          | 140/1260 [00:16<02:11,  8.50it/s, now=None]"
     ]
    },
    {
     "name": "stdout",
     "output_type": "stream",
     "text": [
      "425.8529737578127 m 391.2081065729416 m\n",
      "447.53865081825273 m 398.7226090317387 m\n"
     ]
    },
    {
     "name": "stderr",
     "output_type": "stream",
     "text": [
      "t:  11%|███████▍                                                          | 142/1260 [00:16<02:13,  8.35it/s, now=None]"
     ]
    },
    {
     "name": "stdout",
     "output_type": "stream",
     "text": [
      "451.66644346485265 m 410.0092947868406 m\n",
      "458.7415489070045 m 515.866753829094 m\n"
     ]
    },
    {
     "name": "stderr",
     "output_type": "stream",
     "text": [
      "t:  11%|███████▌                                                          | 144/1260 [00:17<02:24,  7.74it/s, now=None]"
     ]
    },
    {
     "name": "stdout",
     "output_type": "stream",
     "text": [
      "453.55052625369217 m 562.9234881669464 m\n",
      "421.7884163880945 m 614.8584374874252 m\n"
     ]
    },
    {
     "name": "stderr",
     "output_type": "stream",
     "text": [
      "t:  12%|███████▋                                                          | 146/1260 [00:17<02:23,  7.76it/s, now=None]"
     ]
    },
    {
     "name": "stdout",
     "output_type": "stream",
     "text": [
      "427.2549136623107 m 501.22598112724796 m\n",
      "424.13798658506335 m 449.7525913253011 m\n"
     ]
    },
    {
     "name": "stderr",
     "output_type": "stream",
     "text": [
      "t:  12%|███████▊                                                          | 148/1260 [00:17<02:16,  8.13it/s, now=None]"
     ]
    },
    {
     "name": "stdout",
     "output_type": "stream",
     "text": [
      "401.7127484817952 m 519.8520074130062 m\n",
      "404.61856085980463 m 415.2735838051766 m\n"
     ]
    },
    {
     "name": "stderr",
     "output_type": "stream",
     "text": [
      "\r",
      "t:  12%|███████▊                                                          | 149/1260 [00:17<02:14,  8.25it/s, now=None]"
     ]
    },
    {
     "name": "stdout",
     "output_type": "stream",
     "text": [
      "355.5688901826765 m 432.4283316252747 m\n",
      "352.9859152027935 m 497.86889600203983 m\n"
     ]
    },
    {
     "name": "stderr",
     "output_type": "stream",
     "text": [
      "t:  12%|███████▉                                                          | 152/1260 [00:18<02:18,  7.99it/s, now=None]"
     ]
    },
    {
     "name": "stdout",
     "output_type": "stream",
     "text": [
      "377.69170583595906 m 488.7087568163881 m\n",
      "389.2866189620598 m 428.85399442093956 m\n"
     ]
    },
    {
     "name": "stderr",
     "output_type": "stream",
     "text": [
      "t:  12%|████████                                                          | 154/1260 [00:18<02:16,  8.09it/s, now=None]"
     ]
    },
    {
     "name": "stdout",
     "output_type": "stream",
     "text": [
      "384.26744979796257 m 468.99845245823974 m\n",
      "365.123570457911 m 486.8632710582465 m\n"
     ]
    },
    {
     "name": "stderr",
     "output_type": "stream",
     "text": [
      "t:  12%|████████▏                                                         | 156/1260 [00:18<02:12,  8.35it/s, now=None]"
     ]
    },
    {
     "name": "stdout",
     "output_type": "stream",
     "text": [
      "397.0551053366523 m 622.674383696358 m\n",
      "416.90471416833714 m 567.1727556968003 m\n"
     ]
    },
    {
     "name": "stderr",
     "output_type": "stream",
     "text": [
      "t:  13%|████████▎                                                         | 158/1260 [00:18<02:08,  8.60it/s, now=None]"
     ]
    },
    {
     "name": "stdout",
     "output_type": "stream",
     "text": [
      "398.46416611005736 m 530.4528944935174 m\n",
      "400.86549586427446 m 495.5280430587468 m\n"
     ]
    },
    {
     "name": "stderr",
     "output_type": "stream",
     "text": [
      "t:  13%|████████▍                                                         | 160/1260 [00:19<02:07,  8.63it/s, now=None]"
     ]
    },
    {
     "name": "stdout",
     "output_type": "stream",
     "text": [
      "356.98601634769506 m 355.13792893178294 m\n",
      "364.85270604484685 m 474.31237024738016 m\n"
     ]
    },
    {
     "name": "stderr",
     "output_type": "stream",
     "text": [
      "t:  13%|████████▍                                                         | 162/1260 [00:19<02:11,  8.34it/s, now=None]"
     ]
    },
    {
     "name": "stdout",
     "output_type": "stream",
     "text": [
      "352.3138675952829 m 317.5278731485842 m\n",
      "374.0189614063284 m 327.3361218248507 m\n"
     ]
    },
    {
     "name": "stderr",
     "output_type": "stream",
     "text": [
      "t:  13%|████████▌                                                         | 164/1260 [00:19<02:12,  8.30it/s, now=None]"
     ]
    },
    {
     "name": "stdout",
     "output_type": "stream",
     "text": [
      "376.0117498561522 m 312.2109159414858 m\n",
      "384.1210173778656 m 308.6299324952099 m\n"
     ]
    },
    {
     "name": "stderr",
     "output_type": "stream",
     "text": [
      "t:  13%|████████▋                                                         | 166/1260 [00:19<02:14,  8.11it/s, now=None]"
     ]
    },
    {
     "name": "stdout",
     "output_type": "stream",
     "text": [
      "362.99132789218675 m 366.13941093597305 m\n",
      "330.0483729815794 m 367.19076035556753 m\n"
     ]
    },
    {
     "name": "stderr",
     "output_type": "stream",
     "text": [
      "t:  13%|████████▊                                                         | 168/1260 [00:20<02:13,  8.18it/s, now=None]"
     ]
    },
    {
     "name": "stdout",
     "output_type": "stream",
     "text": [
      "340.79739635343543 m 336.6219151771029 m\n",
      "321.17912426799927 m 338.3467225679566 m\n"
     ]
    },
    {
     "name": "stderr",
     "output_type": "stream",
     "text": [
      "t:  13%|████████▉                                                         | 170/1260 [00:20<02:14,  8.08it/s, now=None]"
     ]
    },
    {
     "name": "stdout",
     "output_type": "stream",
     "text": [
      "342.9913390052146 m 309.83351327463095 m\n",
      "346.8664848741303 m 315.2519514115357 m\n"
     ]
    },
    {
     "name": "stderr",
     "output_type": "stream",
     "text": [
      "t:  14%|█████████                                                         | 172/1260 [00:20<02:10,  8.34it/s, now=None]"
     ]
    },
    {
     "name": "stdout",
     "output_type": "stream",
     "text": [
      "365.485294918005 m 320.1138160563317 m\n",
      "355.457515375235 m 365.3797966950601 m\n"
     ]
    },
    {
     "name": "stderr",
     "output_type": "stream",
     "text": [
      "t:  14%|█████████                                                         | 174/1260 [00:20<02:07,  8.52it/s, now=None]"
     ]
    },
    {
     "name": "stdout",
     "output_type": "stream",
     "text": [
      "354.01907649403853 m 289.0456790384884 m\n",
      "337.3616896729572 m 283.123242829098 m\n"
     ]
    },
    {
     "name": "stderr",
     "output_type": "stream",
     "text": [
      "t:  14%|█████████▏                                                        | 176/1260 [00:21<02:04,  8.69it/s, now=None]"
     ]
    },
    {
     "name": "stdout",
     "output_type": "stream",
     "text": [
      "308.4808782042033 m 277.8141513263012 m\n",
      "296.11919460119447 m 326.2890231371548 m\n"
     ]
    },
    {
     "name": "stderr",
     "output_type": "stream",
     "text": [
      "t:  14%|█████████▎                                                        | 178/1260 [00:21<02:04,  8.70it/s, now=None]"
     ]
    },
    {
     "name": "stdout",
     "output_type": "stream",
     "text": [
      "287.33820882116015 m 326.5894569210771 m\n",
      "310.5103123772469 m 357.41573732538075 m\n"
     ]
    },
    {
     "name": "stderr",
     "output_type": "stream",
     "text": [
      "t:  14%|█████████▍                                                        | 180/1260 [00:21<02:02,  8.79it/s, now=None]"
     ]
    },
    {
     "name": "stdout",
     "output_type": "stream",
     "text": [
      "310.7062399434842 m 330.82928313612234 m\n",
      "308.64872328212044 m 352.8051524258599 m\n"
     ]
    },
    {
     "name": "stderr",
     "output_type": "stream",
     "text": [
      "t:  14%|█████████▌                                                        | 182/1260 [00:21<02:02,  8.77it/s, now=None]"
     ]
    },
    {
     "name": "stdout",
     "output_type": "stream",
     "text": [
      "318.3714493652777 m 364.9833683173728 m\n",
      "303.4409736648805 m 329.51505247259644 m\n"
     ]
    },
    {
     "name": "stderr",
     "output_type": "stream",
     "text": [
      "t:  15%|█████████▋                                                        | 184/1260 [00:22<02:06,  8.51it/s, now=None]"
     ]
    },
    {
     "name": "stdout",
     "output_type": "stream",
     "text": [
      "304.5394064374017 m 345.5369560823278 m\n",
      "296.2846112115907 m 308.2238317113224 m\n"
     ]
    },
    {
     "name": "stderr",
     "output_type": "stream",
     "text": [
      "t:  15%|█████████▋                                                        | 186/1260 [00:22<02:07,  8.43it/s, now=None]"
     ]
    },
    {
     "name": "stdout",
     "output_type": "stream",
     "text": [
      "278.90260288986264 m 358.14092111444916 m\n",
      "270.54925252966376 m 415.2461202913638 m\n"
     ]
    },
    {
     "name": "stderr",
     "output_type": "stream",
     "text": [
      "t:  15%|█████████▊                                                        | 188/1260 [00:22<02:07,  8.43it/s, now=None]"
     ]
    },
    {
     "name": "stdout",
     "output_type": "stream",
     "text": [
      "244.11174098012188 m 344.65300514798463 m\n",
      "240.6037499243383 m 359.7588972132331 m\n"
     ]
    },
    {
     "name": "stderr",
     "output_type": "stream",
     "text": [
      "t:  15%|█████████▉                                                        | 190/1260 [00:22<02:04,  8.63it/s, now=None]"
     ]
    },
    {
     "name": "stdout",
     "output_type": "stream",
     "text": [
      "240.1542681210526 m 273.2408255355145 m\n",
      "240.49257039314887 m 287.3210511368897 m\n"
     ]
    },
    {
     "name": "stderr",
     "output_type": "stream",
     "text": [
      "t:  15%|██████████                                                        | 192/1260 [00:22<02:03,  8.66it/s, now=None]"
     ]
    },
    {
     "name": "stdout",
     "output_type": "stream",
     "text": [
      "244.29095770837318 m 293.7453558808004 m\n",
      "244.5098734414443 m 311.69465226349973 m\n"
     ]
    },
    {
     "name": "stderr",
     "output_type": "stream",
     "text": [
      "t:  15%|██████████▏                                                       | 194/1260 [00:23<02:00,  8.82it/s, now=None]"
     ]
    },
    {
     "name": "stdout",
     "output_type": "stream",
     "text": [
      "261.2302350198329 m 331.9205239663059 m\n",
      "250.74488945552542 m 357.3213452172391 m\n"
     ]
    },
    {
     "name": "stderr",
     "output_type": "stream",
     "text": [
      "t:  16%|██████████▎                                                       | 196/1260 [00:23<02:03,  8.62it/s, now=None]"
     ]
    },
    {
     "name": "stdout",
     "output_type": "stream",
     "text": [
      "259.34865779071276 m 368.4411553816261 m\n",
      "262.59317039702967 m 376.7947351998958 m\n"
     ]
    },
    {
     "name": "stderr",
     "output_type": "stream",
     "text": [
      "t:  16%|██████████▎                                                       | 198/1260 [00:23<01:59,  8.92it/s, now=None]"
     ]
    },
    {
     "name": "stdout",
     "output_type": "stream",
     "text": [
      "311.91985871296157 m 325.13700703122925 m\n",
      "346.292441762753 m 397.795032091112 m\n"
     ]
    },
    {
     "name": "stderr",
     "output_type": "stream",
     "text": [
      "t:  16%|██████████▍                                                       | 200/1260 [00:23<02:00,  8.78it/s, now=None]"
     ]
    },
    {
     "name": "stdout",
     "output_type": "stream",
     "text": [
      "394.8085374982141 m 538.2892686794338 m\n",
      "422.1166761652263 m 552.539186850494 m\n"
     ]
    },
    {
     "name": "stderr",
     "output_type": "stream",
     "text": [
      "t:  16%|██████████▌                                                       | 202/1260 [00:24<01:58,  8.94it/s, now=None]"
     ]
    },
    {
     "name": "stdout",
     "output_type": "stream",
     "text": [
      "404.94752928186216 m 537.3568828528344 m\n",
      "411.20717589610456 m 518.1317959694868 m\n"
     ]
    },
    {
     "name": "stderr",
     "output_type": "stream",
     "text": [
      "t:  16%|██████████▋                                                       | 204/1260 [00:24<02:06,  8.33it/s, now=None]"
     ]
    },
    {
     "name": "stdout",
     "output_type": "stream",
     "text": [
      "382.72487998799505 m 360.454954672988 m\n",
      "369.0892881392851 m 355.3871764281876 m\n"
     ]
    },
    {
     "name": "stderr",
     "output_type": "stream",
     "text": [
      "t:  16%|██████████▊                                                       | 206/1260 [00:24<01:59,  8.83it/s, now=None]"
     ]
    },
    {
     "name": "stdout",
     "output_type": "stream",
     "text": [
      "379.7276997160905 m 396.76303109639855 m\n",
      "355.4600144038221 m 516.4844088258894 m\n"
     ]
    },
    {
     "name": "stderr",
     "output_type": "stream",
     "text": [
      "t:  17%|██████████▉                                                       | 208/1260 [00:24<01:59,  8.80it/s, now=None]"
     ]
    },
    {
     "name": "stdout",
     "output_type": "stream",
     "text": [
      "344.1890730930037 m 529.5483747282129 m\n",
      "313.26863120246827 m 386.0390301638198 m\n"
     ]
    },
    {
     "name": "stderr",
     "output_type": "stream",
     "text": [
      "t:  17%|███████████                                                       | 210/1260 [00:24<01:58,  8.88it/s, now=None]"
     ]
    },
    {
     "name": "stdout",
     "output_type": "stream",
     "text": [
      "301.45889777538804 m 365.18993981513574 m\n",
      "323.1315071603736 m 357.7188092708035 m\n"
     ]
    },
    {
     "name": "stderr",
     "output_type": "stream",
     "text": [
      "t:  17%|███████████                                                       | 212/1260 [00:25<02:02,  8.57it/s, now=None]"
     ]
    },
    {
     "name": "stdout",
     "output_type": "stream",
     "text": [
      "342.119291712129 m 437.7509053402292 m\n",
      "350.05594373033904 m 568.3876572310285 m\n"
     ]
    },
    {
     "name": "stderr",
     "output_type": "stream",
     "text": [
      "t:  17%|███████████▏                                                      | 214/1260 [00:25<02:00,  8.69it/s, now=None]"
     ]
    },
    {
     "name": "stdout",
     "output_type": "stream",
     "text": [
      "346.89294506467934 m 440.7394759313306 m\n",
      "348.2192287267794 m 396.6794602428533 m\n"
     ]
    },
    {
     "name": "stderr",
     "output_type": "stream",
     "text": [
      "t:  17%|███████████▎                                                      | 216/1260 [00:25<02:00,  8.68it/s, now=None]"
     ]
    },
    {
     "name": "stdout",
     "output_type": "stream",
     "text": [
      "341.0654058518532 m 415.4353534128201 m\n",
      "344.62786029334114 m 515.6044068184084 m\n"
     ]
    },
    {
     "name": "stderr",
     "output_type": "stream",
     "text": [
      "t:  17%|███████████▍                                                      | 218/1260 [00:25<02:02,  8.52it/s, now=None]"
     ]
    },
    {
     "name": "stdout",
     "output_type": "stream",
     "text": [
      "366.5376235540772 m 555.9756301392 m\n",
      "370.00958628776186 m 584.5115780592324 m\n"
     ]
    },
    {
     "name": "stderr",
     "output_type": "stream",
     "text": [
      "t:  17%|███████████▌                                                      | 220/1260 [00:26<02:06,  8.22it/s, now=None]"
     ]
    },
    {
     "name": "stdout",
     "output_type": "stream",
     "text": [
      "391.4607811044673 m 554.4844059061237 m\n",
      "378.0615868086525 m 438.43183749529123 m\n"
     ]
    },
    {
     "name": "stderr",
     "output_type": "stream",
     "text": [
      "t:  18%|███████████▋                                                      | 222/1260 [00:26<02:03,  8.41it/s, now=None]"
     ]
    },
    {
     "name": "stdout",
     "output_type": "stream",
     "text": [
      "399.7273541543277 m 672.7513432288614 m\n",
      "409.80427938697545 m 474.88416902231916 m\n"
     ]
    },
    {
     "name": "stderr",
     "output_type": "stream",
     "text": [
      "t:  18%|███████████▋                                                      | 224/1260 [00:26<02:07,  8.14it/s, now=None]"
     ]
    },
    {
     "name": "stdout",
     "output_type": "stream",
     "text": [
      "415.14176846128 m 433.5042032857429 m\n",
      "417.13330446837574 m 454.5165744419519 m\n"
     ]
    },
    {
     "name": "stderr",
     "output_type": "stream",
     "text": [
      "t:  18%|███████████▊                                                      | 226/1260 [00:26<02:11,  7.89it/s, now=None]"
     ]
    },
    {
     "name": "stdout",
     "output_type": "stream",
     "text": [
      "386.3321803462245 m 351.6522943270046 m\n",
      "412.5599404847556 m 355.43883258861155 m\n"
     ]
    },
    {
     "name": "stderr",
     "output_type": "stream",
     "text": [
      "t:  18%|███████████▉                                                      | 228/1260 [00:27<02:04,  8.29it/s, now=None]"
     ]
    },
    {
     "name": "stdout",
     "output_type": "stream",
     "text": [
      "374.34225919151925 m 400.35069607665105 m\n",
      "388.50263980654523 m 430.2504722360949 m\n"
     ]
    },
    {
     "name": "stderr",
     "output_type": "stream",
     "text": [
      "t:  18%|████████████                                                      | 230/1260 [00:27<01:59,  8.59it/s, now=None]"
     ]
    },
    {
     "name": "stdout",
     "output_type": "stream",
     "text": [
      "411.21771715602637 m 429.1525048785746 m\n",
      "412.23135666789807 m 431.08945418430534 m\n"
     ]
    },
    {
     "name": "stderr",
     "output_type": "stream",
     "text": [
      "t:  18%|████████████▏                                                     | 232/1260 [00:27<02:00,  8.55it/s, now=None]"
     ]
    },
    {
     "name": "stdout",
     "output_type": "stream",
     "text": [
      "431.9358166206013 m 462.16979516350466 m\n",
      "423.67643969803066 m 381.3996937576996 m\n"
     ]
    },
    {
     "name": "stderr",
     "output_type": "stream",
     "text": [
      "t:  19%|████████████▎                                                     | 234/1260 [00:27<02:00,  8.53it/s, now=None]"
     ]
    },
    {
     "name": "stdout",
     "output_type": "stream",
     "text": [
      "432.7437007967159 m 385.0437578270768 m\n",
      "416.69251844510313 m 340.7798526851588 m\n"
     ]
    },
    {
     "name": "stderr",
     "output_type": "stream",
     "text": [
      "t:  19%|████████████▎                                                     | 236/1260 [00:28<02:00,  8.51it/s, now=None]"
     ]
    },
    {
     "name": "stdout",
     "output_type": "stream",
     "text": [
      "409.27007151030045 m 315.759340548895 m\n",
      "406.58792084094074 m 304.2137803406762 m\n"
     ]
    },
    {
     "name": "stderr",
     "output_type": "stream",
     "text": [
      "t:  19%|████████████▍                                                     | 238/1260 [00:28<02:00,  8.48it/s, now=None]"
     ]
    },
    {
     "name": "stdout",
     "output_type": "stream",
     "text": [
      "380.0228832321668 m 371.45513008094787 m\n",
      "379.25508438910606 m 385.63283578017536 m\n"
     ]
    },
    {
     "name": "stderr",
     "output_type": "stream",
     "text": [
      "t:  19%|████████████▌                                                     | 240/1260 [00:28<01:57,  8.65it/s, now=None]"
     ]
    },
    {
     "name": "stdout",
     "output_type": "stream",
     "text": [
      "354.8901922346725 m 372.4075555498142 m\n",
      "342.62171297466523 m 332.49852050756624 m\n"
     ]
    },
    {
     "name": "stderr",
     "output_type": "stream",
     "text": [
      "t:  19%|████████████▋                                                     | 242/1260 [00:28<01:56,  8.71it/s, now=None]"
     ]
    },
    {
     "name": "stdout",
     "output_type": "stream",
     "text": [
      "349.16246192627597 m 322.1177693528203 m\n",
      "352.7310449376655 m 319.1996856418758 m\n"
     ]
    },
    {
     "name": "stderr",
     "output_type": "stream",
     "text": [
      "t:  19%|████████████▊                                                     | 244/1260 [00:29<01:58,  8.59it/s, now=None]"
     ]
    },
    {
     "name": "stdout",
     "output_type": "stream",
     "text": [
      "371.22151435371455 m 355.2944357353301 m\n",
      "345.1605842512281 m 301.42151875655856 m\n"
     ]
    },
    {
     "name": "stderr",
     "output_type": "stream",
     "text": [
      "t:  20%|████████████▉                                                     | 246/1260 [00:29<01:59,  8.45it/s, now=None]"
     ]
    },
    {
     "name": "stdout",
     "output_type": "stream",
     "text": [
      "363.1169561494579 m 340.663317877515 m\n",
      "333.13286365741925 m 389.89042804278677 m\n"
     ]
    },
    {
     "name": "stderr",
     "output_type": "stream",
     "text": [
      "t:  20%|████████████▉                                                     | 248/1260 [00:29<01:58,  8.53it/s, now=None]"
     ]
    },
    {
     "name": "stdout",
     "output_type": "stream",
     "text": [
      "326.76123318122046 m 376.35636391574536 m\n",
      "334.53104675902057 m 390.51461802777754 m\n"
     ]
    },
    {
     "name": "stderr",
     "output_type": "stream",
     "text": [
      "t:  20%|█████████████                                                     | 250/1260 [00:29<01:55,  8.74it/s, now=None]"
     ]
    },
    {
     "name": "stdout",
     "output_type": "stream",
     "text": [
      "317.72247292330803 m 344.9619663314549 m\n",
      "329.7327498262406 m 355.2245158320294 m\n"
     ]
    },
    {
     "name": "stderr",
     "output_type": "stream",
     "text": [
      "t:  20%|█████████████▏                                                    | 252/1260 [00:29<01:57,  8.60it/s, now=None]"
     ]
    },
    {
     "name": "stdout",
     "output_type": "stream",
     "text": [
      "334.0575888326304 m 341.3346220979798 m\n",
      "357.7855691232112 m 323.046040941187 m\n"
     ]
    },
    {
     "name": "stderr",
     "output_type": "stream",
     "text": [
      "t:  20%|█████████████▎                                                    | 254/1260 [00:30<01:57,  8.60it/s, now=None]"
     ]
    },
    {
     "name": "stdout",
     "output_type": "stream",
     "text": [
      "369.4328618077759 m 329.99149870308287 m\n",
      "364.68618813084925 m 333.7254877610968 m\n"
     ]
    },
    {
     "name": "stderr",
     "output_type": "stream",
     "text": [
      "t:  20%|█████████████▍                                                    | 256/1260 [00:30<01:57,  8.53it/s, now=None]"
     ]
    },
    {
     "name": "stdout",
     "output_type": "stream",
     "text": [
      "390.2261195634123 m 371.9246679658468 m\n",
      "379.4664703440028 m 314.1547599371255 m\n"
     ]
    },
    {
     "name": "stderr",
     "output_type": "stream",
     "text": [
      "t:  20%|█████████████▌                                                    | 258/1260 [00:30<01:55,  8.69it/s, now=None]"
     ]
    },
    {
     "name": "stdout",
     "output_type": "stream",
     "text": [
      "543.0187724574231 m 324.01943637097446 m\n",
      "367.7226648942859 m 357.55285460684877 m\n"
     ]
    },
    {
     "name": "stderr",
     "output_type": "stream",
     "text": [
      "t:  21%|█████████████▌                                                    | 260/1260 [00:30<01:53,  8.80it/s, now=None]"
     ]
    },
    {
     "name": "stdout",
     "output_type": "stream",
     "text": [
      "381.0274151084623 m 416.4170344388852 m\n",
      "401.7966454315709 m 426.45339974143656 m\n"
     ]
    },
    {
     "name": "stderr",
     "output_type": "stream",
     "text": [
      "t:  21%|█████████████▋                                                    | 262/1260 [00:31<01:53,  8.82it/s, now=None]"
     ]
    },
    {
     "name": "stdout",
     "output_type": "stream",
     "text": [
      "385.84476560619265 m 371.09501012156755 m\n",
      "422.84303510662926 m 460.93923760192433 m\n"
     ]
    },
    {
     "name": "stderr",
     "output_type": "stream",
     "text": [
      "t:  21%|█████████████▊                                                    | 264/1260 [00:31<01:55,  8.60it/s, now=None]"
     ]
    },
    {
     "name": "stdout",
     "output_type": "stream",
     "text": [
      "415.7956850239887 m 407.9124223880008 m\n",
      "407.2457496523892 m 421.41497298877607 m\n"
     ]
    },
    {
     "name": "stderr",
     "output_type": "stream",
     "text": [
      "t:  21%|█████████████▉                                                    | 266/1260 [00:31<01:56,  8.50it/s, now=None]"
     ]
    },
    {
     "name": "stdout",
     "output_type": "stream",
     "text": [
      "772.7689263060955 m 430.53885065242736 m\n",
      "678.1152823473424 m 422.6474861110909 m\n"
     ]
    },
    {
     "name": "stderr",
     "output_type": "stream",
     "text": [
      "t:  21%|██████████████                                                    | 268/1260 [00:31<01:58,  8.40it/s, now=None]"
     ]
    },
    {
     "name": "stdout",
     "output_type": "stream",
     "text": [
      "468.4606842155939 m 521.0182204681861 m\n",
      "470.8518056341363 m 403.1930848254483 m\n"
     ]
    },
    {
     "name": "stderr",
     "output_type": "stream",
     "text": [
      "t:  21%|██████████████▏                                                   | 270/1260 [00:32<01:57,  8.42it/s, now=None]"
     ]
    },
    {
     "name": "stdout",
     "output_type": "stream",
     "text": [
      "470.99643782649486 m 407.3110014150164 m\n",
      "498.4302548210439 m 396.94813212471837 m\n"
     ]
    },
    {
     "name": "stderr",
     "output_type": "stream",
     "text": [
      "t:  22%|██████████████▏                                                   | 272/1260 [00:32<01:56,  8.46it/s, now=None]"
     ]
    },
    {
     "name": "stdout",
     "output_type": "stream",
     "text": [
      "533.4352860226498 m 364.3288868879971 m\n",
      "519.1413811027406 m 379.4345224364053 m\n"
     ]
    },
    {
     "name": "stderr",
     "output_type": "stream",
     "text": [
      "t:  22%|██████████████▎                                                   | 274/1260 [00:32<01:54,  8.59it/s, now=None]"
     ]
    },
    {
     "name": "stdout",
     "output_type": "stream",
     "text": [
      "487.20353935295304 m 450.5370645366352 m\n",
      "504.0977008444554 m 558.310257612948 m\n"
     ]
    },
    {
     "name": "stderr",
     "output_type": "stream",
     "text": [
      "t:  22%|██████████████▍                                                   | 276/1260 [00:32<01:57,  8.37it/s, now=None]"
     ]
    },
    {
     "name": "stdout",
     "output_type": "stream",
     "text": [
      "492.69705756012564 m 362.88970746933927 m\n",
      "523.9472773431445 m 394.2861958501325 m\n"
     ]
    },
    {
     "name": "stderr",
     "output_type": "stream",
     "text": [
      "t:  22%|██████████████▌                                                   | 278/1260 [00:33<01:56,  8.43it/s, now=None]"
     ]
    },
    {
     "name": "stdout",
     "output_type": "stream",
     "text": [
      "554.2443159514049 m 451.7888222979507 m\n",
      "600.4174584227551 m 427.1806183023699 m\n"
     ]
    },
    {
     "name": "stderr",
     "output_type": "stream",
     "text": [
      "t:  22%|██████████████▋                                                   | 280/1260 [00:33<01:55,  8.50it/s, now=None]"
     ]
    },
    {
     "name": "stdout",
     "output_type": "stream",
     "text": [
      "633.5058335098316 m 491.3605502365367 m\n",
      "611.7250024936793 m 394.93153066526867 m\n"
     ]
    },
    {
     "name": "stderr",
     "output_type": "stream",
     "text": [
      "t:  22%|██████████████▊                                                   | 282/1260 [00:33<01:55,  8.50it/s, now=None]"
     ]
    },
    {
     "name": "stdout",
     "output_type": "stream",
     "text": [
      "642.5066118268344 m 383.93963058033194 m\n",
      "695.312671315815 m 380.800611355044 m\n"
     ]
    },
    {
     "name": "stderr",
     "output_type": "stream",
     "text": [
      "t:  23%|██████████████▉                                                   | 284/1260 [00:33<01:54,  8.49it/s, now=None]"
     ]
    },
    {
     "name": "stdout",
     "output_type": "stream",
     "text": [
      "686.6004423556373 m 482.66162805142665 m\n",
      "708.105467487711 m 546.3524588421432 m\n"
     ]
    },
    {
     "name": "stderr",
     "output_type": "stream",
     "text": [
      "t:  23%|██████████████▉                                                   | 286/1260 [00:33<01:53,  8.56it/s, now=None]"
     ]
    },
    {
     "name": "stdout",
     "output_type": "stream",
     "text": [
      "700.4063335135884 m 587.9838040071568 m\n",
      "765.944067314575 m 618.2869802825589 m\n"
     ]
    },
    {
     "name": "stderr",
     "output_type": "stream",
     "text": [
      "t:  23%|███████████████                                                   | 288/1260 [00:34<01:54,  8.51it/s, now=None]"
     ]
    },
    {
     "name": "stdout",
     "output_type": "stream",
     "text": [
      "819.8443398965024 m 624.4224712334109 m\n",
      "801.791749535787 m 855.9416164408664 m\n"
     ]
    },
    {
     "name": "stderr",
     "output_type": "stream",
     "text": [
      "t:  23%|███████████████▏                                                  | 290/1260 [00:34<01:53,  8.54it/s, now=None]"
     ]
    },
    {
     "name": "stdout",
     "output_type": "stream",
     "text": [
      "880.525729326526 m 715.342866469843 m\n",
      "856.2116652124542 m 597.4438984668167 m\n"
     ]
    },
    {
     "name": "stderr",
     "output_type": "stream",
     "text": [
      "t:  23%|███████████████▎                                                  | 292/1260 [00:34<01:55,  8.39it/s, now=None]"
     ]
    },
    {
     "name": "stdout",
     "output_type": "stream",
     "text": [
      "980.3057452644086 m 632.3097462990827 m\n",
      "946.2456408543055 m 582.1824889311401 m\n"
     ]
    },
    {
     "name": "stderr",
     "output_type": "stream",
     "text": [
      "t:  23%|███████████████▍                                                  | 294/1260 [00:34<01:56,  8.28it/s, now=None]"
     ]
    },
    {
     "name": "stdout",
     "output_type": "stream",
     "text": [
      "1028.55370185716 m 578.1696148049222 m\n",
      "1068.601735223938 m 676.903657907472 m\n"
     ]
    },
    {
     "name": "stderr",
     "output_type": "stream",
     "text": [
      "t:  23%|███████████████▌                                                  | 296/1260 [00:35<02:00,  8.00it/s, now=None]"
     ]
    },
    {
     "name": "stdout",
     "output_type": "stream",
     "text": [
      "1000.1830431839495 m 798.402319788354 m\n",
      "1060.946879155347 m 903.0352622381837 m\n"
     ]
    },
    {
     "name": "stderr",
     "output_type": "stream",
     "text": [
      "t:  24%|███████████████▌                                                  | 298/1260 [00:35<01:56,  8.26it/s, now=None]"
     ]
    },
    {
     "name": "stdout",
     "output_type": "stream",
     "text": [
      "1131.9420555921836 m 1213.1789818737725 m\n",
      "1176.4991965606969 m 1474.8280078217763 m\n"
     ]
    },
    {
     "name": "stderr",
     "output_type": "stream",
     "text": [
      "t:  24%|███████████████▋                                                  | 300/1260 [00:35<02:01,  7.88it/s, now=None]"
     ]
    },
    {
     "name": "stdout",
     "output_type": "stream",
     "text": [
      "1285.189635924123 m 1491.1781291528177 m\n",
      "1317.3592845328637 m 1249.1667423762774 m\n"
     ]
    },
    {
     "name": "stderr",
     "output_type": "stream",
     "text": [
      "t:  24%|███████████████▊                                                  | 302/1260 [00:35<02:01,  7.86it/s, now=None]"
     ]
    },
    {
     "name": "stdout",
     "output_type": "stream",
     "text": [
      "1375.0934226864579 m 1267.1224446728302 m\n",
      "1660.0600175086229 m 941.1178335353424 m\n"
     ]
    },
    {
     "name": "stderr",
     "output_type": "stream",
     "text": [
      "t:  24%|███████████████▉                                                  | 304/1260 [00:36<01:56,  8.24it/s, now=None]"
     ]
    },
    {
     "name": "stdout",
     "output_type": "stream",
     "text": [
      "1673.8397270237183 m 1788.7779321970538 m\n",
      "1897.5249218757335 m 979.4293172931841 m\n"
     ]
    },
    {
     "name": "stderr",
     "output_type": "stream",
     "text": [
      "t:  24%|████████████████                                                  | 306/1260 [00:36<01:54,  8.37it/s, now=None]"
     ]
    },
    {
     "name": "stdout",
     "output_type": "stream",
     "text": [
      "2296.9943947266356 m 912.8552253045916 m\n",
      "2396.0493862412927 m 1071.3175287765298 m\n"
     ]
    },
    {
     "name": "stderr",
     "output_type": "stream",
     "text": [
      "t:  24%|████████████████▏                                                 | 308/1260 [00:36<01:49,  8.66it/s, now=None]"
     ]
    },
    {
     "name": "stdout",
     "output_type": "stream",
     "text": [
      "2512.968426811657 m 932.7033817682214 m\n",
      "3311.9490651053925 m 903.0020276664251 m\n"
     ]
    },
    {
     "name": "stderr",
     "output_type": "stream",
     "text": [
      "t:  25%|████████████████▏                                                 | 310/1260 [00:36<01:56,  8.16it/s, now=None]"
     ]
    },
    {
     "name": "stdout",
     "output_type": "stream",
     "text": [
      "5286.408084412367 m 1469.661916133953 m\n",
      "4117.778650851913 m 1628.3147572382413 m\n"
     ]
    },
    {
     "name": "stderr",
     "output_type": "stream",
     "text": [
      "t:  25%|████████████████▎                                                 | 312/1260 [00:37<02:05,  7.55it/s, now=None]"
     ]
    },
    {
     "name": "stdout",
     "output_type": "stream",
     "text": [
      "5604.385469603492 m 1077.147013623896 m\n",
      "9110.283849433117 m 952.0041745220616 m\n"
     ]
    },
    {
     "name": "stderr",
     "output_type": "stream",
     "text": [
      "t:  25%|████████████████▍                                                 | 314/1260 [00:37<02:02,  7.69it/s, now=None]"
     ]
    },
    {
     "name": "stdout",
     "output_type": "stream",
     "text": [
      "10299.105203661562 m 1009.8483939723574 m\n",
      "32666.853891980827 m 1294.0508758818028 m\n"
     ]
    },
    {
     "name": "stderr",
     "output_type": "stream",
     "text": [
      "t:  25%|████████████████▌                                                 | 316/1260 [00:37<01:56,  8.10it/s, now=None]"
     ]
    },
    {
     "name": "stdout",
     "output_type": "stream",
     "text": [
      "16603.334550345997 m 1463.1786192720367 m\n",
      "10998.368303378551 m 1400.4882405553792 m\n"
     ]
    },
    {
     "name": "stderr",
     "output_type": "stream",
     "text": [
      "t:  25%|████████████████▋                                                 | 318/1260 [00:37<01:52,  8.38it/s, now=None]"
     ]
    },
    {
     "name": "stdout",
     "output_type": "stream",
     "text": [
      "30440.628861799025 m 1299.4019931637906 m\n",
      "14333.470574640209 m 1194.9284778769281 m\n"
     ]
    },
    {
     "name": "stderr",
     "output_type": "stream",
     "text": [
      "t:  25%|████████████████▊                                                 | 320/1260 [00:38<01:50,  8.49it/s, now=None]"
     ]
    },
    {
     "name": "stdout",
     "output_type": "stream",
     "text": [
      "11784.06337035327 m 1645.6961281044341 m\n",
      "13738.45464370866 m 1196.537519529337 m\n"
     ]
    },
    {
     "name": "stderr",
     "output_type": "stream",
     "text": [
      "t:  26%|████████████████▊                                                 | 322/1260 [00:38<01:51,  8.40it/s, now=None]"
     ]
    },
    {
     "name": "stdout",
     "output_type": "stream",
     "text": [
      "9089.892718338888 m 1052.3975326301613 m\n",
      "14716.196344140917 m 1371.0410010763048 m\n"
     ]
    },
    {
     "name": "stderr",
     "output_type": "stream",
     "text": [
      "t:  26%|████████████████▉                                                 | 324/1260 [00:38<01:51,  8.42it/s, now=None]"
     ]
    },
    {
     "name": "stdout",
     "output_type": "stream",
     "text": [
      "11472.553443162453 m 960.1936729133846 m\n",
      "14451.743505707558 m 1066.251563020472 m\n"
     ]
    },
    {
     "name": "stderr",
     "output_type": "stream",
     "text": [
      "t:  26%|█████████████████                                                 | 326/1260 [00:38<01:50,  8.44it/s, now=None]"
     ]
    },
    {
     "name": "stdout",
     "output_type": "stream",
     "text": [
      "165693.68577532918 m 1360.5394824209845 m\n",
      "12344.664718221075 m 1051.1027618107312 m\n"
     ]
    },
    {
     "name": "stderr",
     "output_type": "stream",
     "text": [
      "t:  26%|█████████████████▏                                                | 328/1260 [00:39<01:52,  8.27it/s, now=None]"
     ]
    },
    {
     "name": "stdout",
     "output_type": "stream",
     "text": [
      "7249.078089642275 m 1168.108628858257 m\n",
      "7611.918594465478 m 1113.5555708319102 m\n"
     ]
    },
    {
     "name": "stderr",
     "output_type": "stream",
     "text": [
      "t:  26%|█████████████████▎                                                | 330/1260 [00:39<01:48,  8.59it/s, now=None]"
     ]
    },
    {
     "name": "stdout",
     "output_type": "stream",
     "text": [
      "10169.262404616644 m 1199.0320563669743 m\n",
      "22342.668389657236 m 1504.7904268811167 m\n"
     ]
    },
    {
     "name": "stderr",
     "output_type": "stream",
     "text": [
      "t:  26%|█████████████████▍                                                | 332/1260 [00:39<01:46,  8.71it/s, now=None]"
     ]
    },
    {
     "name": "stdout",
     "output_type": "stream",
     "text": [
      "6655.079212313507 m 1391.2738254872681 m\n",
      "59566.37597196721 m 2273.2942602285107 m\n"
     ]
    },
    {
     "name": "stderr",
     "output_type": "stream",
     "text": [
      "t:  27%|█████████████████▍                                                | 334/1260 [00:39<01:49,  8.43it/s, now=None]"
     ]
    },
    {
     "name": "stdout",
     "output_type": "stream",
     "text": [
      "25279.278590421618 m 1211.5750908536188 m\n",
      "18504.70271861133 m 1199.8662153961093 m\n"
     ]
    },
    {
     "name": "stderr",
     "output_type": "stream",
     "text": [
      "t:  27%|█████████████████▌                                                | 336/1260 [00:39<01:48,  8.52it/s, now=None]"
     ]
    },
    {
     "name": "stdout",
     "output_type": "stream",
     "text": [
      "212143.12868146057 m 1433.121025476914 m\n",
      "18967.848334299488 m 1404.1749313860073 m\n"
     ]
    },
    {
     "name": "stderr",
     "output_type": "stream",
     "text": [
      "t:  27%|█████████████████▋                                                | 338/1260 [00:40<01:48,  8.50it/s, now=None]"
     ]
    },
    {
     "name": "stdout",
     "output_type": "stream",
     "text": [
      "27763.611129233213 m 2264.0471423365084 m\n",
      "36333.95563939978 m 1864.1036275172994 m\n"
     ]
    },
    {
     "name": "stderr",
     "output_type": "stream",
     "text": [
      "t:  27%|█████████████████▊                                                | 340/1260 [00:40<01:51,  8.28it/s, now=None]"
     ]
    },
    {
     "name": "stdout",
     "output_type": "stream",
     "text": [
      "10582.807959921765 m 2063.9605067572156 m\n",
      "8909.445493441872 m 1578.694113213455 m\n"
     ]
    },
    {
     "name": "stderr",
     "output_type": "stream",
     "text": [
      "t:  27%|█████████████████▉                                                | 342/1260 [00:40<01:48,  8.48it/s, now=None]"
     ]
    },
    {
     "name": "stdout",
     "output_type": "stream",
     "text": [
      "15099.175704266188 m 1728.7171779097434 m\n",
      "19328.710731619423 m 1181.7745210097098 m\n"
     ]
    },
    {
     "name": "stderr",
     "output_type": "stream",
     "text": [
      "t:  27%|██████████████████                                                | 344/1260 [00:40<01:48,  8.47it/s, now=None]"
     ]
    },
    {
     "name": "stdout",
     "output_type": "stream",
     "text": [
      "21126.845909165397 m 1381.831818899481 m\n",
      "53874.213135656035 m 1979.3259550099397 m\n"
     ]
    },
    {
     "name": "stderr",
     "output_type": "stream",
     "text": [
      "\r",
      "t:  27%|██████████████████                                                | 345/1260 [00:41<01:46,  8.57it/s, now=None]"
     ]
    },
    {
     "name": "stdout",
     "output_type": "stream",
     "text": [
      "109508.44996661319 m 3043.7787976968316 m\n",
      "22329.730493716208 m 3058.3295236255367 m\n"
     ]
    },
    {
     "name": "stderr",
     "output_type": "stream",
     "text": [
      "t:  28%|██████████████████▏                                               | 348/1260 [00:41<01:53,  8.01it/s, now=None]"
     ]
    },
    {
     "name": "stdout",
     "output_type": "stream",
     "text": [
      "12796.051817486032 m 3618.1664184562133 m\n",
      "5005.309502527749 m 1914.715081113424 m\n"
     ]
    },
    {
     "name": "stderr",
     "output_type": "stream",
     "text": [
      "t:  28%|██████████████████▎                                               | 350/1260 [00:41<01:49,  8.32it/s, now=None]"
     ]
    },
    {
     "name": "stdout",
     "output_type": "stream",
     "text": [
      "10051.797425704868 m 5595.89788177731 m\n",
      "3780.4918370038267 m 2017.2884329630704 m\n"
     ]
    },
    {
     "name": "stderr",
     "output_type": "stream",
     "text": [
      "t:  28%|██████████████████▍                                               | 352/1260 [00:41<01:49,  8.27it/s, now=None]"
     ]
    },
    {
     "name": "stdout",
     "output_type": "stream",
     "text": [
      "3741.187541487513 m 2114.1288590429117 m\n",
      "3271.7789932298824 m 1738.2375618431254 m\n"
     ]
    },
    {
     "name": "stderr",
     "output_type": "stream",
     "text": [
      "t:  28%|██████████████████▌                                               | 354/1260 [00:42<01:47,  8.39it/s, now=None]"
     ]
    },
    {
     "name": "stdout",
     "output_type": "stream",
     "text": [
      "2242.648606548241 m 1221.259545445449 m\n",
      "3114.5682347301827 m 1163.2078126286262 m\n"
     ]
    },
    {
     "name": "stderr",
     "output_type": "stream",
     "text": [
      "t:  28%|██████████████████▋                                               | 356/1260 [00:42<01:47,  8.41it/s, now=None]"
     ]
    },
    {
     "name": "stdout",
     "output_type": "stream",
     "text": [
      "2261.8727680750676 m 1194.602987864446 m\n",
      "2022.7462936905094 m 1241.5136083012303 m\n"
     ]
    },
    {
     "name": "stderr",
     "output_type": "stream",
     "text": [
      "t:  28%|██████████████████▊                                               | 358/1260 [00:42<01:46,  8.45it/s, now=None]"
     ]
    },
    {
     "name": "stdout",
     "output_type": "stream",
     "text": [
      "2216.502949968765 m 2016.137452809056 m\n",
      "1881.8082498648491 m 4190.801781637624 m\n"
     ]
    },
    {
     "name": "stderr",
     "output_type": "stream",
     "text": [
      "t:  29%|██████████████████▊                                               | 360/1260 [00:42<01:52,  7.97it/s, now=None]"
     ]
    },
    {
     "name": "stdout",
     "output_type": "stream",
     "text": [
      "1938.7914707043271 m 7895.533656786196 m\n",
      "1589.6187547172449 m 2260.6468653323204 m\n"
     ]
    },
    {
     "name": "stderr",
     "output_type": "stream",
     "text": [
      "t:  29%|██████████████████▉                                               | 362/1260 [00:43<01:56,  7.73it/s, now=None]"
     ]
    },
    {
     "name": "stdout",
     "output_type": "stream",
     "text": [
      "1591.316801935613 m 3521.2331789733435 m\n",
      "1334.0510340812853 m 3119.465562412388 m\n"
     ]
    },
    {
     "name": "stderr",
     "output_type": "stream",
     "text": [
      "t:  29%|███████████████████                                               | 364/1260 [00:43<02:01,  7.38it/s, now=None]"
     ]
    },
    {
     "name": "stdout",
     "output_type": "stream",
     "text": [
      "1290.0859340862814 m 2154.4974499542855 m\n",
      "1211.889531697353 m 1791.1522119761253 m\n"
     ]
    },
    {
     "name": "stderr",
     "output_type": "stream",
     "text": [
      "t:  29%|███████████████████▏                                              | 366/1260 [00:43<01:52,  7.97it/s, now=None]"
     ]
    },
    {
     "name": "stdout",
     "output_type": "stream",
     "text": [
      "1576.458001918709 m 3355.732452108904 m\n",
      "1453.7039352317913 m 16125.32500174507 m\n"
     ]
    },
    {
     "name": "stderr",
     "output_type": "stream",
     "text": [
      "t:  29%|███████████████████▎                                              | 368/1260 [00:43<01:48,  8.22it/s, now=None]"
     ]
    },
    {
     "name": "stdout",
     "output_type": "stream",
     "text": [
      "1753.1731276260718 m 80740.95259522955 m\n",
      "2001.1877598130488 m 138208.90052175193 m\n"
     ]
    },
    {
     "name": "stderr",
     "output_type": "stream",
     "text": [
      "t:  29%|███████████████████▍                                              | 370/1260 [00:44<01:45,  8.40it/s, now=None]"
     ]
    },
    {
     "name": "stdout",
     "output_type": "stream",
     "text": [
      "2096.574488935609 m 53965.919139397694 m\n",
      "2622.2741836377986 m 7855.240988265925 m\n"
     ]
    },
    {
     "name": "stderr",
     "output_type": "stream",
     "text": [
      "t:  30%|███████████████████▍                                              | 372/1260 [00:44<01:47,  8.27it/s, now=None]"
     ]
    },
    {
     "name": "stdout",
     "output_type": "stream",
     "text": [
      "3805.315738830032 m 7178.825727410359 m\n",
      "4649.394345832614 m 26689.110372395495 m\n"
     ]
    },
    {
     "name": "stderr",
     "output_type": "stream",
     "text": [
      "t:  30%|███████████████████▌                                              | 374/1260 [00:44<01:42,  8.64it/s, now=None]"
     ]
    },
    {
     "name": "stdout",
     "output_type": "stream",
     "text": [
      "12266.457009807496 m 34291.29950091009 m\n",
      "11036.1987639322 m 7124.75041664032 m\n"
     ]
    },
    {
     "name": "stderr",
     "output_type": "stream",
     "text": [
      "t:  30%|███████████████████▋                                              | 376/1260 [00:44<01:43,  8.56it/s, now=None]"
     ]
    },
    {
     "name": "stdout",
     "output_type": "stream",
     "text": [
      "10383.39068462238 m 22835.625690395806 m\n",
      "6299.296018648429 m 4091.1127445707048 m\n"
     ]
    },
    {
     "name": "stderr",
     "output_type": "stream",
     "text": [
      "t:  30%|███████████████████▊                                              | 378/1260 [00:45<01:41,  8.66it/s, now=None]"
     ]
    },
    {
     "name": "stdout",
     "output_type": "stream",
     "text": [
      "3676.561589720979 m 6294.518020652186 m\n",
      "3019.621021147468 m 6464.586742260455 m\n"
     ]
    },
    {
     "name": "stderr",
     "output_type": "stream",
     "text": [
      "t:  30%|███████████████████▉                                              | 380/1260 [00:45<01:45,  8.32it/s, now=None]"
     ]
    },
    {
     "name": "stdout",
     "output_type": "stream",
     "text": [
      "2636.1580129840377 m 11305.853349735276 m\n",
      "2310.7385812591665 m 162877.37981057612 m\n"
     ]
    },
    {
     "name": "stderr",
     "output_type": "stream",
     "text": [
      "t:  30%|████████████████████                                              | 382/1260 [00:45<01:43,  8.51it/s, now=None]"
     ]
    },
    {
     "name": "stdout",
     "output_type": "stream",
     "text": [
      "1876.1080889988352 m 14666.913634317068 m\n",
      "2038.5886460095678 m 9403.437779002648 m\n"
     ]
    },
    {
     "name": "stderr",
     "output_type": "stream",
     "text": [
      "t:  30%|████████████████████                                              | 384/1260 [00:45<01:44,  8.38it/s, now=None]"
     ]
    },
    {
     "name": "stdout",
     "output_type": "stream",
     "text": [
      "2320.60808499417 m 12044.625047837342 m\n",
      "2575.9167511940486 m 3630.259496733618 m\n"
     ]
    },
    {
     "name": "stderr",
     "output_type": "stream",
     "text": [
      "t:  31%|████████████████████▏                                             | 386/1260 [00:46<01:43,  8.45it/s, now=None]"
     ]
    },
    {
     "name": "stdout",
     "output_type": "stream",
     "text": [
      "2738.2543254657962 m 2197.0340162507337 m\n",
      "2664.655268790636 m 2361.5336537217463 m\n"
     ]
    },
    {
     "name": "stderr",
     "output_type": "stream",
     "text": [
      "t:  31%|████████████████████▎                                             | 388/1260 [00:46<01:42,  8.51it/s, now=None]"
     ]
    },
    {
     "name": "stdout",
     "output_type": "stream",
     "text": [
      "3813.8710761820475 m 2228.679253883137 m\n",
      "2773.4889457110485 m 2643.0527934352585 m\n"
     ]
    },
    {
     "name": "stderr",
     "output_type": "stream",
     "text": [
      "t:  31%|████████████████████▍                                             | 390/1260 [00:46<01:39,  8.70it/s, now=None]"
     ]
    },
    {
     "name": "stdout",
     "output_type": "stream",
     "text": [
      "3600.6245734836066 m 2134.4883589705923 m\n",
      "3711.808517868065 m 2110.5007843730023 m\n"
     ]
    },
    {
     "name": "stderr",
     "output_type": "stream",
     "text": [
      "t:  31%|████████████████████▌                                             | 392/1260 [00:46<01:41,  8.55it/s, now=None]"
     ]
    },
    {
     "name": "stdout",
     "output_type": "stream",
     "text": [
      "4626.57141119679 m 1499.257884333325 m\n",
      "5534.63802530016 m 1988.4312222740539 m\n"
     ]
    },
    {
     "name": "stderr",
     "output_type": "stream",
     "text": [
      "t:  31%|████████████████████▋                                             | 394/1260 [00:46<01:43,  8.35it/s, now=None]"
     ]
    },
    {
     "name": "stdout",
     "output_type": "stream",
     "text": [
      "5412.773104419574 m 1963.4415462639386 m\n",
      "8985.458257846221 m 25484.09904549183 m\n"
     ]
    },
    {
     "name": "stderr",
     "output_type": "stream",
     "text": [
      "t:  31%|████████████████████▋                                             | 396/1260 [00:47<01:42,  8.41it/s, now=None]"
     ]
    },
    {
     "name": "stdout",
     "output_type": "stream",
     "text": [
      "8897.86760841782 m 6976.534547875467 m\n",
      "107124.72421365984 m 9844.15019451176 m\n"
     ]
    },
    {
     "name": "stderr",
     "output_type": "stream",
     "text": [
      "t:  32%|████████████████████▊                                             | 398/1260 [00:47<01:40,  8.54it/s, now=None]"
     ]
    },
    {
     "name": "stdout",
     "output_type": "stream",
     "text": [
      "13915.99743232912 m 3854.936294700108 m\n",
      "21378.836469625014 m 4325.340043387587 m\n"
     ]
    },
    {
     "name": "stderr",
     "output_type": "stream",
     "text": [
      "t:  32%|████████████████████▉                                             | 400/1260 [00:47<01:37,  8.79it/s, now=None]"
     ]
    },
    {
     "name": "stdout",
     "output_type": "stream",
     "text": [
      "14510.633563932803 m 12817.13935652757 m\n",
      "9337.938331336862 m 174306.3845384749 m\n"
     ]
    },
    {
     "name": "stderr",
     "output_type": "stream",
     "text": [
      "t:  32%|█████████████████████                                             | 402/1260 [00:47<01:37,  8.79it/s, now=None]"
     ]
    },
    {
     "name": "stdout",
     "output_type": "stream",
     "text": [
      "12742.581051405028 m 2745.0347800537374 m\n",
      "16268.079582169352 m 2479.439952427203 m\n"
     ]
    },
    {
     "name": "stderr",
     "output_type": "stream",
     "text": [
      "t:  32%|█████████████████████▏                                            | 404/1260 [00:48<01:39,  8.59it/s, now=None]"
     ]
    },
    {
     "name": "stdout",
     "output_type": "stream",
     "text": [
      "23204.490580034748 m 1840.6678529010692 m\n",
      "22833.189342165133 m 2001.3240226076325 m\n"
     ]
    },
    {
     "name": "stderr",
     "output_type": "stream",
     "text": [
      "t:  32%|█████████████████████▎                                            | 406/1260 [00:48<01:38,  8.66it/s, now=None]"
     ]
    },
    {
     "name": "stdout",
     "output_type": "stream",
     "text": [
      "23184.486650069823 m 4988.753031080077 m\n",
      "13681.930416442601 m 10469.597270651595 m\n"
     ]
    },
    {
     "name": "stderr",
     "output_type": "stream",
     "text": [
      "t:  32%|█████████████████████▎                                            | 408/1260 [00:48<01:36,  8.79it/s, now=None]"
     ]
    },
    {
     "name": "stdout",
     "output_type": "stream",
     "text": [
      "7765.636656085862 m 6848.943642132501 m\n",
      "9457.94469642947 m 10097.631535825338 m\n",
      "7851.274406431532"
     ]
    },
    {
     "name": "stderr",
     "output_type": "stream",
     "text": [
      "t:  33%|█████████████████████▍                                            | 410/1260 [00:48<01:36,  8.78it/s, now=None]"
     ]
    },
    {
     "name": "stdout",
     "output_type": "stream",
     "text": [
      " m 5434.176935025549 m\n",
      "10869.419058527235 m 3241.398514207163 m\n"
     ]
    },
    {
     "name": "stderr",
     "output_type": "stream",
     "text": [
      "t:  33%|█████████████████████▌                                            | 412/1260 [00:49<01:37,  8.72it/s, now=None]"
     ]
    },
    {
     "name": "stdout",
     "output_type": "stream",
     "text": [
      "6401.04926638444 m 17062.93028516695 m\n",
      "4798.594257187951 m 39188.169482504745 m\n"
     ]
    },
    {
     "name": "stderr",
     "output_type": "stream",
     "text": [
      "t:  33%|█████████████████████▋                                            | 414/1260 [00:49<01:35,  8.86it/s, now=None]"
     ]
    },
    {
     "name": "stdout",
     "output_type": "stream",
     "text": [
      "4560.981381163029 m 4035.4773055208093 m\n",
      "4279.00769176224 m 2094.527177807009 m\n"
     ]
    },
    {
     "name": "stderr",
     "output_type": "stream",
     "text": [
      "t:  33%|█████████████████████▊                                            | 416/1260 [00:49<01:37,  8.68it/s, now=None]"
     ]
    },
    {
     "name": "stdout",
     "output_type": "stream",
     "text": [
      "3605.21879799701 m 1857.8345869724014 m\n",
      "3785.9011136291733 m 7892.670133259673 m\n"
     ]
    },
    {
     "name": "stderr",
     "output_type": "stream",
     "text": [
      "t:  33%|█████████████████████▉                                            | 418/1260 [00:49<01:37,  8.66it/s, now=None]"
     ]
    },
    {
     "name": "stdout",
     "output_type": "stream",
     "text": [
      "3399.921037483379 m 4151.841916339655 m\n",
      "3461.5330330252373 m 10057.445083761495 m\n"
     ]
    },
    {
     "name": "stderr",
     "output_type": "stream",
     "text": [
      "t:  33%|██████████████████████                                            | 420/1260 [00:49<01:38,  8.56it/s, now=None]"
     ]
    },
    {
     "name": "stdout",
     "output_type": "stream",
     "text": [
      "3657.4773666919587 m 3389.557291672587 m\n",
      "4439.433998427508 m 3438.558630561195 m\n"
     ]
    },
    {
     "name": "stderr",
     "output_type": "stream",
     "text": [
      "t:  33%|██████████████████████                                            | 422/1260 [00:50<01:37,  8.58it/s, now=None]"
     ]
    },
    {
     "name": "stdout",
     "output_type": "stream",
     "text": [
      "4507.180892576372 m 2617.0522857248047 m\n",
      "6509.909982311123 m 6230.858677139313 m\n"
     ]
    },
    {
     "name": "stderr",
     "output_type": "stream",
     "text": [
      "t:  34%|██████████████████████▏                                           | 424/1260 [00:50<01:37,  8.55it/s, now=None]"
     ]
    },
    {
     "name": "stdout",
     "output_type": "stream",
     "text": [
      "21966.25810272871 m 7391.964437370041 m\n",
      "31525.012491120964 m 9004.704379712623 m\n"
     ]
    },
    {
     "name": "stderr",
     "output_type": "stream",
     "text": [
      "t:  34%|██████████████████████▎                                           | 426/1260 [00:50<01:34,  8.81it/s, now=None]"
     ]
    },
    {
     "name": "stdout",
     "output_type": "stream",
     "text": [
      "54295.3267934557 m 4372.153727508016 m\n",
      "12197.40320510507 m 2534.0284282538487 m\n"
     ]
    },
    {
     "name": "stderr",
     "output_type": "stream",
     "text": [
      "t:  34%|██████████████████████▍                                           | 428/1260 [00:50<01:35,  8.75it/s, now=None]"
     ]
    },
    {
     "name": "stdout",
     "output_type": "stream",
     "text": [
      "13891.03716302489 m 35150.00146433682 m\n",
      "7009.711965497196 m 56496.96356104922 m\n"
     ]
    },
    {
     "name": "stderr",
     "output_type": "stream",
     "text": [
      "t:  34%|██████████████████████▌                                           | 430/1260 [00:51<01:36,  8.60it/s, now=None]"
     ]
    },
    {
     "name": "stdout",
     "output_type": "stream",
     "text": [
      "4134.21279086714 m 15246.019623421276 m\n",
      "3982.422857819528 m 3267.4693030061135 m\n"
     ]
    },
    {
     "name": "stderr",
     "output_type": "stream",
     "text": [
      "t:  34%|██████████████████████▋                                           | 432/1260 [00:51<01:36,  8.57it/s, now=None]"
     ]
    },
    {
     "name": "stdout",
     "output_type": "stream",
     "text": [
      "2955.560223003074 m 1450.1862220989522 m\n",
      "3016.6305653022614 m 1728.3237139758667 m\n"
     ]
    },
    {
     "name": "stderr",
     "output_type": "stream",
     "text": [
      "t:  34%|██████████████████████▋                                           | 434/1260 [00:51<01:37,  8.45it/s, now=None]"
     ]
    },
    {
     "name": "stdout",
     "output_type": "stream",
     "text": [
      "2317.7995945274156 m 1817.3787218894581 m\n",
      "2395.7929978154484 m 1661.8004113705674 m\n"
     ]
    },
    {
     "name": "stderr",
     "output_type": "stream",
     "text": [
      "t:  35%|██████████████████████▊                                           | 436/1260 [00:51<01:39,  8.29it/s, now=None]"
     ]
    },
    {
     "name": "stdout",
     "output_type": "stream",
     "text": [
      "2418.531402784063 m 2313.675445205449 m\n",
      "2245.831853983255 m 4630.930616546174 m\n"
     ]
    },
    {
     "name": "stderr",
     "output_type": "stream",
     "text": [
      "t:  35%|██████████████████████▉                                           | 438/1260 [00:52<01:37,  8.41it/s, now=None]"
     ]
    },
    {
     "name": "stdout",
     "output_type": "stream",
     "text": [
      "2000.9777193939553 m 24053863.377958003 m\n",
      "1892.0028953718727 m 1500.1295617962485 m\n"
     ]
    },
    {
     "name": "stderr",
     "output_type": "stream",
     "text": [
      "t:  35%|███████████████████████                                           | 440/1260 [00:52<01:35,  8.54it/s, now=None]"
     ]
    },
    {
     "name": "stdout",
     "output_type": "stream",
     "text": [
      "1938.9168657915786 m 1375.0086502961735 m\n",
      "1971.070055419607 m 1231.9553505355984 m\n"
     ]
    },
    {
     "name": "stderr",
     "output_type": "stream",
     "text": [
      "t:  35%|███████████████████████▏                                          | 442/1260 [00:52<01:33,  8.75it/s, now=None]"
     ]
    },
    {
     "name": "stdout",
     "output_type": "stream",
     "text": [
      "2124.9858440070657 m 1998.967869038263 m\n",
      "2400.3316122179563 m 2133.345922949521 m\n"
     ]
    },
    {
     "name": "stderr",
     "output_type": "stream",
     "text": [
      "t:  35%|███████████████████████▎                                          | 444/1260 [00:52<01:37,  8.40it/s, now=None]"
     ]
    },
    {
     "name": "stdout",
     "output_type": "stream",
     "text": [
      "2591.7868156644677 m 3586.247192193125 m\n",
      "2595.437004393069 m 1717.2437527456789 m\n"
     ]
    },
    {
     "name": "stderr",
     "output_type": "stream",
     "text": [
      "t:  35%|███████████████████████▎                                          | 446/1260 [00:53<01:35,  8.49it/s, now=None]"
     ]
    },
    {
     "name": "stdout",
     "output_type": "stream",
     "text": [
      "3681.6821764677775 m 2822.3911444855644 m\n",
      "2769.773623453547 m 3635.4871373280375 m\n"
     ]
    },
    {
     "name": "stderr",
     "output_type": "stream",
     "text": [
      "t:  36%|███████████████████████▍                                          | 448/1260 [00:53<01:35,  8.48it/s, now=None]"
     ]
    },
    {
     "name": "stdout",
     "output_type": "stream",
     "text": [
      "4685.65564130065 m 14338.326460191476 m\n",
      "6279.963835677247 m 21542.806388320107 m\n"
     ]
    },
    {
     "name": "stderr",
     "output_type": "stream",
     "text": [
      "t:  36%|███████████████████████▌                                          | 450/1260 [00:53<01:32,  8.77it/s, now=None]"
     ]
    },
    {
     "name": "stdout",
     "output_type": "stream",
     "text": [
      "9727.518328176027 m 7228.427319242188 m\n",
      "1541313.2306795453 m 4643.311657001874 m\n"
     ]
    },
    {
     "name": "stderr",
     "output_type": "stream",
     "text": [
      "t:  36%|███████████████████████▋                                          | 452/1260 [00:53<01:42,  7.92it/s, now=None]"
     ]
    },
    {
     "name": "stdout",
     "output_type": "stream",
     "text": [
      "62537.231375884876 m 9993.198898645016 m\n",
      "6158.216125906968 m 5585.949320692317 m\n"
     ]
    },
    {
     "name": "stderr",
     "output_type": "stream",
     "text": [
      "t:  36%|███████████████████████▊                                          | 454/1260 [00:54<01:41,  7.95it/s, now=None]"
     ]
    },
    {
     "name": "stdout",
     "output_type": "stream",
     "text": [
      "4490.372737525042 m 5219.068558980043 m\n",
      "4230.386121670346 m 10574.244343565786 m\n"
     ]
    },
    {
     "name": "stderr",
     "output_type": "stream",
     "text": [
      "t:  36%|███████████████████████▉                                          | 456/1260 [00:54<01:38,  8.19it/s, now=None]"
     ]
    },
    {
     "name": "stdout",
     "output_type": "stream",
     "text": [
      "3667.122289967576 m 7216.053712696378 m\n",
      "3606.1391554831075 m 5317.78170043646 m\n"
     ]
    },
    {
     "name": "stderr",
     "output_type": "stream",
     "text": [
      "t:  36%|███████████████████████▉                                          | 458/1260 [00:54<01:34,  8.47it/s, now=None]"
     ]
    },
    {
     "name": "stdout",
     "output_type": "stream",
     "text": [
      "3071.553612221162 m 4820.524744095854 m\n",
      "3475.5353413353077 m 3416.093831670095 m\n"
     ]
    },
    {
     "name": "stderr",
     "output_type": "stream",
     "text": [
      "t:  37%|████████████████████████                                          | 460/1260 [00:54<01:33,  8.51it/s, now=None]"
     ]
    },
    {
     "name": "stdout",
     "output_type": "stream",
     "text": [
      "3562.5359859038094 m 2605.701992694682 m\n",
      "4533.652270539199 m 11061.738536753863 m\n"
     ]
    },
    {
     "name": "stderr",
     "output_type": "stream",
     "text": [
      "t:  37%|████████████████████████▏                                         | 462/1260 [00:54<01:33,  8.57it/s, now=None]"
     ]
    },
    {
     "name": "stdout",
     "output_type": "stream",
     "text": [
      "3995.2009970501267 m 17663.132663784767 m\n",
      "3896.305650395168 m 2383.9390207300635 m\n"
     ]
    },
    {
     "name": "stderr",
     "output_type": "stream",
     "text": [
      "t:  37%|████████████████████████▎                                         | 464/1260 [00:55<01:34,  8.43it/s, now=None]"
     ]
    },
    {
     "name": "stdout",
     "output_type": "stream",
     "text": [
      "3867.636147327399 m 7713.922222593632 m\n",
      "4071.1418065113126 m 2926.7717087786264 m\n"
     ]
    },
    {
     "name": "stderr",
     "output_type": "stream",
     "text": [
      "t:  37%|████████████████████████▍                                         | 466/1260 [00:55<01:34,  8.41it/s, now=None]"
     ]
    },
    {
     "name": "stdout",
     "output_type": "stream",
     "text": [
      "4828.150450567334 m 17620.48882167761 m\n",
      "5917.646272950511 m 6513.486237953167 m\n"
     ]
    },
    {
     "name": "stderr",
     "output_type": "stream",
     "text": [
      "t:  37%|████████████████████████▌                                         | 468/1260 [00:55<01:32,  8.54it/s, now=None]"
     ]
    },
    {
     "name": "stdout",
     "output_type": "stream",
     "text": [
      "5793.717835913309 m 6389.10485961563 m\n",
      "5981.449822550535 m 6444.765597367298 m\n"
     ]
    },
    {
     "name": "stderr",
     "output_type": "stream",
     "text": [
      "t:  37%|████████████████████████▌                                         | 470/1260 [00:55<01:34,  8.37it/s, now=None]"
     ]
    },
    {
     "name": "stdout",
     "output_type": "stream",
     "text": [
      "6614.899095087436 m 6319.509969539913 m\n",
      "10028.026522637685 m 2893.8247735267632 m\n"
     ]
    },
    {
     "name": "stderr",
     "output_type": "stream",
     "text": [
      "t:  37%|████████████████████████▋                                         | 472/1260 [00:56<01:33,  8.46it/s, now=None]"
     ]
    },
    {
     "name": "stdout",
     "output_type": "stream",
     "text": [
      "27894.069621624985 m 4057.0165751975023 m\n",
      "175346.03390816652 m 2738.223558589367 m\n"
     ]
    },
    {
     "name": "stderr",
     "output_type": "stream",
     "text": [
      "t:  38%|████████████████████████▊                                         | 474/1260 [00:56<01:32,  8.48it/s, now=None]"
     ]
    },
    {
     "name": "stdout",
     "output_type": "stream",
     "text": [
      "18511.6051270563 m 2809.349534854804 m\n",
      "22497.503778573086 m 10676.121917017615 m\n"
     ]
    },
    {
     "name": "stderr",
     "output_type": "stream",
     "text": [
      "t:  38%|████████████████████████▉                                         | 476/1260 [00:56<01:32,  8.48it/s, now=None]"
     ]
    },
    {
     "name": "stdout",
     "output_type": "stream",
     "text": [
      "7897.422005206611 m 2891.355611290516 m\n",
      "13878.75815528044 m 107094.66107121714 m\n"
     ]
    },
    {
     "name": "stderr",
     "output_type": "stream",
     "text": [
      "t:  38%|█████████████████████████                                         | 478/1260 [00:56<01:30,  8.64it/s, now=None]"
     ]
    },
    {
     "name": "stdout",
     "output_type": "stream",
     "text": [
      "8767.659958933287 m 3037.1483406789953 m\n",
      "6152.913969311856 m 135419.98160638986 m\n"
     ]
    },
    {
     "name": "stderr",
     "output_type": "stream",
     "text": [
      "t:  38%|█████████████████████████▏                                        | 480/1260 [00:57<01:32,  8.39it/s, now=None]"
     ]
    },
    {
     "name": "stdout",
     "output_type": "stream",
     "text": [
      "7161.9642022063845 m 6437.205698083176 m\n",
      "5241.821636123832 m 5504.784914115394 m\n"
     ]
    },
    {
     "name": "stderr",
     "output_type": "stream",
     "text": [
      "t:  38%|█████████████████████████▏                                        | 482/1260 [00:57<01:31,  8.51it/s, now=None]"
     ]
    },
    {
     "name": "stdout",
     "output_type": "stream",
     "text": [
      "7239.139232631268 m 2575.84380817749 m\n",
      "5072.177063869988 m 1702.232797338823 m\n"
     ]
    },
    {
     "name": "stderr",
     "output_type": "stream",
     "text": [
      "t:  38%|█████████████████████████▎                                        | 484/1260 [00:57<01:31,  8.45it/s, now=None]"
     ]
    },
    {
     "name": "stdout",
     "output_type": "stream",
     "text": [
      "5628.795990783114 m 1659.3692657570489 m\n",
      "7988.464683582631 m 1343.5783024503774 m\n"
     ]
    },
    {
     "name": "stderr",
     "output_type": "stream",
     "text": [
      "t:  39%|█████████████████████████▍                                        | 486/1260 [00:57<01:31,  8.46it/s, now=None]"
     ]
    },
    {
     "name": "stdout",
     "output_type": "stream",
     "text": [
      "30598.734859079726 m 3397.6536508485847 m\n",
      "23147.90673212664 m 20904.863392570365 m\n"
     ]
    },
    {
     "name": "stderr",
     "output_type": "stream",
     "text": [
      "t:  39%|█████████████████████████▌                                        | 488/1260 [00:58<01:32,  8.39it/s, now=None]"
     ]
    },
    {
     "name": "stdout",
     "output_type": "stream",
     "text": [
      "16160.92669335892 m 230913.17565916965 m\n",
      "23084.73165924649 m 5965.8383397572825 m\n"
     ]
    },
    {
     "name": "stderr",
     "output_type": "stream",
     "text": [
      "t:  39%|█████████████████████████▋                                        | 490/1260 [00:58<01:30,  8.52it/s, now=None]"
     ]
    },
    {
     "name": "stdout",
     "output_type": "stream",
     "text": [
      "42165.52216900084 m 2527.6984544086804 m\n",
      "20405.91553000868 m 1711.6914995505929 m\n"
     ]
    },
    {
     "name": "stderr",
     "output_type": "stream",
     "text": [
      "t:  39%|█████████████████████████▊                                        | 492/1260 [00:58<01:29,  8.54it/s, now=None]"
     ]
    },
    {
     "name": "stdout",
     "output_type": "stream",
     "text": [
      "10324.62764078053 m 1794.6740209487077 m\n",
      "25867.298619704055 m 3324.024174029134 m\n"
     ]
    },
    {
     "name": "stderr",
     "output_type": "stream",
     "text": [
      "t:  39%|█████████████████████████▉                                        | 494/1260 [00:58<01:28,  8.65it/s, now=None]"
     ]
    },
    {
     "name": "stdout",
     "output_type": "stream",
     "text": [
      "71522.11621424953 m 3140.7843659563573 m\n",
      "12392.182174742387 m 11991.553596797388 m\n"
     ]
    },
    {
     "name": "stderr",
     "output_type": "stream",
     "text": [
      "t:  39%|█████████████████████████▉                                        | 496/1260 [00:58<01:31,  8.38it/s, now=None]"
     ]
    },
    {
     "name": "stdout",
     "output_type": "stream",
     "text": [
      "7490.189790123932 m 5918.08620176053 m\n",
      "6235.630593586803 m 13713.169084733712 m\n"
     ]
    },
    {
     "name": "stderr",
     "output_type": "stream",
     "text": [
      "t:  40%|██████████████████████████                                        | 498/1260 [00:59<01:31,  8.35it/s, now=None]"
     ]
    },
    {
     "name": "stdout",
     "output_type": "stream",
     "text": [
      "4861.181657074924 m 4808.957853343097 m\n",
      "5762.597788498191 m 2824.521334458352 m\n"
     ]
    },
    {
     "name": "stderr",
     "output_type": "stream",
     "text": [
      "t:  40%|██████████████████████████▏                                       | 500/1260 [00:59<01:29,  8.51it/s, now=None]"
     ]
    },
    {
     "name": "stdout",
     "output_type": "stream",
     "text": [
      "2849.599663588298 m 10107.148995751166 m\n",
      "2804.193848586279 m 15711.28092318805 m\n"
     ]
    },
    {
     "name": "stderr",
     "output_type": "stream",
     "text": [
      "t:  40%|██████████████████████████▎                                       | 502/1260 [00:59<01:28,  8.58it/s, now=None]"
     ]
    },
    {
     "name": "stdout",
     "output_type": "stream",
     "text": [
      "2980.405704795333 m 15695.480350767166 m\n",
      "2639.186595676606 m 3761.1417690071435 m\n"
     ]
    },
    {
     "name": "stderr",
     "output_type": "stream",
     "text": [
      "\r",
      "t:  40%|██████████████████████████▎                                       | 503/1260 [00:59<01:33,  8.08it/s, now=None]"
     ]
    },
    {
     "name": "stdout",
     "output_type": "stream",
     "text": [
      "2868.3522069180385 m 3762.756511995702 m\n",
      "2420.0431233621616 m 12697.344206616983 m\n"
     ]
    },
    {
     "name": "stderr",
     "output_type": "stream",
     "text": [
      "t:  40%|██████████████████████████▌                                       | 506/1260 [01:00<01:32,  8.19it/s, now=None]"
     ]
    },
    {
     "name": "stdout",
     "output_type": "stream",
     "text": [
      "2742.4763677307783 m 5470.508015950371 m\n",
      "10657.035783623474 m 3540.9049039712586 m\n"
     ]
    },
    {
     "name": "stderr",
     "output_type": "stream",
     "text": [
      "t:  40%|██████████████████████████▌                                       | 508/1260 [01:00<01:31,  8.23it/s, now=None]"
     ]
    },
    {
     "name": "stdout",
     "output_type": "stream",
     "text": [
      "7461.82720794833 m 1666.902196797919 m\n",
      "5341.64477495957 m 1684.7053255629442 m\n"
     ]
    },
    {
     "name": "stderr",
     "output_type": "stream",
     "text": [
      "t:  40%|██████████████████████████▋                                       | 510/1260 [01:00<01:26,  8.65it/s, now=None]"
     ]
    },
    {
     "name": "stdout",
     "output_type": "stream",
     "text": [
      "8439.035560365348 m 1877.7968342876336 m\n",
      "40415.88316338596 m 2206.6849562037373 m\n"
     ]
    },
    {
     "name": "stderr",
     "output_type": "stream",
     "text": [
      "t:  41%|██████████████████████████▊                                       | 512/1260 [01:00<01:27,  8.52it/s, now=None]"
     ]
    },
    {
     "name": "stdout",
     "output_type": "stream",
     "text": [
      "31464.739680519615 m 4292.426657722974 m\n",
      "7283.454253989456 m 43220.02886943032 m\n"
     ]
    },
    {
     "name": "stderr",
     "output_type": "stream",
     "text": [
      "t:  41%|██████████████████████████▉                                       | 514/1260 [01:01<01:27,  8.57it/s, now=None]"
     ]
    },
    {
     "name": "stdout",
     "output_type": "stream",
     "text": [
      "196492.732984067 m 2875.3592863402832 m\n",
      "36626.69494203888 m 1674.736586996905 m\n"
     ]
    },
    {
     "name": "stderr",
     "output_type": "stream",
     "text": [
      "t:  41%|███████████████████████████                                       | 516/1260 [01:01<01:27,  8.51it/s, now=None]"
     ]
    },
    {
     "name": "stdout",
     "output_type": "stream",
     "text": [
      "8374.20416202738 m 1984.9154104225186 m\n",
      "5476.630636740711 m 815.8360796569136 m\n"
     ]
    },
    {
     "name": "stderr",
     "output_type": "stream",
     "text": [
      "t:  41%|███████████████████████████▏                                      | 518/1260 [01:01<01:26,  8.62it/s, now=None]"
     ]
    },
    {
     "name": "stdout",
     "output_type": "stream",
     "text": [
      "3594.0689500879 m 823.5024190669412 m\n",
      "3211.271247049037 m 919.0542363513998 m\n"
     ]
    },
    {
     "name": "stderr",
     "output_type": "stream",
     "text": [
      "t:  41%|███████████████████████████▏                                      | 520/1260 [01:01<01:26,  8.59it/s, now=None]"
     ]
    },
    {
     "name": "stdout",
     "output_type": "stream",
     "text": [
      "3098.0786282271247 m 704.2374618342367 m\n",
      "3392.194632143993 m 680.6551917718418 m\n"
     ]
    },
    {
     "name": "stderr",
     "output_type": "stream",
     "text": [
      "t:  41%|███████████████████████████▎                                      | 522/1260 [01:02<01:28,  8.36it/s, now=None]"
     ]
    },
    {
     "name": "stdout",
     "output_type": "stream",
     "text": [
      "102556.12885769717 m 633.3575858081585 m\n",
      "3503.783012553276 m 492.07025285289035 m\n"
     ]
    },
    {
     "name": "stderr",
     "output_type": "stream",
     "text": [
      "t:  42%|███████████████████████████▍                                      | 524/1260 [01:02<01:28,  8.35it/s, now=None]"
     ]
    },
    {
     "name": "stdout",
     "output_type": "stream",
     "text": [
      "14414.85094454085 m 862.857670841562 m\n",
      "1234.6342104492592 m 864.036193090033 m\n"
     ]
    },
    {
     "name": "stderr",
     "output_type": "stream",
     "text": [
      "t:  42%|███████████████████████████▌                                      | 526/1260 [01:02<01:25,  8.60it/s, now=None]"
     ]
    },
    {
     "name": "stdout",
     "output_type": "stream",
     "text": [
      "1172.6103655526558 m 1801.1931966897791 m\n",
      "272.1753081785689 m 3326.539543162227 m\n"
     ]
    },
    {
     "name": "stderr",
     "output_type": "stream",
     "text": [
      "t:  42%|███████████████████████████▋                                      | 528/1260 [01:02<01:26,  8.47it/s, now=None]"
     ]
    },
    {
     "name": "stdout",
     "output_type": "stream",
     "text": [
      "3262.062552613359 m 73839.36924564705 m\n",
      "3641.048023200466 m 2355.3868657535468 m\n"
     ]
    },
    {
     "name": "stderr",
     "output_type": "stream",
     "text": [
      "t:  42%|███████████████████████████▊                                      | 530/1260 [01:03<01:25,  8.58it/s, now=None]"
     ]
    },
    {
     "name": "stdout",
     "output_type": "stream",
     "text": [
      "13858.796642444939 m 2579.4795084383777 m\n",
      "3033.7703192583162 m 1379.564688772114 m\n"
     ]
    },
    {
     "name": "stderr",
     "output_type": "stream",
     "text": [
      "t:  42%|███████████████████████████▊                                      | 532/1260 [01:03<01:23,  8.69it/s, now=None]"
     ]
    },
    {
     "name": "stdout",
     "output_type": "stream",
     "text": [
      "1750.6844043324754 m 773.4090957090776 m\n",
      "47171.38555894415 m 707.6955428983297 m\n"
     ]
    },
    {
     "name": "stderr",
     "output_type": "stream",
     "text": [
      "t:  42%|███████████████████████████▉                                      | 534/1260 [01:03<01:23,  8.74it/s, now=None]"
     ]
    },
    {
     "name": "stdout",
     "output_type": "stream",
     "text": [
      "1812.0479397545216 m 1376.5575585221654 m\n",
      "1481.809134648523 m 985.038010920932 m\n"
     ]
    },
    {
     "name": "stderr",
     "output_type": "stream",
     "text": [
      "t:  43%|████████████████████████████                                      | 536/1260 [01:03<01:22,  8.78it/s, now=None]"
     ]
    },
    {
     "name": "stdout",
     "output_type": "stream",
     "text": [
      "3101.5555623567066 m 809.5028343815379 m\n",
      "1995.9392069067367 m 986.1316091087011 m\n"
     ]
    },
    {
     "name": "stderr",
     "output_type": "stream",
     "text": [
      "t:  43%|████████████████████████████▏                                     | 538/1260 [01:03<01:23,  8.61it/s, now=None]"
     ]
    },
    {
     "name": "stdout",
     "output_type": "stream",
     "text": [
      "12537.834184970012 m 1007.8348295245631 m\n",
      "26197.55076220954 m 1602.208967590388 m\n"
     ]
    },
    {
     "name": "stderr",
     "output_type": "stream",
     "text": [
      "t:  43%|████████████████████████████▎                                     | 540/1260 [01:04<01:24,  8.56it/s, now=None]"
     ]
    },
    {
     "name": "stdout",
     "output_type": "stream",
     "text": [
      "17277.495239020216 m 2633.7570258661767 m\n",
      "13964.708279064862 m 1723.5303940992162 m\n"
     ]
    },
    {
     "name": "stderr",
     "output_type": "stream",
     "text": [
      "t:  43%|████████████████████████████▍                                     | 542/1260 [01:04<01:23,  8.58it/s, now=None]"
     ]
    },
    {
     "name": "stdout",
     "output_type": "stream",
     "text": [
      "6198.7767835439545 m 1444.9741333505274 m\n",
      "2505.4191997312328 m 955.4407342555315 m\n"
     ]
    },
    {
     "name": "stderr",
     "output_type": "stream",
     "text": [
      "t:  43%|████████████████████████████▍                                     | 544/1260 [01:04<01:24,  8.43it/s, now=None]"
     ]
    },
    {
     "name": "stdout",
     "output_type": "stream",
     "text": [
      "1642.0804396065748 m 981.2596281482654 m\n",
      "2104.717623753332 m 1001.6146501272277 m\n"
     ]
    },
    {
     "name": "stderr",
     "output_type": "stream",
     "text": [
      "t:  43%|████████████████████████████▌                                     | 546/1260 [01:04<01:24,  8.46it/s, now=None]"
     ]
    },
    {
     "name": "stdout",
     "output_type": "stream",
     "text": [
      "2383.5827532576614 m 1097.5900873169696 m\n",
      "2923.9481588863982 m 735.0060683023287 m\n"
     ]
    },
    {
     "name": "stderr",
     "output_type": "stream",
     "text": [
      "t:  43%|████████████████████████████▋                                     | 548/1260 [01:05<01:23,  8.56it/s, now=None]"
     ]
    },
    {
     "name": "stdout",
     "output_type": "stream",
     "text": [
      "5533.489221127514 m 974.6254692936998 m\n",
      "2582.92685871062 m 1003.1202796092211 m\n"
     ]
    },
    {
     "name": "stderr",
     "output_type": "stream",
     "text": [
      "t:  44%|████████████████████████████▊                                     | 550/1260 [01:05<01:24,  8.40it/s, now=None]"
     ]
    },
    {
     "name": "stdout",
     "output_type": "stream",
     "text": [
      "3108.277763516953 m 1809.7277633715905 m\n",
      "3362.700941144745 m 6345.7970006397845 m\n"
     ]
    },
    {
     "name": "stderr",
     "output_type": "stream",
     "text": [
      "t:  44%|████████████████████████████▉                                     | 552/1260 [01:05<01:23,  8.48it/s, now=None]"
     ]
    },
    {
     "name": "stdout",
     "output_type": "stream",
     "text": [
      "3648.768040328922 m 1087.1055202257578 m\n",
      "3345.5909323822802 m 1657.3352535103033 m\n"
     ]
    },
    {
     "name": "stderr",
     "output_type": "stream",
     "text": [
      "t:  44%|█████████████████████████████                                     | 554/1260 [01:05<01:26,  8.15it/s, now=None]"
     ]
    },
    {
     "name": "stdout",
     "output_type": "stream",
     "text": [
      "2313.077013775831 m 3806.5037189654945 m\n",
      "2037.393690491873 m 1644.9980329617965 m\n"
     ]
    },
    {
     "name": "stderr",
     "output_type": "stream",
     "text": [
      "t:  44%|█████████████████████████████                                     | 556/1260 [01:06<01:23,  8.42it/s, now=None]"
     ]
    },
    {
     "name": "stdout",
     "output_type": "stream",
     "text": [
      "4235.500926980927 m 1485.0242376520523 m\n",
      "3724.720255562597 m 5296.819710944374 m\n"
     ]
    },
    {
     "name": "stderr",
     "output_type": "stream",
     "text": [
      "t:  44%|█████████████████████████████▏                                    | 558/1260 [01:06<01:28,  7.89it/s, now=None]"
     ]
    },
    {
     "name": "stdout",
     "output_type": "stream",
     "text": [
      "2821.8766849981416 m 8246.494888280335 m\n",
      "15999.0996917147 m 2538.2832582987317 m\n"
     ]
    },
    {
     "name": "stderr",
     "output_type": "stream",
     "text": [
      "t:  44%|█████████████████████████████▎                                    | 560/1260 [01:06<01:27,  7.97it/s, now=None]"
     ]
    },
    {
     "name": "stdout",
     "output_type": "stream",
     "text": [
      "16965.07064328596 m 1702.6103028599741 m\n",
      "2889.0060291580294 m 3195.608062303298 m\n"
     ]
    },
    {
     "name": "stderr",
     "output_type": "stream",
     "text": [
      "t:  45%|█████████████████████████████▍                                    | 562/1260 [01:06<01:25,  8.18it/s, now=None]"
     ]
    },
    {
     "name": "stdout",
     "output_type": "stream",
     "text": [
      "4814.597647196937 m 1753.663089699532 m\n",
      "2586.620102691024 m 2930.7831000674396 m\n"
     ]
    },
    {
     "name": "stderr",
     "output_type": "stream",
     "text": [
      "\r",
      "t:  45%|█████████████████████████████▍                                    | 563/1260 [01:06<01:28,  7.90it/s, now=None]"
     ]
    },
    {
     "name": "stdout",
     "output_type": "stream",
     "text": [
      "3684.1160689930416 m 3211.382377936777 m\n",
      "4699.347112057013 m 958.3055948061098 m\n"
     ]
    },
    {
     "name": "stderr",
     "output_type": "stream",
     "text": [
      "t:  45%|█████████████████████████████▋                                    | 566/1260 [01:07<01:25,  8.09it/s, now=None]"
     ]
    },
    {
     "name": "stdout",
     "output_type": "stream",
     "text": [
      "3839.2269011044873 m 942.5497609739575 m\n",
      "6170.329141544715 m 2609.3061569543797 m\n"
     ]
    },
    {
     "name": "stderr",
     "output_type": "stream",
     "text": [
      "t:  45%|█████████████████████████████▊                                    | 568/1260 [01:07<01:20,  8.56it/s, now=None]"
     ]
    },
    {
     "name": "stdout",
     "output_type": "stream",
     "text": [
      "1417.126517761984 m 1555.9445143842227 m\n",
      "1539.5252613275961 m 2638.636301841733 m\n"
     ]
    },
    {
     "name": "stderr",
     "output_type": "stream",
     "text": [
      "t:  45%|█████████████████████████████▊                                    | 570/1260 [01:07<01:22,  8.37it/s, now=None]"
     ]
    },
    {
     "name": "stdout",
     "output_type": "stream",
     "text": [
      "1268.9925686320014 m 6939.734160393518 m\n",
      "3481.009310402634 m 841.9068415794262 m\n"
     ]
    },
    {
     "name": "stderr",
     "output_type": "stream",
     "text": [
      "t:  45%|█████████████████████████████▉                                    | 572/1260 [01:08<01:20,  8.53it/s, now=None]"
     ]
    },
    {
     "name": "stdout",
     "output_type": "stream",
     "text": [
      "27805.015935056723 m 2165.0223859153684 m\n",
      "4620.831096088479 m 965.213865496702 m\n"
     ]
    },
    {
     "name": "stderr",
     "output_type": "stream",
     "text": [
      "t:  46%|██████████████████████████████                                    | 574/1260 [01:08<01:18,  8.77it/s, now=None]"
     ]
    },
    {
     "name": "stdout",
     "output_type": "stream",
     "text": [
      "3169.2242359718543 m 1123.7397864575034 m\n",
      "8433.549875050063 m 1355.9986260901917 m\n"
     ]
    },
    {
     "name": "stderr",
     "output_type": "stream",
     "text": [
      "t:  46%|██████████████████████████████▏                                   | 576/1260 [01:08<01:20,  8.52it/s, now=None]"
     ]
    },
    {
     "name": "stdout",
     "output_type": "stream",
     "text": [
      "1395.5930329423709 m 20857.736464129794 m\n",
      "1043.2906691209264 m 2732.1430765727314 m\n"
     ]
    },
    {
     "name": "stderr",
     "output_type": "stream",
     "text": [
      "t:  46%|██████████████████████████████▎                                   | 578/1260 [01:08<01:21,  8.34it/s, now=None]"
     ]
    },
    {
     "name": "stdout",
     "output_type": "stream",
     "text": [
      "988.2196864448914 m 977.1353558577334 m\n",
      "835.3917691663153 m 677.5641395973106 m\n"
     ]
    },
    {
     "name": "stderr",
     "output_type": "stream",
     "text": [
      "t:  46%|██████████████████████████████▍                                   | 580/1260 [01:08<01:21,  8.36it/s, now=None]"
     ]
    },
    {
     "name": "stdout",
     "output_type": "stream",
     "text": [
      "682.2213578431686 m 1274.64703797217 m\n",
      "1169.115923206852 m 2666.7457734790532 m\n"
     ]
    },
    {
     "name": "stderr",
     "output_type": "stream",
     "text": [
      "t:  46%|██████████████████████████████▍                                   | 582/1260 [01:09<01:20,  8.42it/s, now=None]"
     ]
    },
    {
     "name": "stdout",
     "output_type": "stream",
     "text": [
      "12104.814321489206 m 2119.6848291154106 m\n",
      "6461.115691650639 m 1429.6400517260652 m\n"
     ]
    },
    {
     "name": "stderr",
     "output_type": "stream",
     "text": [
      "t:  46%|██████████████████████████████▌                                   | 584/1260 [01:09<01:16,  8.81it/s, now=None]"
     ]
    },
    {
     "name": "stdout",
     "output_type": "stream",
     "text": [
      "2191.0856828240667 m 1686.2094030586177 m\n",
      "3773.150510216335 m 1957.951332203435 m\n"
     ]
    },
    {
     "name": "stderr",
     "output_type": "stream",
     "text": [
      "t:  47%|██████████████████████████████▋                                   | 586/1260 [01:09<01:17,  8.68it/s, now=None]"
     ]
    },
    {
     "name": "stdout",
     "output_type": "stream",
     "text": [
      "3857.8707561760884 m 1656.9951014442306 m\n",
      "1930.2907079244305 m 1539.9998625289613 m\n"
     ]
    },
    {
     "name": "stderr",
     "output_type": "stream",
     "text": [
      "t:  47%|██████████████████████████████▊                                   | 588/1260 [01:09<01:17,  8.72it/s, now=None]"
     ]
    },
    {
     "name": "stdout",
     "output_type": "stream",
     "text": [
      "4566.619983664511 m 1761.4107589668095 m\n",
      "8345.41779583968 m 3186.8443692004066 m\n"
     ]
    },
    {
     "name": "stderr",
     "output_type": "stream",
     "text": [
      "t:  47%|██████████████████████████████▉                                   | 590/1260 [01:10<01:18,  8.58it/s, now=None]"
     ]
    },
    {
     "name": "stdout",
     "output_type": "stream",
     "text": [
      "2326.143691708796 m 3016.776730678914 m\n",
      "1621.2963742868822 m 2018.9446745199389 m\n"
     ]
    },
    {
     "name": "stderr",
     "output_type": "stream",
     "text": [
      "t:  47%|███████████████████████████████                                   | 592/1260 [01:10<01:15,  8.83it/s, now=None]"
     ]
    },
    {
     "name": "stdout",
     "output_type": "stream",
     "text": [
      "1158.4239171260056 m 4123.076284153827 m\n",
      "1796.9444659158855 m 12135.431878294396 m\n"
     ]
    },
    {
     "name": "stderr",
     "output_type": "stream",
     "text": [
      "t:  47%|███████████████████████████████                                   | 594/1260 [01:10<01:15,  8.79it/s, now=None]"
     ]
    },
    {
     "name": "stdout",
     "output_type": "stream",
     "text": [
      "1771.4826517422764 m 101197.84768245605 m\n",
      "1137.288013053627 m 2565.9864371327503 m\n"
     ]
    },
    {
     "name": "stderr",
     "output_type": "stream",
     "text": [
      "t:  47%|███████████████████████████████▏                                  | 596/1260 [01:10<01:23,  7.98it/s, now=None]"
     ]
    },
    {
     "name": "stdout",
     "output_type": "stream",
     "text": [
      "1341.6579443597925 m 1319.7221944615799 m\n",
      "5021.041692288764 m 953.7312823643023 m\n"
     ]
    },
    {
     "name": "stderr",
     "output_type": "stream",
     "text": [
      "t:  47%|███████████████████████████████▎                                  | 598/1260 [01:11<01:20,  8.27it/s, now=None]"
     ]
    },
    {
     "name": "stdout",
     "output_type": "stream",
     "text": [
      "3984.4141558979536 m 1091.7352482724255 m\n",
      "2587.4482789848666 m 823.2848271242902 m\n"
     ]
    },
    {
     "name": "stderr",
     "output_type": "stream",
     "text": [
      "t:  48%|███████████████████████████████▍                                  | 600/1260 [01:11<01:18,  8.36it/s, now=None]"
     ]
    },
    {
     "name": "stdout",
     "output_type": "stream",
     "text": [
      "1001.0773781792251 m 837.1814380055162 m\n",
      "820.7917454189727 m 836.9855799718023 m\n"
     ]
    },
    {
     "name": "stderr",
     "output_type": "stream",
     "text": [
      "t:  48%|███████████████████████████████▌                                  | 602/1260 [01:11<01:20,  8.22it/s, now=None]"
     ]
    },
    {
     "name": "stdout",
     "output_type": "stream",
     "text": [
      "573.5157503750278 m 631.7426051994252 m\n",
      "841.4552159952981 m 674.5732141485527 m\n"
     ]
    },
    {
     "name": "stderr",
     "output_type": "stream",
     "text": [
      "t:  48%|███████████████████████████████▋                                  | 604/1260 [01:11<01:20,  8.17it/s, now=None]"
     ]
    },
    {
     "name": "stdout",
     "output_type": "stream",
     "text": [
      "805.3100342352067 m 676.4060521948478 m\n",
      "734.2190927839167 m 620.6146040622062 m\n"
     ]
    },
    {
     "name": "stderr",
     "output_type": "stream",
     "text": [
      "t:  48%|███████████████████████████████▋                                  | 606/1260 [01:12<01:19,  8.26it/s, now=None]"
     ]
    },
    {
     "name": "stdout",
     "output_type": "stream",
     "text": [
      "619.2936258429927 m 490.90681130483364 m\n",
      "524.1154089503314 m 462.35171792057923 m\n"
     ]
    },
    {
     "name": "stderr",
     "output_type": "stream",
     "text": [
      "t:  48%|███████████████████████████████▊                                  | 608/1260 [01:12<01:17,  8.36it/s, now=None]"
     ]
    },
    {
     "name": "stdout",
     "output_type": "stream",
     "text": [
      "375.1118730519832 m 390.8978684991567 m\n",
      "346.86397849228524 m 403.3213290871773 m\n"
     ]
    },
    {
     "name": "stderr",
     "output_type": "stream",
     "text": [
      "t:  48%|███████████████████████████████▉                                  | 610/1260 [01:12<01:15,  8.58it/s, now=None]"
     ]
    },
    {
     "name": "stdout",
     "output_type": "stream",
     "text": [
      "351.46310805671214 m 430.47641166638124 m\n",
      "345.0078345092654 m 441.47989380181866 m\n"
     ]
    },
    {
     "name": "stderr",
     "output_type": "stream",
     "text": [
      "t:  49%|████████████████████████████████                                  | 612/1260 [01:12<01:22,  7.84it/s, now=None]"
     ]
    },
    {
     "name": "stdout",
     "output_type": "stream",
     "text": [
      "360.89701137572865 m 465.1745348248834 m\n",
      "354.1889945807214 m 535.2884300202273 m\n"
     ]
    },
    {
     "name": "stderr",
     "output_type": "stream",
     "text": [
      "t:  49%|████████████████████████████████▏                                 | 614/1260 [01:13<01:20,  8.00it/s, now=None]"
     ]
    },
    {
     "name": "stdout",
     "output_type": "stream",
     "text": [
      "312.3910522168915 m 406.4361133635648 m\n",
      "311.968896792609 m 402.63829488632547 m\n"
     ]
    },
    {
     "name": "stderr",
     "output_type": "stream",
     "text": [
      "t:  49%|████████████████████████████████▎                                 | 616/1260 [01:13<01:20,  7.99it/s, now=None]"
     ]
    },
    {
     "name": "stdout",
     "output_type": "stream",
     "text": [
      "324.1542007295702 m 367.88038071554934 m\n",
      "331.0886531297241 m 404.38208866604214 m\n"
     ]
    },
    {
     "name": "stderr",
     "output_type": "stream",
     "text": [
      "t:  49%|████████████████████████████████▎                                 | 618/1260 [01:13<01:16,  8.35it/s, now=None]"
     ]
    },
    {
     "name": "stdout",
     "output_type": "stream",
     "text": [
      "337.5592981238601 m 609.278396630216 m\n",
      "326.40061736783207 m 587.7289662972745 m\n"
     ]
    },
    {
     "name": "stderr",
     "output_type": "stream",
     "text": [
      "t:  49%|████████████████████████████████▍                                 | 620/1260 [01:13<01:18,  8.13it/s, now=None]"
     ]
    },
    {
     "name": "stdout",
     "output_type": "stream",
     "text": [
      "329.7884834021834 m 472.7218505842585 m\n",
      "332.6372076471268 m 370.9193856731842 m\n"
     ]
    },
    {
     "name": "stderr",
     "output_type": "stream",
     "text": [
      "t:  49%|████████████████████████████████▌                                 | 622/1260 [01:14<01:22,  7.74it/s, now=None]"
     ]
    },
    {
     "name": "stdout",
     "output_type": "stream",
     "text": [
      "357.9923947267381 m 397.12135377240594 m\n",
      "354.4371146072257 m 376.7069129073467 m\n"
     ]
    },
    {
     "name": "stderr",
     "output_type": "stream",
     "text": [
      "t:  50%|████████████████████████████████▋                                 | 624/1260 [01:14<01:24,  7.52it/s, now=None]"
     ]
    },
    {
     "name": "stdout",
     "output_type": "stream",
     "text": [
      "362.1483392797679 m 474.4144330825309 m\n",
      "376.9257379443486 m 483.9194578159736 m\n"
     ]
    },
    {
     "name": "stderr",
     "output_type": "stream",
     "text": [
      "t:  50%|████████████████████████████████▊                                 | 626/1260 [01:14<01:17,  8.17it/s, now=None]"
     ]
    },
    {
     "name": "stdout",
     "output_type": "stream",
     "text": [
      "393.6978155353364 m 481.86623570028155 m\n",
      "373.63251383771507 m 339.94300629441904 m\n"
     ]
    },
    {
     "name": "stderr",
     "output_type": "stream",
     "text": [
      "t:  50%|████████████████████████████████▉                                 | 628/1260 [01:14<01:18,  8.06it/s, now=None]"
     ]
    },
    {
     "name": "stdout",
     "output_type": "stream",
     "text": [
      "395.1671951380736 m 361.0776833049368 m\n",
      "441.23806824646397 m 342.28700588729646 m\n"
     ]
    },
    {
     "name": "stderr",
     "output_type": "stream",
     "text": [
      "t:  50%|█████████████████████████████████                                 | 630/1260 [01:15<01:17,  8.17it/s, now=None]"
     ]
    },
    {
     "name": "stdout",
     "output_type": "stream",
     "text": [
      "426.6810614568797 m 285.3107339531519 m\n",
      "546.0624470234794 m 306.3066291920052 m\n"
     ]
    },
    {
     "name": "stderr",
     "output_type": "stream",
     "text": [
      "\r",
      "t:  50%|█████████████████████████████████                                 | 631/1260 [01:15<01:17,  8.12it/s, now=None]"
     ]
    },
    {
     "name": "stdout",
     "output_type": "stream",
     "text": [
      "357.96612719609413 m 418.8467677620276 m\n",
      "404.3924914794311 m 456.391136702458 m\n"
     ]
    },
    {
     "name": "stderr",
     "output_type": "stream",
     "text": [
      "t:  50%|█████████████████████████████████▏                                | 634/1260 [01:15<01:24,  7.42it/s, now=None]"
     ]
    },
    {
     "name": "stdout",
     "output_type": "stream",
     "text": [
      "673.1380405510929 m 526.5993149681169 m\n",
      "668.69040826631 m 498.53823949098904 m\n"
     ]
    },
    {
     "name": "stderr",
     "output_type": "stream",
     "text": [
      "t:  50%|█████████████████████████████████▎                                | 636/1260 [01:15<01:19,  7.88it/s, now=None]"
     ]
    },
    {
     "name": "stdout",
     "output_type": "stream",
     "text": [
      "635.9181211871227 m 520.3198323883129 m\n",
      "596.2429943296347 m 403.208086887291 m\n"
     ]
    },
    {
     "name": "stderr",
     "output_type": "stream",
     "text": [
      "t:  51%|█████████████████████████████████▍                                | 638/1260 [01:16<01:17,  8.01it/s, now=None]"
     ]
    },
    {
     "name": "stdout",
     "output_type": "stream",
     "text": [
      "469.64471370501883 m 347.36877130326116 m\n",
      "426.5438046703064 m 282.6486194702834 m\n"
     ]
    },
    {
     "name": "stderr",
     "output_type": "stream",
     "text": [
      "t:  51%|█████████████████████████████████▌                                | 640/1260 [01:16<01:14,  8.36it/s, now=None]"
     ]
    },
    {
     "name": "stdout",
     "output_type": "stream",
     "text": [
      "390.88020626657016 m 294.38072495519776 m\n",
      "496.25489391965954 m 337.27287825009876 m\n"
     ]
    },
    {
     "name": "stderr",
     "output_type": "stream",
     "text": [
      "t:  51%|█████████████████████████████████▋                                | 642/1260 [01:16<01:12,  8.50it/s, now=None]"
     ]
    },
    {
     "name": "stdout",
     "output_type": "stream",
     "text": [
      "508.0680717512137 m 437.94043849623944 m\n",
      "386.6563540569505 m 469.2040453114798 m\n"
     ]
    },
    {
     "name": "stderr",
     "output_type": "stream",
     "text": [
      "t:  51%|█████████████████████████████████▋                                | 644/1260 [01:16<01:11,  8.68it/s, now=None]"
     ]
    },
    {
     "name": "stdout",
     "output_type": "stream",
     "text": [
      "691.1449041953077 m 497.0323974934578 m\n",
      "598.0021284602357 m 529.8549155646433 m\n"
     ]
    },
    {
     "name": "stderr",
     "output_type": "stream",
     "text": [
      "t:  51%|█████████████████████████████████▊                                | 646/1260 [01:17<01:13,  8.40it/s, now=None]"
     ]
    },
    {
     "name": "stdout",
     "output_type": "stream",
     "text": [
      "552.5450292616707 m 522.5546423787828 m\n",
      "480.0778157678076 m 528.7022481538938 m\n"
     ]
    },
    {
     "name": "stderr",
     "output_type": "stream",
     "text": [
      "t:  51%|█████████████████████████████████▉                                | 648/1260 [01:17<01:12,  8.39it/s, now=None]"
     ]
    },
    {
     "name": "stdout",
     "output_type": "stream",
     "text": [
      "422.6859092249566 m 431.51844752037067 m\n",
      "437.8245298588363 m 453.231474690308 m\n"
     ]
    },
    {
     "name": "stderr",
     "output_type": "stream",
     "text": [
      "t:  52%|██████████████████████████████████                                | 650/1260 [01:17<01:14,  8.24it/s, now=None]"
     ]
    },
    {
     "name": "stdout",
     "output_type": "stream",
     "text": [
      "440.54351148964383 m 443.70115748666393 m\n",
      "419.78587574212526 m 457.9100364118911 m\n"
     ]
    },
    {
     "name": "stderr",
     "output_type": "stream",
     "text": [
      "t:  52%|██████████████████████████████████▏                               | 652/1260 [01:17<01:11,  8.50it/s, now=None]"
     ]
    },
    {
     "name": "stdout",
     "output_type": "stream",
     "text": [
      "422.58296907655614 m 494.1966001326712 m\n",
      "397.7335788970432 m 498.7051259370097 m\n"
     ]
    },
    {
     "name": "stderr",
     "output_type": "stream",
     "text": [
      "t:  52%|██████████████████████████████████▎                               | 654/1260 [01:17<01:11,  8.47it/s, now=None]"
     ]
    },
    {
     "name": "stdout",
     "output_type": "stream",
     "text": [
      "394.5975431008662 m 510.27542959560344 m\n",
      "391.56591330515175 m 565.1943156076795 m\n"
     ]
    },
    {
     "name": "stderr",
     "output_type": "stream",
     "text": [
      "t:  52%|██████████████████████████████████▎                               | 656/1260 [01:18<01:11,  8.48it/s, now=None]"
     ]
    },
    {
     "name": "stdout",
     "output_type": "stream",
     "text": [
      "401.3577173725074 m 525.0813979152874 m\n",
      "385.2232887435251 m 618.8363104784097 m\n"
     ]
    },
    {
     "name": "stderr",
     "output_type": "stream",
     "text": [
      "t:  52%|██████████████████████████████████▍                               | 658/1260 [01:18<01:10,  8.54it/s, now=None]"
     ]
    },
    {
     "name": "stdout",
     "output_type": "stream",
     "text": [
      "411.35313195181976 m 571.2680349420625 m\n",
      "418.0638232245359 m 643.6943558984677 m\n"
     ]
    },
    {
     "name": "stderr",
     "output_type": "stream",
     "text": [
      "t:  52%|██████████████████████████████████▌                               | 660/1260 [01:18<01:08,  8.76it/s, now=None]"
     ]
    },
    {
     "name": "stdout",
     "output_type": "stream",
     "text": [
      "425.6342692510609 m 504.6384152915645 m\n",
      "427.2003569751186 m 527.7394364325746 m\n"
     ]
    },
    {
     "name": "stderr",
     "output_type": "stream",
     "text": [
      "t:  53%|██████████████████████████████████▋                               | 662/1260 [01:18<01:09,  8.67it/s, now=None]"
     ]
    },
    {
     "name": "stdout",
     "output_type": "stream",
     "text": [
      "456.68916686430765 m 516.6734888275753 m\n",
      "478.013011652015 m 547.4896626223339 m\n"
     ]
    },
    {
     "name": "stderr",
     "output_type": "stream",
     "text": [
      "t:  53%|██████████████████████████████████▊                               | 664/1260 [01:19<01:09,  8.60it/s, now=None]"
     ]
    },
    {
     "name": "stdout",
     "output_type": "stream",
     "text": [
      "522.25159671636 m 546.7832242062499 m\n",
      "524.1449901597556 m 548.8764222391472 m\n"
     ]
    },
    {
     "name": "stderr",
     "output_type": "stream",
     "text": [
      "t:  53%|██████████████████████████████████▉                               | 666/1260 [01:19<01:10,  8.41it/s, now=None]"
     ]
    },
    {
     "name": "stdout",
     "output_type": "stream",
     "text": [
      "515.1862051263128 m 555.2820668854098 m\n",
      "537.748098229406 m 563.699063159337 m\n"
     ]
    },
    {
     "name": "stderr",
     "output_type": "stream",
     "text": [
      "t:  53%|██████████████████████████████████▉                               | 668/1260 [01:19<01:09,  8.57it/s, now=None]"
     ]
    },
    {
     "name": "stdout",
     "output_type": "stream",
     "text": [
      "495.6621109570064 m 518.0387415093047 m\n",
      "529.7434330669654 m 552.5496223687273 m\n"
     ]
    },
    {
     "name": "stderr",
     "output_type": "stream",
     "text": [
      "t:  53%|███████████████████████████████████                               | 670/1260 [01:19<01:09,  8.54it/s, now=None]"
     ]
    },
    {
     "name": "stdout",
     "output_type": "stream",
     "text": [
      "533.6751804440926 m 565.4582047372874 m\n",
      "566.2049397531487 m 588.9871080625182 m\n"
     ]
    },
    {
     "name": "stderr",
     "output_type": "stream",
     "text": [
      "t:  53%|███████████████████████████████████▏                              | 672/1260 [01:20<01:09,  8.51it/s, now=None]"
     ]
    },
    {
     "name": "stdout",
     "output_type": "stream",
     "text": [
      "590.5936813872236 m 585.4372695391784 m\n",
      "656.6902170661511 m 560.6144500608353 m\n"
     ]
    },
    {
     "name": "stderr",
     "output_type": "stream",
     "text": [
      "t:  53%|███████████████████████████████████▎                              | 674/1260 [01:20<01:08,  8.50it/s, now=None]"
     ]
    },
    {
     "name": "stdout",
     "output_type": "stream",
     "text": [
      "591.7252780910858 m 528.7463524894448 m\n",
      "577.1508225034162 m 535.7208094025258 m\n"
     ]
    },
    {
     "name": "stderr",
     "output_type": "stream",
     "text": [
      "t:  54%|███████████████████████████████████▍                              | 676/1260 [01:20<01:06,  8.72it/s, now=None]"
     ]
    },
    {
     "name": "stdout",
     "output_type": "stream",
     "text": [
      "518.4908772315737 m 519.2590931545087 m\n",
      "501.2095557897557 m 494.2837060303999 m\n"
     ]
    },
    {
     "name": "stderr",
     "output_type": "stream",
     "text": [
      "t:  54%|███████████████████████████████████▌                              | 678/1260 [01:20<01:07,  8.65it/s, now=None]"
     ]
    },
    {
     "name": "stdout",
     "output_type": "stream",
     "text": [
      "490.69170693606713 m 476.84077253855133 m\n",
      "477.73299455676823 m 494.8147487548248 m\n"
     ]
    },
    {
     "name": "stderr",
     "output_type": "stream",
     "text": [
      "t:  54%|███████████████████████████████████▌                              | 680/1260 [01:21<01:06,  8.69it/s, now=None]"
     ]
    },
    {
     "name": "stdout",
     "output_type": "stream",
     "text": [
      "475.94151095073437 m 520.3255685430904 m\n",
      "463.5413039418107 m 550.2417552246387 m\n"
     ]
    },
    {
     "name": "stderr",
     "output_type": "stream",
     "text": [
      "t:  54%|███████████████████████████████████▋                              | 682/1260 [01:21<01:07,  8.62it/s, now=None]"
     ]
    },
    {
     "name": "stdout",
     "output_type": "stream",
     "text": [
      "464.2233933651158 m 555.0379638192106 m\n",
      "447.4141468941751 m 542.3165948512413 m\n"
     ]
    },
    {
     "name": "stderr",
     "output_type": "stream",
     "text": [
      "t:  54%|███████████████████████████████████▊                              | 684/1260 [01:21<01:05,  8.73it/s, now=None]"
     ]
    },
    {
     "name": "stdout",
     "output_type": "stream",
     "text": [
      "450.7955813468976 m 487.33076427848147 m\n",
      "450.55710194965087 m 490.0751527445022 m\n"
     ]
    },
    {
     "name": "stderr",
     "output_type": "stream",
     "text": [
      "t:  54%|███████████████████████████████████▉                              | 686/1260 [01:21<01:07,  8.50it/s, now=None]"
     ]
    },
    {
     "name": "stdout",
     "output_type": "stream",
     "text": [
      "262.29514703804824 m 515.4981994339207 m\n",
      "425.9017571983625 m 487.7616410784253 m\n"
     ]
    },
    {
     "name": "stderr",
     "output_type": "stream",
     "text": [
      "t:  55%|████████████████████████████████████                              | 688/1260 [01:21<01:07,  8.42it/s, now=None]"
     ]
    },
    {
     "name": "stdout",
     "output_type": "stream",
     "text": [
      "270.64529595158734 m 454.5827522338268 m\n",
      "394.7867850043471 m 458.53532717507323 m\n"
     ]
    },
    {
     "name": "stderr",
     "output_type": "stream",
     "text": [
      "t:  55%|████████████████████████████████████▏                             | 690/1260 [01:22<01:09,  8.20it/s, now=None]"
     ]
    },
    {
     "name": "stdout",
     "output_type": "stream",
     "text": [
      "271.67372967345517 m 466.04044842511416 m\n",
      "411.3330673015748 m 502.33577576141516 m\n"
     ]
    },
    {
     "name": "stderr",
     "output_type": "stream",
     "text": [
      "t:  55%|████████████████████████████████████▏                             | 692/1260 [01:22<01:07,  8.38it/s, now=None]"
     ]
    },
    {
     "name": "stdout",
     "output_type": "stream",
     "text": [
      "385.5362896099718 m 496.3309449246608 m\n",
      "395.17310146418407 m 491.4602109785196 m\n"
     ]
    },
    {
     "name": "stderr",
     "output_type": "stream",
     "text": [
      "t:  55%|████████████████████████████████████▎                             | 694/1260 [01:22<01:08,  8.30it/s, now=None]"
     ]
    },
    {
     "name": "stdout",
     "output_type": "stream",
     "text": [
      "380.38111273936073 m 509.5389355765644 m\n",
      "385.6083097234499 m 504.63043998847155 m\n"
     ]
    },
    {
     "name": "stderr",
     "output_type": "stream",
     "text": [
      "t:  55%|████████████████████████████████████▍                             | 696/1260 [01:22<01:06,  8.49it/s, now=None]"
     ]
    },
    {
     "name": "stdout",
     "output_type": "stream",
     "text": [
      "392.81696111146823 m 512.8865385209865 m\n",
      "389.27950686374714 m 440.8054392611467 m\n"
     ]
    },
    {
     "name": "stderr",
     "output_type": "stream",
     "text": [
      "t:  55%|████████████████████████████████████▌                             | 698/1260 [01:23<01:05,  8.55it/s, now=None]"
     ]
    },
    {
     "name": "stdout",
     "output_type": "stream",
     "text": [
      "394.3487536317822 m 458.982113621199 m\n",
      "382.8837445087735 m 444.46243228918905 m\n"
     ]
    },
    {
     "name": "stderr",
     "output_type": "stream",
     "text": [
      "t:  56%|████████████████████████████████████▋                             | 700/1260 [01:23<01:05,  8.55it/s, now=None]"
     ]
    },
    {
     "name": "stdout",
     "output_type": "stream",
     "text": [
      "364.63400051136006 m 438.2498955148399 m\n",
      "387.87047077605797 m 411.6062271139717 m\n"
     ]
    },
    {
     "name": "stderr",
     "output_type": "stream",
     "text": [
      "t:  56%|████████████████████████████████████▊                             | 702/1260 [01:23<01:06,  8.43it/s, now=None]"
     ]
    },
    {
     "name": "stdout",
     "output_type": "stream",
     "text": [
      "385.6973856534299 m 400.7234410152391 m\n",
      "392.9828304089855 m 405.6284879177092 m\n"
     ]
    },
    {
     "name": "stderr",
     "output_type": "stream",
     "text": [
      "t:  56%|████████████████████████████████████▉                             | 704/1260 [01:23<01:06,  8.38it/s, now=None]"
     ]
    },
    {
     "name": "stdout",
     "output_type": "stream",
     "text": [
      "405.9460408081374 m 414.49245095696796 m\n",
      "408.7976208834124 m 415.83319238094117 m\n"
     ]
    },
    {
     "name": "stderr",
     "output_type": "stream",
     "text": [
      "t:  56%|████████████████████████████████████▉                             | 706/1260 [01:24<01:04,  8.54it/s, now=None]"
     ]
    },
    {
     "name": "stdout",
     "output_type": "stream",
     "text": [
      "421.61710782758956 m 391.5131490309186 m\n",
      "423.7010369484744 m 377.6684639926312 m\n"
     ]
    },
    {
     "name": "stderr",
     "output_type": "stream",
     "text": [
      "t:  56%|█████████████████████████████████████                             | 708/1260 [01:24<01:05,  8.39it/s, now=None]"
     ]
    },
    {
     "name": "stdout",
     "output_type": "stream",
     "text": [
      "431.8709694228926 m 398.73377333896246 m\n",
      "427.871162021363 m 374.26810443348717 m\n"
     ]
    },
    {
     "name": "stderr",
     "output_type": "stream",
     "text": [
      "t:  56%|█████████████████████████████████████▏                            | 710/1260 [01:24<01:02,  8.77it/s, now=None]"
     ]
    },
    {
     "name": "stdout",
     "output_type": "stream",
     "text": [
      "450.11411099693504 m 390.9307873075495 m\n",
      "404.83280637083834 m 381.40433972654336 m\n"
     ]
    },
    {
     "name": "stderr",
     "output_type": "stream",
     "text": [
      "t:  57%|█████████████████████████████████████▎                            | 712/1260 [01:24<01:04,  8.49it/s, now=None]"
     ]
    },
    {
     "name": "stdout",
     "output_type": "stream",
     "text": [
      "388.899153580631 m 378.6074641971548 m\n",
      "402.2295626721282 m 384.3318797652088 m\n"
     ]
    },
    {
     "name": "stderr",
     "output_type": "stream",
     "text": [
      "t:  57%|█████████████████████████████████████▍                            | 714/1260 [01:25<01:03,  8.63it/s, now=None]"
     ]
    },
    {
     "name": "stdout",
     "output_type": "stream",
     "text": [
      "398.87917848452213 m 409.12476461370636 m\n",
      "413.67645996694404 m 430.2305594907579 m\n"
     ]
    },
    {
     "name": "stderr",
     "output_type": "stream",
     "text": [
      "t:  57%|█████████████████████████████████████▌                            | 716/1260 [01:25<01:04,  8.38it/s, now=None]"
     ]
    },
    {
     "name": "stdout",
     "output_type": "stream",
     "text": [
      "405.10560579417245 m 425.32042524814494 m\n",
      "391.4463762937957 m 419.1443839398897 m\n"
     ]
    },
    {
     "name": "stderr",
     "output_type": "stream",
     "text": [
      "t:  57%|█████████████████████████████████████▌                            | 718/1260 [01:25<01:02,  8.62it/s, now=None]"
     ]
    },
    {
     "name": "stdout",
     "output_type": "stream",
     "text": [
      "379.75173745974485 m 436.1351787876087 m\n",
      "380.84594264320566 m 465.81370145703465 m\n"
     ]
    },
    {
     "name": "stderr",
     "output_type": "stream",
     "text": [
      "t:  57%|█████████████████████████████████████▋                            | 720/1260 [01:25<01:02,  8.68it/s, now=None]"
     ]
    },
    {
     "name": "stdout",
     "output_type": "stream",
     "text": [
      "403.7702099464857 m 460.1079953650579 m\n",
      "403.7733717684218 m 482.60020111701164 m\n"
     ]
    },
    {
     "name": "stderr",
     "output_type": "stream",
     "text": [
      "t:  57%|█████████████████████████████████████▊                            | 722/1260 [01:25<01:03,  8.51it/s, now=None]"
     ]
    },
    {
     "name": "stdout",
     "output_type": "stream",
     "text": [
      "406.80580827699623 m 467.93292354767897 m\n",
      "432.6854131148711 m 461.07522000627677 m\n"
     ]
    },
    {
     "name": "stderr",
     "output_type": "stream",
     "text": [
      "t:  57%|█████████████████████████████████████▉                            | 724/1260 [01:26<01:03,  8.39it/s, now=None]"
     ]
    },
    {
     "name": "stdout",
     "output_type": "stream",
     "text": [
      "443.2389402938941 m 490.93720726235284 m\n",
      "407.2420253870584 m 457.4730676371706 m\n"
     ]
    },
    {
     "name": "stderr",
     "output_type": "stream",
     "text": [
      "t:  58%|██████████████████████████████████████                            | 726/1260 [01:26<01:03,  8.42it/s, now=None]"
     ]
    },
    {
     "name": "stdout",
     "output_type": "stream",
     "text": [
      "423.7954751234151 m 429.2704295588515 m\n",
      "439.6759872179428 m 471.4685726371573 m\n"
     ]
    },
    {
     "name": "stderr",
     "output_type": "stream",
     "text": [
      "t:  58%|██████████████████████████████████████▏                           | 728/1260 [01:26<01:03,  8.44it/s, now=None]"
     ]
    },
    {
     "name": "stdout",
     "output_type": "stream",
     "text": [
      "416.44172175628177 m 465.7609964921611 m\n",
      "423.3806013148202 m 443.33380410455686 m\n"
     ]
    },
    {
     "name": "stderr",
     "output_type": "stream",
     "text": [
      "t:  58%|██████████████████████████████████████▏                           | 730/1260 [01:26<01:01,  8.55it/s, now=None]"
     ]
    },
    {
     "name": "stdout",
     "output_type": "stream",
     "text": [
      "413.51379163585074 m 443.1424743981474 m\n",
      "416.07480283374576 m 476.1403818774884 m\n"
     ]
    },
    {
     "name": "stderr",
     "output_type": "stream",
     "text": [
      "t:  58%|██████████████████████████████████████▎                           | 732/1260 [01:27<01:02,  8.40it/s, now=None]"
     ]
    },
    {
     "name": "stdout",
     "output_type": "stream",
     "text": [
      "411.0565239232395 m 482.218459192926 m\n",
      "434.17514921421 m 450.09651313707417 m\n"
     ]
    },
    {
     "name": "stderr",
     "output_type": "stream",
     "text": [
      "t:  58%|██████████████████████████████████████▍                           | 734/1260 [01:27<01:01,  8.53it/s, now=None]"
     ]
    },
    {
     "name": "stdout",
     "output_type": "stream",
     "text": [
      "420.1946969550957 m 411.76478520734815 m\n",
      "408.6690102740017 m 376.910181432354 m\n"
     ]
    },
    {
     "name": "stderr",
     "output_type": "stream",
     "text": [
      "t:  58%|██████████████████████████████████████▌                           | 736/1260 [01:27<01:01,  8.52it/s, now=None]"
     ]
    },
    {
     "name": "stdout",
     "output_type": "stream",
     "text": [
      "406.68252258834906 m 368.9506354409191 m\n",
      "439.95686952525523 m 387.08981659076835 m\n"
     ]
    },
    {
     "name": "stderr",
     "output_type": "stream",
     "text": [
      "t:  59%|██████████████████████████████████████▋                           | 738/1260 [01:27<01:01,  8.53it/s, now=None]"
     ]
    },
    {
     "name": "stdout",
     "output_type": "stream",
     "text": [
      "431.34861354824704 m 369.9764477323545 m\n",
      "448.85033717601925 m 396.9086552815239 m\n"
     ]
    },
    {
     "name": "stderr",
     "output_type": "stream",
     "text": [
      "t:  59%|██████████████████████████████████████▊                           | 740/1260 [01:28<01:00,  8.61it/s, now=None]"
     ]
    },
    {
     "name": "stdout",
     "output_type": "stream",
     "text": [
      "449.17887355675066 m 394.448452266375 m\n",
      "447.87741021175566 m 408.3815811763309 m\n"
     ]
    },
    {
     "name": "stderr",
     "output_type": "stream",
     "text": [
      "t:  59%|██████████████████████████████████████▊                           | 742/1260 [01:28<01:00,  8.51it/s, now=None]"
     ]
    },
    {
     "name": "stdout",
     "output_type": "stream",
     "text": [
      "449.5757914270893 m 394.7643841041692 m\n",
      "459.57500192827456 m 392.30108853111847 m\n"
     ]
    },
    {
     "name": "stderr",
     "output_type": "stream",
     "text": [
      "t:  59%|██████████████████████████████████████▉                           | 744/1260 [01:28<00:59,  8.72it/s, now=None]"
     ]
    },
    {
     "name": "stdout",
     "output_type": "stream",
     "text": [
      "433.9596770045094 m 377.7644434655397 m\n",
      "429.25679656098123 m 361.6908524170207 m\n"
     ]
    },
    {
     "name": "stderr",
     "output_type": "stream",
     "text": [
      "t:  59%|███████████████████████████████████████                           | 746/1260 [01:28<01:00,  8.55it/s, now=None]"
     ]
    },
    {
     "name": "stdout",
     "output_type": "stream",
     "text": [
      "428.9106757097319 m 355.6621268518552 m\n",
      "447.0110489380716 m 361.5546286891166 m\n"
     ]
    },
    {
     "name": "stderr",
     "output_type": "stream",
     "text": [
      "t:  59%|███████████████████████████████████████▏                          | 748/1260 [01:29<01:03,  8.09it/s, now=None]"
     ]
    },
    {
     "name": "stdout",
     "output_type": "stream",
     "text": [
      "460.3752811250598 m 380.8588416805837 m\n",
      "462.6321034120507 m 393.20443810240266 m\n"
     ]
    },
    {
     "name": "stderr",
     "output_type": "stream",
     "text": [
      "t:  60%|███████████████████████████████████████▎                          | 750/1260 [01:29<01:03,  8.02it/s, now=None]"
     ]
    },
    {
     "name": "stdout",
     "output_type": "stream",
     "text": [
      "465.6337955072267 m 414.1098641190038 m\n",
      "461.5466021576851 m 436.79951651835506 m\n"
     ]
    },
    {
     "name": "stderr",
     "output_type": "stream",
     "text": [
      "t:  60%|███████████████████████████████████████▍                          | 752/1260 [01:29<01:02,  8.12it/s, now=None]"
     ]
    },
    {
     "name": "stdout",
     "output_type": "stream",
     "text": [
      "470.305384916586 m 462.74207439021745 m\n",
      "462.2764876795276 m 493.49943951481026 m\n"
     ]
    },
    {
     "name": "stderr",
     "output_type": "stream",
     "text": [
      "t:  60%|███████████████████████████████████████▍                          | 754/1260 [01:29<01:02,  8.08it/s, now=None]"
     ]
    },
    {
     "name": "stdout",
     "output_type": "stream",
     "text": [
      "468.42067842416253 m 541.7566890658754 m\n",
      "426.3368472712836 m 537.1767488924353 m\n"
     ]
    },
    {
     "name": "stderr",
     "output_type": "stream",
     "text": [
      "t:  60%|███████████████████████████████████████▌                          | 756/1260 [01:30<01:00,  8.27it/s, now=None]"
     ]
    },
    {
     "name": "stdout",
     "output_type": "stream",
     "text": [
      "409.7036763306706 m 535.4215550754371 m\n",
      "410.78834394829437 m 490.07617143096627 m\n"
     ]
    },
    {
     "name": "stderr",
     "output_type": "stream",
     "text": [
      "t:  60%|███████████████████████████████████████▋                          | 758/1260 [01:30<01:00,  8.23it/s, now=None]"
     ]
    },
    {
     "name": "stdout",
     "output_type": "stream",
     "text": [
      "423.173279505305 m 543.5100324949352 m\n",
      "429.38899939325097 m 553.5106780558857 m\n"
     ]
    },
    {
     "name": "stderr",
     "output_type": "stream",
     "text": [
      "t:  60%|███████████████████████████████████████▊                          | 760/1260 [01:30<01:00,  8.28it/s, now=None]"
     ]
    },
    {
     "name": "stdout",
     "output_type": "stream",
     "text": [
      "420.9211996266797 m 526.4860255112444 m\n",
      "439.640300729059 m 544.5699120508336 m\n"
     ]
    },
    {
     "name": "stderr",
     "output_type": "stream",
     "text": [
      "t:  60%|███████████████████████████████████████▉                          | 762/1260 [01:30<01:03,  7.90it/s, now=None]"
     ]
    },
    {
     "name": "stdout",
     "output_type": "stream",
     "text": [
      "433.30922997302173 m 522.4843292388312 m\n",
      "419.4032525530907 m 510.9600105457823 m\n"
     ]
    },
    {
     "name": "stderr",
     "output_type": "stream",
     "text": [
      "t:  61%|████████████████████████████████████████                          | 764/1260 [01:31<01:01,  8.00it/s, now=None]"
     ]
    },
    {
     "name": "stdout",
     "output_type": "stream",
     "text": [
      "407.6736522309154 m 547.5601483982184 m\n",
      "410.8529127943399 m 597.4665058517477 m\n"
     ]
    },
    {
     "name": "stderr",
     "output_type": "stream",
     "text": [
      "t:  61%|████████████████████████████████████████                          | 766/1260 [01:31<01:00,  8.19it/s, now=None]"
     ]
    },
    {
     "name": "stdout",
     "output_type": "stream",
     "text": [
      "411.80127621634927 m 613.796138155898 m\n",
      "406.4624112835017 m 615.5984885859937 m\n"
     ]
    },
    {
     "name": "stderr",
     "output_type": "stream",
     "text": [
      "t:  61%|████████████████████████████████████████▏                         | 768/1260 [01:31<00:59,  8.29it/s, now=None]"
     ]
    },
    {
     "name": "stdout",
     "output_type": "stream",
     "text": [
      "411.4142768367571 m 575.197517570591 m\n",
      "418.17803369993277 m 599.9194395648641 m\n"
     ]
    },
    {
     "name": "stderr",
     "output_type": "stream",
     "text": [
      "t:  61%|████████████████████████████████████████▎                         | 770/1260 [01:31<00:57,  8.51it/s, now=None]"
     ]
    },
    {
     "name": "stdout",
     "output_type": "stream",
     "text": [
      "411.97499118803665 m 613.0975478481108 m\n",
      "422.19460593407086 m 525.8830765031562 m\n"
     ]
    },
    {
     "name": "stderr",
     "output_type": "stream",
     "text": [
      "t:  61%|████████████████████████████████████████▍                         | 772/1260 [01:31<00:57,  8.54it/s, now=None]"
     ]
    },
    {
     "name": "stdout",
     "output_type": "stream",
     "text": [
      "407.01635046095146 m 479.839603899831 m\n",
      "428.82704915406555 m 484.98011518607666 m\n"
     ]
    },
    {
     "name": "stderr",
     "output_type": "stream",
     "text": [
      "t:  61%|████████████████████████████████████████▌                         | 774/1260 [01:32<00:57,  8.53it/s, now=None]"
     ]
    },
    {
     "name": "stdout",
     "output_type": "stream",
     "text": [
      "451.39989381529483 m 495.16532805488623 m\n",
      "475.3184719326011 m 503.0509602668854 m\n"
     ]
    },
    {
     "name": "stderr",
     "output_type": "stream",
     "text": [
      "t:  62%|████████████████████████████████████████▋                         | 776/1260 [01:32<00:58,  8.34it/s, now=None]"
     ]
    },
    {
     "name": "stdout",
     "output_type": "stream",
     "text": [
      "478.4611028741297 m 494.670442601704 m\n",
      "483.43104839372586 m 547.7474413325452 m\n"
     ]
    },
    {
     "name": "stderr",
     "output_type": "stream",
     "text": [
      "t:  62%|████████████████████████████████████████▊                         | 778/1260 [01:32<00:56,  8.59it/s, now=None]"
     ]
    },
    {
     "name": "stdout",
     "output_type": "stream",
     "text": [
      "486.8047041219543 m 499.56740451898906 m\n",
      "513.4976379298472 m 509.04867370056184 m\n"
     ]
    },
    {
     "name": "stderr",
     "output_type": "stream",
     "text": [
      "t:  62%|████████████████████████████████████████▊                         | 780/1260 [01:32<00:55,  8.65it/s, now=None]"
     ]
    },
    {
     "name": "stdout",
     "output_type": "stream",
     "text": [
      "526.8249391136085 m 483.5421208617642 m\n",
      "550.1224008206208 m 486.34363873153814 m\n"
     ]
    },
    {
     "name": "stderr",
     "output_type": "stream",
     "text": [
      "t:  62%|████████████████████████████████████████▉                         | 782/1260 [01:33<00:55,  8.54it/s, now=None]"
     ]
    },
    {
     "name": "stdout",
     "output_type": "stream",
     "text": [
      "581.3886611041816 m 499.1098380242093 m\n",
      "594.5423516885189 m 494.6568649755988 m\n"
     ]
    },
    {
     "name": "stderr",
     "output_type": "stream",
     "text": [
      "t:  62%|█████████████████████████████████████████                         | 784/1260 [01:33<00:56,  8.39it/s, now=None]"
     ]
    },
    {
     "name": "stdout",
     "output_type": "stream",
     "text": [
      "614.4069703048045 m 593.87810488166 m\n",
      "620.2902592600391 m 562.2452799333881 m\n"
     ]
    },
    {
     "name": "stderr",
     "output_type": "stream",
     "text": [
      "t:  62%|█████████████████████████████████████████▏                        | 786/1260 [01:33<00:55,  8.58it/s, now=None]"
     ]
    },
    {
     "name": "stdout",
     "output_type": "stream",
     "text": [
      "666.453391133262 m 581.1636744172132 m\n",
      "547.6295484159152 m 602.765855683753 m\n"
     ]
    },
    {
     "name": "stderr",
     "output_type": "stream",
     "text": [
      "t:  63%|█████████████████████████████████████████▎                        | 788/1260 [01:33<00:54,  8.64it/s, now=None]"
     ]
    },
    {
     "name": "stdout",
     "output_type": "stream",
     "text": [
      "758.6656308471121 m 553.6834646210334 m\n",
      "690.7157405575265 m 683.9557987439097 m\n"
     ]
    },
    {
     "name": "stderr",
     "output_type": "stream",
     "text": [
      "t:  63%|█████████████████████████████████████████▍                        | 790/1260 [01:34<00:53,  8.77it/s, now=None]"
     ]
    },
    {
     "name": "stdout",
     "output_type": "stream",
     "text": [
      "726.4045843894078 m 905.8483289306494 m\n",
      "699.5118422224883 m 1001.8729622636006 m\n"
     ]
    },
    {
     "name": "stderr",
     "output_type": "stream",
     "text": [
      "t:  63%|█████████████████████████████████████████▍                        | 792/1260 [01:34<00:54,  8.56it/s, now=None]"
     ]
    },
    {
     "name": "stdout",
     "output_type": "stream",
     "text": [
      "677.5137252888687 m 921.0719495359824 m\n",
      "725.7391238144373 m 819.6866934647182 m\n"
     ]
    },
    {
     "name": "stderr",
     "output_type": "stream",
     "text": [
      "t:  63%|█████████████████████████████████████████▌                        | 794/1260 [01:34<00:54,  8.59it/s, now=None]"
     ]
    },
    {
     "name": "stdout",
     "output_type": "stream",
     "text": [
      "713.6822776506051 m 932.3183784730348 m\n",
      "680.7530419332822 m 715.6245351887122 m\n"
     ]
    },
    {
     "name": "stderr",
     "output_type": "stream",
     "text": [
      "t:  63%|█████████████████████████████████████████▋                        | 796/1260 [01:34<00:54,  8.55it/s, now=None]"
     ]
    },
    {
     "name": "stdout",
     "output_type": "stream",
     "text": [
      "632.7841268625026 m 720.4880745494722 m\n",
      "601.5494598416452 m 651.4968602089428 m\n"
     ]
    },
    {
     "name": "stderr",
     "output_type": "stream",
     "text": [
      "t:  63%|█████████████████████████████████████████▊                        | 798/1260 [01:34<00:54,  8.50it/s, now=None]"
     ]
    },
    {
     "name": "stdout",
     "output_type": "stream",
     "text": [
      "588.1951017976 m 674.0804093116767 m\n",
      "554.8759210164824 m 691.4867293188141 m\n"
     ]
    },
    {
     "name": "stderr",
     "output_type": "stream",
     "text": [
      "t:  63%|█████████████████████████████████████████▉                        | 800/1260 [01:35<00:54,  8.52it/s, now=None]"
     ]
    },
    {
     "name": "stdout",
     "output_type": "stream",
     "text": [
      "543.3259481615047 m 716.1733286087948 m\n",
      "563.1701788849472 m 760.1223095802188 m\n"
     ]
    },
    {
     "name": "stderr",
     "output_type": "stream",
     "text": [
      "t:  64%|██████████████████████████████████████████                        | 802/1260 [01:35<00:53,  8.58it/s, now=None]"
     ]
    },
    {
     "name": "stdout",
     "output_type": "stream",
     "text": [
      "575.6232670054453 m 779.9911461032038 m\n",
      "581.2185996674505 m 735.5204751013633 m\n"
     ]
    },
    {
     "name": "stderr",
     "output_type": "stream",
     "text": [
      "t:  64%|██████████████████████████████████████████                        | 804/1260 [01:35<00:52,  8.63it/s, now=None]"
     ]
    },
    {
     "name": "stdout",
     "output_type": "stream",
     "text": [
      "590.8776495853696 m 740.6739831044622 m\n",
      "551.381746609443 m 700.7602253733329 m\n"
     ]
    },
    {
     "name": "stderr",
     "output_type": "stream",
     "text": [
      "t:  64%|██████████████████████████████████████████▏                       | 806/1260 [01:35<00:53,  8.56it/s, now=None]"
     ]
    },
    {
     "name": "stdout",
     "output_type": "stream",
     "text": [
      "511.02983636898364 m 524.9162872056723 m\n",
      "471.21262211097667 m 457.79370860967526 m\n"
     ]
    },
    {
     "name": "stderr",
     "output_type": "stream",
     "text": [
      "t:  64%|██████████████████████████████████████████▎                       | 808/1260 [01:36<00:53,  8.40it/s, now=None]"
     ]
    },
    {
     "name": "stdout",
     "output_type": "stream",
     "text": [
      "464.0445933985823 m 473.0190291333613 m\n",
      "456.3146107316423 m 479.55926304109596 m\n"
     ]
    },
    {
     "name": "stderr",
     "output_type": "stream",
     "text": [
      "t:  64%|██████████████████████████████████████████▍                       | 810/1260 [01:36<00:53,  8.49it/s, now=None]"
     ]
    },
    {
     "name": "stdout",
     "output_type": "stream",
     "text": [
      "445.2970308398106 m 445.074068689703 m\n",
      "497.89238865969804 m 470.7964337184116 m\n"
     ]
    },
    {
     "name": "stderr",
     "output_type": "stream",
     "text": [
      "t:  64%|██████████████████████████████████████████▌                       | 812/1260 [01:36<00:53,  8.45it/s, now=None]"
     ]
    },
    {
     "name": "stdout",
     "output_type": "stream",
     "text": [
      "490.31929408575223 m 459.7873770572173 m\n",
      "506.9959953583865 m 405.5494373691506 m\n"
     ]
    },
    {
     "name": "stderr",
     "output_type": "stream",
     "text": [
      "t:  65%|██████████████████████████████████████████▋                       | 814/1260 [01:36<00:52,  8.51it/s, now=None]"
     ]
    },
    {
     "name": "stdout",
     "output_type": "stream",
     "text": [
      "531.4644250060446 m 433.30324200757445 m\n",
      "562.8285941947328 m 433.4576306827366 m\n"
     ]
    },
    {
     "name": "stderr",
     "output_type": "stream",
     "text": [
      "t:  65%|██████████████████████████████████████████▋                       | 816/1260 [01:37<00:53,  8.37it/s, now=None]"
     ]
    },
    {
     "name": "stdout",
     "output_type": "stream",
     "text": [
      "555.2573460949342 m 443.07048823440175 m\n",
      "583.9437358920015 m 423.50500915437954 m\n"
     ]
    },
    {
     "name": "stderr",
     "output_type": "stream",
     "text": [
      "t:  65%|██████████████████████████████████████████▊                       | 818/1260 [01:37<00:50,  8.68it/s, now=None]"
     ]
    },
    {
     "name": "stdout",
     "output_type": "stream",
     "text": [
      "539.4931866747987 m 408.486062783823 m\n",
      "459.6945951799008 m 362.4596349626885 m\n"
     ]
    },
    {
     "name": "stderr",
     "output_type": "stream",
     "text": [
      "t:  65%|██████████████████████████████████████████▉                       | 820/1260 [01:37<00:52,  8.45it/s, now=None]"
     ]
    },
    {
     "name": "stdout",
     "output_type": "stream",
     "text": [
      "433.2035767007798 m 350.91801116239026 m\n",
      "464.981302913536 m 367.59742940792296 m\n"
     ]
    },
    {
     "name": "stderr",
     "output_type": "stream",
     "text": [
      "t:  65%|███████████████████████████████████████████                       | 822/1260 [01:37<00:51,  8.43it/s, now=None]"
     ]
    },
    {
     "name": "stdout",
     "output_type": "stream",
     "text": [
      "483.58805343650647 m 378.92681188730734 m\n",
      "521.2787242315063 m 388.79104720098013 m\n"
     ]
    },
    {
     "name": "stderr",
     "output_type": "stream",
     "text": [
      "t:  65%|███████████████████████████████████████████▏                      | 824/1260 [01:38<00:52,  8.37it/s, now=None]"
     ]
    },
    {
     "name": "stdout",
     "output_type": "stream",
     "text": [
      "560.1834477301495 m 404.1447237776917 m\n",
      "552.5629305037137 m 404.73837948603557 m\n"
     ]
    },
    {
     "name": "stderr",
     "output_type": "stream",
     "text": [
      "t:  66%|███████████████████████████████████████████▎                      | 826/1260 [01:38<00:50,  8.54it/s, now=None]"
     ]
    },
    {
     "name": "stdout",
     "output_type": "stream",
     "text": [
      "541.1601097510588 m 433.0548103323126 m\n",
      "514.4898374678235 m 438.2670471447112 m\n"
     ]
    },
    {
     "name": "stderr",
     "output_type": "stream",
     "text": [
      "t:  66%|███████████████████████████████████████████▎                      | 828/1260 [01:38<00:51,  8.46it/s, now=None]"
     ]
    },
    {
     "name": "stdout",
     "output_type": "stream",
     "text": [
      "470.7170705529888 m 421.8461298205655 m\n",
      "450.7992870820745 m 410.3628082074028 m\n"
     ]
    },
    {
     "name": "stderr",
     "output_type": "stream",
     "text": [
      "t:  66%|███████████████████████████████████████████▍                      | 830/1260 [01:38<00:49,  8.67it/s, now=None]"
     ]
    },
    {
     "name": "stdout",
     "output_type": "stream",
     "text": [
      "468.17135825373026 m 426.950304711534 m\n",
      "434.5684943613254 m 409.0232870301497 m\n"
     ]
    },
    {
     "name": "stderr",
     "output_type": "stream",
     "text": [
      "t:  66%|███████████████████████████████████████████▌                      | 832/1260 [01:38<00:51,  8.36it/s, now=None]"
     ]
    },
    {
     "name": "stdout",
     "output_type": "stream",
     "text": [
      "450.68952310033205 m 439.5134665599881 m\n",
      "435.52870083923284 m 435.3182097330734 m\n"
     ]
    },
    {
     "name": "stderr",
     "output_type": "stream",
     "text": [
      "t:  66%|███████████████████████████████████████████▋                      | 834/1260 [01:39<00:53,  8.02it/s, now=None]"
     ]
    },
    {
     "name": "stdout",
     "output_type": "stream",
     "text": [
      "425.627752267261 m 429.2901059043763 m\n",
      "420.8272744441469 m 436.39104648416804 m\n"
     ]
    },
    {
     "name": "stderr",
     "output_type": "stream",
     "text": [
      "t:  66%|███████████████████████████████████████████▊                      | 836/1260 [01:39<00:52,  8.11it/s, now=None]"
     ]
    },
    {
     "name": "stdout",
     "output_type": "stream",
     "text": [
      "407.6758957428567 m 468.3849150684269 m\n",
      "416.31205422100993 m 463.8461572479644 m\n"
     ]
    },
    {
     "name": "stderr",
     "output_type": "stream",
     "text": [
      "t:  67%|███████████████████████████████████████████▉                      | 838/1260 [01:39<00:50,  8.44it/s, now=None]"
     ]
    },
    {
     "name": "stdout",
     "output_type": "stream",
     "text": [
      "425.8279617824241 m 493.13027288448393 m\n",
      "453.58372748126095 m 502.4100834072445 m\n"
     ]
    },
    {
     "name": "stderr",
     "output_type": "stream",
     "text": [
      "t:  67%|████████████████████████████████████████████                      | 840/1260 [01:39<00:51,  8.12it/s, now=None]"
     ]
    },
    {
     "name": "stdout",
     "output_type": "stream",
     "text": [
      "450.56828880059504 m 531.5512495373704 m\n",
      "463.25443399920385 m 526.9173707031548 m\n"
     ]
    },
    {
     "name": "stderr",
     "output_type": "stream",
     "text": [
      "\r",
      "t:  67%|████████████████████████████████████████████                      | 841/1260 [01:40<00:51,  8.11it/s, now=None]"
     ]
    },
    {
     "name": "stdout",
     "output_type": "stream",
     "text": [
      "470.5780009305333 m 525.0132082251163 m\n",
      "461.14857473949763 m 561.5567847099682 m\n"
     ]
    },
    {
     "name": "stderr",
     "output_type": "stream",
     "text": [
      "t:  67%|████████████████████████████████████████████▏                     | 844/1260 [01:40<00:52,  7.91it/s, now=None]"
     ]
    },
    {
     "name": "stdout",
     "output_type": "stream",
     "text": [
      "519.0181978878005 m 553.0005062422488 m\n",
      "518.6139506814544 m 584.900608652832 m\n"
     ]
    },
    {
     "name": "stderr",
     "output_type": "stream",
     "text": [
      "t:  67%|████████████████████████████████████████████▎                     | 846/1260 [01:40<00:50,  8.21it/s, now=None]"
     ]
    },
    {
     "name": "stdout",
     "output_type": "stream",
     "text": [
      "581.6940421981217 m 648.6176799803196 m\n",
      "617.0202411898762 m 693.2524753318638 m\n"
     ]
    },
    {
     "name": "stderr",
     "output_type": "stream",
     "text": [
      "t:  67%|████████████████████████████████████████████▍                     | 848/1260 [01:40<00:50,  8.17it/s, now=None]"
     ]
    },
    {
     "name": "stdout",
     "output_type": "stream",
     "text": [
      "544.4168113564292 m 683.9756825945321 m\n",
      "558.2163100711875 m 635.5747917217965 m\n"
     ]
    },
    {
     "name": "stderr",
     "output_type": "stream",
     "text": [
      "t:  67%|████████████████████████████████████████████▌                     | 850/1260 [01:41<00:49,  8.37it/s, now=None]"
     ]
    },
    {
     "name": "stdout",
     "output_type": "stream",
     "text": [
      "659.0209336470775 m 667.9476224815234 m\n",
      "665.4691695019089 m 614.1019407754628 m\n"
     ]
    },
    {
     "name": "stderr",
     "output_type": "stream",
     "text": [
      "t:  68%|████████████████████████████████████████████▋                     | 852/1260 [01:41<00:48,  8.39it/s, now=None]"
     ]
    },
    {
     "name": "stdout",
     "output_type": "stream",
     "text": [
      "707.8040620685092 m 553.8700294196316 m\n",
      "731.4449279713731 m 549.761021659302 m\n"
     ]
    },
    {
     "name": "stderr",
     "output_type": "stream",
     "text": [
      "t:  68%|████████████████████████████████████████████▋                     | 854/1260 [01:41<00:47,  8.62it/s, now=None]"
     ]
    },
    {
     "name": "stdout",
     "output_type": "stream",
     "text": [
      "785.8759255556963 m 576.6531116332343 m\n",
      "743.9405482385431 m 557.7805833920171 m\n"
     ]
    },
    {
     "name": "stderr",
     "output_type": "stream",
     "text": [
      "t:  68%|████████████████████████████████████████████▊                     | 856/1260 [01:41<00:48,  8.34it/s, now=None]"
     ]
    },
    {
     "name": "stdout",
     "output_type": "stream",
     "text": [
      "802.5961144861182 m 552.0453292911454 m\n",
      "800.1585284966176 m 558.1632673583399 m\n"
     ]
    },
    {
     "name": "stderr",
     "output_type": "stream",
     "text": [
      "t:  68%|████████████████████████████████████████████▉                     | 858/1260 [01:42<00:47,  8.42it/s, now=None]"
     ]
    },
    {
     "name": "stdout",
     "output_type": "stream",
     "text": [
      "810.3779052774742 m 563.1274811300505 m\n",
      "779.840611574544 m 592.204432658658 m\n"
     ]
    },
    {
     "name": "stderr",
     "output_type": "stream",
     "text": [
      "t:  68%|█████████████████████████████████████████████                     | 860/1260 [01:42<00:48,  8.18it/s, now=None]"
     ]
    },
    {
     "name": "stdout",
     "output_type": "stream",
     "text": [
      "786.0051497906336 m 531.0287662170072 m\n",
      "767.6994618165309 m 452.5267084925195 m\n"
     ]
    },
    {
     "name": "stderr",
     "output_type": "stream",
     "text": [
      "t:  68%|█████████████████████████████████████████████▏                    | 862/1260 [01:42<00:47,  8.34it/s, now=None]"
     ]
    },
    {
     "name": "stdout",
     "output_type": "stream",
     "text": [
      "718.6708884578793 m 487.70718692450254 m\n",
      "662.8823744810403 m 478.2679888386091 m\n"
     ]
    },
    {
     "name": "stderr",
     "output_type": "stream",
     "text": [
      "t:  69%|█████████████████████████████████████████████▎                    | 864/1260 [01:42<00:48,  8.09it/s, now=None]"
     ]
    },
    {
     "name": "stdout",
     "output_type": "stream",
     "text": [
      "687.6607710769755 m 478.42956768297546 m\n",
      "698.1308332719547 m 531.311489049186 m\n"
     ]
    },
    {
     "name": "stderr",
     "output_type": "stream",
     "text": [
      "t:  69%|█████████████████████████████████████████████▎                    | 866/1260 [01:43<00:48,  8.20it/s, now=None]"
     ]
    },
    {
     "name": "stdout",
     "output_type": "stream",
     "text": [
      "781.8731290066944 m 529.271478114408 m\n",
      "778.7324802541967 m 554.3299137958471 m\n"
     ]
    },
    {
     "name": "stderr",
     "output_type": "stream",
     "text": [
      "t:  69%|█████████████████████████████████████████████▍                    | 868/1260 [01:43<00:48,  8.06it/s, now=None]"
     ]
    },
    {
     "name": "stdout",
     "output_type": "stream",
     "text": [
      "723.098262075312 m 517.8809764428923 m\n",
      "748.7496054933524 m 558.3477610524434 m\n"
     ]
    },
    {
     "name": "stderr",
     "output_type": "stream",
     "text": [
      "t:  69%|█████████████████████████████████████████████▌                    | 870/1260 [01:43<00:47,  8.27it/s, now=None]"
     ]
    },
    {
     "name": "stdout",
     "output_type": "stream",
     "text": [
      "718.9580465352062 m 554.0689414246053 m\n",
      "386.7135401815048 m 763.1754829157956 m\n"
     ]
    },
    {
     "name": "stderr",
     "output_type": "stream",
     "text": [
      "t:  69%|█████████████████████████████████████████████▋                    | 872/1260 [01:43<00:46,  8.39it/s, now=None]"
     ]
    },
    {
     "name": "stdout",
     "output_type": "stream",
     "text": [
      "616.785867833303 m 966.2588681910865 m\n",
      "626.0228781180629 m 913.8407743597231 m\n"
     ]
    },
    {
     "name": "stderr",
     "output_type": "stream",
     "text": [
      "t:  69%|█████████████████████████████████████████████▊                    | 874/1260 [01:44<00:46,  8.36it/s, now=None]"
     ]
    },
    {
     "name": "stdout",
     "output_type": "stream",
     "text": [
      "655.2762232450475 m 984.9059873888365 m\n",
      "626.3097610488295 m 943.5947480898799 m\n"
     ]
    },
    {
     "name": "stderr",
     "output_type": "stream",
     "text": [
      "t:  70%|█████████████████████████████████████████████▉                    | 876/1260 [01:44<00:46,  8.33it/s, now=None]"
     ]
    },
    {
     "name": "stdout",
     "output_type": "stream",
     "text": [
      "691.3907745473632 m 938.2938297991767 m\n",
      "671.6777703409298 m 772.7433683585868 m\n"
     ]
    },
    {
     "name": "stderr",
     "output_type": "stream",
     "text": [
      "t:  70%|█████████████████████████████████████████████▉                    | 878/1260 [01:44<00:45,  8.44it/s, now=None]"
     ]
    },
    {
     "name": "stdout",
     "output_type": "stream",
     "text": [
      "620.9623030284149 m 733.2435227482518 m\n",
      "644.7967585623778 m 711.8962930266531 m\n"
     ]
    },
    {
     "name": "stderr",
     "output_type": "stream",
     "text": [
      "t:  70%|██████████████████████████████████████████████                    | 880/1260 [01:44<00:47,  8.08it/s, now=None]"
     ]
    },
    {
     "name": "stdout",
     "output_type": "stream",
     "text": [
      "710.80700120661 m 788.2437189184861 m\n",
      "742.3530473968714 m 708.4300386398439 m\n"
     ]
    },
    {
     "name": "stderr",
     "output_type": "stream",
     "text": [
      "t:  70%|██████████████████████████████████████████████▏                   | 882/1260 [01:45<00:47,  7.94it/s, now=None]"
     ]
    },
    {
     "name": "stdout",
     "output_type": "stream",
     "text": [
      "739.2416355939639 m 672.8989256361185 m\n",
      "818.8531088870418 m 822.9094246924784 m\n"
     ]
    },
    {
     "name": "stderr",
     "output_type": "stream",
     "text": [
      "t:  70%|██████████████████████████████████████████████▎                   | 884/1260 [01:45<00:48,  7.70it/s, now=None]"
     ]
    },
    {
     "name": "stdout",
     "output_type": "stream",
     "text": [
      "869.911359997997 m 1223.233887615098 m\n",
      "898.4001704575702 m 1536.8170394829058 m\n"
     ]
    },
    {
     "name": "stderr",
     "output_type": "stream",
     "text": [
      "t:  70%|██████████████████████████████████████████████▍                   | 886/1260 [01:45<00:46,  8.03it/s, now=None]"
     ]
    },
    {
     "name": "stdout",
     "output_type": "stream",
     "text": [
      "1051.04794028774 m 1043.2827824948781 m\n",
      "912.823804819039 m 730.6241526247286 m\n"
     ]
    },
    {
     "name": "stderr",
     "output_type": "stream",
     "text": [
      "\r",
      "t:  70%|██████████████████████████████████████████████▍                   | 887/1260 [01:45<00:46,  7.95it/s, now=None]"
     ]
    },
    {
     "name": "stdout",
     "output_type": "stream",
     "text": [
      "941.1962566311598 m 769.3879371097108 m\n",
      "1008.6649936194425 m 776.7274419484185 m\n"
     ]
    },
    {
     "name": "stderr",
     "output_type": "stream",
     "text": [
      "t:  71%|██████████████████████████████████████████████▌                   | 890/1260 [01:46<00:49,  7.51it/s, now=None]"
     ]
    },
    {
     "name": "stdout",
     "output_type": "stream",
     "text": [
      "1013.2266372805714 m 719.7982383339323 m\n",
      "976.4142841140833 m 694.2576623903652 m\n"
     ]
    },
    {
     "name": "stderr",
     "output_type": "stream",
     "text": [
      "t:  71%|██████████████████████████████████████████████▋                   | 892/1260 [01:46<00:46,  7.95it/s, now=None]"
     ]
    },
    {
     "name": "stdout",
     "output_type": "stream",
     "text": [
      "1029.4288980027784 m 703.4751389170182 m\n",
      "1173.0851687437657 m 713.8937462090294 m\n"
     ]
    },
    {
     "name": "stderr",
     "output_type": "stream",
     "text": [
      "t:  71%|██████████████████████████████████████████████▊                   | 894/1260 [01:46<00:44,  8.23it/s, now=None]"
     ]
    },
    {
     "name": "stdout",
     "output_type": "stream",
     "text": [
      "1126.1031398241598 m 796.8583374970736 m\n",
      "1100.140056495057 m 774.5553406784339 m\n"
     ]
    },
    {
     "name": "stderr",
     "output_type": "stream",
     "text": [
      "t:  71%|██████████████████████████████████████████████▉                   | 896/1260 [01:46<00:47,  7.59it/s, now=None]"
     ]
    },
    {
     "name": "stdout",
     "output_type": "stream",
     "text": [
      "1028.4346811219145 m 688.4418606976546 m\n",
      "968.2154675584379 m 555.5753272674226 m\n"
     ]
    },
    {
     "name": "stderr",
     "output_type": "stream",
     "text": [
      "t:  71%|███████████████████████████████████████████████                   | 898/1260 [01:47<00:47,  7.64it/s, now=None]"
     ]
    },
    {
     "name": "stdout",
     "output_type": "stream",
     "text": [
      "2329.351127741161 m 525.8199566902294 m\n",
      "2134.307543802258 m 498.9995260294908 m\n"
     ]
    },
    {
     "name": "stderr",
     "output_type": "stream",
     "text": [
      "t:  71%|███████████████████████████████████████████████▏                  | 900/1260 [01:47<00:45,  7.91it/s, now=None]"
     ]
    },
    {
     "name": "stdout",
     "output_type": "stream",
     "text": [
      "1944.298347475404 m 512.0823107960078 m\n",
      "2018.2263881119436 m 510.1339434911622 m\n"
     ]
    },
    {
     "name": "stderr",
     "output_type": "stream",
     "text": [
      "t:  72%|███████████████████████████████████████████████▏                  | 902/1260 [01:47<00:43,  8.29it/s, now=None]"
     ]
    },
    {
     "name": "stdout",
     "output_type": "stream",
     "text": [
      "1435.0089255782807 m 508.2929313057427 m\n",
      "986.3223773885325 m 524.4662639320441 m\n"
     ]
    },
    {
     "name": "stderr",
     "output_type": "stream",
     "text": [
      "t:  72%|███████████████████████████████████████████████▎                  | 904/1260 [01:47<00:41,  8.53it/s, now=None]"
     ]
    },
    {
     "name": "stdout",
     "output_type": "stream",
     "text": [
      "1025.7857671497047 m 502.5640662076553 m\n",
      "943.5940283354603 m 550.821441826274 m\n"
     ]
    },
    {
     "name": "stderr",
     "output_type": "stream",
     "text": [
      "t:  72%|███████████████████████████████████████████████▍                  | 906/1260 [01:48<00:41,  8.53it/s, now=None]"
     ]
    },
    {
     "name": "stdout",
     "output_type": "stream",
     "text": [
      "931.7872185511972 m 555.6842214719703 m\n",
      "724.221705858486 m 583.7128077609171 m\n"
     ]
    },
    {
     "name": "stderr",
     "output_type": "stream",
     "text": [
      "t:  72%|███████████████████████████████████████████████▌                  | 908/1260 [01:48<00:41,  8.44it/s, now=None]"
     ]
    },
    {
     "name": "stdout",
     "output_type": "stream",
     "text": [
      "622.7177959680998 m 626.6779634209779 m\n",
      "623.2498287765868 m 595.0509520861673 m\n"
     ]
    },
    {
     "name": "stderr",
     "output_type": "stream",
     "text": [
      "t:  72%|███████████████████████████████████████████████▋                  | 910/1260 [01:48<00:42,  8.30it/s, now=None]"
     ]
    },
    {
     "name": "stdout",
     "output_type": "stream",
     "text": [
      "527.493717788122 m 500.33928529539634 m\n",
      "505.57193701735537 m 498.89921724902297 m\n"
     ]
    },
    {
     "name": "stderr",
     "output_type": "stream",
     "text": [
      "t:  72%|███████████████████████████████████████████████▊                  | 912/1260 [01:48<00:41,  8.38it/s, now=None]"
     ]
    },
    {
     "name": "stdout",
     "output_type": "stream",
     "text": [
      "481.55163553821933 m 487.70534168069895 m\n",
      "481.83641266956283 m 484.20099404363395 m\n"
     ]
    },
    {
     "name": "stderr",
     "output_type": "stream",
     "text": [
      "t:  73%|███████████████████████████████████████████████▉                  | 914/1260 [01:49<00:42,  8.15it/s, now=None]"
     ]
    },
    {
     "name": "stdout",
     "output_type": "stream",
     "text": [
      "502.39167594061166 m 527.7938525865438 m\n",
      "386.94329460627677 m 560.2985281853702 m\n"
     ]
    },
    {
     "name": "stderr",
     "output_type": "stream",
     "text": [
      "t:  73%|███████████████████████████████████████████████▉                  | 916/1260 [01:49<00:41,  8.22it/s, now=None]"
     ]
    },
    {
     "name": "stdout",
     "output_type": "stream",
     "text": [
      "357.7151665604822 m 620.2381012576558 m\n",
      "506.85137915402896 m 699.6370016385855 m\n"
     ]
    },
    {
     "name": "stderr",
     "output_type": "stream",
     "text": [
      "\r",
      "t:  73%|████████████████████████████████████████████████                  | 917/1260 [01:49<00:46,  7.30it/s, now=None]"
     ]
    },
    {
     "name": "stdout",
     "output_type": "stream",
     "text": [
      "528.7541762848756 m 726.1572715551664 m\n",
      "553.9984231477736 m 998.2526503233373 m\n"
     ]
    },
    {
     "name": "stderr",
     "output_type": "stream",
     "text": [
      "t:  73%|████████████████████████████████████████████████▏                 | 920/1260 [01:49<00:41,  8.17it/s, now=None]"
     ]
    },
    {
     "name": "stdout",
     "output_type": "stream",
     "text": [
      "557.0662586900307 m 739.3786447689095 m\n",
      "616.9192132504319 m 699.4665281678411 m\n"
     ]
    },
    {
     "name": "stderr",
     "output_type": "stream",
     "text": [
      "t:  73%|████████████████████████████████████████████████▎                 | 922/1260 [01:50<00:41,  8.12it/s, now=None]"
     ]
    },
    {
     "name": "stdout",
     "output_type": "stream",
     "text": [
      "604.7073015914017 m 641.2105635568104 m\n",
      "645.6286166471585 m 606.7580007685048 m\n"
     ]
    },
    {
     "name": "stderr",
     "output_type": "stream",
     "text": [
      "t:  73%|████████████████████████████████████████████████▍                 | 924/1260 [01:50<00:41,  8.09it/s, now=None]"
     ]
    },
    {
     "name": "stdout",
     "output_type": "stream",
     "text": [
      "639.0813733452422 m 585.0776412517388 m\n",
      "710.4274884895821 m 539.7543993934897 m\n"
     ]
    },
    {
     "name": "stderr",
     "output_type": "stream",
     "text": [
      "t:  73%|████████████████████████████████████████████████▌                 | 926/1260 [01:50<00:41,  8.15it/s, now=None]"
     ]
    },
    {
     "name": "stdout",
     "output_type": "stream",
     "text": [
      "710.4201991650973 m 553.5064070890513 m\n",
      "643.8593733334931 m 543.5523442848523 m\n"
     ]
    },
    {
     "name": "stderr",
     "output_type": "stream",
     "text": [
      "t:  74%|████████████████████████████████████████████████▌                 | 928/1260 [01:50<00:40,  8.26it/s, now=None]"
     ]
    },
    {
     "name": "stdout",
     "output_type": "stream",
     "text": [
      "677.7981955525478 m 540.5200051877889 m\n",
      "657.4533149868932 m 540.6878099468868 m\n"
     ]
    },
    {
     "name": "stderr",
     "output_type": "stream",
     "text": [
      "t:  74%|████████████████████████████████████████████████▋                 | 930/1260 [01:51<00:40,  8.18it/s, now=None]"
     ]
    },
    {
     "name": "stdout",
     "output_type": "stream",
     "text": [
      "662.751240936178 m 494.8208151789296 m\n",
      "677.1954881557745 m 462.5001865882966 m\n"
     ]
    },
    {
     "name": "stderr",
     "output_type": "stream",
     "text": [
      "t:  74%|████████████████████████████████████████████████▊                 | 932/1260 [01:51<00:43,  7.56it/s, now=None]"
     ]
    },
    {
     "name": "stdout",
     "output_type": "stream",
     "text": [
      "696.2622920748461 m 430.53513039303857 m\n",
      "665.5122482467197 m 424.93315239908856 m\n"
     ]
    },
    {
     "name": "stderr",
     "output_type": "stream",
     "text": [
      "t:  74%|████████████████████████████████████████████████▉                 | 934/1260 [01:51<00:41,  7.83it/s, now=None]"
     ]
    },
    {
     "name": "stdout",
     "output_type": "stream",
     "text": [
      "644.2959923478872 m 452.3426786714855 m\n",
      "597.6986201709946 m 456.2725775783152 m\n"
     ]
    },
    {
     "name": "stderr",
     "output_type": "stream",
     "text": [
      "t:  74%|█████████████████████████████████████████████████                 | 936/1260 [01:51<00:40,  8.09it/s, now=None]"
     ]
    },
    {
     "name": "stdout",
     "output_type": "stream",
     "text": [
      "591.4175115608039 m 437.0598922843265 m\n",
      "575.3259880926978 m 435.09368902966736 m\n"
     ]
    },
    {
     "name": "stderr",
     "output_type": "stream",
     "text": [
      "t:  74%|█████████████████████████████████████████████████▏                | 938/1260 [01:52<00:39,  8.16it/s, now=None]"
     ]
    },
    {
     "name": "stdout",
     "output_type": "stream",
     "text": [
      "548.3848324289803 m 480.8102160171601 m\n",
      "588.258073717917 m 480.45441178047923 m\n"
     ]
    },
    {
     "name": "stderr",
     "output_type": "stream",
     "text": [
      "t:  75%|█████████████████████████████████████████████████▏                | 940/1260 [01:52<00:38,  8.24it/s, now=None]"
     ]
    },
    {
     "name": "stdout",
     "output_type": "stream",
     "text": [
      "555.344765709032 m 490.69099655142986 m\n",
      "545.0060235852908 m 515.5792198557797 m\n"
     ]
    },
    {
     "name": "stderr",
     "output_type": "stream",
     "text": [
      "t:  75%|█████████████████████████████████████████████████▎                | 942/1260 [01:52<00:37,  8.58it/s, now=None]"
     ]
    },
    {
     "name": "stdout",
     "output_type": "stream",
     "text": [
      "569.7670858953214 m 497.00039409606524 m\n",
      "570.8079146115301 m 531.5326753990014 m\n"
     ]
    },
    {
     "name": "stderr",
     "output_type": "stream",
     "text": [
      "t:  75%|█████████████████████████████████████████████████▍                | 944/1260 [01:52<00:37,  8.36it/s, now=None]"
     ]
    },
    {
     "name": "stdout",
     "output_type": "stream",
     "text": [
      "601.9096850579808 m 522.9991459275672 m\n",
      "631.1669203982242 m 510.2581431053283 m\n"
     ]
    },
    {
     "name": "stderr",
     "output_type": "stream",
     "text": [
      "t:  75%|█████████████████████████████████████████████████▌                | 946/1260 [01:53<00:38,  8.17it/s, now=None]"
     ]
    },
    {
     "name": "stdout",
     "output_type": "stream",
     "text": [
      "642.5758751718281 m 536.0825186361418 m\n",
      "655.5343220298745 m 567.1798423789305 m\n"
     ]
    },
    {
     "name": "stderr",
     "output_type": "stream",
     "text": [
      "t:  75%|█████████████████████████████████████████████████▋                | 948/1260 [01:53<00:38,  8.16it/s, now=None]"
     ]
    },
    {
     "name": "stdout",
     "output_type": "stream",
     "text": [
      "627.1948442605819 m 597.5678606615307 m\n",
      "797.475414890652 m 622.073454636215 m\n"
     ]
    },
    {
     "name": "stderr",
     "output_type": "stream",
     "text": [
      "t:  75%|█████████████████████████████████████████████████▊                | 950/1260 [01:53<00:36,  8.43it/s, now=None]"
     ]
    },
    {
     "name": "stdout",
     "output_type": "stream",
     "text": [
      "922.4890647789497 m 720.9817995763963 m\n",
      "629.2792676448568 m 752.3818913573876 m\n"
     ]
    },
    {
     "name": "stderr",
     "output_type": "stream",
     "text": [
      "t:  76%|█████████████████████████████████████████████████▊                | 952/1260 [01:53<00:35,  8.61it/s, now=None]"
     ]
    },
    {
     "name": "stdout",
     "output_type": "stream",
     "text": [
      "6169.1262596321385 m 846.6443508072991 m\n",
      "2019.9111082368786 m 860.7131005732316 m\n"
     ]
    },
    {
     "name": "stderr",
     "output_type": "stream",
     "text": [
      "\r",
      "t:  76%|█████████████████████████████████████████████████▉                | 953/1260 [01:53<00:38,  8.00it/s, now=None]"
     ]
    },
    {
     "name": "stdout",
     "output_type": "stream",
     "text": [
      "996.2564671582475 m 1060.8015814507987 m\n",
      "1067.374748539147 m 935.6472083157529 m\n"
     ]
    },
    {
     "name": "stderr",
     "output_type": "stream",
     "text": [
      "t:  76%|██████████████████████████████████████████████████                | 956/1260 [01:54<00:39,  7.74it/s, now=None]"
     ]
    },
    {
     "name": "stdout",
     "output_type": "stream",
     "text": [
      "2356.6741637190003 m 938.4219924258518 m\n",
      "1152.623771473106 m 687.761461492536 m\n"
     ]
    },
    {
     "name": "stderr",
     "output_type": "stream",
     "text": [
      "t:  76%|██████████████████████████████████████████████████▏               | 958/1260 [01:54<00:36,  8.23it/s, now=None]"
     ]
    },
    {
     "name": "stdout",
     "output_type": "stream",
     "text": [
      "2856.22303681626 m 689.1356837641409 m\n",
      "218.44626101129253 m 794.2094690074998 m\n"
     ]
    },
    {
     "name": "stderr",
     "output_type": "stream",
     "text": [
      "t:  76%|██████████████████████████████████████████████████▎               | 960/1260 [01:54<00:36,  8.21it/s, now=None]"
     ]
    },
    {
     "name": "stdout",
     "output_type": "stream",
     "text": [
      "142.98256033922357 m 831.2110671056221 m\n",
      "155.37276202550242 m 828.5094140391917 m\n"
     ]
    },
    {
     "name": "stderr",
     "output_type": "stream",
     "text": [
      "t:  76%|██████████████████████████████████████████████████▍               | 962/1260 [01:55<00:35,  8.32it/s, now=None]"
     ]
    },
    {
     "name": "stdout",
     "output_type": "stream",
     "text": [
      "997.6076124254387 m 846.7458034831955 m\n",
      "194.20117508218033 m 1476.5329868399672 m\n"
     ]
    },
    {
     "name": "stderr",
     "output_type": "stream",
     "text": [
      "t:  77%|██████████████████████████████████████████████████▍               | 964/1260 [01:55<00:34,  8.48it/s, now=None]"
     ]
    },
    {
     "name": "stdout",
     "output_type": "stream",
     "text": [
      "243.87683733279127 m 1939.3695342332032 m\n",
      "2178.5139269337656 m 4439.727053923428 m\n"
     ]
    },
    {
     "name": "stderr",
     "output_type": "stream",
     "text": [
      "t:  77%|██████████████████████████████████████████████████▌               | 966/1260 [01:55<00:35,  8.26it/s, now=None]"
     ]
    },
    {
     "name": "stdout",
     "output_type": "stream",
     "text": [
      "1381.2096318459817 m 1238.025477074673 m\n",
      "1383.2479509030366 m 2876.4456034188333 m\n"
     ]
    },
    {
     "name": "stderr",
     "output_type": "stream",
     "text": [
      "t:  77%|██████████████████████████████████████████████████▋               | 968/1260 [01:55<00:34,  8.42it/s, now=None]"
     ]
    },
    {
     "name": "stdout",
     "output_type": "stream",
     "text": [
      "1704.6502425128035 m 4558.207118498879 m\n",
      "1122.712233929874 m 31326.898003019178 m\n"
     ]
    },
    {
     "name": "stderr",
     "output_type": "stream",
     "text": [
      "t:  77%|██████████████████████████████████████████████████▊               | 970/1260 [01:55<00:34,  8.29it/s, now=None]"
     ]
    },
    {
     "name": "stdout",
     "output_type": "stream",
     "text": [
      "850.0994805223767 m 7214.2398220578025 m\n",
      "995.5906164571659 m 10790.15723758099 m\n"
     ]
    },
    {
     "name": "stderr",
     "output_type": "stream",
     "text": [
      "t:  77%|██████████████████████████████████████████████████▉               | 972/1260 [01:56<00:34,  8.41it/s, now=None]"
     ]
    },
    {
     "name": "stdout",
     "output_type": "stream",
     "text": [
      "838.1357678634 m 2716.0859408029546 m\n",
      "868.1623197339222 m 2851.2423403166276 m\n"
     ]
    },
    {
     "name": "stderr",
     "output_type": "stream",
     "text": [
      "t:  77%|███████████████████████████████████████████████████               | 974/1260 [01:56<00:34,  8.30it/s, now=None]"
     ]
    },
    {
     "name": "stdout",
     "output_type": "stream",
     "text": [
      "1109.3314573726805 m 5277.01893004888 m\n",
      "2614.256542930766 m 866.3350730934948 m\n"
     ]
    },
    {
     "name": "stderr",
     "output_type": "stream",
     "text": [
      "t:  77%|███████████████████████████████████████████████████               | 976/1260 [01:56<00:33,  8.51it/s, now=None]"
     ]
    },
    {
     "name": "stdout",
     "output_type": "stream",
     "text": [
      "977027.4194925302 m 868.1632077142464 m\n",
      "2778.7161959975533 m 14803.963101238773 m\n"
     ]
    },
    {
     "name": "stderr",
     "output_type": "stream",
     "text": [
      "t:  78%|███████████████████████████████████████████████████▏              | 978/1260 [01:56<00:33,  8.35it/s, now=None]"
     ]
    },
    {
     "name": "stdout",
     "output_type": "stream",
     "text": [
      "3290.8064720449506 m 388.34999517216374 m\n",
      "1803.1963083603139 m 423.1185165787351 m\n"
     ]
    },
    {
     "name": "stderr",
     "output_type": "stream",
     "text": [
      "t:  78%|███████████████████████████████████████████████████▎              | 980/1260 [01:57<00:33,  8.36it/s, now=None]"
     ]
    },
    {
     "name": "stdout",
     "output_type": "stream",
     "text": [
      "1496.2481091641168 m 335.36649647303915 m\n",
      "2316.447947171339 m 382.60458704616076 m\n"
     ]
    },
    {
     "name": "stderr",
     "output_type": "stream",
     "text": [
      "t:  78%|███████████████████████████████████████████████████▍              | 982/1260 [01:57<00:35,  7.80it/s, now=None]"
     ]
    },
    {
     "name": "stdout",
     "output_type": "stream",
     "text": [
      "3114.5517998296104 m 371.3791877943075 m\n",
      "1781408.1019169183 m 372.8540058531629 m\n"
     ]
    },
    {
     "name": "stderr",
     "output_type": "stream",
     "text": [
      "t:  78%|███████████████████████████████████████████████████▌              | 984/1260 [01:57<00:33,  8.29it/s, now=None]"
     ]
    },
    {
     "name": "stdout",
     "output_type": "stream",
     "text": [
      "140905.75866581366 m 398.1899259519909 m\n",
      "776.5437457023081 m 408.9116389015452 m\n"
     ]
    },
    {
     "name": "stderr",
     "output_type": "stream",
     "text": [
      "\r",
      "t:  78%|███████████████████████████████████████████████████▌              | 985/1260 [01:57<00:33,  8.15it/s, now=None]"
     ]
    },
    {
     "name": "stdout",
     "output_type": "stream",
     "text": [
      "880.9950464299621 m 449.2873318658759 m\n",
      "851.8819380262564 m 477.03615915158633 m\n"
     ]
    },
    {
     "name": "stderr",
     "output_type": "stream",
     "text": [
      "t:  78%|███████████████████████████████████████████████████▊              | 988/1260 [01:58<00:33,  8.03it/s, now=None]"
     ]
    },
    {
     "name": "stdout",
     "output_type": "stream",
     "text": [
      "979.4078043921597 m 539.2005113344651 m\n",
      "1007.1296434973291 m 562.7219241359838 m\n"
     ]
    },
    {
     "name": "stderr",
     "output_type": "stream",
     "text": [
      "t:  79%|███████████████████████████████████████████████████▊              | 990/1260 [01:58<00:33,  8.18it/s, now=None]"
     ]
    },
    {
     "name": "stdout",
     "output_type": "stream",
     "text": [
      "672.1948370441789 m 509.27110988721586 m\n",
      "740.1745534957231 m 569.3196959685837 m\n"
     ]
    },
    {
     "name": "stderr",
     "output_type": "stream",
     "text": [
      "t:  79%|███████████████████████████████████████████████████▉              | 992/1260 [01:58<00:32,  8.26it/s, now=None]"
     ]
    },
    {
     "name": "stdout",
     "output_type": "stream",
     "text": [
      "655.8641337217041 m 633.6579861935663 m\n",
      "1096.3629385596673 m 543.585971493396 m\n"
     ]
    },
    {
     "name": "stderr",
     "output_type": "stream",
     "text": [
      "t:  79%|████████████████████████████████████████████████████              | 994/1260 [01:58<00:32,  8.22it/s, now=None]"
     ]
    },
    {
     "name": "stdout",
     "output_type": "stream",
     "text": [
      "1110.353175055153 m 551.9513336719045 m\n",
      "1144.8183880325223 m 473.1785446464825 m\n"
     ]
    },
    {
     "name": "stderr",
     "output_type": "stream",
     "text": [
      "t:  79%|████████████████████████████████████████████████████▏             | 996/1260 [01:59<00:32,  8.08it/s, now=None]"
     ]
    },
    {
     "name": "stdout",
     "output_type": "stream",
     "text": [
      "830.0941534261599 m 489.9544749372005 m\n",
      "898.7543098909017 m 446.70714439204653 m\n"
     ]
    },
    {
     "name": "stderr",
     "output_type": "stream",
     "text": [
      "t:  79%|████████████████████████████████████████████████████▎             | 998/1260 [01:59<00:31,  8.23it/s, now=None]"
     ]
    },
    {
     "name": "stdout",
     "output_type": "stream",
     "text": [
      "771.8548709077734 m 432.1543120423233 m\n",
      "908.1931749722374 m 437.692566636353 m\n"
     ]
    },
    {
     "name": "stderr",
     "output_type": "stream",
     "text": [
      "t:  79%|███████████████████████████████████████████████████▌             | 1000/1260 [01:59<00:31,  8.21it/s, now=None]"
     ]
    },
    {
     "name": "stdout",
     "output_type": "stream",
     "text": [
      "570.4580112704926 m 467.0819137449917 m\n",
      "614.7994072756017 m 556.7064598673477 m\n"
     ]
    },
    {
     "name": "stderr",
     "output_type": "stream",
     "text": [
      "t:  80%|███████████████████████████████████████████████████▋             | 1002/1260 [01:59<00:31,  8.08it/s, now=None]"
     ]
    },
    {
     "name": "stdout",
     "output_type": "stream",
     "text": [
      "888.5600211581447 m 503.85826038692005 m\n",
      "1490.07589518032 m 496.608638644942 m\n"
     ]
    },
    {
     "name": "stderr",
     "output_type": "stream",
     "text": [
      "t:  80%|███████████████████████████████████████████████████▊             | 1004/1260 [02:00<00:33,  7.55it/s, now=None]"
     ]
    },
    {
     "name": "stdout",
     "output_type": "stream",
     "text": [
      "1841.3885299536248 m 416.8940959842458 m\n",
      "6190.729219048678 m 432.4164516450035 m\n"
     ]
    },
    {
     "name": "stderr",
     "output_type": "stream",
     "text": [
      "t:  80%|███████████████████████████████████████████████████▉             | 1006/1260 [02:00<00:32,  7.73it/s, now=None]"
     ]
    },
    {
     "name": "stdout",
     "output_type": "stream",
     "text": [
      "46357.834826093924 m 292.47543095074576 m\n",
      "1507.4702075786292 m 274.615397260233 m\n"
     ]
    },
    {
     "name": "stderr",
     "output_type": "stream",
     "text": [
      "t:  80%|████████████████████████████████████████████████████             | 1008/1260 [02:00<00:31,  8.05it/s, now=None]"
     ]
    },
    {
     "name": "stdout",
     "output_type": "stream",
     "text": [
      "999.8899972271098 m 470.88454175940035 m\n",
      "649.1414249064387 m 503.7850086544463 m\n"
     ]
    },
    {
     "name": "stderr",
     "output_type": "stream",
     "text": [
      "t:  80%|████████████████████████████████████████████████████             | 1010/1260 [02:00<00:30,  8.19it/s, now=None]"
     ]
    },
    {
     "name": "stdout",
     "output_type": "stream",
     "text": [
      "985.493663857372 m 408.96380487918856 m\n",
      "801.2769661325748 m 467.9528863543467 m\n"
     ]
    },
    {
     "name": "stderr",
     "output_type": "stream",
     "text": [
      "t:  80%|████████████████████████████████████████████████████▏            | 1012/1260 [02:01<00:29,  8.51it/s, now=None]"
     ]
    },
    {
     "name": "stdout",
     "output_type": "stream",
     "text": [
      "1418.0052271547472 m 536.8815833875627 m\n",
      "771.0060591248746 m 515.0361644298629 m\n"
     ]
    },
    {
     "name": "stderr",
     "output_type": "stream",
     "text": [
      "t:  80%|████████████████████████████████████████████████████▎            | 1014/1260 [02:01<00:29,  8.40it/s, now=None]"
     ]
    },
    {
     "name": "stdout",
     "output_type": "stream",
     "text": [
      "1058.418632572824 m 484.79084216211754 m\n",
      "844.9138846583977 m 558.8128587915902 m\n"
     ]
    },
    {
     "name": "stderr",
     "output_type": "stream",
     "text": [
      "t:  81%|████████████████████████████████████████████████████▍            | 1016/1260 [02:01<00:29,  8.14it/s, now=None]"
     ]
    },
    {
     "name": "stdout",
     "output_type": "stream",
     "text": [
      "749.1267109554881 m 571.9722523124535 m\n",
      "832.7498797890672 m 1136.4694505797977 m\n"
     ]
    },
    {
     "name": "stderr",
     "output_type": "stream",
     "text": [
      "t:  81%|████████████████████████████████████████████████████▌            | 1018/1260 [02:01<00:29,  8.33it/s, now=None]"
     ]
    },
    {
     "name": "stdout",
     "output_type": "stream",
     "text": [
      "892.9435829086312 m 2002.7475442202888 m\n",
      "1121.4149077037841 m 1054.6673909650244 m\n"
     ]
    },
    {
     "name": "stderr",
     "output_type": "stream",
     "text": [
      "t:  81%|████████████████████████████████████████████████████▌            | 1020/1260 [02:02<00:28,  8.29it/s, now=None]"
     ]
    },
    {
     "name": "stdout",
     "output_type": "stream",
     "text": [
      "989.5513679535402 m 726.9090581635327 m\n",
      "750.5222751533103 m 673.2386862639402 m\n"
     ]
    },
    {
     "name": "stderr",
     "output_type": "stream",
     "text": [
      "t:  81%|████████████████████████████████████████████████████▋            | 1022/1260 [02:02<00:28,  8.30it/s, now=None]"
     ]
    },
    {
     "name": "stdout",
     "output_type": "stream",
     "text": [
      "569.5140737298517 m 838.7396263374895 m\n",
      "448.5108665991161 m 780.3830007070272 m\n"
     ]
    },
    {
     "name": "stderr",
     "output_type": "stream",
     "text": [
      "t:  81%|████████████████████████████████████████████████████▊            | 1024/1260 [02:02<00:29,  7.89it/s, now=None]"
     ]
    },
    {
     "name": "stdout",
     "output_type": "stream",
     "text": [
      "420.44464708304133 m 974.8627942624713 m\n",
      "416.26267296562236 m 985.9427321398115 m\n"
     ]
    },
    {
     "name": "stderr",
     "output_type": "stream",
     "text": [
      "t:  81%|████████████████████████████████████████████████████▉            | 1026/1260 [02:02<00:28,  8.13it/s, now=None]"
     ]
    },
    {
     "name": "stdout",
     "output_type": "stream",
     "text": [
      "403.3177302162431 m 1062.8821168230193 m\n",
      "448.1697467630305 m 1150.2794974711596 m\n"
     ]
    },
    {
     "name": "stderr",
     "output_type": "stream",
     "text": [
      "t:  82%|█████████████████████████████████████████████████████            | 1028/1260 [02:03<00:29,  7.85it/s, now=None]"
     ]
    },
    {
     "name": "stdout",
     "output_type": "stream",
     "text": [
      "565.3599807730938 m 684.4959770734828 m\n",
      "702.0946241467218 m 418.7269656186265 m\n"
     ]
    },
    {
     "name": "stderr",
     "output_type": "stream",
     "text": [
      "t:  82%|█████████████████████████████████████████████████████▏           | 1030/1260 [02:03<00:28,  8.16it/s, now=None]"
     ]
    },
    {
     "name": "stdout",
     "output_type": "stream",
     "text": [
      "620.2065826585655 m 342.6188206870166 m\n",
      "515.910305289671 m 328.00272786000573 m\n"
     ]
    },
    {
     "name": "stderr",
     "output_type": "stream",
     "text": [
      "t:  82%|█████████████████████████████████████████████████████▏           | 1032/1260 [02:03<00:26,  8.51it/s, now=None]"
     ]
    },
    {
     "name": "stdout",
     "output_type": "stream",
     "text": [
      "538.2568123434277 m 350.05926188111965 m\n",
      "437.5025153744551 m 365.68751572108647 m\n"
     ]
    },
    {
     "name": "stderr",
     "output_type": "stream",
     "text": [
      "t:  82%|█████████████████████████████████████████████████████▎           | 1034/1260 [02:03<00:26,  8.50it/s, now=None]"
     ]
    },
    {
     "name": "stdout",
     "output_type": "stream",
     "text": [
      "454.7662096100622 m 359.0909014097924 m\n",
      "497.95738033159586 m 398.3935877581413 m\n"
     ]
    },
    {
     "name": "stderr",
     "output_type": "stream",
     "text": [
      "t:  82%|█████████████████████████████████████████████████████▍           | 1036/1260 [02:04<00:26,  8.44it/s, now=None]"
     ]
    },
    {
     "name": "stdout",
     "output_type": "stream",
     "text": [
      "432.62503264221243 m 416.78935629270774 m\n",
      "446.26889425016464 m 368.81441699272665 m\n"
     ]
    },
    {
     "name": "stderr",
     "output_type": "stream",
     "text": [
      "\r",
      "t:  82%|█████████████████████████████████████████████████████▍           | 1037/1260 [02:04<00:28,  7.90it/s, now=None]"
     ]
    },
    {
     "name": "stdout",
     "output_type": "stream",
     "text": [
      "383.82540578834573 m 332.76801118997315 m\n",
      "378.61549068027574 m 395.4315960868168 m\n"
     ]
    },
    {
     "name": "stderr",
     "output_type": "stream",
     "text": [
      "t:  83%|█████████████████████████████████████████████████████▋           | 1040/1260 [02:04<00:28,  7.63it/s, now=None]"
     ]
    },
    {
     "name": "stdout",
     "output_type": "stream",
     "text": [
      "384.424304837621 m 400.7057517915568 m\n",
      "407.1294464204465 m 450.8239893451273 m\n"
     ]
    },
    {
     "name": "stderr",
     "output_type": "stream",
     "text": [
      "t:  83%|█████████████████████████████████████████████████████▊           | 1042/1260 [02:04<00:27,  7.80it/s, now=None]"
     ]
    },
    {
     "name": "stdout",
     "output_type": "stream",
     "text": [
      "403.5046606791326 m 491.6754257215201 m\n",
      "415.1610656977795 m 530.5600303392678 m\n"
     ]
    },
    {
     "name": "stderr",
     "output_type": "stream",
     "text": [
      "t:  83%|█████████████████████████████████████████████████████▊           | 1044/1260 [02:05<00:26,  8.01it/s, now=None]"
     ]
    },
    {
     "name": "stdout",
     "output_type": "stream",
     "text": [
      "457.4393342235399 m 604.6918628999414 m\n",
      "493.4373295312577 m 596.7144047183717 m\n"
     ]
    },
    {
     "name": "stderr",
     "output_type": "stream",
     "text": [
      "t:  83%|█████████████████████████████████████████████████████▉           | 1046/1260 [02:05<00:27,  7.76it/s, now=None]"
     ]
    },
    {
     "name": "stdout",
     "output_type": "stream",
     "text": [
      "560.8629889199673 m 665.2410769740055 m\n",
      "564.3177272123136 m 646.8493595935493 m\n"
     ]
    },
    {
     "name": "stderr",
     "output_type": "stream",
     "text": [
      "t:  83%|██████████████████████████████████████████████████████           | 1048/1260 [02:05<00:27,  7.70it/s, now=None]"
     ]
    },
    {
     "name": "stdout",
     "output_type": "stream",
     "text": [
      "569.2405306563019 m 802.400126699466 m\n",
      "622.2218156176717 m 828.9090947244018 m\n"
     ]
    },
    {
     "name": "stderr",
     "output_type": "stream",
     "text": [
      "t:  83%|██████████████████████████████████████████████████████▏          | 1050/1260 [02:05<00:27,  7.67it/s, now=None]"
     ]
    },
    {
     "name": "stdout",
     "output_type": "stream",
     "text": [
      "720.1050343476705 m 1692.5880815464 m\n",
      "770.5459105422698 m 1399.1049538393916 m\n"
     ]
    },
    {
     "name": "stderr",
     "output_type": "stream",
     "text": [
      "t:  83%|██████████████████████████████████████████████████████▎          | 1052/1260 [02:06<00:25,  8.10it/s, now=None]"
     ]
    },
    {
     "name": "stdout",
     "output_type": "stream",
     "text": [
      "912.2183192734649 m 1887.370537901778 m\n",
      "923.4818961847906 m 854.9752989609459 m\n"
     ]
    },
    {
     "name": "stderr",
     "output_type": "stream",
     "text": [
      "t:  84%|██████████████████████████████████████████████████████▎          | 1054/1260 [02:06<00:25,  7.97it/s, now=None]"
     ]
    },
    {
     "name": "stdout",
     "output_type": "stream",
     "text": [
      "972.3047781422973 m 725.5757107698237 m\n",
      "1064.192579369841 m 708.4696488263295 m\n"
     ]
    },
    {
     "name": "stderr",
     "output_type": "stream",
     "text": [
      "t:  84%|██████████████████████████████████████████████████████▍          | 1056/1260 [02:06<00:24,  8.34it/s, now=None]"
     ]
    },
    {
     "name": "stdout",
     "output_type": "stream",
     "text": [
      "821.6803306355529 m 548.0989779244736 m\n",
      "804.8697990781748 m 554.7838551301722 m\n"
     ]
    },
    {
     "name": "stderr",
     "output_type": "stream",
     "text": [
      "t:  84%|██████████████████████████████████████████████████████▌          | 1058/1260 [02:06<00:24,  8.38it/s, now=None]"
     ]
    },
    {
     "name": "stdout",
     "output_type": "stream",
     "text": [
      "790.6006191830024 m 515.0340299270063 m\n",
      "738.8914901121099 m 445.9880741692729 m\n"
     ]
    },
    {
     "name": "stderr",
     "output_type": "stream",
     "text": [
      "t:  84%|██████████████████████████████████████████████████████▋          | 1060/1260 [02:07<00:25,  7.93it/s, now=None]"
     ]
    },
    {
     "name": "stdout",
     "output_type": "stream",
     "text": [
      "580.8270431838723 m 462.95169942933285 m\n",
      "664.519974215944 m 424.2695685924052 m\n"
     ]
    },
    {
     "name": "stderr",
     "output_type": "stream",
     "text": [
      "t:  84%|██████████████████████████████████████████████████████▊          | 1062/1260 [02:07<00:24,  8.08it/s, now=None]"
     ]
    },
    {
     "name": "stdout",
     "output_type": "stream",
     "text": [
      "771.2043222989793 m 395.575469902473 m\n",
      "552.1037911193384 m 341.1307939869111 m\n"
     ]
    },
    {
     "name": "stderr",
     "output_type": "stream",
     "text": [
      "t:  84%|██████████████████████████████████████████████████████▉          | 1064/1260 [02:07<00:23,  8.42it/s, now=None]"
     ]
    },
    {
     "name": "stdout",
     "output_type": "stream",
     "text": [
      "565.8714189486277 m 362.15378570957165 m\n",
      "702.1474146527056 m 491.7810371177642 m\n"
     ]
    },
    {
     "name": "stderr",
     "output_type": "stream",
     "text": [
      "t:  85%|██████████████████████████████████████████████████████▉          | 1066/1260 [02:07<00:22,  8.55it/s, now=None]"
     ]
    },
    {
     "name": "stdout",
     "output_type": "stream",
     "text": [
      "757.0560438184204 m 492.5772313878936 m\n",
      "973.5964134318625 m 543.1413981257243 m\n"
     ]
    },
    {
     "name": "stderr",
     "output_type": "stream",
     "text": [
      "t:  85%|███████████████████████████████████████████████████████          | 1068/1260 [02:08<00:22,  8.44it/s, now=None]"
     ]
    },
    {
     "name": "stdout",
     "output_type": "stream",
     "text": [
      "959.3584330541287 m 616.980026197939 m\n",
      "1131.1433496230495 m 634.9024388092413 m\n"
     ]
    },
    {
     "name": "stderr",
     "output_type": "stream",
     "text": [
      "t:  85%|███████████████████████████████████████████████████████▏         | 1070/1260 [02:08<00:22,  8.29it/s, now=None]"
     ]
    },
    {
     "name": "stdout",
     "output_type": "stream",
     "text": [
      "1602.520896835836 m 593.0013426443212 m\n",
      "1289.3419882683804 m 608.872130943042 m\n"
     ]
    },
    {
     "name": "stderr",
     "output_type": "stream",
     "text": [
      "t:  85%|███████████████████████████████████████████████████████▎         | 1072/1260 [02:08<00:22,  8.29it/s, now=None]"
     ]
    },
    {
     "name": "stdout",
     "output_type": "stream",
     "text": [
      "1903.4198641427315 m 692.6871772323476 m\n",
      "971.8932970278208 m 873.3913134677056 m\n"
     ]
    },
    {
     "name": "stderr",
     "output_type": "stream",
     "text": [
      "t:  85%|███████████████████████████████████████████████████████▍         | 1074/1260 [02:08<00:22,  8.41it/s, now=None]"
     ]
    },
    {
     "name": "stdout",
     "output_type": "stream",
     "text": [
      "872.8879993008262 m 808.0828421010725 m\n",
      "8505.639970658858 m 797.8874523667225 m\n"
     ]
    },
    {
     "name": "stderr",
     "output_type": "stream",
     "text": [
      "t:  85%|███████████████████████████████████████████████████████▌         | 1076/1260 [02:09<00:21,  8.46it/s, now=None]"
     ]
    },
    {
     "name": "stdout",
     "output_type": "stream",
     "text": [
      "849.6553296300352 m 642.9444131740933 m\n",
      "790.9663280341126 m 618.625134940428 m\n"
     ]
    },
    {
     "name": "stderr",
     "output_type": "stream",
     "text": [
      "t:  86%|███████████████████████████████████████████████████████▌         | 1078/1260 [02:09<00:21,  8.36it/s, now=None]"
     ]
    },
    {
     "name": "stdout",
     "output_type": "stream",
     "text": [
      "807.1714988709927 m 583.8863078547218 m\n",
      "666.8656406371396 m 550.9689252758833 m\n"
     ]
    },
    {
     "name": "stderr",
     "output_type": "stream",
     "text": [
      "t:  86%|███████████████████████████████████████████████████████▋         | 1080/1260 [02:09<00:22,  7.87it/s, now=None]"
     ]
    },
    {
     "name": "stdout",
     "output_type": "stream",
     "text": [
      "710.7810149058614 m 521.8677193922842 m\n",
      "725.310282316714 m 563.2173217642156 m\n"
     ]
    },
    {
     "name": "stderr",
     "output_type": "stream",
     "text": [
      "t:  86%|███████████████████████████████████████████████████████▊         | 1082/1260 [02:09<00:22,  7.90it/s, now=None]"
     ]
    },
    {
     "name": "stdout",
     "output_type": "stream",
     "text": [
      "753.8585815679836 m 566.3381262671254 m\n",
      "820.334833682956 m 609.6414710268724 m\n"
     ]
    },
    {
     "name": "stderr",
     "output_type": "stream",
     "text": [
      "t:  86%|███████████████████████████████████████████████████████▉         | 1084/1260 [02:10<00:21,  8.08it/s, now=None]"
     ]
    },
    {
     "name": "stdout",
     "output_type": "stream",
     "text": [
      "767.7384309749025 m 640.9416425305801 m\n",
      "3355.968943298931 m 730.0029113043205 m\n"
     ]
    },
    {
     "name": "stderr",
     "output_type": "stream",
     "text": [
      "t:  86%|████████████████████████████████████████████████████████         | 1086/1260 [02:10<00:21,  8.19it/s, now=None]"
     ]
    },
    {
     "name": "stdout",
     "output_type": "stream",
     "text": [
      "3492.9218060863036 m 828.7894956615409 m\n",
      "4693.739157451724 m 706.5145808737659 m\n"
     ]
    },
    {
     "name": "stderr",
     "output_type": "stream",
     "text": [
      "t:  86%|████████████████████████████████████████████████████████▏        | 1088/1260 [02:10<00:20,  8.43it/s, now=None]"
     ]
    },
    {
     "name": "stdout",
     "output_type": "stream",
     "text": [
      "3875.52403024676 m 828.6381176107583 m\n",
      "2156.7617283396607 m 598.9246612618506 m\n"
     ]
    },
    {
     "name": "stderr",
     "output_type": "stream",
     "text": [
      "t:  87%|████████████████████████████████████████████████████████▏        | 1090/1260 [02:10<00:20,  8.40it/s, now=None]"
     ]
    },
    {
     "name": "stdout",
     "output_type": "stream",
     "text": [
      "1841.7348729153114 m 549.3843748973039 m\n",
      "1155.4460068839614 m 626.7496727516134 m\n"
     ]
    },
    {
     "name": "stderr",
     "output_type": "stream",
     "text": [
      "t:  87%|████████████████████████████████████████████████████████▎        | 1092/1260 [02:10<00:19,  8.44it/s, now=None]"
     ]
    },
    {
     "name": "stdout",
     "output_type": "stream",
     "text": [
      "1158.7799455316851 m 644.2437748195935 m\n",
      "1386.9870896151772 m 666.8714712978102 m\n"
     ]
    },
    {
     "name": "stderr",
     "output_type": "stream",
     "text": [
      "t:  87%|████████████████████████████████████████████████████████▍        | 1094/1260 [02:11<00:19,  8.49it/s, now=None]"
     ]
    },
    {
     "name": "stdout",
     "output_type": "stream",
     "text": [
      "1554.4367475147385 m 677.9443005158952 m\n",
      "1751.6140136966164 m 811.1596921092515 m\n"
     ]
    },
    {
     "name": "stderr",
     "output_type": "stream",
     "text": [
      "t:  87%|████████████████████████████████████████████████████████▌        | 1096/1260 [02:11<00:19,  8.50it/s, now=None]"
     ]
    },
    {
     "name": "stdout",
     "output_type": "stream",
     "text": [
      "1422.6281416505103 m 1241.889367479472 m\n",
      "5913.650742133828 m 1305.822093390979 m\n"
     ]
    },
    {
     "name": "stderr",
     "output_type": "stream",
     "text": [
      "t:  87%|████████████████████████████████████████████████████████▋        | 1098/1260 [02:11<00:18,  8.55it/s, now=None]"
     ]
    },
    {
     "name": "stdout",
     "output_type": "stream",
     "text": [
      "3603.920057659707 m 953.2336540931865 m\n",
      "2738.6834582387633 m 702.5229400508238 m\n"
     ]
    },
    {
     "name": "stderr",
     "output_type": "stream",
     "text": [
      "t:  87%|████████████████████████████████████████████████████████▋        | 1100/1260 [02:11<00:18,  8.46it/s, now=None]"
     ]
    },
    {
     "name": "stdout",
     "output_type": "stream",
     "text": [
      "1731.7357033412165 m 659.2163823263666 m\n",
      "2623.8027137304152 m 714.0967173782589 m\n"
     ]
    },
    {
     "name": "stderr",
     "output_type": "stream",
     "text": [
      "t:  87%|████████████████████████████████████████████████████████▊        | 1102/1260 [02:12<00:18,  8.44it/s, now=None]"
     ]
    },
    {
     "name": "stdout",
     "output_type": "stream",
     "text": [
      "2252.672751163303 m 659.5887582397484 m\n",
      "1101.524960102327 m 594.1016752190342 m\n"
     ]
    },
    {
     "name": "stderr",
     "output_type": "stream",
     "text": [
      "t:  88%|████████████████████████████████████████████████████████▉        | 1104/1260 [02:12<00:18,  8.47it/s, now=None]"
     ]
    },
    {
     "name": "stdout",
     "output_type": "stream",
     "text": [
      "2600.261762690413 m 747.5744306895892 m\n",
      "2340.538353418651 m 637.9074771978591 m\n"
     ]
    },
    {
     "name": "stderr",
     "output_type": "stream",
     "text": [
      "t:  88%|█████████████████████████████████████████████████████████        | 1106/1260 [02:12<00:18,  8.28it/s, now=None]"
     ]
    },
    {
     "name": "stdout",
     "output_type": "stream",
     "text": [
      "1128.7036246137914 m 600.0896149382105 m\n",
      "1114.356825843047 m 540.0696881431874 m\n"
     ]
    },
    {
     "name": "stderr",
     "output_type": "stream",
     "text": [
      "t:  88%|█████████████████████████████████████████████████████████▏       | 1108/1260 [02:12<00:18,  8.03it/s, now=None]"
     ]
    },
    {
     "name": "stdout",
     "output_type": "stream",
     "text": [
      "1095.353289005603 m 559.7653786934003 m\n",
      "1095.3635075935 m 585.889922596324 m\n"
     ]
    },
    {
     "name": "stderr",
     "output_type": "stream",
     "text": [
      "t:  88%|█████████████████████████████████████████████████████████▎       | 1110/1260 [02:13<00:17,  8.34it/s, now=None]"
     ]
    },
    {
     "name": "stdout",
     "output_type": "stream",
     "text": [
      "1130.5305714320355 m 493.55254992887353 m\n",
      "1177.3192893711762 m 503.74687028348256 m\n"
     ]
    },
    {
     "name": "stderr",
     "output_type": "stream",
     "text": [
      "\r",
      "t:  88%|█████████████████████████████████████████████████████████▎       | 1111/1260 [02:13<00:18,  7.98it/s, now=None]"
     ]
    },
    {
     "name": "stdout",
     "output_type": "stream",
     "text": [
      "1378.5352304487812 m 431.98909977838485 m\n",
      "3294.955054822497 m 419.5527444499413 m\n"
     ]
    },
    {
     "name": "stderr",
     "output_type": "stream",
     "text": [
      "t:  88%|█████████████████████████████████████████████████████████▍       | 1114/1260 [02:13<00:17,  8.21it/s, now=None]"
     ]
    },
    {
     "name": "stdout",
     "output_type": "stream",
     "text": [
      "3494.621360662368 m 427.36432611576265 m\n",
      "33550.36501784738 m 449.6040308030354 m\n"
     ]
    },
    {
     "name": "stderr",
     "output_type": "stream",
     "text": [
      "t:  89%|█████████████████████████████████████████████████████████▌       | 1116/1260 [02:13<00:17,  8.37it/s, now=None]"
     ]
    },
    {
     "name": "stdout",
     "output_type": "stream",
     "text": [
      "1252.691588721317 m 482.4539880410254 m\n",
      "1260.1024745725442 m 461.15718621690667 m\n"
     ]
    },
    {
     "name": "stderr",
     "output_type": "stream",
     "text": [
      "t:  89%|█████████████████████████████████████████████████████████▋       | 1118/1260 [02:14<00:17,  8.27it/s, now=None]"
     ]
    },
    {
     "name": "stdout",
     "output_type": "stream",
     "text": [
      "962.3545614650594 m 585.0699209274267 m\n",
      "961.7791442767872 m 635.3713760247462 m\n"
     ]
    },
    {
     "name": "stderr",
     "output_type": "stream",
     "text": [
      "t:  89%|█████████████████████████████████████████████████████████▊       | 1120/1260 [02:14<00:16,  8.40it/s, now=None]"
     ]
    },
    {
     "name": "stdout",
     "output_type": "stream",
     "text": [
      "955.5568202540416 m 648.159185481463 m\n",
      "902.1679055782092 m 607.4493471056926 m\n"
     ]
    },
    {
     "name": "stderr",
     "output_type": "stream",
     "text": [
      "t:  89%|█████████████████████████████████████████████████████████▉       | 1122/1260 [02:14<00:17,  7.94it/s, now=None]"
     ]
    },
    {
     "name": "stdout",
     "output_type": "stream",
     "text": [
      "975.4384071564021 m 658.9985341728662 m\n",
      "1021.9421551499757 m 659.6778582716587 m\n"
     ]
    },
    {
     "name": "stderr",
     "output_type": "stream",
     "text": [
      "t:  89%|█████████████████████████████████████████████████████████▉       | 1124/1260 [02:14<00:17,  7.97it/s, now=None]"
     ]
    },
    {
     "name": "stdout",
     "output_type": "stream",
     "text": [
      "1061.050756833723 m 682.8269516502127 m\n",
      "1111.6901305435183 m 705.1147413726886 m\n"
     ]
    },
    {
     "name": "stderr",
     "output_type": "stream",
     "text": [
      "t:  89%|██████████████████████████████████████████████████████████       | 1126/1260 [02:15<00:16,  8.34it/s, now=None]"
     ]
    },
    {
     "name": "stdout",
     "output_type": "stream",
     "text": [
      "913.8994319158194 m 623.721287080008 m\n",
      "882.3802540346073 m 624.3488194028387 m\n"
     ]
    },
    {
     "name": "stderr",
     "output_type": "stream",
     "text": [
      "t:  90%|██████████████████████████████████████████████████████████▏      | 1128/1260 [02:15<00:15,  8.32it/s, now=None]"
     ]
    },
    {
     "name": "stdout",
     "output_type": "stream",
     "text": [
      "797.3703594481611 m 748.1513738840362 m\n",
      "823.2805167501175 m 718.6442300064284 m\n"
     ]
    },
    {
     "name": "stderr",
     "output_type": "stream",
     "text": [
      "t:  90%|██████████████████████████████████████████████████████████▎      | 1130/1260 [02:15<00:15,  8.44it/s, now=None]"
     ]
    },
    {
     "name": "stdout",
     "output_type": "stream",
     "text": [
      "857.3378691466855 m 726.1107024873515 m\n",
      "872.4467931720628 m 1290.3808484096583 m\n",
      "1009.9010595652729"
     ]
    },
    {
     "name": "stderr",
     "output_type": "stream",
     "text": [
      "t:  90%|██████████████████████████████████████████████████████████▍      | 1132/1260 [02:15<00:15,  8.51it/s, now=None]"
     ]
    },
    {
     "name": "stdout",
     "output_type": "stream",
     "text": [
      " m 1046.0125733208577 m\n",
      "1010.0881759442354 m 822.989949698383 m\n"
     ]
    },
    {
     "name": "stderr",
     "output_type": "stream",
     "text": [
      "t:  90%|██████████████████████████████████████████████████████████▌      | 1134/1260 [02:16<00:15,  8.10it/s, now=None]"
     ]
    },
    {
     "name": "stdout",
     "output_type": "stream",
     "text": [
      "979.4537800458573 m 567.7968273324433 m\n",
      "1031.9063973428367 m 631.4626552447999 m\n"
     ]
    },
    {
     "name": "stderr",
     "output_type": "stream",
     "text": [
      "t:  90%|██████████████████████████████████████████████████████████▌      | 1136/1260 [02:16<00:15,  8.06it/s, now=None]"
     ]
    },
    {
     "name": "stdout",
     "output_type": "stream",
     "text": [
      "1222.284804906707 m 700.4045214405631 m\n",
      "1261.8019273387238 m 661.2979193847115 m\n"
     ]
    },
    {
     "name": "stderr",
     "output_type": "stream",
     "text": [
      "t:  90%|██████████████████████████████████████████████████████████▋      | 1138/1260 [02:16<00:14,  8.31it/s, now=None]"
     ]
    },
    {
     "name": "stdout",
     "output_type": "stream",
     "text": [
      "1179.3091818160708 m 625.6851308680979 m\n",
      "1096.029121202397 m 643.3714862367141 m\n"
     ]
    },
    {
     "name": "stderr",
     "output_type": "stream",
     "text": [
      "t:  90%|██████████████████████████████████████████████████████████▊      | 1140/1260 [02:16<00:13,  8.59it/s, now=None]"
     ]
    },
    {
     "name": "stdout",
     "output_type": "stream",
     "text": [
      "1142.7439535870913 m 673.0255228620372 m\n",
      "1032.864908871509 m 752.0067465052608 m\n"
     ]
    },
    {
     "name": "stderr",
     "output_type": "stream",
     "text": [
      "t:  91%|██████████████████████████████████████████████████████████▉      | 1142/1260 [02:16<00:13,  8.46it/s, now=None]"
     ]
    },
    {
     "name": "stdout",
     "output_type": "stream",
     "text": [
      "1049.2899526695621 m 614.9997014823725 m\n",
      "1227.995767135575 m 701.2777019779519 m\n"
     ]
    },
    {
     "name": "stderr",
     "output_type": "stream",
     "text": [
      "t:  91%|███████████████████████████████████████████████████████████      | 1144/1260 [02:17<00:14,  8.24it/s, now=None]"
     ]
    },
    {
     "name": "stdout",
     "output_type": "stream",
     "text": [
      "1160.1333934521274 m 639.5148703907105 m\n",
      "1099.932872710906 m 578.8883283690643 m\n"
     ]
    },
    {
     "name": "stderr",
     "output_type": "stream",
     "text": [
      "t:  91%|███████████████████████████████████████████████████████████      | 1146/1260 [02:17<00:13,  8.20it/s, now=None]"
     ]
    },
    {
     "name": "stdout",
     "output_type": "stream",
     "text": [
      "1015.7303627668696 m 530.9770446243169 m\n",
      "1009.3848040134463 m 526.7545631978949 m\n"
     ]
    },
    {
     "name": "stderr",
     "output_type": "stream",
     "text": [
      "t:  91%|███████████████████████████████████████████████████████████▏     | 1148/1260 [02:17<00:13,  8.09it/s, now=None]"
     ]
    },
    {
     "name": "stdout",
     "output_type": "stream",
     "text": [
      "904.7373759873825 m 555.7735799039727 m\n",
      "1528.7587017005742 m 540.6994219332979 m\n"
     ]
    },
    {
     "name": "stderr",
     "output_type": "stream",
     "text": [
      "t:  91%|███████████████████████████████████████████████████████████▎     | 1150/1260 [02:17<00:13,  8.42it/s, now=None]"
     ]
    },
    {
     "name": "stdout",
     "output_type": "stream",
     "text": [
      "1019.254164833412 m 498.76924138069273 m\n",
      "995.651793980874 m 525.9414462559574 m\n"
     ]
    },
    {
     "name": "stderr",
     "output_type": "stream",
     "text": [
      "t:  91%|███████████████████████████████████████████████████████████▍     | 1152/1260 [02:18<00:12,  8.35it/s, now=None]"
     ]
    },
    {
     "name": "stdout",
     "output_type": "stream",
     "text": [
      "848.6392435605134 m 586.0710342566699 m\n",
      "626.7632297239312 m 622.9738995913252 m\n"
     ]
    },
    {
     "name": "stderr",
     "output_type": "stream",
     "text": [
      "t:  92%|███████████████████████████████████████████████████████████▌     | 1154/1260 [02:18<00:12,  8.17it/s, now=None]"
     ]
    },
    {
     "name": "stdout",
     "output_type": "stream",
     "text": [
      "568.2672147476056 m 642.2842811079083 m\n",
      "549.338788118312 m 534.1398016729098 m\n"
     ]
    },
    {
     "name": "stderr",
     "output_type": "stream",
     "text": [
      "t:  92%|███████████████████████████████████████████████████████████▋     | 1156/1260 [02:18<00:12,  8.30it/s, now=None]"
     ]
    },
    {
     "name": "stdout",
     "output_type": "stream",
     "text": [
      "626.3301426066203 m 641.4714142795727 m\n",
      "577.0426939995874 m 527.8976749097152 m\n"
     ]
    },
    {
     "name": "stderr",
     "output_type": "stream",
     "text": [
      "t:  92%|███████████████████████████████████████████████████████████▋     | 1158/1260 [02:18<00:12,  7.96it/s, now=None]"
     ]
    },
    {
     "name": "stdout",
     "output_type": "stream",
     "text": [
      "553.6409641160177 m 515.4118024938005 m\n",
      "633.9077153437039 m 538.2265371170971 m\n"
     ]
    },
    {
     "name": "stderr",
     "output_type": "stream",
     "text": [
      "t:  92%|███████████████████████████████████████████████████████████▊     | 1160/1260 [02:19<00:12,  8.16it/s, now=None]"
     ]
    },
    {
     "name": "stdout",
     "output_type": "stream",
     "text": [
      "643.7902280656892 m 487.2044172482559 m\n",
      "632.61748758452 m 482.35355312468556 m\n"
     ]
    },
    {
     "name": "stderr",
     "output_type": "stream",
     "text": [
      "t:  92%|███████████████████████████████████████████████████████████▉     | 1162/1260 [02:19<00:11,  8.43it/s, now=None]"
     ]
    },
    {
     "name": "stdout",
     "output_type": "stream",
     "text": [
      "607.444676719191 m 480.70773144266064 m\n",
      "625.9545458869117 m 513.2534724668275 m\n"
     ]
    },
    {
     "name": "stderr",
     "output_type": "stream",
     "text": [
      "t:  92%|████████████████████████████████████████████████████████████     | 1164/1260 [02:19<00:11,  8.40it/s, now=None]"
     ]
    },
    {
     "name": "stdout",
     "output_type": "stream",
     "text": [
      "660.3146154513803 m 531.4677436562729 m\n",
      "704.6433318187402 m 593.1554230294173 m\n"
     ]
    },
    {
     "name": "stderr",
     "output_type": "stream",
     "text": [
      "t:  93%|████████████████████████████████████████████████████████████▏    | 1166/1260 [02:19<00:11,  8.37it/s, now=None]"
     ]
    },
    {
     "name": "stdout",
     "output_type": "stream",
     "text": [
      "836.5907709324202 m 611.8834167005798 m\n",
      "958.2933312282603 m 658.898079003988 m\n"
     ]
    },
    {
     "name": "stderr",
     "output_type": "stream",
     "text": [
      "\r",
      "t:  93%|████████████████████████████████████████████████████████████▏    | 1167/1260 [02:20<00:11,  8.00it/s, now=None]"
     ]
    },
    {
     "name": "stdout",
     "output_type": "stream",
     "text": [
      "999.7309125609202 m 567.3598965637127 m\n",
      "1111.7405964885597 m 547.3211742711064 m\n"
     ]
    },
    {
     "name": "stderr",
     "output_type": "stream",
     "text": [
      "t:  93%|████████████████████████████████████████████████████████████▎    | 1170/1260 [02:20<00:11,  8.11it/s, now=None]"
     ]
    },
    {
     "name": "stdout",
     "output_type": "stream",
     "text": [
      "1139.579638345555 m 506.8875077114788 m\n",
      "1199.8920712984602 m 603.3604432391552 m\n"
     ]
    },
    {
     "name": "stderr",
     "output_type": "stream",
     "text": [
      "t:  93%|████████████████████████████████████████████████████████████▍    | 1172/1260 [02:20<00:10,  8.42it/s, now=None]"
     ]
    },
    {
     "name": "stdout",
     "output_type": "stream",
     "text": [
      "3879.359836453482 m 566.9818074061409 m\n",
      "1371.0778915365343 m 586.2997112426553 m\n"
     ]
    },
    {
     "name": "stderr",
     "output_type": "stream",
     "text": [
      "t:  93%|████████████████████████████████████████████████████████████▌    | 1174/1260 [02:20<00:10,  8.54it/s, now=None]"
     ]
    },
    {
     "name": "stdout",
     "output_type": "stream",
     "text": [
      "773.507229151029 m 638.4921396943175 m\n",
      "832.5215526120485 m 675.5794669265765 m\n"
     ]
    },
    {
     "name": "stderr",
     "output_type": "stream",
     "text": [
      "t:  93%|████████████████████████████████████████████████████████████▋    | 1176/1260 [02:21<00:09,  8.45it/s, now=None]"
     ]
    },
    {
     "name": "stdout",
     "output_type": "stream",
     "text": [
      "1284.5895245186387 m 708.9079183219835 m\n",
      "1579.7576457874902 m 699.4352277717927 m\n"
     ]
    },
    {
     "name": "stderr",
     "output_type": "stream",
     "text": [
      "t:  93%|████████████████████████████████████████████████████████████▊    | 1178/1260 [02:21<00:09,  8.61it/s, now=None]"
     ]
    },
    {
     "name": "stdout",
     "output_type": "stream",
     "text": [
      "1344.141932717214 m 595.798586674265 m\n",
      "2456.3587586917442 m 553.0373328317287 m\n"
     ]
    },
    {
     "name": "stderr",
     "output_type": "stream",
     "text": [
      "t:  94%|████████████████████████████████████████████████████████████▊    | 1180/1260 [02:21<00:09,  8.61it/s, now=None]"
     ]
    },
    {
     "name": "stdout",
     "output_type": "stream",
     "text": [
      "7086.113221336199 m 550.086743775088 m\n",
      "5970.030942145541 m 596.6037488345139 m\n"
     ]
    },
    {
     "name": "stderr",
     "output_type": "stream",
     "text": [
      "t:  94%|████████████████████████████████████████████████████████████▉    | 1182/1260 [02:21<00:09,  8.45it/s, now=None]"
     ]
    },
    {
     "name": "stdout",
     "output_type": "stream",
     "text": [
      "1552.2953006816942 m 597.767159957944 m\n",
      "1445.8908700889172 m 659.8357955264191 m\n"
     ]
    },
    {
     "name": "stderr",
     "output_type": "stream",
     "text": [
      "t:  94%|█████████████████████████████████████████████████████████████    | 1184/1260 [02:22<00:08,  8.56it/s, now=None]"
     ]
    },
    {
     "name": "stdout",
     "output_type": "stream",
     "text": [
      "686.6229371725672 m 568.7252316526993 m\n",
      "628.560657254273 m 564.5496307077636 m\n"
     ]
    },
    {
     "name": "stderr",
     "output_type": "stream",
     "text": [
      "t:  94%|█████████████████████████████████████████████████████████████▏   | 1186/1260 [02:22<00:08,  8.43it/s, now=None]"
     ]
    },
    {
     "name": "stdout",
     "output_type": "stream",
     "text": [
      "602.3723382932719 m 631.2873478532618 m\n",
      "425.99937826166064 m 724.6633519003661 m\n"
     ]
    },
    {
     "name": "stderr",
     "output_type": "stream",
     "text": [
      "t:  94%|█████████████████████████████████████████████████████████████▎   | 1188/1260 [02:22<00:08,  8.59it/s, now=None]"
     ]
    },
    {
     "name": "stdout",
     "output_type": "stream",
     "text": [
      "427.0586250350159 m 768.1237089412807 m\n",
      "438.3662968086378 m 677.1838396695664 m\n"
     ]
    },
    {
     "name": "stderr",
     "output_type": "stream",
     "text": [
      "t:  94%|█████████████████████████████████████████████████████████████▍   | 1190/1260 [02:22<00:08,  8.54it/s, now=None]"
     ]
    },
    {
     "name": "stdout",
     "output_type": "stream",
     "text": [
      "418.9203106151568 m 588.6578426394309 m\n",
      "449.4019797043045 m 586.2153380543149 m\n"
     ]
    },
    {
     "name": "stderr",
     "output_type": "stream",
     "text": [
      "t:  95%|█████████████████████████████████████████████████████████████▍   | 1192/1260 [02:22<00:07,  8.53it/s, now=None]"
     ]
    },
    {
     "name": "stdout",
     "output_type": "stream",
     "text": [
      "511.58562159817006 m 529.2039853683063 m\n",
      "577.2801318227393 m 566.9332256060001 m\n"
     ]
    },
    {
     "name": "stderr",
     "output_type": "stream",
     "text": [
      "t:  95%|█████████████████████████████████████████████████████████████▌   | 1194/1260 [02:23<00:07,  8.27it/s, now=None]"
     ]
    },
    {
     "name": "stdout",
     "output_type": "stream",
     "text": [
      "635.314836740365 m 487.04666889509326 m\n",
      "739.9327157265559 m 476.7487349135975 m\n"
     ]
    },
    {
     "name": "stderr",
     "output_type": "stream",
     "text": [
      "t:  95%|█████████████████████████████████████████████████████████████▋   | 1196/1260 [02:23<00:08,  7.82it/s, now=None]"
     ]
    },
    {
     "name": "stdout",
     "output_type": "stream",
     "text": [
      "895.3360759205915 m 496.2600626528141 m\n",
      "519.5907902815873 m 447.28385458033137 m\n"
     ]
    },
    {
     "name": "stderr",
     "output_type": "stream",
     "text": [
      "t:  95%|█████████████████████████████████████████████████████████████▊   | 1198/1260 [02:23<00:07,  8.22it/s, now=None]"
     ]
    },
    {
     "name": "stdout",
     "output_type": "stream",
     "text": [
      "553.7199142641139 m 418.64387961768836 m\n",
      "611.3686753817314 m 425.25052925509425 m\n"
     ]
    },
    {
     "name": "stderr",
     "output_type": "stream",
     "text": [
      "t:  95%|█████████████████████████████████████████████████████████████▉   | 1200/1260 [02:23<00:07,  8.38it/s, now=None]"
     ]
    },
    {
     "name": "stdout",
     "output_type": "stream",
     "text": [
      "668.4975703011767 m 458.47744469306394 m\n",
      "724.1940774338427 m 578.5196699080551 m\n"
     ]
    },
    {
     "name": "stderr",
     "output_type": "stream",
     "text": [
      "t:  95%|██████████████████████████████████████████████████████████████   | 1202/1260 [02:24<00:07,  8.14it/s, now=None]"
     ]
    },
    {
     "name": "stdout",
     "output_type": "stream",
     "text": [
      "790.9270051207864 m 630.976559071123 m\n",
      "807.8337438497787 m 512.7737184828081 m\n"
     ]
    },
    {
     "name": "stderr",
     "output_type": "stream",
     "text": [
      "t:  96%|██████████████████████████████████████████████████████████████   | 1204/1260 [02:24<00:06,  8.03it/s, now=None]"
     ]
    },
    {
     "name": "stdout",
     "output_type": "stream",
     "text": [
      "758.287916499523 m 479.1314634539482 m\n",
      "721.9714591675261 m 436.32921066849644 m\n"
     ]
    },
    {
     "name": "stderr",
     "output_type": "stream",
     "text": [
      "t:  96%|██████████████████████████████████████████████████████████████▏  | 1206/1260 [02:24<00:06,  8.23it/s, now=None]"
     ]
    },
    {
     "name": "stdout",
     "output_type": "stream",
     "text": [
      "669.480980483681 m 461.1118208291854 m\n",
      "673.9885620436232 m 434.82413850226 m\n"
     ]
    },
    {
     "name": "stderr",
     "output_type": "stream",
     "text": [
      "t:  96%|██████████████████████████████████████████████████████████████▎  | 1208/1260 [02:24<00:06,  8.09it/s, now=None]"
     ]
    },
    {
     "name": "stdout",
     "output_type": "stream",
     "text": [
      "648.952120736991 m 492.54737688640273 m\n",
      "663.1725524808577 m 482.47953340176235 m\n"
     ]
    },
    {
     "name": "stderr",
     "output_type": "stream",
     "text": [
      "t:  96%|██████████████████████████████████████████████████████████████▍  | 1210/1260 [02:25<00:06,  8.32it/s, now=None]"
     ]
    },
    {
     "name": "stdout",
     "output_type": "stream",
     "text": [
      "703.3323509450637 m 560.7865969694031 m\n",
      "702.9125084147571 m 459.6444473613952 m\n"
     ]
    },
    {
     "name": "stderr",
     "output_type": "stream",
     "text": [
      "t:  96%|██████████████████████████████████████████████████████████████▌  | 1212/1260 [02:25<00:05,  8.42it/s, now=None]"
     ]
    },
    {
     "name": "stdout",
     "output_type": "stream",
     "text": [
      "742.2580155802009 m 478.0730185214859 m\n",
      "778.4993526775775 m 473.03317631793726 m\n"
     ]
    },
    {
     "name": "stderr",
     "output_type": "stream",
     "text": [
      "t:  96%|██████████████████████████████████████████████████████████████▋  | 1214/1260 [02:25<00:05,  8.31it/s, now=None]"
     ]
    },
    {
     "name": "stdout",
     "output_type": "stream",
     "text": [
      "817.8856849284026 m 473.85414324104454 m\n",
      "928.1755868954584 m 520.5278522067033 m\n"
     ]
    },
    {
     "name": "stderr",
     "output_type": "stream",
     "text": [
      "t:  97%|██████████████████████████████████████████████████████████████▋  | 1216/1260 [02:25<00:05,  8.48it/s, now=None]"
     ]
    },
    {
     "name": "stdout",
     "output_type": "stream",
     "text": [
      "1468.3254932328832 m 516.8680972411321 m\n",
      "973.0902569393924 m 524.2475776625064 m\n"
     ]
    },
    {
     "name": "stderr",
     "output_type": "stream",
     "text": [
      "t:  97%|██████████████████████████████████████████████████████████████▊  | 1218/1260 [02:26<00:04,  8.53it/s, now=None]"
     ]
    },
    {
     "name": "stdout",
     "output_type": "stream",
     "text": [
      "4719.020326334393 m 514.9578972562115 m\n",
      "4430.164621918889 m 501.13227400222866 m\n"
     ]
    },
    {
     "name": "stderr",
     "output_type": "stream",
     "text": [
      "t:  97%|██████████████████████████████████████████████████████████████▉  | 1220/1260 [02:26<00:04,  8.35it/s, now=None]"
     ]
    },
    {
     "name": "stdout",
     "output_type": "stream",
     "text": [
      "23372.480876522597 m 593.8005316436873 m\n",
      "8008.016566245991 m 843.6642438960023 m\n"
     ]
    },
    {
     "name": "stderr",
     "output_type": "stream",
     "text": [
      "t:  97%|███████████████████████████████████████████████████████████████  | 1222/1260 [02:26<00:04,  8.51it/s, now=None]"
     ]
    },
    {
     "name": "stdout",
     "output_type": "stream",
     "text": [
      "13762.282305589917 m 776.6531692449363 m\n",
      "47506.17577949074 m 718.4748671632859 m\n"
     ]
    },
    {
     "name": "stderr",
     "output_type": "stream",
     "text": [
      "t:  97%|███████████████████████████████████████████████████████████████▏ | 1224/1260 [02:26<00:04,  8.41it/s, now=None]"
     ]
    },
    {
     "name": "stdout",
     "output_type": "stream",
     "text": [
      "6434.835135693763 m 575.0304177183737 m\n",
      "1337.3792538395342 m 622.4865444315549 m\n"
     ]
    },
    {
     "name": "stderr",
     "output_type": "stream",
     "text": [
      "t:  97%|███████████████████████████████████████████████████████████████▏ | 1226/1260 [02:27<00:03,  8.58it/s, now=None]"
     ]
    },
    {
     "name": "stdout",
     "output_type": "stream",
     "text": [
      "6143.752612079469 m 657.8982833633481 m\n",
      "755.3973391964507 m 623.7091674009683 m\n"
     ]
    },
    {
     "name": "stderr",
     "output_type": "stream",
     "text": [
      "t:  97%|███████████████████████████████████████████████████████████████▎ | 1228/1260 [02:27<00:03,  8.46it/s, now=None]"
     ]
    },
    {
     "name": "stdout",
     "output_type": "stream",
     "text": [
      "1115.9824518122957 m 665.5256377212105 m\n",
      "1140.7826930383128 m 742.5945983656707 m\n"
     ]
    },
    {
     "name": "stderr",
     "output_type": "stream",
     "text": [
      "t:  98%|███████████████████████████████████████████████████████████████▍ | 1230/1260 [02:27<00:03,  7.95it/s, now=None]"
     ]
    },
    {
     "name": "stdout",
     "output_type": "stream",
     "text": [
      "1069.3863836327318 m 764.553628361998 m\n",
      "2140.7489349482194 m 838.5131004697004 m\n"
     ]
    },
    {
     "name": "stderr",
     "output_type": "stream",
     "text": [
      "t:  98%|███████████████████████████████████████████████████████████████▌ | 1232/1260 [02:27<00:03,  7.87it/s, now=None]"
     ]
    },
    {
     "name": "stdout",
     "output_type": "stream",
     "text": [
      "2518.5466042862327 m 982.3720359196262 m\n",
      "2292.5583949874735 m 12767.09537524943 m\n"
     ]
    },
    {
     "name": "stderr",
     "output_type": "stream",
     "text": [
      "t:  98%|███████████████████████████████████████████████████████████████▋ | 1234/1260 [02:28<00:03,  8.12it/s, now=None]"
     ]
    },
    {
     "name": "stdout",
     "output_type": "stream",
     "text": [
      "2813.4920606374735 m 3397.031679411493 m\n",
      "581.5446047552299 m 1036.3913446416034 m\n"
     ]
    },
    {
     "name": "stderr",
     "output_type": "stream",
     "text": [
      "t:  98%|███████████████████████████████████████████████████████████████▊ | 1236/1260 [02:28<00:02,  8.23it/s, now=None]"
     ]
    },
    {
     "name": "stdout",
     "output_type": "stream",
     "text": [
      "912.3566345964638 m 1128.6173426647138 m\n",
      "3609.841598396122 m 1034.5897701311349 m\n"
     ]
    },
    {
     "name": "stderr",
     "output_type": "stream",
     "text": [
      "t:  98%|███████████████████████████████████████████████████████████████▊ | 1238/1260 [02:28<00:02,  8.51it/s, now=None]"
     ]
    },
    {
     "name": "stdout",
     "output_type": "stream",
     "text": [
      "4528.998631420439 m 1639.6826934577923 m\n",
      "5823.214153960072 m 1536.1651353520479 m\n"
     ]
    },
    {
     "name": "stderr",
     "output_type": "stream",
     "text": [
      "t:  98%|███████████████████████████████████████████████████████████████▉ | 1240/1260 [02:28<00:02,  8.49it/s, now=None]"
     ]
    },
    {
     "name": "stdout",
     "output_type": "stream",
     "text": [
      "5240.295637511209 m 1765.1501230682495 m\n",
      "4498.704639683364 m 3230.704922433975 m\n"
     ]
    },
    {
     "name": "stderr",
     "output_type": "stream",
     "text": [
      "t:  99%|████████████████████████████████████████████████████████████████ | 1242/1260 [02:29<00:02,  8.38it/s, now=None]"
     ]
    },
    {
     "name": "stdout",
     "output_type": "stream",
     "text": [
      "5221.919202246578 m 9012.84040709698 m\n",
      "4283.744589000971 m 3571.7169135720437 m\n"
     ]
    },
    {
     "name": "stderr",
     "output_type": "stream",
     "text": [
      "t:  99%|████████████████████████████████████████████████████████████████▏| 1244/1260 [02:29<00:01,  8.38it/s, now=None]"
     ]
    },
    {
     "name": "stdout",
     "output_type": "stream",
     "text": [
      "3703.1733054074753 m 4607.673406602447 m\n",
      "9425.10877781863 m 9218.95818915644 m\n"
     ]
    },
    {
     "name": "stderr",
     "output_type": "stream",
     "text": [
      "t:  99%|████████████████████████████████████████████████████████████████▎| 1246/1260 [02:29<00:01,  8.39it/s, now=None]"
     ]
    },
    {
     "name": "stdout",
     "output_type": "stream",
     "text": [
      "8474.330752356778 m 1919.0808941137127 m\n",
      "4974.839615428982 m 1497.070869768217 m\n"
     ]
    },
    {
     "name": "stderr",
     "output_type": "stream",
     "text": [
      "t:  99%|████████████████████████████████████████████████████████████████▍| 1248/1260 [02:29<00:01,  8.36it/s, now=None]"
     ]
    },
    {
     "name": "stdout",
     "output_type": "stream",
     "text": [
      "5930.259535538761 m 1954.261355898784 m\n",
      "5036.467024082932 m 2623.4828341892044 m\n"
     ]
    },
    {
     "name": "stderr",
     "output_type": "stream",
     "text": [
      "t:  99%|████████████████████████████████████████████████████████████████▍| 1250/1260 [02:29<00:01,  8.53it/s, now=None]"
     ]
    },
    {
     "name": "stdout",
     "output_type": "stream",
     "text": [
      "6210.5622733057935 m 3095.0372493809386 m\n",
      "15656.398742987893 m 22578.941554450732 m\n"
     ]
    },
    {
     "name": "stderr",
     "output_type": "stream",
     "text": [
      "t:  99%|████████████████████████████████████████████████████████████████▌| 1252/1260 [02:30<00:00,  8.50it/s, now=None]"
     ]
    },
    {
     "name": "stdout",
     "output_type": "stream",
     "text": [
      "12611.812295424808 m 29770.290334115714 m\n",
      "31342.972939122865 m 5444.522485818318 m\n"
     ]
    },
    {
     "name": "stderr",
     "output_type": "stream",
     "text": [
      "t: 100%|████████████████████████████████████████████████████████████████▋| 1254/1260 [02:30<00:00,  8.57it/s, now=None]"
     ]
    },
    {
     "name": "stdout",
     "output_type": "stream",
     "text": [
      "53563.30217152158 m 250328.48893066833 m\n",
      "15949.723857191591 m 7108.429673557473 m\n"
     ]
    },
    {
     "name": "stderr",
     "output_type": "stream",
     "text": [
      "t: 100%|████████████████████████████████████████████████████████████████▊| 1256/1260 [02:30<00:00,  8.03it/s, now=None]"
     ]
    },
    {
     "name": "stdout",
     "output_type": "stream",
     "text": [
      "30250.660920438197 m 4506.291998091901 m\n",
      "23888.941213230122 m 1554.5061721018335 m\n"
     ]
    },
    {
     "name": "stderr",
     "output_type": "stream",
     "text": [
      "t: 100%|████████████████████████████████████████████████████████████████▉| 1258/1260 [02:30<00:00,  8.11it/s, now=None]"
     ]
    },
    {
     "name": "stdout",
     "output_type": "stream",
     "text": [
      "12551.244123408658 m 1306.7087618895725 m\n",
      "13367.840841630703 m 1523.7124046327278 m\n"
     ]
    },
    {
     "name": "stderr",
     "output_type": "stream",
     "text": [
      "t: 100%|█████████████████████████████████████████████████████████████████| 1260/1260 [02:31<00:00,  8.41it/s, now=None]"
     ]
    },
    {
     "name": "stdout",
     "output_type": "stream",
     "text": [
      "48224.71792200462 m 2079.7338506833185 m\n",
      "21271.876789591468 m 1725.6768917653437 m\n"
     ]
    },
    {
     "name": "stderr",
     "output_type": "stream",
     "text": [
      "                                                                                                                       \r"
     ]
    },
    {
     "name": "stdout",
     "output_type": "stream",
     "text": [
      "7362.756071988949 m 1694.7458173345822 m\n",
      "Moviepy - Done !\n",
      "Moviepy - video ready output_images/project_video_output.mp4\n",
      "Wall time: 2min 31s\n"
     ]
    },
    {
     "data": {
      "image/png": "[encoded data removed]",
      "text/plain": [
       "<Figure size 432x288 with 1 Axes>"
      ]
     },
     "metadata": {
      "needs_background": "light"
     },
     "output_type": "display_data"
    }
   ],
   "source": [
    "white_output = 'output_images/project_video_output.mp4'\n",
    "## To speed up the testing process you may want to try your pipeline on a shorter subclip of the video\n",
    "## To do so add .subclip(start_second,end_second) to the end of the line below\n",
    "## Where start_second and end_second are integer values representing the start and end of the subclip\n",
    "## You may also uncomment the following line for a subclip of the first 5 seconds\n",
    "##clip1 = VideoFileClip(\"test_videos/solidWhiteRight.mp4\").subclip(0,5)\n",
    "clip1 = VideoFileClip(\"./project_video.mp4\")\n",
    "white_clip = clip1.fl_image(process_image) #NOTE: this function expects color images!!\n",
    "%time white_clip.write_videofile(white_output, audio=False)"
   ]
  },
  {
   "cell_type": "code",
   "execution_count": 15,
   "metadata": {},
   "outputs": [
    {
     "data": {
      "text/html": [
       "\n",
       "<video width=\"960\" height=\"540\" controls>\n",
       "  <source src=\"output_images/project_video_output.mp4\">\n",
       "</video>\n"
      ],
      "text/plain": [
       "<IPython.core.display.HTML object>"
      ]
     },
     "execution_count": 15,
     "metadata": {},
     "output_type": "execute_result"
    }
   ],
   "source": [
    "HTML(\"\"\"\n",
    "<video width=\"960\" height=\"540\" controls>\n",
    "  <source src=\"{0}\">\n",
    "</video>\n",
    "\"\"\".format(white_output))"
   ]
  },
  {
   "cell_type": "code",
   "execution_count": null,
   "metadata": {},
   "outputs": [],
   "source": [
    "import cv2\n",
    "import numpy as np\n",
    "import matplotlib.image as mpimg\n",
    "import matplotlib.pyplot as plt\n",
    "\n",
    "# Load our image - this should be a new frame since last time!\n",
    "binary_warped = mpimg.imread('warped_example.jpg')\n",
    "\n",
    "# Polynomial fit values from the previous frame\n",
    "# Make sure to grab the actual values from the previous step in your project!\n",
    "left_fit = np.array([ 2.13935315e-04, -3.77507980e-01,  4.76902175e+02])\n",
    "right_fit = np.array([4.17622148e-04, -4.93848953e-01,  1.11806170e+03])\n",
    "\n",
    "def fit_poly(img_shape, leftx, lefty, rightx, righty):\n",
    "     ### TO-DO: Fit a second order polynomial to each with np.polyfit() ###\n",
    "    left_fit = np.polyfit(lefty, leftx, 2)\n",
    "    right_fit = np.polyfit(righty, rightx, 2)\n",
    "    # Generate x and y values for plotting\n",
    "    ploty = np.linspace(0, img_shape[0]-1, img_shape[0])\n",
    "    ### TO-DO: Calc both polynomials using ploty, left_fit and right_fit ###\n",
    "    left_fitx = left_fit[0]*ploty**2 + left_fit[1]*ploty + left_fit[2]\n",
    "    right_fitx = right_fit[0]*ploty**2 + right_fit[1]*ploty + right_fit[2]\n",
    "    \n",
    "    return left_fitx, right_fitx, ploty\n",
    "\n",
    "def search_around_poly(binary_warped):\n",
    "    # HYPERPARAMETER\n",
    "    # Choose the width of the margin around the previous polynomial to search\n",
    "    # The quiz grader expects 100 here, but feel free to tune on your own!\n",
    "    margin = 100\n",
    "\n",
    "    # Grab activated pixels\n",
    "    nonzero = binary_warped.nonzero()\n",
    "    nonzeroy = np.array(nonzero[0])\n",
    "    nonzerox = np.array(nonzero[1])\n",
    "    \n",
    "    ### TO-DO: Set the area of search based on activated x-values ###\n",
    "    ### within the +/- margin of our polynomial function ###\n",
    "    ### Hint: consider the window areas for the similarly named variables ###\n",
    "    ### in the previous quiz, but change the windows to our new search area ###\n",
    "    left_lane_inds = ((nonzerox > (left_fit[0]*(nonzeroy**2) + left_fit[1]*nonzeroy + \n",
    "                    left_fit[2] - margin)) & (nonzerox < (left_fit[0]*(nonzeroy**2) + \n",
    "                    left_fit[1]*nonzeroy + left_fit[2] + margin)))\n",
    "    right_lane_inds = ((nonzerox > (right_fit[0]*(nonzeroy**2) + right_fit[1]*nonzeroy + \n",
    "                    right_fit[2] - margin)) & (nonzerox < (right_fit[0]*(nonzeroy**2) + \n",
    "                    right_fit[1]*nonzeroy + right_fit[2] + margin)))\n",
    "    \n",
    "    # Again, extract left and right line pixel positions\n",
    "    leftx = nonzerox[left_lane_inds]\n",
    "    lefty = nonzeroy[left_lane_inds] \n",
    "    rightx = nonzerox[right_lane_inds]\n",
    "    righty = nonzeroy[right_lane_inds]\n",
    "\n",
    "    # Fit new polynomials\n",
    "    left_fitx, right_fitx, ploty = fit_poly(binary_warped.shape, leftx, lefty, rightx, righty)\n",
    "    \n",
    "    ## Visualization ##\n",
    "    # Create an image to draw on and an image to show the selection window\n",
    "    out_img = np.dstack((binary_warped, binary_warped, binary_warped))*255\n",
    "    window_img = np.zeros_like(out_img)\n",
    "    # Color in left and right line pixels\n",
    "    out_img[nonzeroy[left_lane_inds], nonzerox[left_lane_inds]] = [255, 0, 0]\n",
    "    out_img[nonzeroy[right_lane_inds], nonzerox[right_lane_inds]] = [0, 0, 255]\n",
    "\n",
    "    # Generate a polygon to illustrate the search window area\n",
    "    # And recast the x and y points into usable format for cv2.fillPoly()\n",
    "    left_line_window1 = np.array([np.transpose(np.vstack([left_fitx-margin, ploty]))])\n",
    "    left_line_window2 = np.array([np.flipud(np.transpose(np.vstack([left_fitx+margin, \n",
    "                              ploty])))])\n",
    "    left_line_pts = np.hstack((left_line_window1, left_line_window2))\n",
    "    right_line_window1 = np.array([np.transpose(np.vstack([right_fitx-margin, ploty]))])\n",
    "    right_line_window2 = np.array([np.flipud(np.transpose(np.vstack([right_fitx+margin, \n",
    "                              ploty])))])\n",
    "    right_line_pts = np.hstack((right_line_window1, right_line_window2))\n",
    "\n",
    "    # Draw the lane onto the warped blank image\n",
    "    cv2.fillPoly(window_img, np.int_([left_line_pts]), (0,255, 0))\n",
    "    cv2.fillPoly(window_img, np.int_([right_line_pts]), (0,255, 0))\n",
    "    result = cv2.addWeighted(out_img, 1, window_img, 0.3, 0)\n",
    "    \n",
    "    # Plot the polynomial lines onto the image\n",
    "    plt.plot(left_fitx, ploty, color='yellow')\n",
    "    plt.plot(right_fitx, ploty, color='yellow')\n",
    "    ## End visualization steps ##\n",
    "    \n",
    "    return result\n",
    "\n",
    "# Run image through the pipeline\n",
    "# Note that in your project, you'll also want to feed in the previous fits\n",
    "result = search_around_poly(binary_warped)\n",
    "\n",
    "# View your output\n",
    "plt.imshow(result)"
   ]
  }
 ],
 "metadata": {
  "kernelspec": {
   "display_name": "Python 3",
   "language": "python",
   "name": "python3"
  },
  "language_info": {
   "codemirror_mode": {
    "name": "ipython",
    "version": 3
   },
   "file_extension": ".py",
   "mimetype": "text/x-python",
   "name": "python",
   "nbconvert_exporter": "python",
   "pygments_lexer": "ipython3",
   "version": "3.8.5"
  }
 },
 "nbformat": 4,
 "nbformat_minor": 4
}
