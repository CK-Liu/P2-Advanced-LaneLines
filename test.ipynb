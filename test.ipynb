{
 "cells": [
  {
   "cell_type": "code",
   "execution_count": 6,
   "metadata": {},
   "outputs": [
    {
     "name": "stdout",
     "output_type": "stream",
     "text": [
      "0\n"
     ]
    }
   ],
   "source": [
    "import numpy as np\n",
    "import cv2\n",
    "import matplotlib.pyplot as plt\n",
    "import matplotlib.image as mpimg\n",
    "import pickle\n",
    "import glob\n",
    "%matplotlib inline\n",
    "\n",
    "left_video = []\n",
    "right_video = []\n",
    "i_video = -1\n",
    "\n",
    "print(len(left_video))\n",
    "# left_video.append([ 2.13935315e-04, -3.77507980e-01,  4.76902175e+02])\n",
    "# right_video.append([4.17622148e-04, -4.93848953e-01,  1.11806170e+03])\n",
    "\n",
    "# print(left_video)\n",
    "\n",
    "# left_video.append([4.17622148e-04, -4.93848953e-01,  1.11806170e+03])\n",
    "\n",
    "# print(left_video)\n",
    "# print(left_video[1][2])"
   ]
  },
  {
   "cell_type": "code",
   "execution_count": 7,
   "metadata": {},
   "outputs": [],
   "source": [
    "\n",
    "\n",
    "dist_pickle = pickle.load(open('camera_cal/calibration_pickle.p','rb'))\n",
    "mtx = dist_pickle['mtx']\n",
    "dist = dist_pickle['dist']\n",
    "\n",
    "\n",
    "\n",
    "def abs_sobel_thresh(img, orient='x', sobel_kernel=3, thresh=(0,255)):\n",
    "    gray = cv2.cvtColor(img, cv2.COLOR_BGR2GRAY)\n",
    "    if orient == 'x':\n",
    "        abs_sobel = np.absolute(cv2.Sobel(gray, cv2.CV_64F, 1, 0))\n",
    "    if orient == 'y':\n",
    "        abs_sobel = np.absolute(cv2.Sobel(gray, cv2.CV_64F, 0, 1))\n",
    "    scaled_sobel = np.uint8(255*abs_sobel/np.max(abs_sobel))\n",
    "    binary_output = np.zeros_like(scaled_sobel)\n",
    "    binary_output[(scaled_sobel>=thresh[0]) & (scaled_sobel<=thresh[1])] = 1\n",
    "    return binary_output\n",
    "\n",
    "def color_thresh(img, sthresh=(0,255), vthresh=(0,255)):\n",
    "    hls = cv2.cvtColor(img, cv2.COLOR_BGR2HLS)\n",
    "    s_channel = hls[:,:,2]\n",
    "    s_binary = np.zeros_like(s_channel)\n",
    "    s_binary[(s_channel>=sthresh[0]) & (s_channel<=sthresh[1])] = 1\n",
    "    \n",
    "    hsv = cv2.cvtColor(img, cv2.COLOR_BGR2HSV)\n",
    "    v_channel = hsv[:,:,2]\n",
    "    v_binary = np.zeros_like(v_channel)\n",
    "    v_binary[(v_channel>=vthresh[0]) & (v_channel<=vthresh[1])] = 1\n",
    "    \n",
    "    output = np.zeros_like(s_channel)\n",
    "    output[(s_binary==1) & (v_binary==1)] = 1\n",
    "    return output\n",
    "\n",
    "def weighted_img(img, initial_img, α=0.8, β=1., γ=0.):\n",
    "    \"\"\"\n",
    "    `img` is the output of the hough_lines(), An image with lines drawn on it.\n",
    "    Should be a blank image (all black) with lines drawn on it.\n",
    "    \n",
    "    `initial_img` should be the image before any processing.\n",
    "    \n",
    "    The result image is computed as follows:\n",
    "    \n",
    "    initial_img * α + img * β + γ\n",
    "    NOTE: initial_img and img must be the same shape!\n",
    "    \"\"\"\n",
    "    return cv2.addWeighted(initial_img, α, img, β, γ)"
   ]
  },
  {
   "cell_type": "code",
   "execution_count": 8,
   "metadata": {},
   "outputs": [],
   "source": [
    "img = cv2.imread('test_images/test1.jpg')\n",
    "img = cv2.undistort(img, mtx, dist, None, mtx)\n",
    "img_size = (img.shape[1], img.shape[0])\n",
    "bot_width = .76\n",
    "mid_width = .08\n",
    "height_pct = .62\n",
    "bottom_trim = .935\n",
    "\n",
    "src = np.float32([ [img_size[0]*(.5-mid_width/2), img_size[1]*height_pct], [img_size[0]*(.5+mid_width/2), img_size[1]*height_pct],\\\n",
    "                [img_size[0]*(.5+bot_width/2), img_size[1]*bottom_trim], [img_size[0]*(.5-bot_width/2), img_size[1]*bottom_trim] ])\n",
    "offset = img_size[0]*.25\n",
    "dst = np.float32([ [offset, 0], [img_size[0]-offset, 0],\\\n",
    "                   [img_size[0]-offset, img_size[1]], [offset, img_size[1]] ])\n",
    "\n",
    "M = cv2.getPerspectiveTransform(src, dst)\n",
    "Minv = cv2.getPerspectiveTransform(dst, src)\n",
    "    "
   ]
  },
  {
   "cell_type": "code",
   "execution_count": 17,
   "metadata": {},
   "outputs": [
    {
     "name": "stderr",
     "output_type": "stream",
     "text": [
      "Clipping input data to the valid range for imshow with RGB data ([0..1] for floats or [0..255] for integers).\n"
     ]
    },
    {
     "name": "stdout",
     "output_type": "stream",
     "text": [
      "95604.3671376836 m 467.8729897973614 m\n"
     ]
    },
    {
     "data": {
      "text/plain": [
       "<matplotlib.image.AxesImage at 0x2b9a7015df0>"
      ]
     },
     "execution_count": 17,
     "metadata": {},
     "output_type": "execute_result"
    },
    {
     "data": {
      "image/png": "[encoded data removed]",
      "text/plain": [
       "<Figure size 432x288 with 1 Axes>"
      ]
     },
     "metadata": {
      "needs_background": "light"
     },
     "output_type": "display_data"
    }
   ],
   "source": [
    "binary_warped = mpimg.imread('test_images/tracked0.jpg')/255\n",
    "\n",
    "# Define conversions in x and y from pixels space to meters\n",
    "ym_per_pix = 30/720 # meters per pixel in y dimension\n",
    "xm_per_pix = 3.7/700 # meters per pixel in x dimension\n",
    "\n",
    "left_video = []\n",
    "right_video = []\n",
    "i_video = -1\n",
    "\n",
    "def find_lane_pixels(binary_warped):\n",
    "    if len(left_video)==0 and len(right_video)==0:\n",
    "        # Take a histogram of the bottom half of the image\n",
    "        histogram = np.sum(binary_warped[binary_warped.shape[0]//2:,:], axis=0)\n",
    "        # Create an output image to draw on and visualize the result\n",
    "        out_img = np.dstack((binary_warped, binary_warped, binary_warped))\n",
    "        # Find the peak of the left and right halves of the histogram\n",
    "        # These will be the starting point for the left and right lines\n",
    "        midpoint = np.int(histogram.shape[0]//2)\n",
    "        leftx_base = np.argmax(histogram[:midpoint])\n",
    "        rightx_base = np.argmax(histogram[midpoint:]) + midpoint\n",
    "\n",
    "        nwindows = 9\n",
    "        margin = 100   \n",
    "        minpix = 50  # Set minimum number of pixels found to recenter window\n",
    "\n",
    "        # Set height of windows - based on nwindows above and image shape\n",
    "        window_height = np.int(binary_warped.shape[0]//nwindows)\n",
    "        # Identify the x and y positions of all nonzero pixels in the image\n",
    "        nonzero = binary_warped.nonzero()\n",
    "        nonzeroy = np.array(nonzero[0])\n",
    "        nonzerox = np.array(nonzero[1])\n",
    "        # Current positions to be updated later for each window in nwindows\n",
    "        leftx_current = leftx_base\n",
    "        rightx_current = rightx_base\n",
    "\n",
    "        # Create empty lists to receive left and right lane pixel indices\n",
    "        left_lane_inds = []\n",
    "        right_lane_inds = []\n",
    "\n",
    "        # Step through the windows one by one\n",
    "        for window in range(nwindows):\n",
    "            # Identify window boundaries in x and y (and right and left)\n",
    "            win_y_low = binary_warped.shape[0] - (window+1)*window_height\n",
    "            win_y_high = binary_warped.shape[0] - window*window_height\n",
    "            win_xleft_low = leftx_current - margin\n",
    "            win_xleft_high = leftx_current + margin\n",
    "            win_xright_low = rightx_current - margin\n",
    "            win_xright_high = rightx_current + margin        \n",
    "            # Identify the nonzero pixels in x and y within the window #\n",
    "            good_left_inds = ((nonzeroy >= win_y_low) & (nonzeroy < win_y_high) & \n",
    "            (nonzerox >= win_xleft_low) &  (nonzerox < win_xleft_high)).nonzero()[0]\n",
    "            good_right_inds = ((nonzeroy >= win_y_low) & (nonzeroy < win_y_high) & \n",
    "            (nonzerox >= win_xright_low) &  (nonzerox < win_xright_high)).nonzero()[0]        \n",
    "            # Append these indices to the lists\n",
    "            left_lane_inds.append(good_left_inds)\n",
    "            right_lane_inds.append(good_right_inds)\n",
    "\n",
    "            # If you found > minpix pixels, recenter next window on their mean position\n",
    "            if len(good_left_inds) > minpix:\n",
    "                leftx_current = np.int(np.mean(nonzerox[good_left_inds]))\n",
    "            if len(good_right_inds) > minpix:        \n",
    "                rightx_current = np.int(np.mean(nonzerox[good_right_inds]))\n",
    "    else:\n",
    "        margin = 100\n",
    "        out_img = np.dstack((binary_warped, binary_warped, binary_warped))\n",
    "        # Grab activated pixels\n",
    "        nonzero = binary_warped.nonzero()\n",
    "        nonzeroy = np.array(nonzero[0])\n",
    "        nonzerox = np.array(nonzero[1])\n",
    "\n",
    "        ### TO-DO: Set the area of search based on activated x-values ###\n",
    "        ### within the +/- margin of our polynomial function ###\n",
    "        ### Hint: consider the window areas for the similarly named variables ###\n",
    "        ### in the previous quiz, but change the windows to our new search area ###\n",
    "        left_lane_inds = ((nonzerox > (left_video[i_video][0]*(nonzeroy**2) + left_video[i_video][1]*nonzeroy + \n",
    "                        left_video[i_video][2] - margin)) & (nonzerox < (left_video[i_video][0]*(nonzeroy**2) + \n",
    "                        left_video[i_video][1]*nonzeroy + left_video[i_video][2] + margin)))\n",
    "        right_lane_inds = ((nonzerox > (right_video[i_video][0]*(nonzeroy**2) + right_video[i_video][1]*nonzeroy + \n",
    "                        right_video[i_video][2] - margin)) & (nonzerox < (right_video[i_video][0]*(nonzeroy**2) + \n",
    "                        right_video[i_video][1]*nonzeroy + right_video[i_video][2] + margin)))\n",
    "\n",
    "    # Concatenate the arrays of indices (previously was a list of lists of pixels)\n",
    "    try:\n",
    "        left_lane_inds = np.concatenate(left_lane_inds)\n",
    "        right_lane_inds = np.concatenate(right_lane_inds)\n",
    "    except ValueError:\n",
    "        # Avoids an error if the above is not implemented fully\n",
    "        pass\n",
    "\n",
    "    # Extract left and right line pixel positions\n",
    "    leftx = nonzerox[left_lane_inds]\n",
    "    lefty = nonzeroy[left_lane_inds] \n",
    "    rightx = nonzerox[right_lane_inds]\n",
    "    righty = nonzeroy[right_lane_inds]\n",
    "\n",
    "    return leftx, lefty, rightx, righty, out_img\n",
    "\n",
    "\n",
    "def fit_polynomial(binary_warped):\n",
    "    #margin = 100\n",
    "    # Find our lane pixels first\n",
    "    leftx, lefty, rightx, righty, out_img = find_lane_pixels(binary_warped)\n",
    "\n",
    "    # Fit a second order polynomial to each using `np.polyfit`\n",
    "    left_fit = np.polyfit(lefty, leftx, 2)\n",
    "    right_fit = np.polyfit(righty, rightx, 2)\n",
    "    \n",
    "    left_video.append(left_fit)\n",
    "    right_video.append(right_fit)\n",
    "    global i_video\n",
    "    i_video = i_video + 1  #CK\n",
    "    \n",
    "\n",
    "    # Generate x and y values for plotting\n",
    "    ploty = np.linspace(0, binary_warped.shape[0]-1, binary_warped.shape[0] )\n",
    "    \n",
    "    left_fit_cr = np.polyfit(lefty*ym_per_pix, leftx*xm_per_pix, 2)\n",
    "    right_fit_cr = np.polyfit(righty*ym_per_pix, rightx*xm_per_pix, 2)\n",
    "    \n",
    "     # Define y-value where we want radius of curvature\n",
    "    # We'll choose the maximum y-value, corresponding to the bottom of the image\n",
    "    y_eval = np.max(ploty)\n",
    "    \n",
    "    # Calculation of R_curve (radius of curvature)\n",
    "    left_curverad = ((1 + (2*left_fit_cr[0]*y_eval*ym_per_pix + left_fit_cr[1])**2)**1.5) / np.absolute(2*left_fit_cr[0])\n",
    "    right_curverad = ((1 + (2*right_fit_cr[0]*y_eval*ym_per_pix + right_fit_cr[1])**2)**1.5) / np.absolute(2*right_fit_cr[0])  \n",
    "    print(left_curverad, 'm', right_curverad, 'm')\n",
    "    curverad = min(left_curverad, right_curverad)\n",
    "    \n",
    "    try:\n",
    "        left_fitx = left_fit[0]*ploty**2 + left_fit[1]*ploty + left_fit[2]\n",
    "        right_fitx = right_fit[0]*ploty**2 + right_fit[1]*ploty + right_fit[2]\n",
    "    except TypeError:\n",
    "        # Avoids an error if `left` and `right_fit` are still none or incorrect\n",
    "        print('The function failed to fit a line!')\n",
    "        left_fitx = 1*ploty**2 + 1*ploty\n",
    "        right_fitx = 1*ploty**2 + 1*ploty\n",
    "        \n",
    "    camera_center = (left_fitx[-1] + right_fitx[-1])/2\n",
    "    center_diff = (camera_center - binary_warped.shape[1]/2)*xm_per_pix\n",
    "    side_pos = 'left'\n",
    "    if center_diff <= 0:\n",
    "        side_pos = 'right'\n",
    "\n",
    "    ## Visualization ##\n",
    "    # Colors in the left and right lane regions\n",
    "    out_img[lefty, leftx] = [255, 0, 0]\n",
    "    out_img[righty, rightx] = [0, 0, 255]\n",
    "    \n",
    "    window_img = np.zeros_like(out_img)\n",
    "    left_boundary = np.array([np.transpose(np.vstack([left_fitx, ploty]))])\n",
    "    right_boundary = np.array([np.flipud(np.transpose(np.vstack([right_fitx, \n",
    "                              ploty])))])\n",
    "    boundary = np.hstack((left_boundary, right_boundary))\n",
    "    cv2.fillPoly(window_img, np.int_([boundary]), (0,255, 0))\n",
    "    out_img = cv2.addWeighted(out_img, 1, window_img, 0.3, 0)\n",
    "\n",
    "    # Plots the left and right polynomials on the lane lines\n",
    "    plt.plot(left_fitx, ploty, color='yellow')\n",
    "    plt.plot(right_fitx, ploty, color='yellow')\n",
    "\n",
    "    return out_img, curverad, center_diff, side_pos\n",
    "\n",
    "\n",
    "out_img, curverad, center_diff, side_pos = fit_polynomial(binary_warped)\n",
    "\n",
    "plt.imshow(out_img)\n",
    "#plt.imshow(out_img.astype('uint8'))"
   ]
  },
  {
   "cell_type": "code",
   "execution_count": 18,
   "metadata": {},
   "outputs": [
    {
     "name": "stdout",
     "output_type": "stream",
     "text": [
      "(720, 1280, 3)\n"
     ]
    },
    {
     "data": {
      "text/plain": [
       "<matplotlib.image.AxesImage at 0x2b9a71fa7c0>"
      ]
     },
     "execution_count": 18,
     "metadata": {},
     "output_type": "execute_result"
    },
    {
     "data": {
      "image/png": "[encoded data removed]",
      "text/plain": [
       "<Figure size 432x288 with 1 Axes>"
      ]
     },
     "metadata": {
      "needs_background": "light"
     },
     "output_type": "display_data"
    }
   ],
   "source": [
    "image = mpimg.imread('test_images/test1.jpg')\n",
    "unwarped = cv2.warpPerspective(out_img, Minv, img_size, flags=cv2.INTER_NEAREST)\n",
    "print(unwarped.shape)\n",
    "unwarped = np.array(unwarped, dtype=np.uint8)\n",
    "plt.imshow(unwarped)\n",
    "\n",
    "result = weighted_img(unwarped,image,α=0.8, β=1.)\n",
    "\n",
    "cv2.putText(result, 'Radius of Curvature = ' + str(round(curverad,3))\\\n",
    "                + 'm', (50,50), cv2.FONT_HERSHEY_SIMPLEX, 1, (255,255,255), 2)\n",
    "cv2.putText(result, 'Vehicle is  ' + str(abs(round(center_diff,3)))\\\n",
    "                + 'm ' + side_pos +' of center', (50,100), cv2.FONT_HERSHEY_SIMPLEX, 1, (255,255,255), 2)\n",
    "              \n",
    "plt.imshow(result, cmap='gray')\n",
    "\n",
    "#plt.imshow(unwarped)"
   ]
  },
  {
   "cell_type": "code",
   "execution_count": 13,
   "metadata": {},
   "outputs": [
    {
     "name": "stdout",
     "output_type": "stream",
     "text": [
      "[array([-1.71840002e-06, -1.20365439e-01,  4.95107374e+02])]\n"
     ]
    }
   ],
   "source": [
    "print(left_video)"
   ]
  },
  {
   "cell_type": "code",
   "execution_count": 19,
   "metadata": {},
   "outputs": [],
   "source": [
    "# Import everything needed to edit/save/watch video clips\n",
    "from moviepy.editor import VideoFileClip\n",
    "from IPython.display import HTML\n",
    "\n",
    "left_video = []\n",
    "right_video = []\n",
    "i_video = -1\n",
    "\n",
    "def process_image(img):\n",
    "    img = cv2.undistort(img, mtx, dist, None, mtx)\n",
    "    img_size = (img.shape[1], img.shape[0])  \n",
    "    preprocessImage = np.zeros_like(img[:,:,0])\n",
    "    gradx = abs_sobel_thresh(img, orient='x', thresh=(12,255))\n",
    "    grady = abs_sobel_thresh(img, orient='y', thresh=(25,255))\n",
    "    c_binary = color_thresh(img, sthresh=(100,255), vthresh=(50,255))\n",
    "    preprocessImage[((gradx==1) & (grady==1) | (c_binary==1))] = 255\n",
    "    \n",
    "    warped = cv2.warpPerspective(preprocessImage, M, img_size, flags=cv2.INTER_NEAREST)\n",
    "    binary_warped = warped/255\n",
    "    \n",
    "    out_img, curverad, center_diff, side_pos = fit_polynomial(binary_warped) #find left/right line pixels and polyfit\n",
    "    \n",
    "    unwarped = cv2.warpPerspective(out_img, Minv, img_size, flags=cv2.INTER_NEAREST)\n",
    "    unwarped = np.array(unwarped, dtype=np.uint8)\n",
    "    \n",
    "    result = weighted_img(unwarped,img,α=0.8, β=1.)  \n",
    "    cv2.putText(result, 'Radius of Curvature = ' + str(round(curverad,3))\\\n",
    "                + 'm', (50,50), cv2.FONT_HERSHEY_SIMPLEX, 1, (255,255,255), 2)\n",
    "    cv2.putText(result, 'Vehicle is  ' + str(abs(round(center_diff,3)))\\\n",
    "                + 'm ' + side_pos +' of center', (50,100), cv2.FONT_HERSHEY_SIMPLEX, 1, (255,255,255), 2)\n",
    "    \n",
    "    return result\n"
   ]
  },
  {
   "cell_type": "code",
   "execution_count": 20,
   "metadata": {},
   "outputs": [
    {
     "name": "stderr",
     "output_type": "stream",
     "text": [
      "t:   0%|                                                               | 1/1260 [04:51<101:50:43, 291.22s/it, now=None]\n",
      "t:   0%|                                                                            | 0/1260 [00:00<?, ?it/s, now=None]\u001b[A"
     ]
    },
    {
     "name": "stdout",
     "output_type": "stream",
     "text": [
      "400.57334404093325 m 577.0638701797707 m\n",
      "Moviepy - Building video output_images/project_video_output2.mp4.\n",
      "Moviepy - Writing video output_images/project_video_output2.mp4\n",
      "\n",
      "401.4847971687777"
     ]
    },
    {
     "name": "stderr",
     "output_type": "stream",
     "text": [
      "\n",
      "t:   0%|                                                                    | 2/1260 [00:00<01:40, 12.53it/s, now=None]\u001b[A\n",
      "t:   0%|▏                                                                   | 3/1260 [00:00<02:03, 10.20it/s, now=None]\u001b[A"
     ]
    },
    {
     "name": "stdout",
     "output_type": "stream",
     "text": [
      " m 490.82709082694953 m\n",
      "400.01113193407275 m 409.0427999566577 m\n"
     ]
    },
    {
     "name": "stderr",
     "output_type": "stream",
     "text": [
      "\n",
      "t:   0%|▏                                                                   | 4/1260 [00:00<02:20,  8.95it/s, now=None]\u001b[A\n",
      "t:   0%|▎                                                                   | 5/1260 [00:00<02:34,  8.12it/s, now=None]\u001b[A"
     ]
    },
    {
     "name": "stdout",
     "output_type": "stream",
     "text": [
      "402.8669047803683 m 448.5476868886225 m\n",
      "429.9153182951705 m 564.6374015121492 m\n"
     ]
    },
    {
     "name": "stderr",
     "output_type": "stream",
     "text": [
      "\n",
      "t:   0%|▎                                                                   | 6/1260 [00:00<02:43,  7.68it/s, now=None]\u001b[A\n",
      "t:   1%|▍                                                                   | 7/1260 [00:00<02:50,  7.35it/s, now=None]\u001b[A"
     ]
    },
    {
     "name": "stdout",
     "output_type": "stream",
     "text": [
      "423.9680044235061 m 661.2749056922419 m\n",
      "429.23355238917674 m 730.9430708815742 m\n"
     ]
    },
    {
     "name": "stderr",
     "output_type": "stream",
     "text": [
      "\n",
      "t:   1%|▍                                                                   | 8/1260 [00:01<02:51,  7.31it/s, now=None]\u001b[A\n",
      "t:   1%|▍                                                                   | 9/1260 [00:01<02:51,  7.31it/s, now=None]\u001b[A"
     ]
    },
    {
     "name": "stdout",
     "output_type": "stream",
     "text": [
      "455.6671064771293 m 847.7140391403988 m\n",
      "465.16364413291717 m 715.4573000477831 m\n"
     ]
    },
    {
     "name": "stderr",
     "output_type": "stream",
     "text": [
      "\n",
      "t:   1%|▌                                                                  | 10/1260 [00:01<02:59,  6.95it/s, now=None]\u001b[A\n",
      "t:   1%|▌                                                                  | 11/1260 [00:01<02:59,  6.97it/s, now=None]\u001b[A"
     ]
    },
    {
     "name": "stdout",
     "output_type": "stream",
     "text": [
      "475.95392171099746 m 703.2949493993724 m\n",
      "448.8092305798689 m 621.5431249271574 m\n"
     ]
    },
    {
     "name": "stderr",
     "output_type": "stream",
     "text": [
      "\n",
      "t:   1%|▋                                                                  | 12/1260 [00:01<02:59,  6.95it/s, now=None]\u001b[A\n",
      "t:   1%|▋                                                                  | 13/1260 [00:01<02:59,  6.94it/s, now=None]\u001b[A"
     ]
    },
    {
     "name": "stdout",
     "output_type": "stream",
     "text": [
      "453.14547597908455 m 459.9030179176063 m\n",
      "496.1204026116887 m 616.9724287079305 m\n"
     ]
    },
    {
     "name": "stderr",
     "output_type": "stream",
     "text": [
      "\n",
      "t:   1%|▋                                                                  | 14/1260 [00:01<03:01,  6.88it/s, now=None]\u001b[A\n",
      "t:   1%|▊                                                                  | 15/1260 [00:02<02:58,  6.96it/s, now=None]\u001b[A"
     ]
    },
    {
     "name": "stdout",
     "output_type": "stream",
     "text": [
      "507.2959106815486 m 430.15132075732566 m\n",
      "512.1148611919027 m 371.50847015459095 m\n"
     ]
    },
    {
     "name": "stderr",
     "output_type": "stream",
     "text": [
      "\n",
      "t:   1%|▊                                                                  | 16/1260 [00:02<03:00,  6.87it/s, now=None]\u001b[A"
     ]
    },
    {
     "name": "stdout",
     "output_type": "stream",
     "text": [
      "454.63666804365096 m 446.362890126803 m\n",
      "430.7736708633544 m 541.13166891982 m\n"
     ]
    },
    {
     "name": "stderr",
     "output_type": "stream",
     "text": [
      "\n",
      "t:   1%|▉                                                                  | 17/1260 [00:02<03:08,  6.60it/s, now=None]\u001b[A\n",
      "t:   1%|▉                                                                  | 18/1260 [00:02<03:18,  6.24it/s, now=None]\u001b[A"
     ]
    },
    {
     "name": "stdout",
     "output_type": "stream",
     "text": [
      "412.223372492946 m 569.3905122380357 m\n",
      "404.4444946251226 m 467.8291021124759 m\n"
     ]
    },
    {
     "name": "stderr",
     "output_type": "stream",
     "text": [
      "\n",
      "t:   2%|█                                                                  | 19/1260 [00:02<03:17,  6.27it/s, now=None]\u001b[A\n",
      "t:   2%|█                                                                  | 20/1260 [00:02<03:14,  6.37it/s, now=None]\u001b[A"
     ]
    },
    {
     "name": "stdout",
     "output_type": "stream",
     "text": [
      "416.4637559006906 m 489.60398611319704 m\n",
      "429.7300107249282 m 520.2524265849563 m\n"
     ]
    },
    {
     "name": "stderr",
     "output_type": "stream",
     "text": [
      "\n",
      "t:   2%|█                                                                  | 21/1260 [00:03<03:18,  6.23it/s, now=None]\u001b[A\n",
      "t:   2%|█▏                                                                 | 22/1260 [00:03<03:12,  6.45it/s, now=None]\u001b[A\n",
      "t:   2%|█▏                                                                 | 23/1260 [00:03<03:08,  6.57it/s, now=None]\u001b[A"
     ]
    },
    {
     "name": "stdout",
     "output_type": "stream",
     "text": [
      "462.9229269266977 m 778.8034897692875 m\n",
      "472.9171528528288 m 750.9394254948105 m\n"
     ]
    },
    {
     "name": "stderr",
     "output_type": "stream",
     "text": [
      "\n",
      "t:   2%|█▎                                                                 | 24/1260 [00:03<03:12,  6.42it/s, now=None]\u001b[A"
     ]
    },
    {
     "name": "stdout",
     "output_type": "stream",
     "text": [
      "461.2298428385487 m 723.5751957791432 m\n",
      "396.46408844138205 m 569.2245028283957 m\n"
     ]
    },
    {
     "name": "stderr",
     "output_type": "stream",
     "text": [
      "\n",
      "t:   2%|█▎                                                                 | 25/1260 [00:03<03:07,  6.58it/s, now=None]\u001b[A\n",
      "t:   2%|█▍                                                                 | 26/1260 [00:03<03:08,  6.54it/s, now=None]\u001b[A"
     ]
    },
    {
     "name": "stdout",
     "output_type": "stream",
     "text": [
      "385.1153878612167 m 399.11281415997706 m\n",
      "400.05586154387004 m 530.4738393548373 m\n"
     ]
    },
    {
     "name": "stderr",
     "output_type": "stream",
     "text": [
      "\n",
      "t:   2%|█▍                                                                 | 27/1260 [00:03<03:11,  6.43it/s, now=None]\u001b[A\n",
      "t:   2%|█▍                                                                 | 28/1260 [00:04<03:04,  6.66it/s, now=None]\u001b[A\n",
      "t:   2%|█▌                                                                 | 29/1260 [00:04<03:01,  6.79it/s, now=None]\u001b[A"
     ]
    },
    {
     "name": "stdout",
     "output_type": "stream",
     "text": [
      "377.65093471815317 m 382.97347590094995 m\n",
      "392.68801912676025 m 449.8784283890931 m\n"
     ]
    },
    {
     "name": "stderr",
     "output_type": "stream",
     "text": [
      "\n",
      "t:   2%|█▌                                                                 | 30/1260 [00:04<03:07,  6.57it/s, now=None]\u001b[A"
     ]
    },
    {
     "name": "stdout",
     "output_type": "stream",
     "text": [
      "373.77338266701673 m 353.06491875161896 m\n",
      "353.0565677935349 m 368.2433583887713 m\n"
     ]
    },
    {
     "name": "stderr",
     "output_type": "stream",
     "text": [
      "\n",
      "t:   2%|█▋                                                                 | 31/1260 [00:04<03:06,  6.59it/s, now=None]\u001b[A\n",
      "t:   3%|█▋                                                                 | 32/1260 [00:04<03:07,  6.56it/s, now=None]\u001b[A"
     ]
    },
    {
     "name": "stdout",
     "output_type": "stream",
     "text": [
      "361.04662970613606 m 464.4644706404154 m\n",
      "334.49310605148327 m 448.7770997342061 m\n"
     ]
    },
    {
     "name": "stderr",
     "output_type": "stream",
     "text": [
      "\n",
      "t:   3%|█▊                                                                 | 33/1260 [00:04<03:07,  6.54it/s, now=None]\u001b[A\n",
      "t:   3%|█▊                                                                 | 34/1260 [00:04<03:05,  6.62it/s, now=None]\u001b[A\n",
      "t:   3%|█▊                                                                 | 35/1260 [00:05<03:00,  6.79it/s, now=None]\u001b[A"
     ]
    },
    {
     "name": "stdout",
     "output_type": "stream",
     "text": [
      "341.7621102154494 m 580.9758123283987 m\n",
      "324.24681440050165 m 364.078893415498 m\n"
     ]
    },
    {
     "name": "stderr",
     "output_type": "stream",
     "text": [
      "\n",
      "t:   3%|█▉                                                                 | 36/1260 [00:05<03:01,  6.73it/s, now=None]\u001b[A\n",
      "t:   3%|█▉                                                                 | 37/1260 [00:05<03:00,  6.78it/s, now=None]\u001b[A"
     ]
    },
    {
     "name": "stdout",
     "output_type": "stream",
     "text": [
      "325.4152043822953 m 287.04409428380524 m\n",
      "317.08437037115027 m 279.1763895852852 m\n"
     ]
    },
    {
     "name": "stderr",
     "output_type": "stream",
     "text": [
      "\n",
      "t:   3%|██                                                                 | 38/1260 [00:05<02:58,  6.84it/s, now=None]\u001b[A\n",
      "t:   3%|██                                                                 | 39/1260 [00:05<02:57,  6.89it/s, now=None]\u001b[A"
     ]
    },
    {
     "name": "stdout",
     "output_type": "stream",
     "text": [
      "319.86129747994306 m 283.8251729388519 m\n",
      "319.7026368534408 m 316.09575058957824 m\n"
     ]
    },
    {
     "name": "stderr",
     "output_type": "stream",
     "text": [
      "\n",
      "t:   3%|██▏                                                                | 40/1260 [00:05<02:55,  6.95it/s, now=None]\u001b[A"
     ]
    },
    {
     "name": "stdout",
     "output_type": "stream",
     "text": [
      "315.46967649535094 m 380.1132166579066 m\n",
      "324.06645517595604 m 403.1845180743015 m\n"
     ]
    },
    {
     "name": "stderr",
     "output_type": "stream",
     "text": [
      "\n",
      "t:   3%|██▏                                                                | 41/1260 [00:05<02:56,  6.90it/s, now=None]\u001b[A\n",
      "t:   3%|██▏                                                                | 42/1260 [00:06<02:56,  6.90it/s, now=None]\u001b[A"
     ]
    },
    {
     "name": "stdout",
     "output_type": "stream",
     "text": [
      "323.6777145330004 m 410.51921656377084 m\n",
      "334.03967064029416 m 414.29360184178637 m\n"
     ]
    },
    {
     "name": "stderr",
     "output_type": "stream",
     "text": [
      "\n",
      "t:   3%|██▎                                                                | 43/1260 [00:06<02:59,  6.78it/s, now=None]\u001b[A\n",
      "t:   3%|██▎                                                                | 44/1260 [00:06<03:05,  6.55it/s, now=None]\u001b[A\n",
      "t:   4%|██▍                                                                | 45/1260 [00:06<03:02,  6.66it/s, now=None]\u001b[A"
     ]
    },
    {
     "name": "stdout",
     "output_type": "stream",
     "text": [
      "345.45169567777 m 497.4208512233277 m\n",
      "362.4516079951151 m 491.2880177885704 m\n"
     ]
    },
    {
     "name": "stderr",
     "output_type": "stream",
     "text": [
      "\n",
      "t:   4%|██▍                                                                | 46/1260 [00:06<02:59,  6.77it/s, now=None]\u001b[A"
     ]
    },
    {
     "name": "stdout",
     "output_type": "stream",
     "text": [
      "374.9623928460755 m 518.1350076930289 m\n",
      "389.0612313586212 m 516.7322179707435 m\n"
     ]
    },
    {
     "name": "stderr",
     "output_type": "stream",
     "text": [
      "\n",
      "t:   4%|██▍                                                                | 47/1260 [00:06<03:05,  6.54it/s, now=None]\u001b[A\n",
      "t:   4%|██▌                                                                | 48/1260 [00:07<03:06,  6.52it/s, now=None]\u001b[A\n"
     ]
    },
    {
     "name": "stdout",
     "output_type": "stream",
     "text": [
      "407.2405561181403 m 563.0706483973013 m\n",
      "413.84851404703113 m 371.08447862238967 m\n"
     ]
    },
    {
     "name": "stderr",
     "output_type": "stream",
     "text": [
      "t:   4%|██▌                                                                | 49/1260 [00:07<03:04,  6.55it/s, now=None]\u001b[A\n",
      "t:   4%|██▋                                                                | 50/1260 [00:07<03:01,  6.66it/s, now=None]\u001b[A"
     ]
    },
    {
     "name": "stdout",
     "output_type": "stream",
     "text": [
      "431.791440589981 m 443.08132515022993 m\n",
      "439.238966795336 m 401.6095889068433 m\n"
     ]
    },
    {
     "name": "stderr",
     "output_type": "stream",
     "text": [
      "\n",
      "t:   4%|██▋                                                                | 51/1260 [00:07<03:10,  6.36it/s, now=None]\u001b[A\n",
      "t:   4%|██▊                                                                | 52/1260 [00:07<03:10,  6.36it/s, now=None]\u001b[A"
     ]
    },
    {
     "name": "stdout",
     "output_type": "stream",
     "text": [
      "460.2914743364841 m 367.6823300520095 m\n",
      "448.80129824830226 m 391.13470026383726 m\n"
     ]
    },
    {
     "name": "stderr",
     "output_type": "stream",
     "text": [
      "\n",
      "t:   4%|██▊                                                                | 53/1260 [00:07<03:08,  6.39it/s, now=None]\u001b[A\n",
      "t:   4%|██▊                                                                | 54/1260 [00:08<03:14,  6.21it/s, now=None]\u001b[A"
     ]
    },
    {
     "name": "stdout",
     "output_type": "stream",
     "text": [
      "451.7651544429893 m 505.32945374994216 m\n",
      "467.3094047441784 m 642.8660854199293 m\n"
     ]
    },
    {
     "name": "stderr",
     "output_type": "stream",
     "text": [
      "\n",
      "t:   4%|██▉                                                                | 55/1260 [00:08<03:12,  6.25it/s, now=None]\u001b[A\n",
      "t:   4%|██▉                                                                | 56/1260 [00:08<03:07,  6.42it/s, now=None]\u001b[A"
     ]
    },
    {
     "name": "stdout",
     "output_type": "stream",
     "text": [
      "487.4668709292487 m 561.8228473606104 m\n",
      "479.6934239471397 m 589.3397155836932 m\n"
     ]
    },
    {
     "name": "stderr",
     "output_type": "stream",
     "text": [
      "\n",
      "t:   5%|███                                                                | 57/1260 [00:08<03:04,  6.53it/s, now=None]\u001b[A\n",
      "t:   5%|███                                                                | 58/1260 [00:08<03:01,  6.62it/s, now=None]\u001b[A"
     ]
    },
    {
     "name": "stdout",
     "output_type": "stream",
     "text": [
      "471.12849151736805 m 422.3589470967912 m\n",
      "481.3219312416816 m 564.475932380845 m\n"
     ]
    },
    {
     "name": "stderr",
     "output_type": "stream",
     "text": [
      "\n",
      "t:   5%|███▏                                                               | 59/1260 [00:08<03:00,  6.66it/s, now=None]\u001b[A\n",
      "t:   5%|███▏                                                               | 60/1260 [00:08<02:57,  6.76it/s, now=None]\u001b[A"
     ]
    },
    {
     "name": "stdout",
     "output_type": "stream",
     "text": [
      "453.7783559136699 m 280.6205192551481 m\n",
      "428.08521195942853 m 369.34839922428813 m\n"
     ]
    },
    {
     "name": "stderr",
     "output_type": "stream",
     "text": [
      "\n",
      "t:   5%|███▏                                                               | 61/1260 [00:09<03:00,  6.66it/s, now=None]\u001b[A\n",
      "t:   5%|███▎                                                               | 62/1260 [00:09<03:04,  6.48it/s, now=None]\u001b[A"
     ]
    },
    {
     "name": "stdout",
     "output_type": "stream",
     "text": [
      "419.27762674780814 m 396.85142512910824 m\n",
      "398.2965610661117 m 396.7972527238701 m\n"
     ]
    },
    {
     "name": "stderr",
     "output_type": "stream",
     "text": [
      "\n",
      "t:   5%|███▎                                                               | 63/1260 [00:09<03:06,  6.42it/s, now=None]\u001b[A\n",
      "t:   5%|███▍                                                               | 64/1260 [00:09<03:04,  6.49it/s, now=None]\u001b[A\n",
      "t:   5%|███▍                                                               | 65/1260 [00:09<03:01,  6.59it/s, now=None]\u001b[A"
     ]
    },
    {
     "name": "stdout",
     "output_type": "stream",
     "text": [
      "404.81073602801416 m 458.8303100892959 m\n",
      "392.40152779119904 m 304.5569989492519 m\n"
     ]
    },
    {
     "name": "stderr",
     "output_type": "stream",
     "text": [
      "\n",
      "t:   5%|███▌                                                               | 66/1260 [00:09<03:02,  6.53it/s, now=None]\u001b[A"
     ]
    },
    {
     "name": "stdout",
     "output_type": "stream",
     "text": [
      "428.958647323319 m 326.7608790312518 m\n",
      "398.3991500079624 m 314.41832198783766 m\n"
     ]
    },
    {
     "name": "stderr",
     "output_type": "stream",
     "text": [
      "\n",
      "t:   5%|███▌                                                               | 67/1260 [00:09<03:05,  6.43it/s, now=None]\u001b[A\n",
      "t:   5%|███▌                                                               | 68/1260 [00:10<03:06,  6.40it/s, now=None]\u001b[A"
     ]
    },
    {
     "name": "stdout",
     "output_type": "stream",
     "text": [
      "420.27364315481157 m 303.9276653201151 m\n",
      "423.56741382708805 m 302.2827688305147 m\n"
     ]
    },
    {
     "name": "stderr",
     "output_type": "stream",
     "text": [
      "\n",
      "t:   5%|███▋                                                               | 69/1260 [00:10<03:05,  6.43it/s, now=None]\u001b[A\n",
      "t:   6%|███▋                                                               | 70/1260 [00:10<03:05,  6.42it/s, now=None]\u001b[A\n",
      "t:   6%|███▊                                                               | 71/1260 [00:10<03:03,  6.47it/s, now=None]\u001b[A"
     ]
    },
    {
     "name": "stdout",
     "output_type": "stream",
     "text": [
      "416.5023291898191 m 308.27176321104275 m\n",
      "447.39233937058293 m 273.73807143378855 m\n"
     ]
    },
    {
     "name": "stderr",
     "output_type": "stream",
     "text": [
      "\n",
      "t:   6%|███▊                                                               | 72/1260 [00:10<03:00,  6.58it/s, now=None]\u001b[A\n",
      "t:   6%|███▉                                                               | 73/1260 [00:10<02:57,  6.68it/s, now=None]\u001b[A"
     ]
    },
    {
     "name": "stdout",
     "output_type": "stream",
     "text": [
      "433.59903219161896 m 293.2573387864231 m\n",
      "475.8039975518804 m 326.6306093062 m\n"
     ]
    },
    {
     "name": "stderr",
     "output_type": "stream",
     "text": [
      "\n",
      "t:   6%|███▉                                                               | 74/1260 [00:11<02:57,  6.67it/s, now=None]\u001b[A\n",
      "t:   6%|███▉                                                               | 75/1260 [00:11<02:58,  6.65it/s, now=None]\u001b[A"
     ]
    },
    {
     "name": "stdout",
     "output_type": "stream",
     "text": [
      "490.73493946321463 m 308.594248674107 m\n",
      "493.0805030561628 m 368.6568555327069 m\n"
     ]
    },
    {
     "name": "stderr",
     "output_type": "stream",
     "text": [
      "\n",
      "t:   6%|████                                                               | 76/1260 [00:11<02:55,  6.75it/s, now=None]\u001b[A\n",
      "t:   6%|████                                                               | 77/1260 [00:11<02:57,  6.65it/s, now=None]\u001b[A"
     ]
    },
    {
     "name": "stdout",
     "output_type": "stream",
     "text": [
      "512.1949309146823 m 356.626502776848 m\n",
      "503.06229508801056 m 426.2019412244367 m\n"
     ]
    },
    {
     "name": "stderr",
     "output_type": "stream",
     "text": [
      "\n",
      "t:   6%|████▏                                                              | 78/1260 [00:11<02:57,  6.67it/s, now=None]\u001b[A"
     ]
    },
    {
     "name": "stdout",
     "output_type": "stream",
     "text": [
      "557.0192168808813 m 379.1439317830244 m\n",
      "550.9379275628576 m 397.0565337343583 m\n"
     ]
    },
    {
     "name": "stderr",
     "output_type": "stream",
     "text": [
      "\n",
      "t:   6%|████▏                                                              | 79/1260 [00:11<02:57,  6.64it/s, now=None]\u001b[A\n",
      "t:   6%|████▎                                                              | 80/1260 [00:11<02:53,  6.79it/s, now=None]\u001b[A"
     ]
    },
    {
     "name": "stdout",
     "output_type": "stream",
     "text": [
      "567.0400197222854 m 443.3227128127564 m\n",
      "562.3836727327238 m 490.13634461455115 m\n"
     ]
    },
    {
     "name": "stderr",
     "output_type": "stream",
     "text": [
      "\n",
      "t:   6%|████▎                                                              | 81/1260 [00:12<02:58,  6.60it/s, now=None]\u001b[A\n",
      "t:   7%|████▎                                                              | 82/1260 [00:12<02:56,  6.69it/s, now=None]\u001b[A\n",
      "t:   7%|████▍                                                              | 83/1260 [00:12<02:53,  6.77it/s, now=None]\u001b[A"
     ]
    },
    {
     "name": "stdout",
     "output_type": "stream",
     "text": [
      "519.6615237499798 m 590.2924767659331 m\n",
      "495.9995348989232 m 646.0572341356349 m\n"
     ]
    },
    {
     "name": "stderr",
     "output_type": "stream",
     "text": [
      "\n",
      "t:   7%|████▍                                                              | 84/1260 [00:12<02:54,  6.73it/s, now=None]\u001b[A"
     ]
    },
    {
     "name": "stdout",
     "output_type": "stream",
     "text": [
      "487.0757843428714 m 766.3641501526747 m\n",
      "494.6372130866654 m 1059.2819982507363 m\n"
     ]
    },
    {
     "name": "stderr",
     "output_type": "stream",
     "text": [
      "\n",
      "t:   7%|████▌                                                              | 85/1260 [00:12<02:58,  6.58it/s, now=None]\u001b[A\n",
      "t:   7%|████▌                                                              | 86/1260 [00:12<02:58,  6.56it/s, now=None]\u001b[A"
     ]
    },
    {
     "name": "stdout",
     "output_type": "stream",
     "text": [
      "468.041910767446 m 849.7268068279709 m\n",
      "464.44475915616687 m 687.7513696560158 m\n"
     ]
    },
    {
     "name": "stderr",
     "output_type": "stream",
     "text": [
      "\n",
      "t:   7%|████▋                                                              | 87/1260 [00:13<02:57,  6.60it/s, now=None]\u001b[A\n",
      "t:   7%|████▋                                                              | 88/1260 [00:13<02:57,  6.61it/s, now=None]\u001b[A\n",
      "t:   7%|████▋                                                              | 89/1260 [00:13<02:56,  6.63it/s, now=None]\u001b[A"
     ]
    },
    {
     "name": "stdout",
     "output_type": "stream",
     "text": [
      "435.0054506015076 m 323.6472663488471 m\n",
      "390.0237750471319 m 370.57430522014147 m\n"
     ]
    },
    {
     "name": "stderr",
     "output_type": "stream",
     "text": [
      "\n",
      "t:   7%|████▊                                                              | 90/1260 [00:13<02:57,  6.58it/s, now=None]\u001b[A\n",
      "t:   7%|████▊                                                              | 91/1260 [00:13<02:55,  6.68it/s, now=None]\u001b[A"
     ]
    },
    {
     "name": "stdout",
     "output_type": "stream",
     "text": [
      "360.62711075483054 m 441.69590167668537 m\n",
      "320.47164187630864 m 332.30581864419 m\n"
     ]
    },
    {
     "name": "stderr",
     "output_type": "stream",
     "text": [
      "\n",
      "t:   7%|████▉                                                              | 92/1260 [00:13<02:55,  6.67it/s, now=None]\u001b[A\n",
      "t:   7%|████▉                                                              | 93/1260 [00:13<02:54,  6.67it/s, now=None]\u001b[A"
     ]
    },
    {
     "name": "stdout",
     "output_type": "stream",
     "text": [
      "339.4695369406766 m 437.17363311271106 m\n",
      "339.460598062961 m 469.98512579457275 m\n"
     ]
    },
    {
     "name": "stderr",
     "output_type": "stream",
     "text": [
      "\n",
      "t:   7%|████▉                                                              | 94/1260 [00:14<02:53,  6.73it/s, now=None]\u001b[A\n",
      "t:   8%|█████                                                              | 95/1260 [00:14<02:52,  6.74it/s, now=None]\u001b[A"
     ]
    },
    {
     "name": "stdout",
     "output_type": "stream",
     "text": [
      "317.2734965898105 m 358.45943793775587 m\n",
      "317.4462524832293 m 268.408798075428 m\n"
     ]
    },
    {
     "name": "stderr",
     "output_type": "stream",
     "text": [
      "\n",
      "t:   8%|█████                                                              | 96/1260 [00:14<02:50,  6.82it/s, now=None]\u001b[A"
     ]
    },
    {
     "name": "stdout",
     "output_type": "stream",
     "text": [
      "334.3633902402664 m 255.09921957582242 m\n",
      "342.05361196514934 m 230.65943853021807 m\n"
     ]
    },
    {
     "name": "stderr",
     "output_type": "stream",
     "text": [
      "\n",
      "t:   8%|█████▏                                                             | 97/1260 [00:14<02:52,  6.74it/s, now=None]\u001b[A\n",
      "t:   8%|█████▏                                                             | 98/1260 [00:14<02:51,  6.76it/s, now=None]\u001b[A"
     ]
    },
    {
     "name": "stdout",
     "output_type": "stream",
     "text": [
      "333.44924163215336 m 246.53648104813723 m\n",
      "352.55793094587835 m 254.20163869705092 m\n"
     ]
    },
    {
     "name": "stderr",
     "output_type": "stream",
     "text": [
      "\n",
      "t:   8%|█████▎                                                             | 99/1260 [00:14<02:51,  6.77it/s, now=None]\u001b[A\n",
      "t:   8%|█████▏                                                            | 100/1260 [00:14<02:51,  6.77it/s, now=None]\u001b[A\n",
      "t:   8%|█████▎                                                            | 101/1260 [00:15<02:47,  6.91it/s, now=None]\u001b[A"
     ]
    },
    {
     "name": "stdout",
     "output_type": "stream",
     "text": [
      "338.56551065693304 m 274.0781971073419 m\n",
      "349.541915024461 m 283.61279658609465 m\n"
     ]
    },
    {
     "name": "stderr",
     "output_type": "stream",
     "text": [
      "\n",
      "t:   8%|█████▎                                                            | 102/1260 [00:15<02:47,  6.90it/s, now=None]\u001b[A\n"
     ]
    },
    {
     "name": "stdout",
     "output_type": "stream",
     "text": [
      "339.66718476444316 m 338.36168922567157 m\n",
      "333.5256486203205 m 377.7285988702395 m\n"
     ]
    },
    {
     "name": "stderr",
     "output_type": "stream",
     "text": [
      "t:   8%|█████▍                                                            | 103/1260 [00:15<02:47,  6.89it/s, now=None]\u001b[A\n",
      "t:   8%|█████▍                                                            | 104/1260 [00:15<02:47,  6.91it/s, now=None]\u001b[A\n",
      "t:   8%|█████▌                                                            | 105/1260 [00:15<02:49,  6.81it/s, now=None]"
     ]
    },
    {
     "name": "stdout",
     "output_type": "stream",
     "text": [
      "338.86180981536546 m 391.334314704093 m\n",
      "335.8045143657222 m 375.94838114475823 m\n"
     ]
    },
    {
     "name": "stderr",
     "output_type": "stream",
     "text": [
      "\u001b[A\n",
      "t:   8%|█████▌                                                            | 106/1260 [00:15<02:52,  6.71it/s, now=None]\u001b[A"
     ]
    },
    {
     "name": "stdout",
     "output_type": "stream",
     "text": [
      "365.3003673729443 m 440.88718191533457 m\n",
      "360.51043052802163 m 473.7920445392322 m\n"
     ]
    },
    {
     "name": "stderr",
     "output_type": "stream",
     "text": [
      "\n",
      "t:   8%|█████▌                                                            | 107/1260 [00:15<02:50,  6.77it/s, now=None]\u001b[A\n",
      "t:   9%|█████▋                                                            | 108/1260 [00:16<02:44,  7.01it/s, now=None]\u001b[A"
     ]
    },
    {
     "name": "stdout",
     "output_type": "stream",
     "text": [
      "366.9359910885845 m 482.3846648411295 m\n",
      "345.4636262792067 m 512.7941021264238 m\n"
     ]
    },
    {
     "name": "stderr",
     "output_type": "stream",
     "text": [
      "\n",
      "t:   9%|█████▋                                                            | 109/1260 [00:16<02:47,  6.87it/s, now=None]\u001b[A\n",
      "t:   9%|█████▊                                                            | 110/1260 [00:16<02:49,  6.78it/s, now=None]\u001b[A\n",
      "t:   9%|█████▊                                                            | 111/1260 [00:16<02:51,  6.70it/s, now=None]\u001b[A"
     ]
    },
    {
     "name": "stdout",
     "output_type": "stream",
     "text": [
      "339.95832176444566 m 451.21109160283123 m\n",
      "339.14388596638844 m 323.35881619238927 m\n"
     ]
    },
    {
     "name": "stderr",
     "output_type": "stream",
     "text": [
      "\n",
      "t:   9%|█████▊                                                            | 112/1260 [00:16<02:51,  6.71it/s, now=None]\u001b[A\n",
      "t:   9%|█████▉                                                            | 113/1260 [00:16<02:48,  6.80it/s, now=None]\u001b[A"
     ]
    },
    {
     "name": "stdout",
     "output_type": "stream",
     "text": [
      "336.0678338742043 m 294.40672982602496 m\n",
      "365.5960611172304 m 319.81249821821314 m\n"
     ]
    },
    {
     "name": "stderr",
     "output_type": "stream",
     "text": [
      "\n",
      "t:   9%|█████▉                                                            | 114/1260 [00:16<02:48,  6.82it/s, now=None]\u001b[A\n",
      "t:   9%|██████                                                            | 115/1260 [00:17<02:45,  6.93it/s, now=None]\u001b[A"
     ]
    },
    {
     "name": "stdout",
     "output_type": "stream",
     "text": [
      "352.5182665904684 m 278.7854345234396 m\n",
      "350.4827414130074 m 284.6439746323717 m\n"
     ]
    },
    {
     "name": "stderr",
     "output_type": "stream",
     "text": [
      "\n",
      "t:   9%|██████                                                            | 116/1260 [00:17<02:46,  6.88it/s, now=None]\u001b[A\n",
      "t:   9%|██████▏                                                           | 117/1260 [00:17<02:47,  6.84it/s, now=None]\u001b[A"
     ]
    },
    {
     "name": "stdout",
     "output_type": "stream",
     "text": [
      "334.61571193188047 m 361.31213969312495 m\n",
      "330.9033147929255 m 375.0723274706405 m\n"
     ]
    },
    {
     "name": "stderr",
     "output_type": "stream",
     "text": [
      "\n",
      "t:   9%|██████▏                                                           | 118/1260 [00:17<02:50,  6.70it/s, now=None]\u001b[A\n",
      "t:   9%|██████▏                                                           | 119/1260 [00:17<02:49,  6.75it/s, now=None]\u001b[A"
     ]
    },
    {
     "name": "stdout",
     "output_type": "stream",
     "text": [
      "334.4122869273796 m 377.7504394652791 m\n",
      "339.5631237240995 m 422.7768767887845 m\n"
     ]
    },
    {
     "name": "stderr",
     "output_type": "stream",
     "text": [
      "\n",
      "t:  10%|██████▎                                                           | 120/1260 [00:17<02:48,  6.77it/s, now=None]\u001b[A"
     ]
    },
    {
     "name": "stdout",
     "output_type": "stream",
     "text": [
      "344.8813675142849 m 338.5943194739221 m\n",
      "324.95933446156613 m 288.3362776086743 m\n"
     ]
    },
    {
     "name": "stderr",
     "output_type": "stream",
     "text": [
      "\n",
      "t:  10%|██████▎                                                           | 121/1260 [00:18<02:51,  6.64it/s, now=None]\u001b[A\n",
      "t:  10%|██████▍                                                           | 122/1260 [00:18<02:53,  6.55it/s, now=None]\u001b[A\n",
      "t:  10%|██████▍                                                           | 123/1260 [00:18<02:50,  6.67it/s, now=None]\u001b[A"
     ]
    },
    {
     "name": "stdout",
     "output_type": "stream",
     "text": [
      "339.4505118873408 m 246.33879866042201 m\n",
      "340.04934220740046 m 258.54109946845665 m\n"
     ]
    },
    {
     "name": "stderr",
     "output_type": "stream",
     "text": [
      "\n",
      "t:  10%|██████▍                                                           | 124/1260 [00:18<02:52,  6.59it/s, now=None]\u001b[A\n"
     ]
    },
    {
     "name": "stdout",
     "output_type": "stream",
     "text": [
      "339.8077990627764 m 335.7803168464642 m\n",
      "335.07269199542105 m 386.7589128274207 m\n"
     ]
    },
    {
     "name": "stderr",
     "output_type": "stream",
     "text": [
      "t:  10%|██████▌                                                           | 125/1260 [00:18<02:53,  6.55it/s, now=None]\u001b[A\n",
      "t:  10%|██████▌                                                           | 126/1260 [00:18<02:51,  6.61it/s, now=None]\u001b[A\n",
      "t:  10%|██████▋                                                           | 127/1260 [00:18<02:50,  6.63it/s, now=None]\u001b[A"
     ]
    },
    {
     "name": "stdout",
     "output_type": "stream",
     "text": [
      "339.41676466774095 m 428.74804092056604 m\n",
      "360.2155218689929 m 438.0103708374292 m\n"
     ]
    },
    {
     "name": "stderr",
     "output_type": "stream",
     "text": [
      "\n",
      "t:  10%|██████▋                                                           | 128/1260 [00:19<02:50,  6.65it/s, now=None]\u001b[A\n",
      "t:  10%|██████▊                                                           | 129/1260 [00:19<02:50,  6.62it/s, now=None]"
     ]
    },
    {
     "name": "stdout",
     "output_type": "stream",
     "text": [
      "362.50987082713425 m 500.1960997455766 m\n",
      "372.7355120508626 m 473.02592191245895 m\n"
     ]
    },
    {
     "name": "stderr",
     "output_type": "stream",
     "text": [
      "\u001b[A\n",
      "t:  10%|██████▊                                                           | 130/1260 [00:19<02:49,  6.68it/s, now=None]\u001b[A\n",
      "t:  10%|██████▊                                                           | 131/1260 [00:19<02:46,  6.76it/s, now=None]\u001b[A"
     ]
    },
    {
     "name": "stdout",
     "output_type": "stream",
     "text": [
      "352.9229014549935 m 314.03673875688025 m\n",
      "370.4964488423513 m 344.20163411808727 m\n"
     ]
    },
    {
     "name": "stderr",
     "output_type": "stream",
     "text": [
      "\n",
      "t:  10%|██████▉                                                           | 132/1260 [00:19<02:46,  6.79it/s, now=None]\u001b[A\n",
      "t:  11%|██████▉                                                           | 133/1260 [00:19<02:47,  6.73it/s, now=None]\u001b[A"
     ]
    },
    {
     "name": "stdout",
     "output_type": "stream",
     "text": [
      "374.22952260789486 m 298.0959738638077 m\n",
      "375.3651434528536 m 296.144291656754 m\n"
     ]
    },
    {
     "name": "stderr",
     "output_type": "stream",
     "text": [
      "\n",
      "t:  11%|███████                                                           | 134/1260 [00:19<02:49,  6.64it/s, now=None]\u001b[A"
     ]
    },
    {
     "name": "stdout",
     "output_type": "stream",
     "text": [
      "378.00494832948175 m 304.3514721812216 m\n",
      "375.1077968271159 m 328.11961314303653 m\n"
     ]
    },
    {
     "name": "stderr",
     "output_type": "stream",
     "text": [
      "\n",
      "t:  11%|███████                                                           | 135/1260 [00:20<02:52,  6.51it/s, now=None]\u001b[A\n",
      "t:  11%|███████                                                           | 136/1260 [00:20<02:50,  6.57it/s, now=None]\u001b[A\n",
      "t:  11%|███████▏                                                          | 137/1260 [00:20<02:49,  6.61it/s, now=None]\u001b[A"
     ]
    },
    {
     "name": "stdout",
     "output_type": "stream",
     "text": [
      "387.8162594056528 m 339.59978914281373 m\n",
      "400.3012748754302 m 363.8753440866763 m\n"
     ]
    },
    {
     "name": "stderr",
     "output_type": "stream",
     "text": [
      "\n",
      "t:  11%|███████▏                                                          | 138/1260 [00:20<02:54,  6.41it/s, now=None]\u001b[A"
     ]
    },
    {
     "name": "stdout",
     "output_type": "stream",
     "text": [
      "415.5447668273211 m 371.4370532611966 m\n",
      "425.8529737578187 m 372.80186094217777 m\n"
     ]
    },
    {
     "name": "stderr",
     "output_type": "stream",
     "text": [
      "\n",
      "t:  11%|███████▎                                                          | 139/1260 [00:20<02:54,  6.44it/s, now=None]\u001b[A\n",
      "t:  11%|███████▎                                                          | 140/1260 [00:20<02:55,  6.38it/s, now=None]\u001b[A"
     ]
    },
    {
     "name": "stdout",
     "output_type": "stream",
     "text": [
      "447.53865081825245 m 394.58193359668866 m\n",
      "451.9832101270609 m 408.6139875592227 m\n"
     ]
    },
    {
     "name": "stderr",
     "output_type": "stream",
     "text": [
      "\n",
      "t:  11%|███████▍                                                          | 141/1260 [00:21<02:53,  6.47it/s, now=None]\u001b[A\n",
      "t:  11%|███████▍                                                          | 142/1260 [00:21<02:56,  6.33it/s, now=None]\u001b[A\n",
      "t:  11%|███████▍                                                          | 143/1260 [00:21<02:51,  6.51it/s, now=None]"
     ]
    },
    {
     "name": "stdout",
     "output_type": "stream",
     "text": [
      "458.7415489070105 m 504.77558296505765 m\n",
      "454.2195709638417 m 558.8335353178998 m\n"
     ]
    },
    {
     "name": "stderr",
     "output_type": "stream",
     "text": [
      "\u001b[A\n",
      "t:  11%|███████▌                                                          | 144/1260 [00:21<02:54,  6.41it/s, now=None]\u001b[A"
     ]
    },
    {
     "name": "stdout",
     "output_type": "stream",
     "text": [
      "422.3812469149544 m 578.8901999961635 m\n",
      "427.25491366230546 m 410.22022406412543 m\n"
     ]
    },
    {
     "name": "stderr",
     "output_type": "stream",
     "text": [
      "\n",
      "t:  12%|███████▌                                                          | 145/1260 [00:21<02:53,  6.42it/s, now=None]\u001b[A\n",
      "t:  12%|███████▋                                                          | 146/1260 [00:21<02:55,  6.33it/s, now=None]\u001b[A"
     ]
    },
    {
     "name": "stdout",
     "output_type": "stream",
     "text": [
      "424.79403997281344 m 370.57070627132464 m\n",
      "401.9913957892494 m 314.71959122780413 m\n"
     ]
    },
    {
     "name": "stderr",
     "output_type": "stream",
     "text": [
      "\n",
      "t:  12%|███████▋                                                          | 147/1260 [00:22<02:52,  6.45it/s, now=None]\u001b[A\n",
      "t:  12%|███████▊                                                          | 148/1260 [00:22<02:49,  6.57it/s, now=None]\u001b[A"
     ]
    },
    {
     "name": "stdout",
     "output_type": "stream",
     "text": [
      "405.9574673750034 m 301.7611233965058 m\n",
      "355.5688901826752 m 382.4987530566956 m\n"
     ]
    },
    {
     "name": "stderr",
     "output_type": "stream",
     "text": [
      "\n",
      "t:  12%|███████▊                                                          | 149/1260 [00:22<02:47,  6.62it/s, now=None]\u001b[A\n",
      "t:  12%|███████▊                                                          | 150/1260 [00:22<02:47,  6.61it/s, now=None]\u001b[A"
     ]
    },
    {
     "name": "stdout",
     "output_type": "stream",
     "text": [
      "353.168450331463 m 424.47214271797657 m\n",
      "377.9029736729564 m 441.8663049233798 m\n"
     ]
    },
    {
     "name": "stderr",
     "output_type": "stream",
     "text": [
      "\n",
      "t:  12%|███████▉                                                          | 151/1260 [00:22<02:48,  6.57it/s, now=None]\u001b[A\n",
      "t:  12%|███████▉                                                          | 152/1260 [00:22<02:49,  6.55it/s, now=None]\u001b[A"
     ]
    },
    {
     "name": "stdout",
     "output_type": "stream",
     "text": [
      "389.45832682601616 m 406.69728173094245 m\n",
      "384.6481576164573 m 449.8650146105889 m\n"
     ]
    },
    {
     "name": "stderr",
     "output_type": "stream",
     "text": [
      "\n",
      "t:  12%|████████                                                          | 153/1260 [00:22<02:49,  6.54it/s, now=None]\u001b[A\n",
      "t:  12%|████████                                                          | 154/1260 [00:23<02:46,  6.63it/s, now=None]\u001b[A\n",
      "t:  12%|████████                                                          | 155/1260 [00:23<02:45,  6.68it/s, now=None]"
     ]
    },
    {
     "name": "stdout",
     "output_type": "stream",
     "text": [
      "365.7444821538724 m 367.7653436268853 m\n",
      "398.545627923656 m 587.024525411193 m\n"
     ]
    },
    {
     "name": "stderr",
     "output_type": "stream",
     "text": [
      "\u001b[A\n",
      "t:  12%|████████▏                                                         | 156/1260 [00:23<02:47,  6.60it/s, now=None]\u001b[A\n",
      "t:  12%|████████▏                                                         | 157/1260 [00:23<02:44,  6.72it/s, now=None]\u001b[A"
     ]
    },
    {
     "name": "stdout",
     "output_type": "stream",
     "text": [
      "417.19197173378774 m 527.4994828358905 m\n",
      "398.9844842676119 m 375.59879779880464 m\n"
     ]
    },
    {
     "name": "stderr",
     "output_type": "stream",
     "text": [
      "\n",
      "t:  13%|████████▎                                                         | 158/1260 [00:23<02:45,  6.67it/s, now=None]\u001b[A\n",
      "t:  13%|████████▎                                                         | 159/1260 [00:23<02:45,  6.67it/s, now=None]\u001b[A"
     ]
    },
    {
     "name": "stdout",
     "output_type": "stream",
     "text": [
      "401.4058202683608 m 323.5215389573911 m\n",
      "357.81433462462667 m 238.88487865016532 m\n"
     ]
    },
    {
     "name": "stderr",
     "output_type": "stream",
     "text": [
      "\n",
      "t:  13%|████████▍                                                         | 160/1260 [00:23<02:44,  6.69it/s, now=None]\u001b[A\n",
      "t:  13%|████████▍                                                         | 161/1260 [00:24<02:41,  6.80it/s, now=None]\u001b[A"
     ]
    },
    {
     "name": "stdout",
     "output_type": "stream",
     "text": [
      "365.4331271651472 m 252.06745217747246 m\n",
      "352.70830323785816 m 264.8654312891456 m\n"
     ]
    },
    {
     "name": "stderr",
     "output_type": "stream",
     "text": [
      "\n",
      "t:  13%|████████▍                                                         | 162/1260 [00:24<02:47,  6.54it/s, now=None]\u001b[A"
     ]
    },
    {
     "name": "stdout",
     "output_type": "stream",
     "text": [
      "374.71337986712246 m 250.78144079225942 m\n",
      "376.46927035716726 m 278.21152195533233 m\n"
     ]
    },
    {
     "name": "stderr",
     "output_type": "stream",
     "text": [
      "\n",
      "t:  13%|████████▌                                                         | 163/1260 [00:24<02:46,  6.58it/s, now=None]\u001b[A\n",
      "t:  13%|████████▌                                                         | 164/1260 [00:24<02:43,  6.69it/s, now=None]\u001b[A"
     ]
    },
    {
     "name": "stdout",
     "output_type": "stream",
     "text": [
      "384.59342327700267 m 279.99510052256306 m\n",
      "362.4755833336661 m 319.1549972254142 m\n"
     ]
    },
    {
     "name": "stderr",
     "output_type": "stream",
     "text": [
      "\n",
      "t:  13%|████████▋                                                         | 165/1260 [00:24<02:45,  6.62it/s, now=None]\u001b[A\n",
      "t:  13%|████████▋                                                         | 166/1260 [00:24<02:43,  6.69it/s, now=None]\u001b[A\n",
      "t:  13%|████████▋                                                         | 167/1260 [00:25<02:41,  6.77it/s, now=None]\u001b[A"
     ]
    },
    {
     "name": "stdout",
     "output_type": "stream",
     "text": [
      "327.815076538179 m 257.8409924903091 m\n",
      "339.3293395558988 m 252.18592392260263 m\n"
     ]
    },
    {
     "name": "stderr",
     "output_type": "stream",
     "text": [
      "\n",
      "t:  13%|████████▊                                                         | 168/1260 [00:25<02:42,  6.73it/s, now=None]\u001b[A"
     ]
    },
    {
     "name": "stdout",
     "output_type": "stream",
     "text": [
      "317.32584680421263 m 227.04783703659112 m\n",
      "342.45245323808797 m 233.23516529513026 m\n"
     ]
    },
    {
     "name": "stderr",
     "output_type": "stream",
     "text": [
      "\n",
      "t:  13%|████████▊                                                         | 169/1260 [00:25<02:43,  6.69it/s, now=None]\u001b[A\n",
      "t:  13%|████████▉                                                         | 170/1260 [00:25<02:45,  6.58it/s, now=None]\u001b[A\n",
      "t:  14%|████████▉                                                         | 171/1260 [00:25<02:40,  6.80it/s, now=None]\u001b[A"
     ]
    },
    {
     "name": "stdout",
     "output_type": "stream",
     "text": [
      "346.7801804509197 m 234.0567426918081 m\n",
      "365.7134017649426 m 226.73094021224492 m\n"
     ]
    },
    {
     "name": "stderr",
     "output_type": "stream",
     "text": [
      "\n",
      "t:  14%|█████████                                                         | 172/1260 [00:25<02:38,  6.85it/s, now=None]\u001b[A\n",
      "t:  14%|█████████                                                         | 173/1260 [00:25<02:38,  6.87it/s, now=None]\u001b[A"
     ]
    },
    {
     "name": "stdout",
     "output_type": "stream",
     "text": [
      "355.1316118176311 m 230.87136979168383 m\n",
      "354.2850404961853 m 210.0136837140967 m\n"
     ]
    },
    {
     "name": "stderr",
     "output_type": "stream",
     "text": [
      "\n",
      "t:  14%|█████████                                                         | 174/1260 [00:26<02:39,  6.83it/s, now=None]\u001b[A"
     ]
    },
    {
     "name": "stdout",
     "output_type": "stream",
     "text": [
      "337.3527016402889 m 225.84232288424622 m\n",
      "307.027958845578 m 277.5384308579578 m\n"
     ]
    },
    {
     "name": "stderr",
     "output_type": "stream",
     "text": [
      "\n",
      "t:  14%|█████████▏                                                        | 175/1260 [00:26<02:38,  6.82it/s, now=None]\u001b[A\n",
      "t:  14%|█████████▏                                                        | 176/1260 [00:26<02:41,  6.73it/s, now=None]\u001b[A"
     ]
    },
    {
     "name": "stdout",
     "output_type": "stream",
     "text": [
      "294.11867837525665 m 278.92806427123685 m\n",
      "284.1731701169776 m 218.20461540966147 m\n"
     ]
    },
    {
     "name": "stderr",
     "output_type": "stream",
     "text": [
      "\n",
      "t:  14%|█████████▎                                                        | 177/1260 [00:26<02:43,  6.63it/s, now=None]\u001b[A\n",
      "t:  14%|█████████▎                                                        | 178/1260 [00:26<02:41,  6.70it/s, now=None]\u001b[A\n",
      "t:  14%|█████████▍                                                        | 179/1260 [00:26<02:37,  6.86it/s, now=None]\u001b[A"
     ]
    },
    {
     "name": "stdout",
     "output_type": "stream",
     "text": [
      "309.5147573947337 m 309.5636214245601 m\n",
      "310.54583073273795 m 302.4592954961825 m\n"
     ]
    },
    {
     "name": "stderr",
     "output_type": "stream",
     "text": [
      "\n",
      "t:  14%|█████████▍                                                        | 180/1260 [00:26<02:37,  6.86it/s, now=None]\u001b[A"
     ]
    },
    {
     "name": "stdout",
     "output_type": "stream",
     "text": [
      "308.2223680422838 m 306.03779711097735 m\n",
      "318.5693610859075 m 337.07651652344197 m\n"
     ]
    },
    {
     "name": "stderr",
     "output_type": "stream",
     "text": [
      "\n",
      "t:  14%|█████████▍                                                        | 181/1260 [00:27<02:38,  6.80it/s, now=None]\u001b[A\n",
      "t:  14%|█████████▌                                                        | 182/1260 [00:27<02:37,  6.86it/s, now=None]\u001b[A\n",
      "t:  15%|█████████▌                                                        | 183/1260 [00:27<02:33,  7.03it/s, now=None]\u001b[A"
     ]
    },
    {
     "name": "stdout",
     "output_type": "stream",
     "text": [
      "302.7770195741189 m 267.58337670109916 m\n",
      "304.0862956153359 m 274.69075534798054 m\n"
     ]
    },
    {
     "name": "stderr",
     "output_type": "stream",
     "text": [
      "\n",
      "t:  15%|█████████▋                                                        | 184/1260 [00:27<02:33,  7.01it/s, now=None]\u001b[A"
     ]
    },
    {
     "name": "stdout",
     "output_type": "stream",
     "text": [
      "294.77189969065904 m 226.77609304568992 m\n",
      "277.2626823898035 m 306.9118820923737 m\n"
     ]
    },
    {
     "name": "stderr",
     "output_type": "stream",
     "text": [
      "\n",
      "t:  15%|█████████▋                                                        | 185/1260 [00:27<02:40,  6.72it/s, now=None]\u001b[A\n",
      "t:  15%|█████████▋                                                        | 186/1260 [00:27<02:37,  6.80it/s, now=None]\u001b[A"
     ]
    },
    {
     "name": "stdout",
     "output_type": "stream",
     "text": [
      "267.6154511741841 m 376.22656744055814 m\n",
      "235.76454302804729 m 235.6720589259175 m\n"
     ]
    },
    {
     "name": "stderr",
     "output_type": "stream",
     "text": [
      "\n",
      "t:  15%|█████████▊                                                        | 187/1260 [00:27<02:37,  6.79it/s, now=None]\u001b[A\n",
      "t:  15%|█████████▊                                                        | 188/1260 [00:28<02:38,  6.77it/s, now=None]\u001b[A\n",
      "t:  15%|█████████▉                                                        | 189/1260 [00:28<02:39,  6.72it/s, now=None]\u001b[A"
     ]
    },
    {
     "name": "stdout",
     "output_type": "stream",
     "text": [
      "235.8525285930772 m 225.2210487092428 m\n",
      "231.30243685904964 m 221.03861017647137 m\n"
     ]
    },
    {
     "name": "stderr",
     "output_type": "stream",
     "text": [
      "\n",
      "t:  15%|█████████▉                                                        | 190/1260 [00:28<02:38,  6.74it/s, now=None]\u001b[A"
     ]
    },
    {
     "name": "stdout",
     "output_type": "stream",
     "text": [
      "231.77312013574166 m 245.71551506743654 m\n",
      "235.6905470147191 m 243.88945866179472 m\n"
     ]
    },
    {
     "name": "stderr",
     "output_type": "stream",
     "text": [
      "\n",
      "t:  15%|██████████                                                        | 191/1260 [00:28<02:39,  6.72it/s, now=None]\u001b[A\n",
      "t:  15%|██████████                                                        | 192/1260 [00:28<02:41,  6.63it/s, now=None]\u001b[A\n",
      "t:  15%|██████████                                                        | 193/1260 [00:28<02:37,  6.75it/s, now=None]\u001b[A"
     ]
    },
    {
     "name": "stdout",
     "output_type": "stream",
     "text": [
      "232.2755399056819 m 255.81287169396842 m\n",
      "254.45157521858292 m 270.89907118081595 m\n"
     ]
    },
    {
     "name": "stderr",
     "output_type": "stream",
     "text": [
      "\n",
      "t:  15%|██████████▏                                                       | 194/1260 [00:28<02:38,  6.71it/s, now=None]\u001b[A\n",
      "t:  15%|██████████▏                                                       | 195/1260 [00:29<02:34,  6.91it/s, now=None]\u001b[A"
     ]
    },
    {
     "name": "stdout",
     "output_type": "stream",
     "text": [
      "243.19716105873675 m 269.86146636267495 m\n",
      "252.8830187157847 m 299.609645129397 m\n"
     ]
    },
    {
     "name": "stderr",
     "output_type": "stream",
     "text": [
      "\n",
      "t:  16%|██████████▎                                                       | 196/1260 [00:29<02:33,  6.92it/s, now=None]\u001b[A\n",
      "t:  16%|██████████▎                                                       | 197/1260 [00:29<02:32,  6.95it/s, now=None]\u001b[A"
     ]
    },
    {
     "name": "stdout",
     "output_type": "stream",
     "text": [
      "259.68217199196084 m 319.1300960116688 m\n",
      "311.70838555876645 m 267.3680109936166 m\n"
     ]
    },
    {
     "name": "stderr",
     "output_type": "stream",
     "text": [
      "\n",
      "t:  16%|██████████▎                                                       | 198/1260 [00:29<02:32,  6.97it/s, now=None]\u001b[A\n",
      "t:  16%|██████████▍                                                       | 199/1260 [00:29<02:31,  7.00it/s, now=None]\u001b[A"
     ]
    },
    {
     "name": "stdout",
     "output_type": "stream",
     "text": [
      "346.68853329173936 m 290.0807757153601 m\n",
      "395.8155113311494 m 475.5154410320627 m\n"
     ]
    },
    {
     "name": "stderr",
     "output_type": "stream",
     "text": [
      "\n",
      "t:  16%|██████████▍                                                       | 200/1260 [00:29<02:32,  6.94it/s, now=None]\u001b[A\n",
      "t:  16%|██████████▌                                                       | 201/1260 [00:29<02:29,  7.07it/s, now=None]\u001b[A"
     ]
    },
    {
     "name": "stdout",
     "output_type": "stream",
     "text": [
      "422.4161809398628 m 555.8005462610402 m\n",
      "405.2098624422504 m 508.9456670713072 m\n"
     ]
    },
    {
     "name": "stderr",
     "output_type": "stream",
     "text": [
      "\n",
      "t:  16%|██████████▌                                                       | 202/1260 [00:30<02:30,  7.05it/s, now=None]\u001b[A"
     ]
    },
    {
     "name": "stdout",
     "output_type": "stream",
     "text": [
      "411.2071758961082 m 477.31331570753366 m\n",
      "382.7248799879971 m 319.753708299013 m\n"
     ]
    },
    {
     "name": "stderr",
     "output_type": "stream",
     "text": [
      "\n",
      "t:  16%|██████████▋                                                       | 203/1260 [00:30<02:32,  6.92it/s, now=None]\u001b[A\n",
      "t:  16%|██████████▋                                                       | 204/1260 [00:30<02:33,  6.89it/s, now=None]\u001b[A\n",
      "t:  16%|██████████▋                                                       | 205/1260 [00:30<02:31,  6.98it/s, now=None]\u001b[A"
     ]
    },
    {
     "name": "stdout",
     "output_type": "stream",
     "text": [
      "369.08928813928463 m 353.64443536442235 m\n",
      "379.933562289607 m 391.73342931222567 m\n"
     ]
    },
    {
     "name": "stderr",
     "output_type": "stream",
     "text": [
      "\n",
      "t:  16%|██████████▊                                                       | 206/1260 [00:30<02:35,  6.79it/s, now=None]\u001b[A\n",
      "t:  16%|██████████▊                                                       | 207/1260 [00:30<02:32,  6.90it/s, now=None]\u001b[A"
     ]
    },
    {
     "name": "stdout",
     "output_type": "stream",
     "text": [
      "355.4600144038226 m 505.3800494474928 m\n",
      "344.18907309300386 m 515.0402927374994 m\n"
     ]
    },
    {
     "name": "stderr",
     "output_type": "stream",
     "text": [
      "\n",
      "t:  17%|██████████▉                                                       | 208/1260 [00:30<02:32,  6.92it/s, now=None]\u001b[A\n",
      "t:  17%|██████████▉                                                       | 209/1260 [00:31<02:31,  6.93it/s, now=None]\u001b[A"
     ]
    },
    {
     "name": "stdout",
     "output_type": "stream",
     "text": [
      "313.5717504333305 m 297.4124991603467 m\n",
      "301.58276112931287 m 284.5391576993232 m\n"
     ]
    },
    {
     "name": "stderr",
     "output_type": "stream",
     "text": [
      "\n",
      "t:  17%|███████████                                                       | 210/1260 [00:31<02:33,  6.83it/s, now=None]\u001b[A"
     ]
    },
    {
     "name": "stdout",
     "output_type": "stream",
     "text": [
      "323.13150716037546 m 287.03829091255074 m\n",
      "342.1192917121269 m 313.37618522486235 m\n"
     ]
    },
    {
     "name": "stderr",
     "output_type": "stream",
     "text": [
      "\n",
      "t:  17%|███████████                                                       | 211/1260 [00:31<02:35,  6.74it/s, now=None]\u001b[A\n",
      "t:  17%|███████████                                                       | 212/1260 [00:31<02:30,  6.98it/s, now=None]\u001b[A\n",
      "t:  17%|███████████▏                                                      | 213/1260 [00:31<02:29,  7.00it/s, now=None]\u001b[A"
     ]
    },
    {
     "name": "stdout",
     "output_type": "stream",
     "text": [
      "350.0559437303341 m 376.2561651155111 m\n",
      "346.892945064679 m 348.0328329879541 m\n"
     ]
    },
    {
     "name": "stderr",
     "output_type": "stream",
     "text": [
      "\n",
      "t:  17%|███████████▏                                                      | 214/1260 [00:31<02:29,  7.01it/s, now=None]\u001b[A\n"
     ]
    },
    {
     "name": "stdout",
     "output_type": "stream",
     "text": [
      "348.219228726782 m 361.49469507550594 m\n",
      "341.06540585185445 m 406.7833854819311 m\n"
     ]
    },
    {
     "name": "stderr",
     "output_type": "stream",
     "text": [
      "t:  17%|███████████▎                                                      | 215/1260 [00:32<02:30,  6.96it/s, now=None]\u001b[A\n",
      "t:  17%|███████████▎                                                      | 216/1260 [00:32<02:28,  7.01it/s, now=None]\u001b[A\n",
      "t:  17%|███████████▎                                                      | 217/1260 [00:32<02:29,  6.96it/s, now=None]\u001b[A"
     ]
    },
    {
     "name": "stdout",
     "output_type": "stream",
     "text": [
      "344.62786029334467 m 493.7667046788704 m\n",
      "366.53762355407844 m 524.928161982392 m\n"
     ]
    },
    {
     "name": "stderr",
     "output_type": "stream",
     "text": [
      "\n",
      "t:  17%|███████████▍                                                      | 218/1260 [00:32<02:28,  7.02it/s, now=None]\u001b[A\n",
      "t:  17%|███████████▍                                                      | 219/1260 [00:32<02:29,  6.95it/s, now=None]\u001b[A"
     ]
    },
    {
     "name": "stdout",
     "output_type": "stream",
     "text": [
      "370.2171024363739 m 526.5250607809696 m\n",
      "391.4607811044674 m 523.6412644091318 m\n"
     ]
    },
    {
     "name": "stderr",
     "output_type": "stream",
     "text": [
      "\n",
      "t:  17%|███████████▌                                                      | 220/1260 [00:32<02:31,  6.85it/s, now=None]\u001b[A\n",
      "t:  18%|███████████▌                                                      | 221/1260 [00:32<02:29,  6.93it/s, now=None]\u001b[A"
     ]
    },
    {
     "name": "stdout",
     "output_type": "stream",
     "text": [
      "378.0615868086599 m 309.9790015522686 m\n",
      "399.727354154324 m 407.1066127886877 m\n"
     ]
    },
    {
     "name": "stderr",
     "output_type": "stream",
     "text": [
      "\n",
      "t:  18%|███████████▋                                                      | 222/1260 [00:33<02:32,  6.81it/s, now=None]\u001b[A\n",
      "t:  18%|███████████▋                                                      | 223/1260 [00:33<02:32,  6.81it/s, now=None]\u001b[A"
     ]
    },
    {
     "name": "stdout",
     "output_type": "stream",
     "text": [
      "410.06134037533485 m 313.4269853043643 m\n",
      "415.40571691236954 m 292.48569599837026 m\n"
     ]
    },
    {
     "name": "stderr",
     "output_type": "stream",
     "text": [
      "\n",
      "t:  18%|███████████▋                                                      | 224/1260 [00:33<02:27,  7.00it/s, now=None]\u001b[A\n",
      "t:  18%|███████████▊                                                      | 225/1260 [00:33<02:25,  7.12it/s, now=None]\u001b[A"
     ]
    },
    {
     "name": "stdout",
     "output_type": "stream",
     "text": [
      "417.40711311581555 m 290.7018390319093 m\n",
      "386.3321803462159 m 337.7025411244692 m\n"
     ]
    },
    {
     "name": "stderr",
     "output_type": "stream",
     "text": [
      "\n",
      "t:  18%|███████████▊                                                      | 226/1260 [00:33<02:28,  6.94it/s, now=None]\u001b[A"
     ]
    },
    {
     "name": "stdout",
     "output_type": "stream",
     "text": [
      "412.55994048475077 m 343.6463344956828 m\n",
      "374.3422591915182 m 365.5063818527402 m\n"
     ]
    },
    {
     "name": "stderr",
     "output_type": "stream",
     "text": [
      "\n",
      "t:  18%|███████████▉                                                      | 227/1260 [00:33<02:33,  6.71it/s, now=None]\u001b[A\n",
      "t:  18%|███████████▉                                                      | 228/1260 [00:33<02:32,  6.79it/s, now=None]\u001b[A\n",
      "t:  18%|███████████▉                                                      | 229/1260 [00:34<02:28,  6.92it/s, now=None]\u001b[A"
     ]
    },
    {
     "name": "stdout",
     "output_type": "stream",
     "text": [
      "388.5026398065492 m 380.71446078506796 m\n",
      "411.217717156026 m 391.9009863278475 m\n"
     ]
    },
    {
     "name": "stderr",
     "output_type": "stream",
     "text": [
      "\n",
      "t:  18%|████████████                                                      | 230/1260 [00:34<02:26,  7.04it/s, now=None]\u001b[A\n",
      "t:  18%|████████████                                                      | 231/1260 [00:34<02:28,  6.94it/s, now=None]\u001b[A"
     ]
    },
    {
     "name": "stdout",
     "output_type": "stream",
     "text": [
      "412.231356667897 m 392.2247522654207 m\n",
      "431.9358166206031 m 427.857815318307 m\n"
     ]
    },
    {
     "name": "stderr",
     "output_type": "stream",
     "text": [
      "\n",
      "t:  18%|████████████▏                                                     | 232/1260 [00:34<02:30,  6.82it/s, now=None]\u001b[A"
     ]
    },
    {
     "name": "stdout",
     "output_type": "stream",
     "text": [
      "423.6764396980374 m 308.4354231139174 m\n",
      "433.05119371847087 m 287.02119889720274 m\n"
     ]
    },
    {
     "name": "stderr",
     "output_type": "stream",
     "text": [
      "\n",
      "t:  18%|████████████▏                                                     | 233/1260 [00:34<02:29,  6.85it/s, now=None]\u001b[A\n",
      "t:  19%|████████████▎                                                     | 234/1260 [00:34<02:28,  6.93it/s, now=None]\u001b[A\n",
      "t:  19%|████████████▎                                                     | 235/1260 [00:34<02:29,  6.85it/s, now=None]\u001b[A"
     ]
    },
    {
     "name": "stdout",
     "output_type": "stream",
     "text": [
      "416.95573476000715 m 248.59566913833854 m\n",
      "409.2700715103037 m 258.1481093819195 m\n"
     ]
    },
    {
     "name": "stderr",
     "output_type": "stream",
     "text": [
      "\n",
      "t:  19%|████████████▎                                                     | 236/1260 [00:35<02:28,  6.90it/s, now=None]\u001b[A\n"
     ]
    },
    {
     "name": "stdout",
     "output_type": "stream",
     "text": [
      "406.58792084093335 m 264.0802083499946 m\n",
      "380.23844358679395 m 309.74700275223483 m\n"
     ]
    },
    {
     "name": "stderr",
     "output_type": "stream",
     "text": [
      "t:  19%|████████████▍                                                     | 237/1260 [00:35<02:29,  6.83it/s, now=None]\u001b[A\n",
      "t:  19%|████████████▍                                                     | 238/1260 [00:35<02:29,  6.86it/s, now=None]\u001b[A\n",
      "t:  19%|████████████▌                                                     | 239/1260 [00:35<02:26,  6.99it/s, now=None]\u001b[A"
     ]
    },
    {
     "name": "stdout",
     "output_type": "stream",
     "text": [
      "379.4911745015726 m 349.912947345314 m\n",
      "354.5734736148269 m 252.21661033454387 m\n"
     ]
    },
    {
     "name": "stderr",
     "output_type": "stream",
     "text": [
      "\n",
      "t:  19%|████████████▌                                                     | 240/1260 [00:35<02:29,  6.81it/s, now=None]\u001b[A\n",
      "t:  19%|████████████▌                                                     | 241/1260 [00:35<02:28,  6.88it/s, now=None]\u001b[A"
     ]
    },
    {
     "name": "stdout",
     "output_type": "stream",
     "text": [
      "341.713703848324 m 256.19953233609414 m\n",
      "348.3748063442342 m 253.14201815870393 m\n"
     ]
    },
    {
     "name": "stderr",
     "output_type": "stream",
     "text": [
      "\n",
      "t:  19%|████████████▋                                                     | 242/1260 [00:35<02:28,  6.87it/s, now=None]\u001b[A"
     ]
    },
    {
     "name": "stdout",
     "output_type": "stream",
     "text": [
      "352.73104493766226 m 269.9990683350941 m\n",
      "371.637189397039 m 292.11360557034345 m\n"
     ]
    },
    {
     "name": "stderr",
     "output_type": "stream",
     "text": [
      "\n",
      "t:  19%|████████████▋                                                     | 243/1260 [00:36<02:29,  6.80it/s, now=None]\u001b[A\n",
      "t:  19%|████████████▊                                                     | 244/1260 [00:36<02:26,  6.92it/s, now=None]\u001b[A\n",
      "t:  19%|████████████▊                                                     | 245/1260 [00:36<02:24,  7.02it/s, now=None]\u001b[A"
     ]
    },
    {
     "name": "stdout",
     "output_type": "stream",
     "text": [
      "345.13921914368757 m 262.691518224453 m\n",
      "363.1169561494593 m 271.0120201756222 m\n"
     ]
    },
    {
     "name": "stderr",
     "output_type": "stream",
     "text": [
      "\n",
      "t:  20%|████████████▉                                                     | 246/1260 [00:36<02:26,  6.93it/s, now=None]\u001b[A\n",
      "t:  20%|████████████▉                                                     | 247/1260 [00:36<02:24,  7.01it/s, now=None]\u001b[A"
     ]
    },
    {
     "name": "stdout",
     "output_type": "stream",
     "text": [
      "333.0866051683927 m 326.35395805069646 m\n",
      "326.7472472865687 m 277.3231854699257 m\n"
     ]
    },
    {
     "name": "stderr",
     "output_type": "stream",
     "text": [
      "\n",
      "t:  20%|████████████▉                                                     | 248/1260 [00:36<02:27,  6.88it/s, now=None]\u001b[A\n",
      "t:  20%|█████████████                                                     | 249/1260 [00:36<02:27,  6.85it/s, now=None]\u001b[A"
     ]
    },
    {
     "name": "stdout",
     "output_type": "stream",
     "text": [
      "335.74074279285276 m 319.62372470521046 m\n",
      "318.1827405171743 m 255.50989203767617 m\n"
     ]
    },
    {
     "name": "stderr",
     "output_type": "stream",
     "text": [
      "\n",
      "t:  20%|█████████████                                                     | 250/1260 [00:37<02:25,  6.95it/s, now=None]\u001b[A"
     ]
    },
    {
     "name": "stdout",
     "output_type": "stream",
     "text": [
      "329.90342087581104 m 246.18237800896065 m\n",
      "334.05758883262973 m 271.25888761047133 m\n"
     ]
    },
    {
     "name": "stderr",
     "output_type": "stream",
     "text": [
      "\n",
      "t:  20%|█████████████▏                                                    | 251/1260 [00:37<02:27,  6.84it/s, now=None]\u001b[A\n",
      "t:  20%|█████████████▏                                                    | 252/1260 [00:37<02:27,  6.85it/s, now=None]\u001b[A\n",
      "t:  20%|█████████████▎                                                    | 253/1260 [00:37<02:26,  6.88it/s, now=None]\u001b[A"
     ]
    },
    {
     "name": "stdout",
     "output_type": "stream",
     "text": [
      "357.9884199716056 m 260.77951330138643 m\n",
      "369.4328618077767 m 279.9150174499257 m\n"
     ]
    },
    {
     "name": "stderr",
     "output_type": "stream",
     "text": [
      "\n",
      "t:  20%|█████████████▎                                                    | 254/1260 [00:37<02:29,  6.74it/s, now=None]\u001b[A\n",
      "t:  20%|█████████████▎                                                    | 255/1260 [00:37<02:28,  6.78it/s, now=None]\u001b[A"
     ]
    },
    {
     "name": "stdout",
     "output_type": "stream",
     "text": [
      "364.68618813084817 m 291.24287924653623 m\n",
      "390.2261195634127 m 316.94931421408126 m\n"
     ]
    },
    {
     "name": "stderr",
     "output_type": "stream",
     "text": [
      "\n",
      "t:  20%|█████████████▍                                                    | 256/1260 [00:37<02:28,  6.76it/s, now=None]\u001b[A\n",
      "t:  20%|█████████████▍                                                    | 257/1260 [00:38<02:24,  6.92it/s, now=None]\u001b[A"
     ]
    },
    {
     "name": "stdout",
     "output_type": "stream",
     "text": [
      "379.9847675553981 m 299.9299118877054 m\n",
      "379.0134748197337 m 302.24365623571805 m\n"
     ]
    },
    {
     "name": "stderr",
     "output_type": "stream",
     "text": [
      "\n",
      "t:  20%|█████████████▌                                                    | 258/1260 [00:38<02:25,  6.90it/s, now=None]\u001b[A\n",
      "t:  21%|█████████████▌                                                    | 259/1260 [00:38<02:22,  7.01it/s, now=None]\u001b[A"
     ]
    },
    {
     "name": "stdout",
     "output_type": "stream",
     "text": [
      "367.722664894285 m 342.7162738270023 m\n",
      "381.02741510846676 m 311.1589912315921 m\n"
     ]
    },
    {
     "name": "stderr",
     "output_type": "stream",
     "text": [
      "\n",
      "t:  21%|█████████████▌                                                    | 260/1260 [00:38<02:23,  6.95it/s, now=None]\u001b[A\n",
      "t:  21%|█████████████▋                                                    | 261/1260 [00:38<02:23,  6.98it/s, now=None]\u001b[A"
     ]
    },
    {
     "name": "stdout",
     "output_type": "stream",
     "text": [
      "403.42400796415063 m 343.23362935275657 m\n",
      "385.8447656061899 m 326.9033060415749 m\n"
     ]
    },
    {
     "name": "stderr",
     "output_type": "stream",
     "text": [
      "\n",
      "t:  21%|█████████████▋                                                    | 262/1260 [00:38<02:24,  6.92it/s, now=None]\u001b[A"
     ]
    },
    {
     "name": "stdout",
     "output_type": "stream",
     "text": [
      "422.84303510662414 m 440.4564635200796 m\n",
      "415.79568502399104 m 375.87766434294326 m\n"
     ]
    },
    {
     "name": "stderr",
     "output_type": "stream",
     "text": [
      "\n",
      "t:  21%|█████████████▊                                                    | 263/1260 [00:38<02:27,  6.78it/s, now=None]\u001b[A\n",
      "t:  21%|█████████████▊                                                    | 264/1260 [00:39<02:27,  6.74it/s, now=None]\u001b[A"
     ]
    },
    {
     "name": "stdout",
     "output_type": "stream",
     "text": [
      "407.24574965238475 m 409.3300466782173 m\n",
      "439.91285444483776 m 415.28655364541123 m\n"
     ]
    },
    {
     "name": "stderr",
     "output_type": "stream",
     "text": [
      "\n",
      "t:  21%|█████████████▉                                                    | 265/1260 [00:39<02:27,  6.76it/s, now=None]\u001b[A\n",
      "t:  21%|█████████████▉                                                    | 266/1260 [00:39<02:26,  6.78it/s, now=None]\u001b[A"
     ]
    },
    {
     "name": "stdout",
     "output_type": "stream",
     "text": [
      "455.8946060623995 m 381.2517742711039 m\n",
      "469.1689186232626 m 500.54149366083703 m\n"
     ]
    },
    {
     "name": "stderr",
     "output_type": "stream",
     "text": [
      "\n",
      "t:  21%|█████████████▉                                                    | 267/1260 [00:39<02:27,  6.71it/s, now=None]\u001b[A\n",
      "t:  21%|██████████████                                                    | 268/1260 [00:39<02:28,  6.68it/s, now=None]\u001b[A\n",
      "t:  21%|██████████████                                                    | 269/1260 [00:39<02:26,  6.76it/s, now=None]\u001b[A"
     ]
    },
    {
     "name": "stdout",
     "output_type": "stream",
     "text": [
      "472.2399438703186 m 369.11362765578855 m\n",
      "474.1739463822986 m 375.6223603950757 m\n"
     ]
    },
    {
     "name": "stderr",
     "output_type": "stream",
     "text": [
      "\n",
      "t:  21%|██████████████▏                                                   | 270/1260 [00:40<02:26,  6.75it/s, now=None]\u001b[A\n",
      "t:  22%|██████████████▏                                                   | 271/1260 [00:40<02:23,  6.87it/s, now=None]\u001b[A"
     ]
    },
    {
     "name": "stdout",
     "output_type": "stream",
     "text": [
      "499.9712964331862 m 370.4904158946044 m\n",
      "533.4352860226512 m 344.41683604403903 m\n"
     ]
    },
    {
     "name": "stderr",
     "output_type": "stream",
     "text": [
      "\n",
      "t:  22%|██████████████▏                                                   | 272/1260 [00:40<02:22,  6.94it/s, now=None]\u001b[A"
     ]
    },
    {
     "name": "stdout",
     "output_type": "stream",
     "text": [
      "519.1413811027351 m 377.8036400143941 m\n",
      "488.3376502058254 m 440.9604574885281 m\n"
     ]
    },
    {
     "name": "stderr",
     "output_type": "stream",
     "text": [
      "\n",
      "t:  22%|██████████████▎                                                   | 273/1260 [00:40<02:23,  6.86it/s, now=None]\u001b[A\n",
      "t:  22%|██████████████▎                                                   | 274/1260 [00:40<02:25,  6.78it/s, now=None]\u001b[A"
     ]
    },
    {
     "name": "stdout",
     "output_type": "stream",
     "text": [
      "504.51778230741337 m 544.1100690747035 m\n",
      "483.12763030217087 m 362.23348175303926 m\n"
     ]
    },
    {
     "name": "stderr",
     "output_type": "stream",
     "text": [
      "\n",
      "t:  22%|██████████████▍                                                   | 275/1260 [00:40<02:25,  6.79it/s, now=None]\u001b[A\n",
      "t:  22%|██████████████▍                                                   | 276/1260 [00:40<02:25,  6.76it/s, now=None]\u001b[A"
     ]
    },
    {
     "name": "stdout",
     "output_type": "stream",
     "text": [
      "525.1831033318718 m 390.5656276014968 m\n",
      "554.7084492274394 m 445.4851268478575 m\n"
     ]
    },
    {
     "name": "stderr",
     "output_type": "stream",
     "text": [
      "\n",
      "t:  22%|██████████████▌                                                   | 277/1260 [00:41<02:25,  6.74it/s, now=None]\u001b[A\n",
      "t:  22%|██████████████▌                                                   | 278/1260 [00:41<02:24,  6.80it/s, now=None]\u001b[A\n",
      "t:  22%|██████████████▌                                                   | 279/1260 [00:41<02:23,  6.85it/s, now=None]\u001b[A"
     ]
    },
    {
     "name": "stdout",
     "output_type": "stream",
     "text": [
      "600.9856491260025 m 424.63053819707164 m\n",
      "633.5058335098548 m 489.7844722859218 m\n"
     ]
    },
    {
     "name": "stderr",
     "output_type": "stream",
     "text": [
      "\n",
      "t:  22%|██████████████▋                                                   | 280/1260 [00:41<02:24,  6.79it/s, now=None]\u001b[A"
     ]
    },
    {
     "name": "stdout",
     "output_type": "stream",
     "text": [
      "613.4211894008887 m 394.93153066525446 m\n",
      "643.7343037631983 m 383.6112479974901 m\n"
     ]
    },
    {
     "name": "stderr",
     "output_type": "stream",
     "text": [
      "\n",
      "t:  22%|██████████████▋                                                   | 281/1260 [00:41<02:27,  6.63it/s, now=None]\u001b[A\n",
      "t:  22%|██████████████▊                                                   | 282/1260 [00:41<02:23,  6.80it/s, now=None]\u001b[A\n",
      "t:  22%|██████████████▊                                                   | 283/1260 [00:41<02:22,  6.87it/s, now=None]\u001b[A"
     ]
    },
    {
     "name": "stdout",
     "output_type": "stream",
     "text": [
      "695.3126713158106 m 380.8006113550425 m\n",
      "686.6004423556209 m 482.66162805140584 m\n"
     ]
    },
    {
     "name": "stderr",
     "output_type": "stream",
     "text": [
      "\n",
      "t:  23%|██████████████▉                                                   | 284/1260 [00:42<02:22,  6.84it/s, now=None]\u001b[A\n",
      "t:  23%|██████████████▉                                                   | 285/1260 [00:42<02:24,  6.77it/s, now=None]\u001b[A"
     ]
    },
    {
     "name": "stdout",
     "output_type": "stream",
     "text": [
      "708.1054674876985 m 546.3524588421312 m\n",
      "703.4350335002837 m 587.9838040071304 m\n"
     ]
    },
    {
     "name": "stderr",
     "output_type": "stream",
     "text": [
      "\n",
      "t:  23%|██████████████▉                                                   | 286/1260 [00:42<02:25,  6.69it/s, now=None]\u001b[A\n",
      "t:  23%|███████████████                                                   | 287/1260 [00:42<02:24,  6.71it/s, now=None]\u001b[A"
     ]
    },
    {
     "name": "stdout",
     "output_type": "stream",
     "text": [
      "768.6111425668519 m 618.2869802825769 m\n",
      "819.844339896542 m 624.422471233445 m\n"
     ]
    },
    {
     "name": "stderr",
     "output_type": "stream",
     "text": [
      "\n",
      "t:  23%|███████████████                                                   | 288/1260 [00:42<02:28,  6.55it/s, now=None]\u001b[A\n",
      "t:  23%|███████████████▏                                                  | 289/1260 [00:42<02:25,  6.67it/s, now=None]\u001b[A"
     ]
    },
    {
     "name": "stdout",
     "output_type": "stream",
     "text": [
      "801.7917495357896 m 855.941616440942 m\n",
      "883.8060124230407 m 715.3428664699222 m\n"
     ]
    },
    {
     "name": "stderr",
     "output_type": "stream",
     "text": [
      "\n",
      "t:  23%|███████████████▏                                                  | 290/1260 [00:42<02:22,  6.79it/s, now=None]\u001b[A\n",
      "t:  23%|███████████████▏                                                  | 291/1260 [00:43<02:22,  6.82it/s, now=None]\u001b[A"
     ]
    },
    {
     "name": "stdout",
     "output_type": "stream",
     "text": [
      "857.184556197725 m 597.443898466798 m\n",
      "981.815235544983 m 632.3097462990962 m\n"
     ]
    },
    {
     "name": "stderr",
     "output_type": "stream",
     "text": [
      "\n",
      "t:  23%|███████████████▎                                                  | 292/1260 [00:43<02:23,  6.75it/s, now=None]\u001b[A"
     ]
    },
    {
     "name": "stdout",
     "output_type": "stream",
     "text": [
      "946.2456408543172 m 582.1824889311874 m\n",
      "1029.9304583068053 m 578.169614804878 m\n"
     ]
    },
    {
     "name": "stderr",
     "output_type": "stream",
     "text": [
      "\n",
      "t:  23%|███████████████▎                                                  | 293/1260 [00:43<02:23,  6.72it/s, now=None]\u001b[A\n",
      "t:  23%|███████████████▍                                                  | 294/1260 [00:43<02:28,  6.52it/s, now=None]\u001b[A"
     ]
    },
    {
     "name": "stdout",
     "output_type": "stream",
     "text": [
      "1070.4208714722756 m 676.9036579074764 m\n",
      "1001.4458450481657 m 798.4023197884374 m\n"
     ]
    },
    {
     "name": "stderr",
     "output_type": "stream",
     "text": [
      "\n",
      "t:  23%|███████████████▍                                                  | 295/1260 [00:43<02:30,  6.43it/s, now=None]\u001b[A\n",
      "t:  23%|███████████████▌                                                  | 296/1260 [00:43<02:28,  6.51it/s, now=None]\u001b[A"
     ]
    },
    {
     "name": "stdout",
     "output_type": "stream",
     "text": [
      "1062.3580532888625 m 903.03526223817 m\n",
      "1131.9420555922345 m 1213.178981873756 m\n"
     ]
    },
    {
     "name": "stderr",
     "output_type": "stream",
     "text": [
      "\n",
      "t:  24%|███████████████▌                                                  | 297/1260 [00:44<02:29,  6.46it/s, now=None]\u001b[A\n",
      "t:  24%|███████████████▌                                                  | 298/1260 [00:44<02:31,  6.34it/s, now=None]\u001b[A"
     ]
    },
    {
     "name": "stdout",
     "output_type": "stream",
     "text": [
      "1178.5915081511391 m 1474.828007821886 m\n",
      "1287.7212176274977 m 1491.1781291527645 m\n"
     ]
    },
    {
     "name": "stderr",
     "output_type": "stream",
     "text": [
      "\n",
      "t:  24%|███████████████▋                                                  | 299/1260 [00:44<02:32,  6.32it/s, now=None]\u001b[A\n",
      "t:  24%|███████████████▋                                                  | 300/1260 [00:44<02:31,  6.33it/s, now=None]\u001b[A\n",
      "t:  24%|███████████████▊                                                  | 301/1260 [00:44<02:29,  6.42it/s, now=None]\u001b[A"
     ]
    },
    {
     "name": "stdout",
     "output_type": "stream",
     "text": [
      "1317.3592845328242 m 1249.1667423763718 m\n",
      "1375.0934226863972 m 1267.1224446727877 m\n"
     ]
    },
    {
     "name": "stderr",
     "output_type": "stream",
     "text": [
      "\n",
      "t:  24%|███████████████▊                                                  | 302/1260 [00:44<02:28,  6.47it/s, now=None]\u001b[A"
     ]
    },
    {
     "name": "stdout",
     "output_type": "stream",
     "text": [
      "1663.6787955847344 m 941.1178335354023 m\n",
      "1678.2625846111162 m 1788.7779321974679 m\n"
     ]
    },
    {
     "name": "stderr",
     "output_type": "stream",
     "text": [
      "\n",
      "t:  24%|███████████████▊                                                  | 303/1260 [00:44<02:27,  6.49it/s, now=None]\u001b[A\n",
      "t:  24%|███████████████▉                                                  | 304/1260 [00:45<02:29,  6.38it/s, now=None]\u001b[A\n",
      "t:  24%|███████████████▉                                                  | 305/1260 [00:45<02:29,  6.38it/s, now=None]\u001b[A"
     ]
    },
    {
     "name": "stdout",
     "output_type": "stream",
     "text": [
      "1902.1326538094695 m 987.1216171595283 m\n",
      "2303.7373886355094 m 934.6613719974143 m\n"
     ]
    },
    {
     "name": "stderr",
     "output_type": "stream",
     "text": [
      "\n",
      "t:  24%|████████████████                                                  | 306/1260 [00:45<02:28,  6.43it/s, now=None]\u001b[A"
     ]
    },
    {
     "name": "stdout",
     "output_type": "stream",
     "text": [
      "2417.4376645451634 m 1101.22667572828 m\n",
      "2520.944288775512 m 932.7033817681795 m\n"
     ]
    },
    {
     "name": "stderr",
     "output_type": "stream",
     "text": [
      "\n",
      "t:  24%|████████████████                                                  | 307/1260 [00:45<02:34,  6.18it/s, now=None]\u001b[A\n",
      "t:  24%|████████████████▏                                                 | 308/1260 [00:45<02:39,  5.96it/s, now=None]\u001b[A"
     ]
    },
    {
     "name": "stdout",
     "output_type": "stream",
     "text": [
      "3311.949065105731 m 903.0020276664708 m\n",
      "5328.117824854622 m 1469.6619161339033 m\n"
     ]
    },
    {
     "name": "stderr",
     "output_type": "stream",
     "text": [
      "\n",
      "t:  25%|████████████████▏                                                 | 309/1260 [00:45<02:39,  5.97it/s, now=None]\u001b[A\n",
      "t:  25%|████████████████▏                                                 | 310/1260 [00:46<02:37,  6.02it/s, now=None]\u001b[A"
     ]
    },
    {
     "name": "stdout",
     "output_type": "stream",
     "text": [
      "4165.01876384028 m 1628.3147572382975 m\n",
      "5741.142783058832 m 1077.14701362399 m\n"
     ]
    },
    {
     "name": "stderr",
     "output_type": "stream",
     "text": [
      "\n",
      "t:  25%|████████████████▎                                                 | 311/1260 [00:46<02:37,  6.01it/s, now=None]\u001b[A\n",
      "t:  25%|████████████████▎                                                 | 312/1260 [00:46<02:37,  6.02it/s, now=None]\u001b[A"
     ]
    },
    {
     "name": "stdout",
     "output_type": "stream",
     "text": [
      "9367.664739681366 m 952.0041745220805 m\n",
      "11291.255019072569"
     ]
    },
    {
     "name": "stderr",
     "output_type": "stream",
     "text": [
      "\n",
      "t:  25%|████████████████▍                                                 | 313/1260 [00:46<02:41,  5.86it/s, now=None]\u001b[A"
     ]
    },
    {
     "name": "stdout",
     "output_type": "stream",
     "text": [
      " m 1009.8483939723429 m\n",
      "28450.231855010115 m 1294.0508758817164 m\n"
     ]
    },
    {
     "name": "stderr",
     "output_type": "stream",
     "text": [
      "\n",
      "t:  25%|████████████████▍                                                 | 314/1260 [00:46<02:38,  5.97it/s, now=None]\u001b[A\n",
      "t:  25%|████████████████▌                                                 | 315/1260 [00:46<02:36,  6.03it/s, now=None]\u001b[A"
     ]
    },
    {
     "name": "stdout",
     "output_type": "stream",
     "text": [
      "14119.357508350591 m 1463.1786192718712 m\n",
      "9984.514804925004 m 1400.4882405556025 m\n"
     ]
    },
    {
     "name": "stderr",
     "output_type": "stream",
     "text": [
      "\n",
      "t:  25%|████████████████▌                                                 | 316/1260 [00:47<02:34,  6.10it/s, now=None]\u001b[A\n",
      "t:  25%|████████████████▌                                                 | 317/1260 [00:47<02:36,  6.01it/s, now=None]\u001b[A"
     ]
    },
    {
     "name": "stdout",
     "output_type": "stream",
     "text": [
      "25620.308034358783 m 1299.4019931638566 m\n",
      "12973.45527470201 m 1194.9284778771762 m\n"
     ]
    },
    {
     "name": "stderr",
     "output_type": "stream",
     "text": [
      "\n",
      "t:  25%|████████████████▋                                                 | 318/1260 [00:47<02:33,  6.13it/s, now=None]\u001b[A\n",
      "t:  25%|████████████████▋                                                 | 319/1260 [00:47<02:33,  6.15it/s, now=None]\u001b[A"
     ]
    },
    {
     "name": "stdout",
     "output_type": "stream",
     "text": [
      "11001.179175724994 m 1645.696128104661 m\n",
      "12703.564505131388 m 1196.537519529379 m\n"
     ]
    },
    {
     "name": "stderr",
     "output_type": "stream",
     "text": [
      "\n",
      "t:  25%|████████████████▊                                                 | 320/1260 [00:47<02:32,  6.15it/s, now=None]\u001b[A\n",
      "t:  25%|████████████████▊                                                 | 321/1260 [00:47<02:30,  6.22it/s, now=None]\u001b[A"
     ]
    },
    {
     "name": "stdout",
     "output_type": "stream",
     "text": [
      "8297.797454896354 m 1052.3975326301625 m\n",
      "13549.249742389784 m 1371.041001076523 m\n"
     ]
    },
    {
     "name": "stderr",
     "output_type": "stream",
     "text": [
      "\n",
      "t:  26%|████████████████▊                                                 | 322/1260 [00:48<02:32,  6.16it/s, now=None]\u001b[A\n",
      "t:  26%|████████████████▉                                                 | 323/1260 [00:48<02:32,  6.14it/s, now=None]\u001b[A\n",
      "t:  26%|████████████████▉                                                 | 324/1260 [00:48<02:29,  6.27it/s, now=None]\u001b[A"
     ]
    },
    {
     "name": "stdout",
     "output_type": "stream",
     "text": [
      "10597.119155747478 m 960.1936729133403 m\n",
      "13319.875366106935 m 1066.2515630206526 m\n"
     ]
    },
    {
     "name": "stderr",
     "output_type": "stream",
     "text": [
      "\n",
      "t:  26%|█████████████████                                                 | 325/1260 [00:48<02:28,  6.32it/s, now=None]\u001b[A"
     ]
    },
    {
     "name": "stdout",
     "output_type": "stream",
     "text": [
      "76448.66024893042 m 1360.5394824207142 m\n",
      "11681.62038834323 m 1051.1027618106973 m\n"
     ]
    },
    {
     "name": "stderr",
     "output_type": "stream",
     "text": [
      "\n",
      "t:  26%|█████████████████                                                 | 326/1260 [00:48<02:27,  6.32it/s, now=None]\u001b[A\n",
      "t:  26%|█████████████████▏                                                | 327/1260 [00:48<02:30,  6.18it/s, now=None]\u001b[A"
     ]
    },
    {
     "name": "stdout",
     "output_type": "stream",
     "text": [
      "6953.279158265163 m 1168.1086288584625 m\n",
      "7279.504203227196 m 1113.5555708319587 m\n"
     ]
    },
    {
     "name": "stderr",
     "output_type": "stream",
     "text": [
      "\n",
      "t:  26%|█████████████████▏                                                | 328/1260 [00:49<02:31,  6.16it/s, now=None]\u001b[A\n",
      "t:  26%|█████████████████▏                                                | 329/1260 [00:49<02:31,  6.16it/s, now=None]\u001b[A"
     ]
    },
    {
     "name": "stdout",
     "output_type": "stream",
     "text": [
      "9594.663056003563 m 1199.0320563668668 m\n",
      "21630.478733184875 m 1504.7904268808836 m\n"
     ]
    },
    {
     "name": "stderr",
     "output_type": "stream",
     "text": [
      "\n",
      "t:  26%|█████████████████▎                                                | 330/1260 [00:49<02:32,  6.11it/s, now=None]\u001b[A\n",
      "t:  26%|█████████████████▎                                                | 331/1260 [00:49<02:33,  6.07it/s, now=None]\u001b[A"
     ]
    },
    {
     "name": "stdout",
     "output_type": "stream",
     "text": [
      "6655.079212319238 m 1391.2738254872856 m\n",
      "50261.98407644601 m 2273.29426022809 m\n"
     ]
    },
    {
     "name": "stderr",
     "output_type": "stream",
     "text": [
      "\n",
      "t:  26%|█████████████████▍                                                | 332/1260 [00:49<02:33,  6.03it/s, now=None]\u001b[A\n",
      "t:  26%|█████████████████▍                                                | 333/1260 [00:49<02:35,  5.94it/s, now=None]\u001b[A"
     ]
    },
    {
     "name": "stdout",
     "output_type": "stream",
     "text": [
      "22683.894759641957 m 1211.5750908535729 m\n",
      "20096.80257885919 m 1199.8662153959995 m\n"
     ]
    },
    {
     "name": "stderr",
     "output_type": "stream",
     "text": [
      "\n",
      "t:  27%|█████████████████▍                                                | 334/1260 [00:50<02:34,  5.98it/s, now=None]\u001b[A\n",
      "t:  27%|█████████████████▌                                                | 335/1260 [00:50<02:31,  6.10it/s, now=None]\u001b[A\n"
     ]
    },
    {
     "name": "stdout",
     "output_type": "stream",
     "text": [
      "83584.79647406381 m 1433.1210254767493 m\n",
      "21378.49683021935 m 1404.1749313860012 m\n"
     ]
    },
    {
     "name": "stderr",
     "output_type": "stream",
     "text": [
      "t:  27%|█████████████████▌                                                | 336/1260 [00:50<02:29,  6.17it/s, now=None]\u001b[A\n",
      "t:  27%|█████████████████▋                                                | 337/1260 [00:50<02:28,  6.22it/s, now=None]\u001b[A\n",
      "t:  27%|█████████████████▋                                                | 338/1260 [00:50<02:26,  6.31it/s, now=None]\u001b[A"
     ]
    },
    {
     "name": "stdout",
     "output_type": "stream",
     "text": [
      "33119.684906779876 m 2264.047142336276 m\n",
      "46966.869923506754 m 1864.1036275175672 m\n"
     ]
    },
    {
     "name": "stderr",
     "output_type": "stream",
     "text": [
      "\n",
      "t:  27%|█████████████████▊                                                | 339/1260 [00:50<02:27,  6.24it/s, now=None]\u001b[A\n",
      "t:  27%|█████████████████▊                                                | 340/1260 [00:51<02:24,  6.39it/s, now=None]\u001b[A"
     ]
    },
    {
     "name": "stdout",
     "output_type": "stream",
     "text": [
      "11316.859481053858 m 2063.9605067570774 m\n",
      "9275.340153808607 m 1578.6941132131751 m\n"
     ]
    },
    {
     "name": "stderr",
     "output_type": "stream",
     "text": [
      "\n",
      "t:  27%|█████████████████▊                                                | 341/1260 [00:51<02:22,  6.46it/s, now=None]\u001b[A"
     ]
    },
    {
     "name": "stdout",
     "output_type": "stream",
     "text": [
      "16578.301656101787 m 1728.717177910056 m\n",
      "22521.062296588327 m 1181.7745210100763 m\n"
     ]
    },
    {
     "name": "stderr",
     "output_type": "stream",
     "text": [
      "\n",
      "t:  27%|█████████████████▉                                                | 342/1260 [00:51<02:23,  6.40it/s, now=None]\u001b[A\n",
      "t:  27%|█████████████████▉                                                | 343/1260 [00:51<02:23,  6.39it/s, now=None]\u001b[A"
     ]
    },
    {
     "name": "stdout",
     "output_type": "stream",
     "text": [
      "19877.155281889096 m 1381.831818899449 m\n",
      "40995.03693083721 m 1979.3259550095759 m\n"
     ]
    },
    {
     "name": "stderr",
     "output_type": "stream",
     "text": [
      "\n",
      "t:  27%|██████████████████                                                | 344/1260 [00:51<02:23,  6.39it/s, now=None]\u001b[A\n",
      "t:  27%|██████████████████                                                | 345/1260 [00:51<02:23,  6.36it/s, now=None]\u001b[A"
     ]
    },
    {
     "name": "stdout",
     "output_type": "stream",
     "text": [
      "52370.156365069895 m 3043.7787976961104 m\n",
      "19836.58291068956 m 3058.329523625173 m\n"
     ]
    },
    {
     "name": "stderr",
     "output_type": "stream",
     "text": [
      "\n",
      "t:  27%|██████████████████                                                | 346/1260 [00:51<02:24,  6.31it/s, now=None]\u001b[A\n",
      "t:  28%|██████████████████▏                                               | 347/1260 [00:52<02:23,  6.34it/s, now=None]\u001b[A\n",
      "t:  28%|██████████████████▏                                               | 348/1260 [00:52<02:20,  6.48it/s, now=None]\u001b[A"
     ]
    },
    {
     "name": "stdout",
     "output_type": "stream",
     "text": [
      "11946.996359734872 m 3618.1664184541683 m\n",
      "4901.933503835027 m 1914.7150811127149 m\n"
     ]
    },
    {
     "name": "stderr",
     "output_type": "stream",
     "text": [
      "\n",
      "t:  28%|██████████████████▎                                               | 349/1260 [00:52<02:20,  6.46it/s, now=None]\u001b[A\n",
      "t:  28%|██████████████████▎                                               | 350/1260 [00:52<02:18,  6.57it/s, now=None]\u001b[A"
     ]
    },
    {
     "name": "stdout",
     "output_type": "stream",
     "text": [
      "9520.514230848654 m 5595.897881777803 m\n",
      "3699.0734782677127 m 2017.2884329633011 m\n"
     ]
    },
    {
     "name": "stderr",
     "output_type": "stream",
     "text": [
      "\n",
      "t:  28%|██████████████████▍                                               | 351/1260 [00:52<02:17,  6.60it/s, now=None]\u001b[A\n",
      "t:  28%|██████████████████▍                                               | 352/1260 [00:52<02:16,  6.65it/s, now=None]\u001b[A"
     ]
    },
    {
     "name": "stdout",
     "output_type": "stream",
     "text": [
      "3661.010420169761 m 2114.128859043044 m\n",
      "3195.5526149677808 m 1738.2375618426565 m\n"
     ]
    },
    {
     "name": "stderr",
     "output_type": "stream",
     "text": [
      "\n",
      "t:  28%|██████████████████▍                                               | 353/1260 [00:53<02:18,  6.57it/s, now=None]\u001b[A\n",
      "t:  28%|██████████████████▌                                               | 354/1260 [00:53<02:16,  6.63it/s, now=None]\u001b[A"
     ]
    },
    {
     "name": "stdout",
     "output_type": "stream",
     "text": [
      "2206.8566294402885 m 1221.259545445774 m\n",
      "3073.488618553206 m 1163.207812628393 m\n"
     ]
    },
    {
     "name": "stderr",
     "output_type": "stream",
     "text": [
      "\n",
      "t:  28%|██████████████████▌                                               | 355/1260 [00:53<02:16,  6.65it/s, now=None]\u001b[A\n",
      "t:  28%|██████████████████▋                                               | 356/1260 [00:53<02:16,  6.61it/s, now=None]\u001b[A"
     ]
    },
    {
     "name": "stdout",
     "output_type": "stream",
     "text": [
      "2232.8732791701773 m 1194.6029878645584 m\n",
      "1999.2811694962327 m 1241.5136083013836 m\n"
     ]
    },
    {
     "name": "stderr",
     "output_type": "stream",
     "text": [
      "\n",
      "t:  28%|██████████████████▋                                               | 357/1260 [00:53<02:17,  6.59it/s, now=None]\u001b[A"
     ]
    },
    {
     "name": "stdout",
     "output_type": "stream",
     "text": [
      "2181.519673967579 m 2016.1374528091278 m\n",
      "1866.8169797817263 m 4190.80178163644 m\n"
     ]
    },
    {
     "name": "stderr",
     "output_type": "stream",
     "text": [
      "\n",
      "t:  28%|██████████████████▊                                               | 358/1260 [00:53<02:17,  6.54it/s, now=None]\u001b[A\n",
      "t:  28%|██████████████████▊                                               | 359/1260 [00:53<02:17,  6.56it/s, now=None]\u001b[A\n",
      "t:  29%|██████████████████▊                                               | 360/1260 [00:54<02:16,  6.59it/s, now=None]\u001b[A"
     ]
    },
    {
     "name": "stdout",
     "output_type": "stream",
     "text": [
      "1912.624369278584 m 7895.533656782066 m\n",
      "1572.2691210363448 m 2260.6468653317256 m\n"
     ]
    },
    {
     "name": "stderr",
     "output_type": "stream",
     "text": [
      "\n",
      "t:  29%|██████████████████▉                                               | 361/1260 [00:54<02:17,  6.56it/s, now=None]\u001b[A\n",
      "t:  29%|██████████████████▉                                               | 362/1260 [00:54<02:15,  6.65it/s, now=None]\u001b[A"
     ]
    },
    {
     "name": "stdout",
     "output_type": "stream",
     "text": [
      "1577.8197658101628 m 3521.2331789745967 m\n",
      "1323.8703955138678 m 3119.465562411733 m\n"
     ]
    },
    {
     "name": "stderr",
     "output_type": "stream",
     "text": [
      "\n",
      "t:  29%|███████████████████                                               | 363/1260 [00:54<02:18,  6.49it/s, now=None]\u001b[A\n",
      "t:  29%|███████████████████                                               | 364/1260 [00:54<02:14,  6.64it/s, now=None]\u001b[A"
     ]
    },
    {
     "name": "stdout",
     "output_type": "stream",
     "text": [
      "1278.2809257059462 m 2154.4974499536534 m\n",
      "1201.5196884003938 m 1791.1522119763408 m\n"
     ]
    },
    {
     "name": "stderr",
     "output_type": "stream",
     "text": [
      "\n",
      "t:  29%|███████████████████                                               | 365/1260 [00:54<02:14,  6.67it/s, now=None]\u001b[A"
     ]
    },
    {
     "name": "stdout",
     "output_type": "stream",
     "text": [
      "1561.7034286080188 m 3355.732452110062 m\n",
      "1429.3838109829078 m 16125.325001751025 m\n"
     ]
    },
    {
     "name": "stderr",
     "output_type": "stream",
     "text": [
      "\n",
      "t:  29%|███████████████████▏                                              | 366/1260 [00:54<02:17,  6.50it/s, now=None]\u001b[A\n",
      "t:  29%|███████████████████▏                                              | 367/1260 [00:55<02:15,  6.57it/s, now=None]\u001b[A\n",
      "t:  29%|███████████████████▎                                              | 368/1260 [00:55<02:14,  6.64it/s, now=None]\u001b[A"
     ]
    },
    {
     "name": "stdout",
     "output_type": "stream",
     "text": [
      "1744.020920836574 m 80740.95259673973 m\n",
      "1989.4053565003067 m 138208.90052163496 m\n"
     ]
    },
    {
     "name": "stderr",
     "output_type": "stream",
     "text": [
      "\n",
      "t:  29%|███████████████████▎                                              | 369/1260 [00:55<02:16,  6.51it/s, now=None]\u001b[A"
     ]
    },
    {
     "name": "stdout",
     "output_type": "stream",
     "text": [
      "2083.360066038479 m 53965.919139497106 m\n",
      "2601.1095698738286 m 7855.240988269404 m\n"
     ]
    },
    {
     "name": "stderr",
     "output_type": "stream",
     "text": [
      "\n",
      "t:  29%|███████████████████▍                                              | 370/1260 [00:55<02:20,  6.34it/s, now=None]\u001b[A\n",
      "t:  29%|███████████████████▍                                              | 371/1260 [00:55<02:16,  6.51it/s, now=None]\u001b[A"
     ]
    },
    {
     "name": "stdout",
     "output_type": "stream",
     "text": [
      "3740.37734442412 m 7178.8257274169 m\n",
      "4616.39418232031 m 26689.110372383882 m\n"
     ]
    },
    {
     "name": "stderr",
     "output_type": "stream",
     "text": [
      "\n",
      "t:  30%|███████████████████▍                                              | 372/1260 [00:55<02:16,  6.50it/s, now=None]\u001b[A\n",
      "t:  30%|███████████████████▌                                              | 373/1260 [00:56<02:14,  6.59it/s, now=None]\u001b[A\n",
      "t:  30%|███████████████████▌                                              | 374/1260 [00:56<02:11,  6.71it/s, now=None]\u001b[A"
     ]
    },
    {
     "name": "stdout",
     "output_type": "stream",
     "text": [
      "11826.251386622589 m 34291.2995009475 m\n",
      "11036.198763923507 m 7124.750416640236 m\n"
     ]
    },
    {
     "name": "stderr",
     "output_type": "stream",
     "text": [
      "\n",
      "t:  30%|███████████████████▋                                              | 375/1260 [00:56<02:14,  6.57it/s, now=None]\u001b[A\n",
      "t:  30%|███████████████████▋                                              | 376/1260 [00:56<02:15,  6.53it/s, now=None]\u001b[A"
     ]
    },
    {
     "name": "stdout",
     "output_type": "stream",
     "text": [
      "10211.282747829457 m 22835.625690437188 m\n",
      "6235.511464399791 m 4091.1127445714787 m\n"
     ]
    },
    {
     "name": "stderr",
     "output_type": "stream",
     "text": [
      "\n",
      "t:  30%|███████████████████▋                                              | 377/1260 [00:56<02:13,  6.60it/s, now=None]\u001b[A\n",
      "t:  30%|███████████████████▊                                              | 378/1260 [00:56<02:11,  6.71it/s, now=None]\u001b[A"
     ]
    },
    {
     "name": "stdout",
     "output_type": "stream",
     "text": [
      "3568.0216424695177 m 6294.518020654325 m\n",
      "2974.4700470795688 m 6464.58674226167 m\n"
     ]
    },
    {
     "name": "stderr",
     "output_type": "stream",
     "text": [
      "\n",
      "t:  30%|███████████████████▊                                              | 379/1260 [00:56<02:14,  6.57it/s, now=None]\u001b[A\n",
      "t:  30%|███████████████████▉                                              | 380/1260 [00:57<02:14,  6.56it/s, now=None]\u001b[A"
     ]
    },
    {
     "name": "stdout",
     "output_type": "stream",
     "text": [
      "2590.8286300555606 m 11305.853349731467 m\n",
      "2268.509663909992 m 162877.37981277777 m\n"
     ]
    },
    {
     "name": "stderr",
     "output_type": "stream",
     "text": [
      "\n",
      "t:  30%|███████████████████▉                                              | 381/1260 [00:57<02:15,  6.48it/s, now=None]\u001b[A"
     ]
    },
    {
     "name": "stdout",
     "output_type": "stream",
     "text": [
      "1859.4810796529778 m 14666.913634368113 m\n",
      "2026.0687959407442 m 9403.43777900241 m\n"
     ]
    },
    {
     "name": "stderr",
     "output_type": "stream",
     "text": [
      "\n",
      "t:  30%|████████████████████                                              | 382/1260 [00:57<02:13,  6.57it/s, now=None]\u001b[A\n",
      "t:  30%|████████████████████                                              | 383/1260 [00:57<02:15,  6.46it/s, now=None]\u001b[A"
     ]
    },
    {
     "name": "stdout",
     "output_type": "stream",
     "text": [
      "2320.6080849937102 m 12044.625047840409 m\n",
      "2546.388526637637 m 3630.2594967335003 m\n"
     ]
    },
    {
     "name": "stderr",
     "output_type": "stream",
     "text": [
      "\n",
      "t:  30%|████████████████████                                              | 384/1260 [00:57<02:14,  6.51it/s, now=None]\u001b[A\n",
      "t:  31%|████████████████████▏                                             | 385/1260 [00:57<02:12,  6.59it/s, now=None]\u001b[A"
     ]
    },
    {
     "name": "stdout",
     "output_type": "stream",
     "text": [
      "2738.2543254659263 m 2197.0340162508664 m\n",
      "2664.6552687909634 m 2361.5336537209005 m\n"
     ]
    },
    {
     "name": "stderr",
     "output_type": "stream",
     "text": [
      "\n",
      "t:  31%|████████████████████▏                                             | 386/1260 [00:58<02:13,  6.54it/s, now=None]\u001b[A\n",
      "t:  31%|████████████████████▎                                             | 387/1260 [00:58<02:13,  6.52it/s, now=None]\u001b[A\n",
      "t:  31%|████████████████████▎                                             | 388/1260 [00:58<02:11,  6.63it/s, now=None]\u001b[A"
     ]
    },
    {
     "name": "stdout",
     "output_type": "stream",
     "text": [
      "3835.8117131654735 m 2228.67925388319 m\n",
      "2809.5237094987174 m 2643.0527934338816 m\n"
     ]
    },
    {
     "name": "stderr",
     "output_type": "stream",
     "text": [
      "\n",
      "t:  31%|████████████████████▍                                             | 389/1260 [00:58<02:11,  6.61it/s, now=None]\u001b[A\n",
      "t:  31%|████████████████████▍                                             | 390/1260 [00:58<02:10,  6.66it/s, now=None]\u001b[A"
     ]
    },
    {
     "name": "stdout",
     "output_type": "stream",
     "text": [
      "3662.3504328243603 m 2134.488358970697 m\n",
      "3777.4735326929267 m 2110.5007843730195 m\n"
     ]
    },
    {
     "name": "stderr",
     "output_type": "stream",
     "text": [
      "\n",
      "t:  31%|████████████████████▍                                             | 391/1260 [00:58<02:11,  6.60it/s, now=None]\u001b[A\n",
      "t:  31%|████████████████████▌                                             | 392/1260 [00:58<02:12,  6.55it/s, now=None]\u001b[A"
     ]
    },
    {
     "name": "stdout",
     "output_type": "stream",
     "text": [
      "4757.152299263409 m 1499.2578843337471 m\n",
      "5639.779319893667 m 1988.4312222736714 m\n"
     ]
    },
    {
     "name": "stderr",
     "output_type": "stream",
     "text": [
      "\n",
      "t:  31%|████████████████████▌                                             | 393/1260 [00:59<02:08,  6.75it/s, now=None]\u001b[A"
     ]
    },
    {
     "name": "stdout",
     "output_type": "stream",
     "text": [
      "5638.657180283522 m 1963.441546263539 m\n",
      "9330.408102455001 m 25484.09904543582 m\n"
     ]
    },
    {
     "name": "stderr",
     "output_type": "stream",
     "text": [
      "\n",
      "t:  31%|████████████████████▋                                             | 394/1260 [00:59<02:10,  6.63it/s, now=None]\u001b[A\n",
      "t:  31%|████████████████████▋                                             | 395/1260 [00:59<02:13,  6.47it/s, now=None]\u001b[A"
     ]
    },
    {
     "name": "stdout",
     "output_type": "stream",
     "text": [
      "10052.625769517774 m 6976.534547876723 m\n",
      "621981.6221089138 m 9844.15019451494 m\n"
     ]
    },
    {
     "name": "stderr",
     "output_type": "stream",
     "text": [
      "\n",
      "t:  31%|████████████████████▋                                             | 396/1260 [00:59<02:14,  6.44it/s, now=None]\u001b[A\n",
      "t:  32%|████████████████████▊                                             | 397/1260 [00:59<02:13,  6.46it/s, now=None]\u001b[A"
     ]
    },
    {
     "name": "stdout",
     "output_type": "stream",
     "text": [
      "14522.89139190265 m 3854.9362946995734 m\n",
      "22107.282963935475 m 4325.340043387853 m\n"
     ]
    },
    {
     "name": "stderr",
     "output_type": "stream",
     "text": [
      "\n",
      "t:  32%|████████████████████▊                                             | 398/1260 [00:59<02:11,  6.55it/s, now=None]\u001b[A\n",
      "t:  32%|████████████████████▉                                             | 399/1260 [01:00<02:12,  6.48it/s, now=None]\u001b[A"
     ]
    },
    {
     "name": "stdout",
     "output_type": "stream",
     "text": [
      "14510.633563918645 m 12817.139356542522 m\n",
      "9476.171310238873 m 174306.3845378855 m\n"
     ]
    },
    {
     "name": "stderr",
     "output_type": "stream",
     "text": [
      "\n",
      "t:  32%|████████████████████▉                                             | 400/1260 [01:00<02:12,  6.49it/s, now=None]\u001b[A\n",
      "t:  32%|█████████████████████                                             | 401/1260 [01:00<02:09,  6.64it/s, now=None]\u001b[A\n",
      "t:  32%|█████████████████████                                             | 402/1260 [01:00<02:08,  6.68it/s, now=None]\u001b[A"
     ]
    },
    {
     "name": "stdout",
     "output_type": "stream",
     "text": [
      "12742.581051409103 m 2745.034780053555 m\n",
      "16268.079582173563 m 2479.439952427921 m\n"
     ]
    },
    {
     "name": "stderr",
     "output_type": "stream",
     "text": [
      "\n",
      "t:  32%|█████████████████████                                             | 403/1260 [01:00<02:07,  6.71it/s, now=None]\u001b[A"
     ]
    },
    {
     "name": "stdout",
     "output_type": "stream",
     "text": [
      "23513.893210304086 m 1840.667852901404 m\n",
      "22833.189342181155 m 2001.3240226077346 m\n"
     ]
    },
    {
     "name": "stderr",
     "output_type": "stream",
     "text": [
      "\n",
      "t:  32%|█████████████████████▏                                            | 404/1260 [01:00<02:10,  6.54it/s, now=None]\u001b[A\n",
      "t:  32%|█████████████████████▏                                            | 405/1260 [01:00<02:10,  6.53it/s, now=None]\u001b[A\n",
      "t:  32%|█████████████████████▎                                            | 406/1260 [01:01<02:08,  6.67it/s, now=None]\u001b[A"
     ]
    },
    {
     "name": "stdout",
     "output_type": "stream",
     "text": [
      "26585.539952615087 m 4988.753031082651 m\n",
      "14182.909610755638 m 10469.597270669376 m\n"
     ]
    },
    {
     "name": "stderr",
     "output_type": "stream",
     "text": [
      "\n",
      "t:  32%|█████████████████████▎                                            | 407/1260 [01:01<02:08,  6.62it/s, now=None]\u001b[A"
     ]
    },
    {
     "name": "stdout",
     "output_type": "stream",
     "text": [
      "8179.161225304729 m 6848.9436421306045 m\n",
      "10017.809709503475 m 10097.631535820918 m\n"
     ]
    },
    {
     "name": "stderr",
     "output_type": "stream",
     "text": [
      "\n",
      "t:  32%|█████████████████████▎                                            | 408/1260 [01:01<02:10,  6.51it/s, now=None]\u001b[A\n",
      "t:  32%|█████████████████████▍                                            | 409/1260 [01:01<02:10,  6.50it/s, now=None]\u001b[A\n",
      "t:  33%|█████████████████████▍                                            | 410/1260 [01:01<02:08,  6.59it/s, now=None]\u001b[A"
     ]
    },
    {
     "name": "stdout",
     "output_type": "stream",
     "text": [
      "7851.274406432872 m 5434.17693502906 m\n",
      "10869.419058521311 m 3241.3985142058855 m\n"
     ]
    },
    {
     "name": "stderr",
     "output_type": "stream",
     "text": [
      "\n",
      "t:  33%|█████████████████████▌                                            | 411/1260 [01:01<02:09,  6.55it/s, now=None]\u001b[A\n",
      "t:  33%|█████████████████████▌                                            | 412/1260 [01:01<02:09,  6.55it/s, now=None]\u001b[A"
     ]
    },
    {
     "name": "stdout",
     "output_type": "stream",
     "text": [
      "6520.324733379224 m 17062.930285151306 m\n",
      "4863.973555707567 m 39188.16948243231 m\n"
     ]
    },
    {
     "name": "stderr",
     "output_type": "stream",
     "text": [
      "\n",
      "t:  33%|█████████████████████▋                                            | 413/1260 [01:02<02:05,  6.77it/s, now=None]\u001b[A"
     ]
    },
    {
     "name": "stdout",
     "output_type": "stream",
     "text": [
      "4648.312069324192 m 4035.4773055207093 m\n",
      "4279.007691764307 m 2094.5271778063498 m\n"
     ]
    },
    {
     "name": "stderr",
     "output_type": "stream",
     "text": [
      "\n",
      "t:  33%|█████████████████████▋                                            | 414/1260 [01:02<02:14,  6.30it/s, now=None]\u001b[A\n",
      "t:  33%|█████████████████████▋                                            | 415/1260 [01:02<02:13,  6.32it/s, now=None]\u001b[A\n",
      "t:  33%|█████████████████████▊                                            | 416/1260 [01:02<02:11,  6.44it/s, now=None]\u001b[A"
     ]
    },
    {
     "name": "stdout",
     "output_type": "stream",
     "text": [
      "3605.2187979972314 m 1857.834586971826 m\n",
      "3805.8312483106047 m 7892.670133264042 m\n"
     ]
    },
    {
     "name": "stderr",
     "output_type": "stream",
     "text": [
      "\n",
      "t:  33%|█████████████████████▊                                            | 417/1260 [01:02<02:07,  6.63it/s, now=None]\u001b[A\n",
      "t:  33%|█████████████████████▉                                            | 418/1260 [01:02<02:05,  6.70it/s, now=None]\u001b[A"
     ]
    },
    {
     "name": "stdout",
     "output_type": "stream",
     "text": [
      "3399.9210374834283 m 4151.841916335112 m\n",
      "3461.533033026078 m 10057.4450837666 m\n"
     ]
    },
    {
     "name": "stderr",
     "output_type": "stream",
     "text": [
      "\n",
      "t:  33%|█████████████████████▉                                            | 419/1260 [01:03<02:05,  6.72it/s, now=None]\u001b[A\n",
      "t:  33%|██████████████████████                                            | 420/1260 [01:03<02:05,  6.71it/s, now=None]"
     ]
    },
    {
     "name": "stdout",
     "output_type": "stream",
     "text": [
      "3657.4773666926967 m 3389.55729167252 m\n",
      "4439.433998428292 m 3438.558630559205 m\n"
     ]
    },
    {
     "name": "stderr",
     "output_type": "stream",
     "text": [
      "\u001b[A\n",
      "t:  33%|██████████████████████                                            | 421/1260 [01:03<02:05,  6.68it/s, now=None]\u001b[A"
     ]
    },
    {
     "name": "stdout",
     "output_type": "stream",
     "text": [
      "4507.180892576798 m 2617.0522857248934 m\n",
      "6509.90998231058 m 6230.858677137524 m\n"
     ]
    },
    {
     "name": "stderr",
     "output_type": "stream",
     "text": [
      "\n",
      "t:  33%|██████████████████████                                            | 422/1260 [01:03<02:05,  6.69it/s, now=None]\u001b[A\n",
      "t:  34%|██████████████████████▏                                           | 423/1260 [01:03<02:05,  6.68it/s, now=None]\u001b[A"
     ]
    },
    {
     "name": "stdout",
     "output_type": "stream",
     "text": [
      "26141.4596112031 m 7391.96443736345 m\n",
      "31525.012491124762 m 9004.704379709166 m\n"
     ]
    },
    {
     "name": "stderr",
     "output_type": "stream",
     "text": [
      "\n",
      "t:  34%|██████████████████████▏                                           | 424/1260 [01:03<02:08,  6.50it/s, now=None]\u001b[A\n",
      "t:  34%|██████████████████████▎                                           | 425/1260 [01:03<02:04,  6.68it/s, now=None]\u001b[A\n",
      "t:  34%|██████████████████████▎                                           | 426/1260 [01:04<02:05,  6.66it/s, now=None]"
     ]
    },
    {
     "name": "stdout",
     "output_type": "stream",
     "text": [
      "54295.32679358518 m 4372.1537275070605 m\n",
      "12197.40320510247 m 2534.028428254225 m\n"
     ]
    },
    {
     "name": "stderr",
     "output_type": "stream",
     "text": [
      "\u001b[A\n",
      "t:  34%|██████████████████████▎                                           | 427/1260 [01:04<02:07,  6.52it/s, now=None]\u001b[A\n",
      "t:  34%|██████████████████████▍                                           | 428/1260 [01:04<02:05,  6.61it/s, now=None]\u001b[A"
     ]
    },
    {
     "name": "stdout",
     "output_type": "stream",
     "text": [
      "13620.876131794012 m 35150.001464304805 m\n",
      "7009.711965496596 m 56496.96356082367 m\n"
     ]
    },
    {
     "name": "stderr",
     "output_type": "stream",
     "text": [
      "\n",
      "t:  34%|██████████████████████▍                                           | 429/1260 [01:04<02:05,  6.63it/s, now=None]\u001b[A\n",
      "t:  34%|██████████████████████▌                                           | 430/1260 [01:04<02:05,  6.63it/s, now=None]\u001b[A"
     ]
    },
    {
     "name": "stdout",
     "output_type": "stream",
     "text": [
      "4134.212790866385 m 15246.019623402372 m\n",
      "3982.4228578195566 m 3267.4693030063563 m\n"
     ]
    },
    {
     "name": "stderr",
     "output_type": "stream",
     "text": [
      "\n",
      "t:  34%|██████████████████████▌                                           | 431/1260 [01:04<02:06,  6.56it/s, now=None]\u001b[A\n",
      "t:  34%|██████████████████████▋                                           | 432/1260 [01:05<02:07,  6.49it/s, now=None]\u001b[A"
     ]
    },
    {
     "name": "stdout",
     "output_type": "stream",
     "text": [
      "2955.560223002527 m 1450.1862220987566 m\n",
      "2992.046988951183 m 1728.3237139758469 m\n"
     ]
    },
    {
     "name": "stderr",
     "output_type": "stream",
     "text": [
      "\n",
      "t:  34%|██████████████████████▋                                           | 433/1260 [01:05<02:08,  6.45it/s, now=None]\u001b[A\n",
      "t:  34%|██████████████████████▋                                           | 434/1260 [01:05<02:06,  6.53it/s, now=None]\u001b[A"
     ]
    },
    {
     "name": "stdout",
     "output_type": "stream",
     "text": [
      "2310.517428055598 m 1817.378721889389 m\n",
      "2395.792997815632 m 1661.800411370346 m\n"
     ]
    },
    {
     "name": "stderr",
     "output_type": "stream",
     "text": [
      "\n",
      "t:  35%|██████████████████████▊                                           | 435/1260 [01:05<02:07,  6.47it/s, now=None]\u001b[A"
     ]
    },
    {
     "name": "stdout",
     "output_type": "stream",
     "text": [
      "2418.5314027836544 m 2313.6754452042574 m\n",
      "2245.8318539831726 m 4630.930616545209 m\n"
     ]
    },
    {
     "name": "stderr",
     "output_type": "stream",
     "text": [
      "\n",
      "t:  35%|██████████████████████▊                                           | 436/1260 [01:05<02:08,  6.43it/s, now=None]\u001b[A\n",
      "t:  35%|██████████████████████▉                                           | 437/1260 [01:05<02:08,  6.40it/s, now=None]\u001b[A\n"
     ]
    },
    {
     "name": "stdout",
     "output_type": "stream",
     "text": [
      "1995.5283266747838 m 24053863.358700354 m\n",
      "1892.002895371962 m 1500.129561796427 m\n"
     ]
    },
    {
     "name": "stderr",
     "output_type": "stream",
     "text": [
      "t:  35%|██████████████████████▉                                           | 438/1260 [01:05<02:09,  6.36it/s, now=None]\u001b[A\n",
      "t:  35%|██████████████████████▉                                           | 439/1260 [01:06<02:05,  6.54it/s, now=None]\u001b[A\n",
      "t:  35%|███████████████████████                                           | 440/1260 [01:06<02:04,  6.60it/s, now=None]\u001b[A"
     ]
    },
    {
     "name": "stdout",
     "output_type": "stream",
     "text": [
      "1933.9024987431733 m 1375.008650296437 m\n",
      "1971.0700554196283 m 1231.9553505352078 m\n"
     ]
    },
    {
     "name": "stderr",
     "output_type": "stream",
     "text": [
      "\n",
      "t:  35%|███████████████████████                                           | 441/1260 [01:06<02:05,  6.51it/s, now=None]\u001b[A\n",
      "t:  35%|███████████████████████▏                                          | 442/1260 [01:06<02:03,  6.62it/s, now=None]\u001b[A"
     ]
    },
    {
     "name": "stdout",
     "output_type": "stream",
     "text": [
      "2124.9858440071507 m 1998.9678690388982 m\n",
      "2400.331612217784 m 2133.345922949376 m\n"
     ]
    },
    {
     "name": "stderr",
     "output_type": "stream",
     "text": [
      "\n",
      "t:  35%|███████████████████████▏                                          | 443/1260 [01:06<02:03,  6.64it/s, now=None]\u001b[A"
     ]
    },
    {
     "name": "stdout",
     "output_type": "stream",
     "text": [
      "2582.926628001296 m 3586.247192194653 m\n",
      "2586.5609087627695 m 1717.2437527460324 m\n"
     ]
    },
    {
     "name": "stderr",
     "output_type": "stream",
     "text": [
      "\n",
      "t:  35%|███████████████████████▎                                          | 444/1260 [01:06<02:03,  6.59it/s, now=None]\u001b[A\n",
      "t:  35%|███████████████████████▎                                          | 445/1260 [01:07<02:00,  6.74it/s, now=None]\u001b[A\n",
      "t:  35%|███████████████████████▎                                          | 446/1260 [01:07<01:58,  6.86it/s, now=None]\u001b[A"
     ]
    },
    {
     "name": "stdout",
     "output_type": "stream",
     "text": [
      "3681.6821764671795 m 2822.3911444856208 m\n",
      "2769.7736234539207 m 3635.4871373273754 m\n"
     ]
    },
    {
     "name": "stderr",
     "output_type": "stream",
     "text": [
      "\n",
      "t:  35%|███████████████████████▍                                          | 447/1260 [01:07<02:02,  6.64it/s, now=None]\u001b[A"
     ]
    },
    {
     "name": "stdout",
     "output_type": "stream",
     "text": [
      "4685.655641302527 m 14338.326460181259 m\n",
      "6279.9638356756 m 21542.806388378434 m\n"
     ]
    },
    {
     "name": "stderr",
     "output_type": "stream",
     "text": [
      "\n",
      "t:  36%|███████████████████████▍                                          | 448/1260 [01:07<02:02,  6.60it/s, now=None]\u001b[A\n",
      "t:  36%|███████████████████████▌                                          | 449/1260 [01:07<02:02,  6.60it/s, now=None]\u001b[A"
     ]
    },
    {
     "name": "stdout",
     "output_type": "stream",
     "text": [
      "9727.518328175121 m 7228.427319230068 m\n",
      "1541313.23059312 m 4643.311657000372 m\n"
     ]
    },
    {
     "name": "stderr",
     "output_type": "stream",
     "text": [
      "\n",
      "t:  36%|███████████████████████▌                                          | 450/1260 [01:07<02:04,  6.52it/s, now=None]\u001b[A\n",
      "t:  36%|███████████████████████▌                                          | 451/1260 [01:07<02:03,  6.54it/s, now=None]\u001b[A\n",
      "t:  36%|███████████████████████▋                                          | 452/1260 [01:08<02:00,  6.73it/s, now=None]\u001b[A"
     ]
    },
    {
     "name": "stdout",
     "output_type": "stream",
     "text": [
      "62537.23137553651 m 9993.19889864146 m\n",
      "6158.216125908857 m 5585.949320697378 m\n"
     ]
    },
    {
     "name": "stderr",
     "output_type": "stream",
     "text": [
      "\n",
      "t:  36%|███████████████████████▋                                          | 453/1260 [01:08<01:57,  6.86it/s, now=None]\u001b[A\n",
      "t:  36%|███████████████████████▊                                          | 454/1260 [01:08<01:57,  6.87it/s, now=None]\u001b[A"
     ]
    },
    {
     "name": "stdout",
     "output_type": "stream",
     "text": [
      "4490.372737524243 m 5219.0685589840095 m\n",
      "4230.386121669369 m 10574.24434356719 m\n"
     ]
    },
    {
     "name": "stderr",
     "output_type": "stream",
     "text": [
      "\n",
      "t:  36%|███████████████████████▊                                          | 455/1260 [01:08<01:58,  6.82it/s, now=None]\u001b[A\n",
      "t:  36%|███████████████████████▉                                          | 456/1260 [01:08<01:58,  6.79it/s, now=None]\u001b[A"
     ]
    },
    {
     "name": "stdout",
     "output_type": "stream",
     "text": [
      "3667.122289966669 m 7216.053712693602 m\n",
      "3606.1391554832203 m 5317.78170043265 m\n"
     ]
    },
    {
     "name": "stderr",
     "output_type": "stream",
     "text": [
      "\n",
      "t:  36%|███████████████████████▉                                          | 457/1260 [01:08<01:57,  6.85it/s, now=None]\u001b[A\n",
      "t:  36%|███████████████████████▉                                          | 458/1260 [01:08<01:56,  6.86it/s, now=None]\u001b[A"
     ]
    },
    {
     "name": "stdout",
     "output_type": "stream",
     "text": [
      "3071.5536122226663 m 4820.524744097677 m\n",
      "3475.535341335586 m 3416.093831670422 m\n"
     ]
    },
    {
     "name": "stderr",
     "output_type": "stream",
     "text": [
      "\n",
      "t:  36%|████████████████████████                                          | 459/1260 [01:09<01:55,  6.95it/s, now=None]\u001b[A\n",
      "t:  37%|████████████████████████                                          | 460/1260 [01:09<01:57,  6.81it/s, now=None]\u001b[A"
     ]
    },
    {
     "name": "stdout",
     "output_type": "stream",
     "text": [
      "3562.5359859037817 m 2605.7019926949533 m\n",
      "4533.652270541507 m 11061.738536761826 m\n"
     ]
    },
    {
     "name": "stderr",
     "output_type": "stream",
     "text": [
      "\n",
      "t:  37%|████████████████████████▏                                         | 461/1260 [01:09<01:57,  6.77it/s, now=None]\u001b[A\n",
      "t:  37%|████████████████████████▏                                         | 462/1260 [01:09<01:56,  6.83it/s, now=None]\u001b[A"
     ]
    },
    {
     "name": "stdout",
     "output_type": "stream",
     "text": [
      "3995.200997049475 m 17663.13266379498 m\n",
      "3896.305650396044 m 2383.9390207302426 m\n"
     ]
    },
    {
     "name": "stderr",
     "output_type": "stream",
     "text": [
      "\n",
      "t:  37%|████████████████████████▎                                         | 463/1260 [01:09<01:57,  6.80it/s, now=None]\u001b[A\n",
      "t:  37%|████████████████████████▎                                         | 464/1260 [01:09<01:55,  6.89it/s, now=None]\u001b[A"
     ]
    },
    {
     "name": "stdout",
     "output_type": "stream",
     "text": [
      "3867.636147327743 m 7713.922222593848 m\n",
      "4092.2739676332853 m 2926.7717087785545 m\n"
     ]
    },
    {
     "name": "stderr",
     "output_type": "stream",
     "text": [
      "\n",
      "t:  37%|████████████████████████▎                                         | 465/1260 [01:09<01:55,  6.85it/s, now=None]\u001b[A\n",
      "t:  37%|████████████████████████▍                                         | 466/1260 [01:10<01:56,  6.80it/s, now=None]\u001b[A"
     ]
    },
    {
     "name": "stdout",
     "output_type": "stream",
     "text": [
      "4828.150450567714 m 17620.488821699008 m\n",
      "5917.646272949205 m 6513.486237949333 m\n"
     ]
    },
    {
     "name": "stderr",
     "output_type": "stream",
     "text": [
      "\n",
      "t:  37%|████████████████████████▍                                         | 467/1260 [01:10<01:56,  6.82it/s, now=None]\u001b[A\n",
      "t:  37%|████████████████████████▌                                         | 468/1260 [01:10<01:57,  6.77it/s, now=None]\u001b[A"
     ]
    },
    {
     "name": "stdout",
     "output_type": "stream",
     "text": [
      "5793.717835911851 m 6389.104859617333 m\n",
      "5981.449822552121 m 6444.765597363954 m\n"
     ]
    },
    {
     "name": "stderr",
     "output_type": "stream",
     "text": [
      "\n",
      "t:  37%|████████████████████████▌                                         | 469/1260 [01:10<01:57,  6.74it/s, now=None]\u001b[A\n",
      "t:  37%|████████████████████████▌                                         | 470/1260 [01:10<01:57,  6.74it/s, now=None]\u001b[A"
     ]
    },
    {
     "name": "stdout",
     "output_type": "stream",
     "text": [
      "6614.899095087372 m 6319.509969539031 m\n",
      "10028.02652264256 m 2893.8247735266036 m\n"
     ]
    },
    {
     "name": "stderr",
     "output_type": "stream",
     "text": [
      "\n",
      "t:  37%|████████████████████████▋                                         | 471/1260 [01:10<01:57,  6.69it/s, now=None]\u001b[A\n"
     ]
    },
    {
     "name": "stdout",
     "output_type": "stream",
     "text": [
      "27894.069621615537 m 4057.016575197357 m\n",
      "175346.03390732355 m 2738.2235585896065 m\n"
     ]
    },
    {
     "name": "stderr",
     "output_type": "stream",
     "text": [
      "t:  37%|████████████████████████▋                                         | 472/1260 [01:11<01:57,  6.72it/s, now=None]\u001b[A\n",
      "t:  38%|████████████████████████▊                                         | 473/1260 [01:11<01:55,  6.83it/s, now=None]\u001b[A\n",
      "t:  38%|████████████████████████▊                                         | 474/1260 [01:11<01:56,  6.77it/s, now=None]\u001b[A"
     ]
    },
    {
     "name": "stdout",
     "output_type": "stream",
     "text": [
      "18084.17360667967 m 2809.3495348540932 m\n",
      "22497.503778591334 m 10676.121917002238 m\n"
     ]
    },
    {
     "name": "stderr",
     "output_type": "stream",
     "text": [
      "\n",
      "t:  38%|████████████████████████▉                                         | 475/1260 [01:11<01:57,  6.68it/s, now=None]\u001b[A"
     ]
    },
    {
     "name": "stdout",
     "output_type": "stream",
     "text": [
      "7656.270666701861 m 2891.355611289769 m\n",
      "13878.758155278094 m 107094.6610700133 m\n"
     ]
    },
    {
     "name": "stderr",
     "output_type": "stream",
     "text": [
      "\n",
      "t:  38%|████████████████████████▉                                         | 476/1260 [01:11<01:57,  6.67it/s, now=None]\u001b[A\n",
      "t:  38%|████████████████████████▉                                         | 477/1260 [01:11<01:57,  6.65it/s, now=None]\u001b[A\n",
      "t:  38%|█████████████████████████                                         | 478/1260 [01:11<01:54,  6.81it/s, now=None]\u001b[A"
     ]
    },
    {
     "name": "stdout",
     "output_type": "stream",
     "text": [
      "8670.892791839571 m 3037.148340677833 m\n",
      "6152.913969309715 m 135419.98160840216 m\n"
     ]
    },
    {
     "name": "stderr",
     "output_type": "stream",
     "text": [
      "\n",
      "t:  38%|█████████████████████████                                         | 479/1260 [01:12<01:57,  6.62it/s, now=None]\u001b[A\n",
      "t:  38%|█████████████████████████▏                                        | 480/1260 [01:12<01:57,  6.64it/s, now=None]\u001b[A"
     ]
    },
    {
     "name": "stdout",
     "output_type": "stream",
     "text": [
      "7161.964202208627 m 6437.205698087171 m\n",
      "5241.821636121716 m 5504.784914116002 m\n"
     ]
    },
    {
     "name": "stderr",
     "output_type": "stream",
     "text": [
      "\n",
      "t:  38%|█████████████████████████▏                                        | 481/1260 [01:12<01:55,  6.72it/s, now=None]\u001b[A\n",
      "t:  38%|█████████████████████████▏                                        | 482/1260 [01:12<01:54,  6.78it/s, now=None]\u001b[A"
     ]
    },
    {
     "name": "stdout",
     "output_type": "stream",
     "text": [
      "7106.777928323615 m 2575.843808178089 m\n",
      "5072.177063867865 m 1702.2327973391082 m\n"
     ]
    },
    {
     "name": "stderr",
     "output_type": "stream",
     "text": [
      "\n",
      "t:  38%|█████████████████████████▎                                        | 483/1260 [01:12<01:54,  6.76it/s, now=None]\u001b[A\n"
     ]
    },
    {
     "name": "stdout",
     "output_type": "stream",
     "text": [
      "5628.795990783599 m 1659.369265757227 m\n",
      "7988.464683581397 m 1343.5783024502161 m\n"
     ]
    },
    {
     "name": "stderr",
     "output_type": "stream",
     "text": [
      "t:  38%|█████████████████████████▎                                        | 484/1260 [01:12<01:55,  6.73it/s, now=None]\u001b[A\n",
      "t:  38%|█████████████████████████▍                                        | 485/1260 [01:12<01:54,  6.74it/s, now=None]\u001b[A"
     ]
    },
    {
     "name": "stdout",
     "output_type": "stream",
     "text": [
      "30598.734859223052 m 3397.653650849686 m\n",
      "21257.89287193612 m 20904.86339268741 m\n"
     ]
    },
    {
     "name": "stderr",
     "output_type": "stream",
     "text": [
      "\n",
      "t:  39%|█████████████████████████▍                                        | 486/1260 [01:13<01:56,  6.63it/s, now=None]\u001b[A\n",
      "t:  39%|█████████████████████████▌                                        | 487/1260 [01:13<01:58,  6.52it/s, now=None]\u001b[A\n",
      "t:  39%|█████████████████████████▌                                        | 488/1260 [01:13<01:58,  6.49it/s, now=None]\u001b[A"
     ]
    },
    {
     "name": "stdout",
     "output_type": "stream",
     "text": [
      "16160.926693373021 m 230913.1756479472 m\n",
      "23084.73165919907 m 5965.838339753448 m\n"
     ]
    },
    {
     "name": "stderr",
     "output_type": "stream",
     "text": [
      "\n",
      "t:  39%|█████████████████████████▌                                        | 489/1260 [01:13<01:57,  6.57it/s, now=None]\u001b[A\n",
      "t:  39%|█████████████████████████▋                                        | 490/1260 [01:13<01:55,  6.69it/s, now=None]\u001b[A"
     ]
    },
    {
     "name": "stdout",
     "output_type": "stream",
     "text": [
      "42165.522168923075 m 2527.6984544089955 m\n",
      "20405.91553005536 m 1711.6914995506386 m\n"
     ]
    },
    {
     "name": "stderr",
     "output_type": "stream",
     "text": [
      "\n",
      "t:  39%|█████████████████████████▋                                        | 491/1260 [01:13<01:54,  6.71it/s, now=None]\u001b[A\n",
      "t:  39%|█████████████████████████▊                                        | 492/1260 [01:13<01:54,  6.73it/s, now=None]\u001b[A"
     ]
    },
    {
     "name": "stdout",
     "output_type": "stream",
     "text": [
      "10324.627640775141 m 1794.674020948817 m\n",
      "25036.27883550256 m 3324.0241740283777 m\n"
     ]
    },
    {
     "name": "stderr",
     "output_type": "stream",
     "text": [
      "\n",
      "t:  39%|█████████████████████████▊                                        | 493/1260 [01:14<01:55,  6.65it/s, now=None]\u001b[A"
     ]
    },
    {
     "name": "stdout",
     "output_type": "stream",
     "text": [
      "71522.1162135754 m 3140.784365958091 m\n",
      "12392.182174748445 m 11991.553596797829 m\n"
     ]
    },
    {
     "name": "stderr",
     "output_type": "stream",
     "text": [
      "\n",
      "t:  39%|█████████████████████████▉                                        | 494/1260 [01:14<01:58,  6.47it/s, now=None]\u001b[A\n",
      "t:  39%|█████████████████████████▉                                        | 495/1260 [01:14<01:58,  6.46it/s, now=None]\u001b[A\n",
      "t:  39%|█████████████████████████▉                                        | 496/1260 [01:14<01:55,  6.64it/s, now=None]\u001b[A"
     ]
    },
    {
     "name": "stdout",
     "output_type": "stream",
     "text": [
      "7561.661685815533 m 5918.086201765114 m\n",
      "6284.961607496228 m 13713.169084729052 m\n"
     ]
    },
    {
     "name": "stderr",
     "output_type": "stream",
     "text": [
      "\n",
      "t:  39%|██████████████████████████                                        | 497/1260 [01:14<01:54,  6.67it/s, now=None]\u001b[A\n",
      "t:  40%|██████████████████████████                                        | 498/1260 [01:14<01:54,  6.66it/s, now=None]\u001b[A"
     ]
    },
    {
     "name": "stdout",
     "output_type": "stream",
     "text": [
      "4861.18165707581 m 4808.957853345702 m\n",
      "5762.59778849708 m 2824.5213344585895 m\n"
     ]
    },
    {
     "name": "stderr",
     "output_type": "stream",
     "text": [
      "\n",
      "t:  40%|██████████████████████████▏                                       | 499/1260 [01:15<01:55,  6.57it/s, now=None]\u001b[A"
     ]
    },
    {
     "name": "stdout",
     "output_type": "stream",
     "text": [
      "2871.100818175739 m 10107.148995761852 m\n",
      "2804.193848586292 m 15711.280923145292 m\n"
     ]
    },
    {
     "name": "stderr",
     "output_type": "stream",
     "text": [
      "\n",
      "t:  40%|██████████████████████████▏                                       | 500/1260 [01:15<01:57,  6.47it/s, now=None]\u001b[A\n",
      "t:  40%|██████████████████████████▏                                       | 501/1260 [01:15<01:55,  6.54it/s, now=None]\u001b[A\n",
      "t:  40%|██████████████████████████▎                                       | 502/1260 [01:15<01:52,  6.74it/s, now=None]\u001b[A"
     ]
    },
    {
     "name": "stdout",
     "output_type": "stream",
     "text": [
      "2980.4057047941683 m 15695.48035076833 m\n",
      "2648.0093260758717 m 3761.1417690050675 m\n"
     ]
    },
    {
     "name": "stderr",
     "output_type": "stream",
     "text": [
      "\n",
      "t:  40%|██████████████████████████▎                                       | 503/1260 [01:15<01:52,  6.71it/s, now=None]\u001b[A\n",
      "t:  40%|██████████████████████████▍                                       | 504/1260 [01:15<01:51,  6.80it/s, now=None]\u001b[A"
     ]
    },
    {
     "name": "stdout",
     "output_type": "stream",
     "text": [
      "2908.5951769369626 m 3762.7565119965684 m\n",
      "2420.0431233624495 m 12697.344206606764 m\n"
     ]
    },
    {
     "name": "stderr",
     "output_type": "stream",
     "text": [
      "\n",
      "t:  40%|██████████████████████████▍                                       | 505/1260 [01:15<01:50,  6.86it/s, now=None]\u001b[A\n",
      "t:  40%|██████████████████████████▌                                       | 506/1260 [01:16<01:50,  6.84it/s, now=None]\u001b[A"
     ]
    },
    {
     "name": "stdout",
     "output_type": "stream",
     "text": [
      "2761.02756302464 m 5470.508015948876 m\n",
      "11121.501527468023 m 3540.9049039709416 m\n"
     ]
    },
    {
     "name": "stderr",
     "output_type": "stream",
     "text": [
      "\n",
      "t:  40%|██████████████████████████▌                                       | 507/1260 [01:16<01:50,  6.79it/s, now=None]\u001b[A\n",
      "t:  40%|██████████████████████████▌                                       | 508/1260 [01:16<01:50,  6.81it/s, now=None]\u001b[A"
     ]
    },
    {
     "name": "stdout",
     "output_type": "stream",
     "text": [
      "7535.154576312609 m 1666.9021967981193 m\n",
      "5341.644774959919 m 1684.705325562987 m\n"
     ]
    },
    {
     "name": "stderr",
     "output_type": "stream",
     "text": [
      "\n",
      "t:  40%|██████████████████████████▋                                       | 509/1260 [01:16<01:49,  6.84it/s, now=None]\u001b[A"
     ]
    },
    {
     "name": "stdout",
     "output_type": "stream",
     "text": [
      "8439.035560362374 m 1877.7968342874337 m\n",
      "42596.79968262082 m 2206.6849562040347 m\n"
     ]
    },
    {
     "name": "stderr",
     "output_type": "stream",
     "text": [
      "\n",
      "t:  40%|██████████████████████████▋                                       | 510/1260 [01:16<01:51,  6.70it/s, now=None]\u001b[A\n",
      "t:  41%|██████████████████████████▊                                       | 511/1260 [01:16<01:50,  6.80it/s, now=None]\u001b[A\n",
      "t:  41%|██████████████████████████▊                                       | 512/1260 [01:16<01:50,  6.74it/s, now=None]\u001b[A"
     ]
    },
    {
     "name": "stdout",
     "output_type": "stream",
     "text": [
      "31464.73968055444 m 4292.426657720438 m\n",
      "7423.551282133254 m 43220.02886945501 m\n"
     ]
    },
    {
     "name": "stderr",
     "output_type": "stream",
     "text": [
      "\n",
      "t:  41%|██████████████████████████▊                                       | 513/1260 [01:17<01:49,  6.85it/s, now=None]\u001b[A\n",
      "t:  41%|██████████████████████████▉                                       | 514/1260 [01:17<01:49,  6.78it/s, now=None]\u001b[A"
     ]
    },
    {
     "name": "stdout",
     "output_type": "stream",
     "text": [
      "266758.265294594 m 2875.359286340335 m\n",
      "33405.22531764484 m 1674.7365869973555 m\n"
     ]
    },
    {
     "name": "stderr",
     "output_type": "stream",
     "text": [
      "\n",
      "t:  41%|██████████████████████████▉                                       | 515/1260 [01:17<01:51,  6.66it/s, now=None]\u001b[A"
     ]
    },
    {
     "name": "stdout",
     "output_type": "stream",
     "text": [
      "6852.215766933493 m 1295.3418074743868 m\n",
      "4964.364978553152 m 757.3806840640102 m\n"
     ]
    },
    {
     "name": "stderr",
     "output_type": "stream",
     "text": [
      "\n",
      "t:  41%|███████████████████████████                                       | 516/1260 [01:17<01:52,  6.63it/s, now=None]\u001b[A\n",
      "t:  41%|███████████████████████████                                       | 517/1260 [01:17<01:50,  6.75it/s, now=None]\u001b[A\n",
      "t:  41%|███████████████████████████▏                                      | 518/1260 [01:17<01:46,  6.96it/s, now=None]\u001b[A"
     ]
    },
    {
     "name": "stdout",
     "output_type": "stream",
     "text": [
      "3448.7559630329315 m 734.4504942472927 m\n",
      "2906.512663983305 m 771.2609668874492 m\n"
     ]
    },
    {
     "name": "stderr",
     "output_type": "stream",
     "text": [
      "\n",
      "t:  41%|███████████████████████████▏                                      | 519/1260 [01:18<01:46,  6.97it/s, now=None]\u001b[A\n",
      "t:  41%|███████████████████████████▏                                      | 520/1260 [01:18<01:47,  6.90it/s, now=None]\u001b[A"
     ]
    },
    {
     "name": "stdout",
     "output_type": "stream",
     "text": [
      "2886.872769386076 m 689.8122012419585 m\n",
      "3346.9470404057784 m 666.6147318339981 m\n"
     ]
    },
    {
     "name": "stderr",
     "output_type": "stream",
     "text": [
      "\n",
      "t:  41%|███████████████████████████▎                                      | 521/1260 [01:18<01:48,  6.83it/s, now=None]\u001b[A\n",
      "t:  41%|███████████████████████████▎                                      | 522/1260 [01:18<01:47,  6.87it/s, now=None]\u001b[A"
     ]
    },
    {
     "name": "stdout",
     "output_type": "stream",
     "text": [
      "6191.876180733244 m 622.6413890813843 m\n",
      "19934.851844854067 m 492.0702528529015 m\n"
     ]
    },
    {
     "name": "stderr",
     "output_type": "stream",
     "text": [
      "\n",
      "t:  42%|███████████████████████████▍                                      | 523/1260 [01:18<01:46,  6.94it/s, now=None]\u001b[A\n",
      "t:  42%|███████████████████████████▍                                      | 524/1260 [01:18<01:44,  7.07it/s, now=None]\u001b[A"
     ]
    },
    {
     "name": "stdout",
     "output_type": "stream",
     "text": [
      "24186.75302386141 m 862.8576708416743 m\n",
      "1229.825175139065 m 845.1440431768121 m\n"
     ]
    },
    {
     "name": "stderr",
     "output_type": "stream",
     "text": [
      "\n",
      "t:  42%|███████████████████████████▌                                      | 525/1260 [01:18<01:43,  7.12it/s, now=None]\u001b[A\n",
      "t:  42%|███████████████████████████▌                                      | 526/1260 [01:18<01:43,  7.12it/s, now=None]\u001b[A"
     ]
    },
    {
     "name": "stdout",
     "output_type": "stream",
     "text": [
      "2123.967399218664 m 1851.5290252258876 m\n",
      "458.3204306771685 m 3267.957157183875 m\n"
     ]
    },
    {
     "name": "stderr",
     "output_type": "stream",
     "text": [
      "\n",
      "t:  42%|███████████████████████████▌                                      | 527/1260 [01:19<01:41,  7.19it/s, now=None]\u001b[A\n",
      "t:  42%|███████████████████████████▋                                      | 528/1260 [01:19<01:41,  7.20it/s, now=None]\u001b[A"
     ]
    },
    {
     "name": "stdout",
     "output_type": "stream",
     "text": [
      "354.1395092662781 m 73839.36924569438 m\n",
      "2328.907584251587 m 2355.3868657529247 m\n"
     ]
    },
    {
     "name": "stderr",
     "output_type": "stream",
     "text": [
      "\n",
      "t:  42%|███████████████████████████▋                                      | 529/1260 [01:19<01:43,  7.07it/s, now=None]\u001b[A\n",
      "t:  42%|███████████████████████████▊                                      | 530/1260 [01:19<01:43,  7.05it/s, now=None]\u001b[A"
     ]
    },
    {
     "name": "stdout",
     "output_type": "stream",
     "text": [
      "15905.417478833262 m 2560.3872559848314 m\n",
      "3467.0640985774203 m 1305.4149192568339 m\n"
     ]
    },
    {
     "name": "stderr",
     "output_type": "stream",
     "text": [
      "\n",
      "t:  42%|███████████████████████████▊                                      | 531/1260 [01:19<01:45,  6.88it/s, now=None]\u001b[A\n",
      "t:  42%|███████████████████████████▊                                      | 532/1260 [01:19<01:43,  7.01it/s, now=None]\u001b[A"
     ]
    },
    {
     "name": "stdout",
     "output_type": "stream",
     "text": [
      "2274.7511743047926 m 773.4090957090505 m\n",
      "7247.804722757583 m 707.6955428983423 m\n"
     ]
    },
    {
     "name": "stderr",
     "output_type": "stream",
     "text": [
      "\n",
      "t:  42%|███████████████████████████▉                                      | 533/1260 [01:19<01:43,  7.05it/s, now=None]\u001b[A\n",
      "t:  42%|███████████████████████████▉                                      | 534/1260 [01:20<01:41,  7.13it/s, now=None]\u001b[A"
     ]
    },
    {
     "name": "stdout",
     "output_type": "stream",
     "text": [
      "1875.2702998023067 m 1376.5575585221823 m\n",
      "1487.3997699057745 m 985.0380109210416 m\n"
     ]
    },
    {
     "name": "stderr",
     "output_type": "stream",
     "text": [
      "\n",
      "t:  42%|████████████████████████████                                      | 535/1260 [01:20<01:42,  7.08it/s, now=None]\u001b[A\n",
      "t:  43%|████████████████████████████                                      | 536/1260 [01:20<01:43,  7.03it/s, now=None]\u001b[A"
     ]
    },
    {
     "name": "stdout",
     "output_type": "stream",
     "text": [
      "3256.552036382025 m 809.5028343814458 m\n",
      "2131.9278980044633 m 986.1316091087546 m\n"
     ]
    },
    {
     "name": "stderr",
     "output_type": "stream",
     "text": [
      "\n",
      "t:  43%|████████████████████████████▏                                     | 537/1260 [01:20<01:45,  6.84it/s, now=None]\u001b[A"
     ]
    },
    {
     "name": "stdout",
     "output_type": "stream",
     "text": [
      "16583.391303803168 m 1007.8348295245631 m\n",
      "21042.391331894953 m 1602.208967590602 m\n"
     ]
    },
    {
     "name": "stderr",
     "output_type": "stream",
     "text": [
      "\n",
      "t:  43%|████████████████████████████▏                                     | 538/1260 [01:20<01:48,  6.67it/s, now=None]\u001b[A\n",
      "t:  43%|████████████████████████████▏                                     | 539/1260 [01:20<01:47,  6.73it/s, now=None]\u001b[A\n",
      "t:  43%|████████████████████████████▎                                     | 540/1260 [01:21<01:46,  6.78it/s, now=None]\u001b[A"
     ]
    },
    {
     "name": "stdout",
     "output_type": "stream",
     "text": [
      "22598.471829991926 m 2633.7570258653186 m\n",
      "11805.887735599621 m 1723.5303940991053 m\n"
     ]
    },
    {
     "name": "stderr",
     "output_type": "stream",
     "text": [
      "\n",
      "t:  43%|████████████████████████████▎                                     | 541/1260 [01:21<01:47,  6.67it/s, now=None]\u001b[A\n"
     ]
    },
    {
     "name": "stdout",
     "output_type": "stream",
     "text": [
      "6333.017789132183 m 1444.9741333505638 m\n",
      "2660.6434507295294 m 1039.908820948546 m\n"
     ]
    },
    {
     "name": "stderr",
     "output_type": "stream",
     "text": [
      "t:  43%|████████████████████████████▍                                     | 542/1260 [01:21<01:48,  6.64it/s, now=None]\u001b[A\n",
      "t:  43%|████████████████████████████▍                                     | 543/1260 [01:21<01:52,  6.37it/s, now=None]\u001b[A"
     ]
    },
    {
     "name": "stdout",
     "output_type": "stream",
     "text": [
      "1642.080439606679 m 981.2596281483725 m\n",
      "2045.2667829852394 m 1001.614650127258 m\n"
     ]
    },
    {
     "name": "stderr",
     "output_type": "stream",
     "text": [
      "\n",
      "t:  43%|████████████████████████████▍                                     | 544/1260 [01:21<01:52,  6.35it/s, now=None]\u001b[A\n",
      "t:  43%|████████████████████████████▌                                     | 545/1260 [01:21<01:49,  6.54it/s, now=None]\u001b[A"
     ]
    },
    {
     "name": "stdout",
     "output_type": "stream",
     "text": [
      "2383.5827532579333 m 1097.5900873169758 m\n",
      "2923.9481588856934 m 779.2746130080475 m\n"
     ]
    },
    {
     "name": "stderr",
     "output_type": "stream",
     "text": [
      "\n",
      "t:  43%|████████████████████████████▌                                     | 546/1260 [01:21<01:49,  6.52it/s, now=None]\u001b[A\n",
      "t:  43%|████████████████████████████▋                                     | 547/1260 [01:22<01:50,  6.48it/s, now=None]\u001b[A\n",
      "t:  43%|████████████████████████████▋                                     | 548/1260 [01:22<01:49,  6.51it/s, now=None]\u001b[A"
     ]
    },
    {
     "name": "stdout",
     "output_type": "stream",
     "text": [
      "5443.305144376273 m 985.3602997714376 m\n",
      "2572.7399500881374 m 1003.1202796092463 m\n"
     ]
    },
    {
     "name": "stderr",
     "output_type": "stream",
     "text": [
      "\n",
      "t:  44%|████████████████████████████▊                                     | 549/1260 [01:22<01:51,  6.36it/s, now=None]\u001b[A"
     ]
    },
    {
     "name": "stdout",
     "output_type": "stream",
     "text": [
      "3065.6104282517053 m 1814.609547644693 m\n",
      "3239.516061849454 m 9108.116946377386 m\n"
     ]
    },
    {
     "name": "stderr",
     "output_type": "stream",
     "text": [
      "\n",
      "t:  44%|████████████████████████████▊                                     | 550/1260 [01:22<01:54,  6.23it/s, now=None]\u001b[A\n",
      "t:  44%|████████████████████████████▊                                     | 551/1260 [01:22<01:53,  6.26it/s, now=None]\u001b[A"
     ]
    },
    {
     "name": "stdout",
     "output_type": "stream",
     "text": [
      "3661.887973047599 m 1198.3672069783888 m\n",
      "3268.7042273946317 m 1720.1796636521951 m\n"
     ]
    },
    {
     "name": "stderr",
     "output_type": "stream",
     "text": [
      "\n",
      "t:  44%|████████████████████████████▉                                     | 552/1260 [01:22<01:53,  6.23it/s, now=None]\u001b[A\n",
      "t:  44%|████████████████████████████▉                                     | 553/1260 [01:23<01:52,  6.30it/s, now=None]\u001b[A\n",
      "t:  44%|█████████████████████████████                                     | 554/1260 [01:23<01:50,  6.37it/s, now=None]\u001b[A"
     ]
    },
    {
     "name": "stdout",
     "output_type": "stream",
     "text": [
      "2387.4244371382765 m 3899.1256050709444 m\n",
      "2096.6951325336777 m 1570.523315912615 m\n"
     ]
    },
    {
     "name": "stderr",
     "output_type": "stream",
     "text": [
      "\n",
      "t:  44%|█████████████████████████████                                     | 555/1260 [01:23<01:53,  6.21it/s, now=None]\u001b[A\n",
      "t:  44%|█████████████████████████████                                     | 556/1260 [01:23<01:50,  6.36it/s, now=None]\u001b[A"
     ]
    },
    {
     "name": "stdout",
     "output_type": "stream",
     "text": [
      "4355.008894891343 m 1394.9716968378207 m\n",
      "3806.507785416079 m 2328.9261987005566 m\n"
     ]
    },
    {
     "name": "stderr",
     "output_type": "stream",
     "text": [
      "\n",
      "t:  44%|█████████████████████████████▏                                    | 557/1260 [01:23<01:50,  6.37it/s, now=None]\u001b[A"
     ]
    },
    {
     "name": "stdout",
     "output_type": "stream",
     "text": [
      "2520.4578827109535 m 4239.121428598039 m\n",
      "22533.615553206524 m 17942.472700010945 m\n"
     ]
    },
    {
     "name": "stderr",
     "output_type": "stream",
     "text": [
      "\n",
      "t:  44%|█████████████████████████████▏                                    | 558/1260 [01:23<01:51,  6.31it/s, now=None]\u001b[A\n",
      "t:  44%|█████████████████████████████▎                                    | 559/1260 [01:24<01:50,  6.37it/s, now=None]\u001b[A\n"
     ]
    },
    {
     "name": "stdout",
     "output_type": "stream",
     "text": [
      "18275.44206345447 m 27494.160760108236 m\n",
      "2935.55288694949 m 29718.84423771958 m\n"
     ]
    },
    {
     "name": "stderr",
     "output_type": "stream",
     "text": [
      "t:  44%|█████████████████████████████▎                                    | 560/1260 [01:24<01:49,  6.38it/s, now=None]\u001b[A\n",
      "t:  45%|█████████████████████████████▍                                    | 561/1260 [01:24<01:48,  6.43it/s, now=None]\u001b[A\n",
      "t:  45%|█████████████████████████████▍                                    | 562/1260 [01:24<01:44,  6.68it/s, now=None]\u001b[A"
     ]
    },
    {
     "name": "stdout",
     "output_type": "stream",
     "text": [
      "4863.0915667036625 m 1319.1565527875255 m\n",
      "2641.145611443114 m 1689.7918192132438 m\n"
     ]
    },
    {
     "name": "stderr",
     "output_type": "stream",
     "text": [
      "\n",
      "t:  45%|█████████████████████████████▍                                    | 563/1260 [01:24<01:43,  6.77it/s, now=None]\u001b[A\n",
      "t:  45%|█████████████████████████████▌                                    | 564/1260 [01:24<01:41,  6.87it/s, now=None]\u001b[A"
     ]
    },
    {
     "name": "stdout",
     "output_type": "stream",
     "text": [
      "4340.046728304058 m 1726.012881745679 m\n",
      "4699.347112057503 m 1030.320550368294 m\n"
     ]
    },
    {
     "name": "stderr",
     "output_type": "stream",
     "text": [
      "\n",
      "t:  45%|█████████████████████████████▌                                    | 565/1260 [01:24<01:39,  6.95it/s, now=None]\u001b[A\n"
     ]
    },
    {
     "name": "stdout",
     "output_type": "stream",
     "text": [
      "3839.2269011042986 m 1837.502566785382 m\n",
      "7121.28957906764 m 2609.3061569545193 m\n"
     ]
    },
    {
     "name": "stderr",
     "output_type": "stream",
     "text": [
      "t:  45%|█████████████████████████████▋                                    | 566/1260 [01:25<01:40,  6.91it/s, now=None]\u001b[A\n",
      "t:  45%|█████████████████████████████▋                                    | 567/1260 [01:25<01:39,  6.99it/s, now=None]\u001b[A\n",
      "t:  45%|█████████████████████████████▊                                    | 568/1260 [01:25<01:37,  7.11it/s, now=None]\u001b[A"
     ]
    },
    {
     "name": "stdout",
     "output_type": "stream",
     "text": [
      "1406.9571209484986 m 1541.1668388795197 m\n",
      "1346.3966647060759 m 2682.6550427796033 m\n"
     ]
    },
    {
     "name": "stderr",
     "output_type": "stream",
     "text": [
      "\n",
      "t:  45%|█████████████████████████████▊                                    | 569/1260 [01:25<01:37,  7.07it/s, now=None]\u001b[A"
     ]
    },
    {
     "name": "stdout",
     "output_type": "stream",
     "text": [
      "1268.992568632006 m 6921.273424270108 m\n",
      "3327.987123673802 m 841.9068415794056 m\n"
     ]
    },
    {
     "name": "stderr",
     "output_type": "stream",
     "text": [
      "\n",
      "t:  45%|█████████████████████████████▊                                    | 570/1260 [01:25<01:38,  6.98it/s, now=None]\u001b[A\n",
      "t:  45%|█████████████████████████████▉                                    | 571/1260 [01:25<01:36,  7.17it/s, now=None]\u001b[A\n",
      "t:  45%|█████████████████████████████▉                                    | 572/1260 [01:25<01:35,  7.23it/s, now=None]\u001b[A"
     ]
    },
    {
     "name": "stdout",
     "output_type": "stream",
     "text": [
      "694129.5825835541 m 2225.8852982680214 m\n",
      "4830.9889374433 m 972.9264626089698 m\n"
     ]
    },
    {
     "name": "stderr",
     "output_type": "stream",
     "text": [
      "\n",
      "t:  45%|██████████████████████████████                                    | 573/1260 [01:25<01:34,  7.29it/s, now=None]\u001b[A\n",
      "t:  46%|██████████████████████████████                                    | 574/1260 [01:26<01:35,  7.20it/s, now=None]\u001b[A"
     ]
    },
    {
     "name": "stdout",
     "output_type": "stream",
     "text": [
      "3169.2242359719844 m 1173.1694056132244 m\n",
      "7681.955387024077 m 1364.3925742022664 m\n"
     ]
    },
    {
     "name": "stderr",
     "output_type": "stream",
     "text": [
      "\n",
      "t:  46%|██████████████████████████████                                    | 575/1260 [01:26<01:37,  7.05it/s, now=None]\u001b[A\n",
      "t:  46%|██████████████████████████████▏                                   | 576/1260 [01:26<01:36,  7.06it/s, now=None]\u001b[A"
     ]
    },
    {
     "name": "stdout",
     "output_type": "stream",
     "text": [
      "653.9729102475351 m 22731.957484821192 m\n",
      "20083.277205126906 m 1974.1636792350953 m\n"
     ]
    },
    {
     "name": "stderr",
     "output_type": "stream",
     "text": [
      "\n",
      "t:  46%|██████████████████████████████▏                                   | 577/1260 [01:26<01:38,  6.93it/s, now=None]\u001b[A\n",
      "t:  46%|██████████████████████████████▎                                   | 578/1260 [01:26<01:38,  6.95it/s, now=None]\u001b[A"
     ]
    },
    {
     "name": "stdout",
     "output_type": "stream",
     "text": [
      "4460.322131083559 m 852.0942103544621 m\n",
      "832.9817103861352 m 675.1110382993514 m\n"
     ]
    },
    {
     "name": "stderr",
     "output_type": "stream",
     "text": [
      "\n",
      "t:  46%|██████████████████████████████▎                                   | 579/1260 [01:26<01:38,  6.90it/s, now=None]\u001b[A\n",
      "t:  46%|██████████████████████████████▍                                   | 580/1260 [01:27<01:37,  7.00it/s, now=None]\u001b[A"
     ]
    },
    {
     "name": "stdout",
     "output_type": "stream",
     "text": [
      "604.5074866447654 m 1210.5990627036995 m\n",
      "678.103363880901 m 2493.410360936488 m\n"
     ]
    },
    {
     "name": "stderr",
     "output_type": "stream",
     "text": [
      "\n",
      "t:  46%|██████████████████████████████▍                                   | 581/1260 [01:27<01:35,  7.13it/s, now=None]\u001b[A\n",
      "t:  46%|██████████████████████████████▍                                   | 582/1260 [01:27<01:36,  7.03it/s, now=None]\u001b[A"
     ]
    },
    {
     "name": "stdout",
     "output_type": "stream",
     "text": [
      "663.7469293282749 m 2037.0871501971976 m\n",
      "698.6111506662074 m 1413.8365654629283 m\n"
     ]
    },
    {
     "name": "stderr",
     "output_type": "stream",
     "text": [
      "\n",
      "t:  46%|██████████████████████████████▌                                   | 583/1260 [01:27<01:34,  7.13it/s, now=None]\u001b[A\n",
      "t:  46%|██████████████████████████████▌                                   | 584/1260 [01:27<01:32,  7.30it/s, now=None]\u001b[A"
     ]
    },
    {
     "name": "stdout",
     "output_type": "stream",
     "text": [
      "716.6719681575436 m 1542.5298221032963 m\n",
      "826.0196390427664 m 1957.9513322032517 m\n"
     ]
    },
    {
     "name": "stderr",
     "output_type": "stream",
     "text": [
      "\n",
      "t:  46%|██████████████████████████████▋                                   | 585/1260 [01:27<01:32,  7.29it/s, now=None]\u001b[A\n",
      "t:  47%|██████████████████████████████▋                                   | 586/1260 [01:27<01:32,  7.30it/s, now=None]\u001b[A"
     ]
    },
    {
     "name": "stdout",
     "output_type": "stream",
     "text": [
      "1691.962498241127 m 1656.995101444432 m\n",
      "15986.639382450267 m 1401.110034182766 m\n"
     ]
    },
    {
     "name": "stderr",
     "output_type": "stream",
     "text": [
      "\n",
      "t:  47%|██████████████████████████████▋                                   | 587/1260 [01:27<01:32,  7.27it/s, now=None]\u001b[A\n",
      "t:  47%|██████████████████████████████▊                                   | 588/1260 [01:28<01:34,  7.13it/s, now=None]\u001b[A"
     ]
    },
    {
     "name": "stdout",
     "output_type": "stream",
     "text": [
      "577.5551133892565 m 1761.4107589672565 m\n",
      "540.5240251032909 m 3186.8443692016695 m\n"
     ]
    },
    {
     "name": "stderr",
     "output_type": "stream",
     "text": [
      "\n",
      "t:  47%|██████████████████████████████▊                                   | 589/1260 [01:28<01:35,  6.99it/s, now=None]\u001b[A\n",
      "t:  47%|██████████████████████████████▉                                   | 590/1260 [01:28<01:34,  7.07it/s, now=None]\u001b[A"
     ]
    },
    {
     "name": "stdout",
     "output_type": "stream",
     "text": [
      "475.5532450647779 m 3016.7767306796973 m\n",
      "565.2316582527079 m 1962.5262682629348 m\n"
     ]
    },
    {
     "name": "stderr",
     "output_type": "stream",
     "text": [
      "\n",
      "t:  47%|██████████████████████████████▉                                   | 591/1260 [01:28<01:33,  7.19it/s, now=None]\u001b[A\n",
      "t:  47%|███████████████████████████████                                   | 592/1260 [01:28<01:34,  7.05it/s, now=None]\u001b[A"
     ]
    },
    {
     "name": "stdout",
     "output_type": "stream",
     "text": [
      "445.80460966574077 m 4123.076284154163 m\n",
      "594.6933913843664 m 12135.43187830285 m\n"
     ]
    },
    {
     "name": "stderr",
     "output_type": "stream",
     "text": [
      "\n",
      "t:  47%|███████████████████████████████                                   | 593/1260 [01:28<01:36,  6.93it/s, now=None]\u001b[A\n",
      "t:  47%|███████████████████████████████                                   | 594/1260 [01:28<01:36,  6.91it/s, now=None]\u001b[A"
     ]
    },
    {
     "name": "stdout",
     "output_type": "stream",
     "text": [
      "435.97089642504744 m 71909.48296821286 m\n",
      "450.14524575025274 m 2565.9864371330946 m\n"
     ]
    },
    {
     "name": "stderr",
     "output_type": "stream",
     "text": [
      "\n",
      "t:  47%|███████████████████████████████▏                                  | 595/1260 [01:29<01:36,  6.90it/s, now=None]\u001b[A\n",
      "t:  47%|███████████████████████████████▏                                  | 596/1260 [01:29<01:36,  6.89it/s, now=None]\u001b[A"
     ]
    },
    {
     "name": "stdout",
     "output_type": "stream",
     "text": [
      "434.03817901102803 m 1319.7221944618584 m\n",
      "1031.818392309073 m 950.2956161414913 m\n"
     ]
    },
    {
     "name": "stderr",
     "output_type": "stream",
     "text": [
      "\n",
      "t:  47%|███████████████████████████████▎                                  | 597/1260 [01:29<01:36,  6.87it/s, now=None]\u001b[A"
     ]
    },
    {
     "name": "stdout",
     "output_type": "stream",
     "text": [
      "1247.0673905800907 m 1091.7352482724023 m\n",
      "4364.36286728548 m 823.2848271243274 m\n"
     ]
    },
    {
     "name": "stderr",
     "output_type": "stream",
     "text": [
      "\n",
      "t:  47%|███████████████████████████████▎                                  | 598/1260 [01:29<01:36,  6.85it/s, now=None]\u001b[A\n",
      "t:  48%|███████████████████████████████▍                                  | 599/1260 [01:29<01:35,  6.90it/s, now=None]\u001b[A\n",
      "t:  48%|███████████████████████████████▍                                  | 600/1260 [01:29<01:34,  6.99it/s, now=None]\u001b[A"
     ]
    },
    {
     "name": "stdout",
     "output_type": "stream",
     "text": [
      "2505.8464834220795 m 837.1814380054957 m\n",
      "979.3478185954757 m 836.9855799718225 m\n"
     ]
    },
    {
     "name": "stderr",
     "output_type": "stream",
     "text": [
      "\n",
      "t:  48%|███████████████████████████████▍                                  | 601/1260 [01:30<01:36,  6.83it/s, now=None]\u001b[A\n",
      "t:  48%|███████████████████████████████▌                                  | 602/1260 [01:30<01:36,  6.82it/s, now=None]\u001b[A"
     ]
    },
    {
     "name": "stdout",
     "output_type": "stream",
     "text": [
      "612.672955358876 m 631.7426051994335 m\n",
      "791.6021934445615 m 674.5732141485365 m\n"
     ]
    },
    {
     "name": "stderr",
     "output_type": "stream",
     "text": [
      "\n",
      "t:  48%|███████████████████████████████▌                                  | 603/1260 [01:30<01:36,  6.80it/s, now=None]\u001b[A\n",
      "t:  48%|███████████████████████████████▋                                  | 604/1260 [01:30<01:36,  6.82it/s, now=None]\u001b[A"
     ]
    },
    {
     "name": "stdout",
     "output_type": "stream",
     "text": [
      "770.1167129382013 m 676.4060521947791 m\n",
      "680.0704794474835 m 620.614604062206 m\n"
     ]
    },
    {
     "name": "stderr",
     "output_type": "stream",
     "text": [
      "\n",
      "t:  48%|███████████████████████████████▋                                  | 605/1260 [01:30<01:34,  6.92it/s, now=None]\u001b[A\n"
     ]
    },
    {
     "name": "stdout",
     "output_type": "stream",
     "text": [
      "579.9714930557294 m 490.90681130483676 m\n",
      "453.9740587386842 m 462.35171792059776 m\n"
     ]
    },
    {
     "name": "stderr",
     "output_type": "stream",
     "text": [
      "t:  48%|███████████████████████████████▋                                  | 606/1260 [01:30<01:37,  6.74it/s, now=None]\u001b[A\n",
      "t:  48%|███████████████████████████████▊                                  | 607/1260 [01:30<01:37,  6.71it/s, now=None]\u001b[A\n",
      "t:  48%|███████████████████████████████▊                                  | 608/1260 [01:31<01:37,  6.66it/s, now=None]\u001b[A"
     ]
    },
    {
     "name": "stdout",
     "output_type": "stream",
     "text": [
      "367.0978765543971 m 389.9536858498185 m\n",
      "344.030138632335 m 403.3213290871931 m\n"
     ]
    },
    {
     "name": "stderr",
     "output_type": "stream",
     "text": [
      "\n",
      "t:  48%|███████████████████████████████▉                                  | 609/1260 [01:31<01:37,  6.68it/s, now=None]\u001b[A\n",
      "t:  48%|███████████████████████████████▉                                  | 610/1260 [01:31<01:37,  6.67it/s, now=None]\u001b[A"
     ]
    },
    {
     "name": "stdout",
     "output_type": "stream",
     "text": [
      "349.6301710313 m 430.23653463276116 m\n",
      "345.68316031916163 m 441.40304332970874 m\n"
     ]
    },
    {
     "name": "stderr",
     "output_type": "stream",
     "text": [
      "\n",
      "t:  48%|████████████████████████████████                                  | 611/1260 [01:31<01:38,  6.61it/s, now=None]\u001b[A"
     ]
    },
    {
     "name": "stdout",
     "output_type": "stream",
     "text": [
      "353.98530390420547 m 465.1745348248676 m\n",
      "354.60629044658054 m 535.2884300202459 m\n"
     ]
    },
    {
     "name": "stderr",
     "output_type": "stream",
     "text": [
      "\n",
      "t:  49%|████████████████████████████████                                  | 612/1260 [01:31<01:37,  6.64it/s, now=None]\u001b[A\n",
      "t:  49%|████████████████████████████████                                  | 613/1260 [01:31<01:35,  6.75it/s, now=None]\u001b[A\n",
      "t:  49%|████████████████████████████████▏                                 | 614/1260 [01:31<01:35,  6.78it/s, now=None]\u001b[A"
     ]
    },
    {
     "name": "stdout",
     "output_type": "stream",
     "text": [
      "311.78746191274456 m 440.79279226049937 m\n",
      "310.17469800829133 m 437.9051512148613 m\n"
     ]
    },
    {
     "name": "stderr",
     "output_type": "stream",
     "text": [
      "\n",
      "t:  49%|████████████████████████████████▏                                 | 615/1260 [01:32<01:34,  6.84it/s, now=None]\u001b[A\n",
      "t:  49%|████████████████████████████████▎                                 | 616/1260 [01:32<01:35,  6.78it/s, now=None]\u001b[A"
     ]
    },
    {
     "name": "stdout",
     "output_type": "stream",
     "text": [
      "316.0936638577396 m 424.0768061539845 m\n",
      "322.61286386064717 m 453.2530340665177 m\n"
     ]
    },
    {
     "name": "stderr",
     "output_type": "stream",
     "text": [
      "\n",
      "t:  49%|████████████████████████████████▎                                 | 617/1260 [01:32<01:34,  6.82it/s, now=None]\u001b[A"
     ]
    },
    {
     "name": "stdout",
     "output_type": "stream",
     "text": [
      "338.1131707288644 m 641.7742872065145 m\n",
      "319.3816867419212 m 691.2028776986695 m\n"
     ]
    },
    {
     "name": "stderr",
     "output_type": "stream",
     "text": [
      "\n",
      "t:  49%|████████████████████████████████▎                                 | 618/1260 [01:32<01:35,  6.71it/s, now=None]\u001b[A\n",
      "t:  49%|████████████████████████████████▍                                 | 619/1260 [01:32<01:34,  6.78it/s, now=None]\u001b[A"
     ]
    },
    {
     "name": "stdout",
     "output_type": "stream",
     "text": [
      "328.68625982799705 m 472.7218505842562 m\n",
      "326.8802637653411 m 370.9193856731683 m\n"
     ]
    },
    {
     "name": "stderr",
     "output_type": "stream",
     "text": [
      "\n",
      "t:  49%|████████████████████████████████▍                                 | 620/1260 [01:32<01:35,  6.70it/s, now=None]\u001b[A\n",
      "t:  49%|████████████████████████████████▌                                 | 621/1260 [01:32<01:35,  6.69it/s, now=None]\u001b[A\n",
      "t:  49%|████████████████████████████████▌                                 | 622/1260 [01:33<01:33,  6.81it/s, now=None]\u001b[A"
     ]
    },
    {
     "name": "stdout",
     "output_type": "stream",
     "text": [
      "344.15342749354386 m 397.12135377237195 m\n",
      "339.29606445797646 m 376.70691290734555 m\n"
     ]
    },
    {
     "name": "stderr",
     "output_type": "stream",
     "text": [
      "\n",
      "t:  49%|████████████████████████████████▋                                 | 623/1260 [01:33<01:33,  6.83it/s, now=None]\u001b[A\n",
      "t:  50%|████████████████████████████████▋                                 | 624/1260 [01:33<01:32,  6.87it/s, now=None]\u001b[A"
     ]
    },
    {
     "name": "stdout",
     "output_type": "stream",
     "text": [
      "355.75300590880005 m 474.41443308254804 m\n",
      "373.3094354093742 m 483.91945781596695 m\n"
     ]
    },
    {
     "name": "stderr",
     "output_type": "stream",
     "text": [
      "\n",
      "t:  50%|████████████████████████████████▋                                 | 625/1260 [01:33<01:35,  6.68it/s, now=None]\u001b[A"
     ]
    },
    {
     "name": "stdout",
     "output_type": "stream",
     "text": [
      "384.62604591480516 m 481.86623570032384 m\n",
      "366.47073514990444 m 338.14525605939843 m\n"
     ]
    },
    {
     "name": "stderr",
     "output_type": "stream",
     "text": [
      "\n",
      "t:  50%|████████████████████████████████▊                                 | 626/1260 [01:33<01:34,  6.72it/s, now=None]\u001b[A\n",
      "t:  50%|████████████████████████████████▊                                 | 627/1260 [01:33<01:32,  6.83it/s, now=None]\u001b[A\n",
      "t:  50%|████████████████████████████████▉                                 | 628/1260 [01:33<01:32,  6.82it/s, now=None]\u001b[A"
     ]
    },
    {
     "name": "stdout",
     "output_type": "stream",
     "text": [
      "390.01655632477906 m 357.38256810084374 m\n",
      "429.1518080185312 m 342.00447015123285 m\n"
     ]
    },
    {
     "name": "stderr",
     "output_type": "stream",
     "text": [
      "\n",
      "t:  50%|████████████████████████████████▉                                 | 629/1260 [01:34<01:31,  6.92it/s, now=None]\u001b[A"
     ]
    },
    {
     "name": "stdout",
     "output_type": "stream",
     "text": [
      "425.43674532417117 m 284.04880274565556 m\n",
      "537.5721186850733 m 305.7234573836953 m\n"
     ]
    },
    {
     "name": "stderr",
     "output_type": "stream",
     "text": [
      "\n",
      "t:  50%|█████████████████████████████████                                 | 630/1260 [01:34<01:32,  6.82it/s, now=None]\u001b[A\n",
      "t:  50%|█████████████████████████████████                                 | 631/1260 [01:34<01:30,  6.92it/s, now=None]\u001b[A\n",
      "t:  50%|█████████████████████████████████                                 | 632/1260 [01:34<01:31,  6.89it/s, now=None]\u001b[A"
     ]
    },
    {
     "name": "stdout",
     "output_type": "stream",
     "text": [
      "499.19734321374983 m 418.84676776200246 m\n",
      "608.9215689393931 m 456.3911367024673 m\n"
     ]
    },
    {
     "name": "stderr",
     "output_type": "stream",
     "text": [
      "\n",
      "t:  50%|█████████████████████████████████▏                                | 633/1260 [01:34<01:32,  6.76it/s, now=None]\u001b[A"
     ]
    },
    {
     "name": "stdout",
     "output_type": "stream",
     "text": [
      "669.9257763689454 m 526.5993149681051 m\n",
      "666.8710592910201 m 498.53823949099757 m\n"
     ]
    },
    {
     "name": "stderr",
     "output_type": "stream",
     "text": [
      "\n",
      "t:  50%|█████████████████████████████████▏                                | 634/1260 [01:34<01:32,  6.73it/s, now=None]\u001b[A\n",
      "t:  50%|█████████████████████████████████▎                                | 635/1260 [01:35<01:32,  6.77it/s, now=None]\u001b[A\n",
      "t:  50%|█████████████████████████████████▎                                | 636/1260 [01:35<01:29,  6.94it/s, now=None]\u001b[A"
     ]
    },
    {
     "name": "stdout",
     "output_type": "stream",
     "text": [
      "630.9904505001609 m 520.3198323882875 m\n",
      "590.8216502094511 m 403.2080868872818 m\n"
     ]
    },
    {
     "name": "stderr",
     "output_type": "stream",
     "text": [
      "\n",
      "t:  51%|█████████████████████████████████▎                                | 637/1260 [01:35<01:29,  6.95it/s, now=None]\u001b[A\n",
      "t:  51%|█████████████████████████████████▍                                | 638/1260 [01:35<01:30,  6.88it/s, now=None]\u001b[A"
     ]
    },
    {
     "name": "stdout",
     "output_type": "stream",
     "text": [
      "455.5766721873268 m 347.36877130326417 m\n",
      "389.5974437671402 m 281.7588343724948 m\n"
     ]
    },
    {
     "name": "stderr",
     "output_type": "stream",
     "text": [
      "\n",
      "t:  51%|█████████████████████████████████▍                                | 639/1260 [01:35<01:30,  6.88it/s, now=None]\u001b[A\n",
      "t:  51%|█████████████████████████████████▌                                | 640/1260 [01:35<01:30,  6.85it/s, now=None]\u001b[A"
     ]
    },
    {
     "name": "stdout",
     "output_type": "stream",
     "text": [
      "331.2134585241265 m 292.7556171765428 m\n",
      "353.7956358642394 m 337.2728782501013 m\n"
     ]
    },
    {
     "name": "stderr",
     "output_type": "stream",
     "text": [
      "\n",
      "t:  51%|█████████████████████████████████▌                                | 641/1260 [01:35<01:30,  6.85it/s, now=None]\u001b[A\n",
      "t:  51%|█████████████████████████████████▋                                | 642/1260 [01:36<01:29,  6.87it/s, now=None]\u001b[A"
     ]
    },
    {
     "name": "stdout",
     "output_type": "stream",
     "text": [
      "505.7588087692714 m 437.9404384962459 m\n",
      "594.9663029171148 m 470.6212875605333 m\n"
     ]
    },
    {
     "name": "stderr",
     "output_type": "stream",
     "text": [
      "\n",
      "t:  51%|█████████████████████████████████▋                                | 643/1260 [01:36<01:30,  6.84it/s, now=None]\u001b[A\n",
      "t:  51%|█████████████████████████████████▋                                | 644/1260 [01:36<01:29,  6.85it/s, now=None]"
     ]
    },
    {
     "name": "stdout",
     "output_type": "stream",
     "text": [
      "678.2613306876173 m 497.0323974934658 m\n",
      "599.892517539622 m 529.8549155646419 m\n"
     ]
    },
    {
     "name": "stderr",
     "output_type": "stream",
     "text": [
      "\u001b[A\n",
      "t:  51%|█████████████████████████████████▊                                | 645/1260 [01:36<01:28,  6.91it/s, now=None]\u001b[A\n",
      "t:  51%|█████████████████████████████████▊                                | 646/1260 [01:36<01:26,  7.07it/s, now=None]\u001b[A"
     ]
    },
    {
     "name": "stdout",
     "output_type": "stream",
     "text": [
      "539.637659669329 m 522.554642378747 m\n",
      "464.4190831075741 m 528.7022481539271 m\n"
     ]
    },
    {
     "name": "stderr",
     "output_type": "stream",
     "text": [
      "\n",
      "t:  51%|█████████████████████████████████▉                                | 647/1260 [01:36<01:28,  6.95it/s, now=None]\u001b[A\n",
      "t:  51%|█████████████████████████████████▉                                | 648/1260 [01:36<01:27,  7.01it/s, now=None]\u001b[A"
     ]
    },
    {
     "name": "stdout",
     "output_type": "stream",
     "text": [
      "386.08942649338417 m 431.5184475203634 m\n",
      "418.62405627993934 m 453.2314746903176 m\n"
     ]
    },
    {
     "name": "stderr",
     "output_type": "stream",
     "text": [
      "\n",
      "t:  52%|█████████████████████████████████▉                                | 649/1260 [01:37<01:29,  6.80it/s, now=None]\u001b[A\n",
      "t:  52%|██████████████████████████████████                                | 650/1260 [01:37<01:29,  6.82it/s, now=None]\u001b[A"
     ]
    },
    {
     "name": "stdout",
     "output_type": "stream",
     "text": [
      "430.9609634260253 m 443.70115748663704 m\n",
      "412.5515798966447 m 457.910036411887 m\n"
     ]
    },
    {
     "name": "stderr",
     "output_type": "stream",
     "text": [
      "\n",
      "t:  52%|██████████████████████████████████                                | 651/1260 [01:37<01:31,  6.66it/s, now=None]\u001b[A"
     ]
    },
    {
     "name": "stdout",
     "output_type": "stream",
     "text": [
      "413.71011662154837 m 494.19660013269527 m\n",
      "383.0020860700511 m 498.705125936996 m\n"
     ]
    },
    {
     "name": "stderr",
     "output_type": "stream",
     "text": [
      "\n",
      "t:  52%|██████████████████████████████████▏                               | 652/1260 [01:37<01:34,  6.46it/s, now=None]\u001b[A\n",
      "t:  52%|██████████████████████████████████▏                               | 653/1260 [01:37<01:31,  6.60it/s, now=None]\u001b[A\n",
      "t:  52%|██████████████████████████████████▎                               | 654/1260 [01:37<01:30,  6.67it/s, now=None]\u001b[A"
     ]
    },
    {
     "name": "stdout",
     "output_type": "stream",
     "text": [
      "389.7981114941365 m 510.27542959563084 m\n",
      "385.8829952733107 m 565.194315607648 m\n"
     ]
    },
    {
     "name": "stderr",
     "output_type": "stream",
     "text": [
      "\n",
      "t:  52%|██████████████████████████████████▎                               | 655/1260 [01:37<01:29,  6.77it/s, now=None]\u001b[A\n",
      "t:  52%|██████████████████████████████████▎                               | 656/1260 [01:38<01:28,  6.85it/s, now=None]\u001b[A"
     ]
    },
    {
     "name": "stdout",
     "output_type": "stream",
     "text": [
      "399.8174239388406 m 525.0813979152673 m\n",
      "382.748693577081 m 618.8363104783614 m\n"
     ]
    },
    {
     "name": "stderr",
     "output_type": "stream",
     "text": [
      "\n",
      "t:  52%|██████████████████████████████████▍                               | 657/1260 [01:38<01:28,  6.84it/s, now=None]\u001b[A\n",
      "t:  52%|██████████████████████████████████▍                               | 658/1260 [01:38<01:26,  6.92it/s, now=None]\u001b[A"
     ]
    },
    {
     "name": "stdout",
     "output_type": "stream",
     "text": [
      "408.242701439506 m 571.2680349420474 m\n",
      "416.820969901638 m 643.6943558984441 m\n"
     ]
    },
    {
     "name": "stderr",
     "output_type": "stream",
     "text": [
      "\n",
      "t:  52%|██████████████████████████████████▌                               | 659/1260 [01:38<01:29,  6.72it/s, now=None]\u001b[A"
     ]
    },
    {
     "name": "stdout",
     "output_type": "stream",
     "text": [
      "420.16861062076697 m 504.6384152916012 m\n",
      "425.1462939391565 m 527.7394364325768 m\n"
     ]
    },
    {
     "name": "stderr",
     "output_type": "stream",
     "text": [
      "\n",
      "t:  52%|██████████████████████████████████▌                               | 660/1260 [01:38<01:29,  6.67it/s, now=None]\u001b[A\n",
      "t:  52%|██████████████████████████████████▌                               | 661/1260 [01:38<01:30,  6.61it/s, now=None]\u001b[A\n",
      "t:  53%|██████████████████████████████████▋                               | 662/1260 [01:38<01:29,  6.66it/s, now=None]\u001b[A"
     ]
    },
    {
     "name": "stdout",
     "output_type": "stream",
     "text": [
      "451.83271528144394 m 516.6734888275814 m\n",
      "476.9106719385785 m 547.4896626223494 m\n"
     ]
    },
    {
     "name": "stderr",
     "output_type": "stream",
     "text": [
      "\n",
      "t:  53%|██████████████████████████████████▋                               | 663/1260 [01:39<01:29,  6.71it/s, now=None]\u001b[A\n",
      "t:  53%|██████████████████████████████████▊                               | 664/1260 [01:39<01:29,  6.69it/s, now=None]\u001b[A"
     ]
    },
    {
     "name": "stdout",
     "output_type": "stream",
     "text": [
      "520.4436137553729 m 546.7832242062473 m\n",
      "526.2380623028264 m 548.8764222391745 m\n"
     ]
    },
    {
     "name": "stderr",
     "output_type": "stream",
     "text": [
      "\n",
      "t:  53%|██████████████████████████████████▊                               | 665/1260 [01:39<01:29,  6.63it/s, now=None]\u001b[A"
     ]
    },
    {
     "name": "stdout",
     "output_type": "stream",
     "text": [
      "517.1679858364354 m 555.2820668854258 m\n",
      "536.7818285333705 m 563.6990631593753 m\n"
     ]
    },
    {
     "name": "stderr",
     "output_type": "stream",
     "text": [
      "\n",
      "t:  53%|██████████████████████████████████▉                               | 666/1260 [01:39<01:36,  6.14it/s, now=None]\u001b[A\n",
      "t:  53%|██████████████████████████████████▉                               | 667/1260 [01:39<01:37,  6.08it/s, now=None]\u001b[A"
     ]
    },
    {
     "name": "stdout",
     "output_type": "stream",
     "text": [
      "497.1603709564557 m 518.0387415093182 m\n",
      "525.1111719235163 m 552.5496223687047 m\n"
     ]
    },
    {
     "name": "stderr",
     "output_type": "stream",
     "text": [
      "\n",
      "t:  53%|██████████████████████████████████▉                               | 668/1260 [01:39<01:35,  6.21it/s, now=None]\u001b[A\n",
      "t:  53%|███████████████████████████████████                               | 669/1260 [01:40<01:31,  6.47it/s, now=None]\u001b[A\n",
      "t:  53%|███████████████████████████████████                               | 670/1260 [01:40<01:30,  6.50it/s, now=None]\u001b[A"
     ]
    },
    {
     "name": "stdout",
     "output_type": "stream",
     "text": [
      "534.6807015018929 m 565.4582047373112 m\n",
      "564.3342086170796 m 588.9871080625456 m\n"
     ]
    },
    {
     "name": "stderr",
     "output_type": "stream",
     "text": [
      "\n",
      "t:  53%|███████████████████████████████████▏                              | 671/1260 [01:40<01:31,  6.42it/s, now=None]\u001b[A"
     ]
    },
    {
     "name": "stdout",
     "output_type": "stream",
     "text": [
      "588.3568646687435 m 585.4372695391335 m\n",
      "619.9894531206123 m 560.6144500607776 m\n"
     ]
    },
    {
     "name": "stderr",
     "output_type": "stream",
     "text": [
      "\n",
      "t:  53%|███████████████████████████████████▏                              | 672/1260 [01:40<01:31,  6.45it/s, now=None]\u001b[A\n",
      "t:  53%|███████████████████████████████████▎                              | 673/1260 [01:40<01:30,  6.45it/s, now=None]\u001b[A\n",
      "t:  53%|███████████████████████████████████▎                              | 674/1260 [01:40<01:30,  6.48it/s, now=None]\u001b[A"
     ]
    },
    {
     "name": "stdout",
     "output_type": "stream",
     "text": [
      "564.0411325917127 m 528.7463524894243 m\n",
      "560.6653116123288 m 535.7208094025265 m\n"
     ]
    },
    {
     "name": "stderr",
     "output_type": "stream",
     "text": [
      "\n",
      "t:  54%|███████████████████████████████████▎                              | 675/1260 [01:41<01:30,  6.43it/s, now=None]\u001b[A\n",
      "t:  54%|███████████████████████████████████▍                              | 676/1260 [01:41<01:29,  6.50it/s, now=None]\u001b[A"
     ]
    },
    {
     "name": "stdout",
     "output_type": "stream",
     "text": [
      "509.2329371964372 m 519.2590931545266 m\n",
      "490.82191804209236 m 494.2837060304462 m\n"
     ]
    },
    {
     "name": "stderr",
     "output_type": "stream",
     "text": [
      "\n",
      "t:  54%|███████████████████████████████████▍                              | 677/1260 [01:41<01:30,  6.47it/s, now=None]\u001b[A\n",
      "t:  54%|███████████████████████████████████▌                              | 678/1260 [01:41<01:28,  6.56it/s, now=None]"
     ]
    },
    {
     "name": "stdout",
     "output_type": "stream",
     "text": [
      "477.7650523345102 m 476.84077253850126 m\n",
      "464.5664397524281 m 494.81474875484685 m\n"
     ]
    },
    {
     "name": "stderr",
     "output_type": "stream",
     "text": [
      "\u001b[A\n",
      "t:  54%|███████████████████████████████████▌                              | 679/1260 [01:41<01:27,  6.61it/s, now=None]\u001b[A\n",
      "t:  54%|███████████████████████████████████▌                              | 680/1260 [01:41<01:27,  6.66it/s, now=None]\u001b[A"
     ]
    },
    {
     "name": "stdout",
     "output_type": "stream",
     "text": [
      "470.55361466256915 m 520.3255685430855 m\n",
      "454.6857020344474 m 550.2417552246316 m\n"
     ]
    },
    {
     "name": "stderr",
     "output_type": "stream",
     "text": [
      "\n",
      "t:  54%|███████████████████████████████████▋                              | 681/1260 [01:41<01:26,  6.67it/s, now=None]\u001b[A\n",
      "t:  54%|███████████████████████████████████▋                              | 682/1260 [01:42<01:26,  6.68it/s, now=None]\u001b[A"
     ]
    },
    {
     "name": "stdout",
     "output_type": "stream",
     "text": [
      "452.6406838003039 m 555.0379638191598 m\n",
      "442.5713653120236 m 542.3165948512661 m\n"
     ]
    },
    {
     "name": "stderr",
     "output_type": "stream",
     "text": [
      "\n",
      "t:  54%|███████████████████████████████████▊                              | 683/1260 [01:42<01:26,  6.67it/s, now=None]\u001b[A\n",
      "t:  54%|███████████████████████████████████▊                              | 684/1260 [01:42<01:25,  6.74it/s, now=None]\u001b[A"
     ]
    },
    {
     "name": "stdout",
     "output_type": "stream",
     "text": [
      "420.3336487848824 m 487.33076427849187 m\n",
      "432.15260856544865 m 490.0751527444999 m\n"
     ]
    },
    {
     "name": "stderr",
     "output_type": "stream",
     "text": [
      "\n",
      "t:  54%|███████████████████████████████████▉                              | 685/1260 [01:42<01:26,  6.68it/s, now=None]\u001b[A"
     ]
    },
    {
     "name": "stdout",
     "output_type": "stream",
     "text": [
      "414.2959205936394 m 515.4981994339148 m\n",
      "415.89159485094854 m 487.7616410783994 m\n"
     ]
    },
    {
     "name": "stderr",
     "output_type": "stream",
     "text": [
      "\n",
      "t:  54%|███████████████████████████████████▉                              | 686/1260 [01:42<01:25,  6.70it/s, now=None]\u001b[A\n",
      "t:  55%|███████████████████████████████████▉                              | 687/1260 [01:42<01:27,  6.54it/s, now=None]\u001b[A\n",
      "t:  55%|████████████████████████████████████                              | 688/1260 [01:42<01:26,  6.65it/s, now=None]\u001b[A"
     ]
    },
    {
     "name": "stdout",
     "output_type": "stream",
     "text": [
      "384.1511518993469 m 454.5827522338319 m\n",
      "386.94806182063087 m 458.53532717510217 m\n"
     ]
    },
    {
     "name": "stderr",
     "output_type": "stream",
     "text": [
      "\n",
      "t:  55%|████████████████████████████████████                              | 689/1260 [01:43<01:24,  6.75it/s, now=None]\u001b[A\n",
      "t:  55%|████████████████████████████████████▏                             | 690/1260 [01:43<01:24,  6.77it/s, now=None]\u001b[A"
     ]
    },
    {
     "name": "stdout",
     "output_type": "stream",
     "text": [
      "390.9075720862303 m 466.0404484250663 m\n",
      "409.9537631084817 m 502.3357757614088 m\n"
     ]
    },
    {
     "name": "stderr",
     "output_type": "stream",
     "text": [
      "\n",
      "t:  55%|████████████████████████████████████▏                             | 691/1260 [01:43<01:24,  6.73it/s, now=None]\u001b[A\n",
      "t:  55%|████████████████████████████████████▏                             | 692/1260 [01:43<01:23,  6.77it/s, now=None]\u001b[A"
     ]
    },
    {
     "name": "stdout",
     "output_type": "stream",
     "text": [
      "380.73689832387504 m 496.3309449246386 m\n",
      "389.3186064601467 m 491.46021097848956 m\n"
     ]
    },
    {
     "name": "stderr",
     "output_type": "stream",
     "text": [
      "\n",
      "t:  55%|████████████████████████████████████▎                             | 693/1260 [01:43<01:22,  6.87it/s, now=None]\u001b[A\n",
      "t:  55%|████████████████████████████████████▎                             | 694/1260 [01:43<01:22,  6.87it/s, now=None]\u001b[A"
     ]
    },
    {
     "name": "stdout",
     "output_type": "stream",
     "text": [
      "365.49174682684577 m 509.53893557659296 m\n",
      "376.775898045588 m 504.6304399884571 m\n"
     ]
    },
    {
     "name": "stderr",
     "output_type": "stream",
     "text": [
      "\n",
      "t:  55%|████████████████████████████████████▍                             | 695/1260 [01:44<01:23,  6.74it/s, now=None]\u001b[A"
     ]
    },
    {
     "name": "stdout",
     "output_type": "stream",
     "text": [
      "381.548534520214 m 512.8865385210196 m\n",
      "373.21930245275183 m 440.80543926114444 m\n"
     ]
    },
    {
     "name": "stderr",
     "output_type": "stream",
     "text": [
      "\n",
      "t:  55%|████████████████████████████████████▍                             | 696/1260 [01:44<01:24,  6.67it/s, now=None]\u001b[A\n",
      "t:  55%|████████████████████████████████████▌                             | 697/1260 [01:44<01:25,  6.60it/s, now=None]\u001b[A\n",
      "t:  55%|████████████████████████████████████▌                             | 698/1260 [01:44<01:24,  6.66it/s, now=None]\u001b[A"
     ]
    },
    {
     "name": "stdout",
     "output_type": "stream",
     "text": [
      "384.0669388366733 m 458.9821136212189 m\n",
      "378.4849368875734 m 444.4624322891733 m\n"
     ]
    },
    {
     "name": "stderr",
     "output_type": "stream",
     "text": [
      "\n",
      "t:  55%|████████████████████████████████████▌                             | 699/1260 [01:44<01:25,  6.55it/s, now=None]\u001b[A"
     ]
    },
    {
     "name": "stdout",
     "output_type": "stream",
     "text": [
      "359.4312055166231 m 438.2498955148039 m\n",
      "383.22191239640745 m 411.60622711396985 m\n"
     ]
    },
    {
     "name": "stderr",
     "output_type": "stream",
     "text": [
      "\n",
      "t:  56%|████████████████████████████████████▋                             | 700/1260 [01:44<01:24,  6.59it/s, now=None]\u001b[A\n",
      "t:  56%|████████████████████████████████████▋                             | 701/1260 [01:44<01:24,  6.62it/s, now=None]\u001b[A\n",
      "t:  56%|████████████████████████████████████▊                             | 702/1260 [01:45<01:23,  6.69it/s, now=None]\u001b[A"
     ]
    },
    {
     "name": "stdout",
     "output_type": "stream",
     "text": [
      "372.3819224042722 m 400.72344101523373 m\n",
      "384.45756017216894 m 405.6284879177319 m\n"
     ]
    },
    {
     "name": "stderr",
     "output_type": "stream",
     "text": [
      "\n",
      "t:  56%|████████████████████████████████████▊                             | 703/1260 [01:45<01:24,  6.61it/s, now=None]\u001b[A\n"
     ]
    },
    {
     "name": "stdout",
     "output_type": "stream",
     "text": [
      "391.4736109330336 m 414.49245095697665 m\n",
      "399.7343093268227 m 415.8331923809293 m\n"
     ]
    },
    {
     "name": "stderr",
     "output_type": "stream",
     "text": [
      "t:  56%|████████████████████████████████████▉                             | 704/1260 [01:45<01:24,  6.55it/s, now=None]\u001b[A\n",
      "t:  56%|████████████████████████████████████▉                             | 705/1260 [01:45<01:23,  6.65it/s, now=None]\u001b[A"
     ]
    },
    {
     "name": "stdout",
     "output_type": "stream",
     "text": [
      "414.3292864657293 m 391.51314903089013 m\n",
      "393.917219416003 m 377.66846399263574 m\n"
     ]
    },
    {
     "name": "stderr",
     "output_type": "stream",
     "text": [
      "\n",
      "t:  56%|████████████████████████████████████▉                             | 706/1260 [01:45<01:23,  6.62it/s, now=None]\u001b[A\n",
      "t:  56%|█████████████████████████████████████                             | 707/1260 [01:45<01:22,  6.69it/s, now=None]\u001b[A"
     ]
    },
    {
     "name": "stdout",
     "output_type": "stream",
     "text": [
      "406.9826934479798 m 398.7337733389634 m\n",
      "414.28311502067197 m 374.2681044335098 m\n"
     ]
    },
    {
     "name": "stderr",
     "output_type": "stream",
     "text": [
      "\n",
      "t:  56%|█████████████████████████████████████                             | 708/1260 [01:45<01:23,  6.61it/s, now=None]\u001b[A\n",
      "t:  56%|█████████████████████████████████████▏                            | 709/1260 [01:46<01:21,  6.75it/s, now=None]\u001b[A\n",
      "t:  56%|█████████████████████████████████████▏                            | 710/1260 [01:46<01:20,  6.84it/s, now=None]\u001b[A"
     ]
    },
    {
     "name": "stdout",
     "output_type": "stream",
     "text": [
      "430.25416397778895 m 390.93078730753354 m\n",
      "383.78653807251476 m 381.40433972655745 m\n"
     ]
    },
    {
     "name": "stderr",
     "output_type": "stream",
     "text": [
      "\n",
      "t:  56%|█████████████████████████████████████▏                            | 711/1260 [01:46<01:21,  6.71it/s, now=None]\u001b[A"
     ]
    },
    {
     "name": "stdout",
     "output_type": "stream",
     "text": [
      "370.4491878760881 m 378.6074641971442 m\n",
      "384.5372243943611 m 384.33187976522277 m\n"
     ]
    },
    {
     "name": "stderr",
     "output_type": "stream",
     "text": [
      "\n",
      "t:  57%|█████████████████████████████████████▎                            | 712/1260 [01:46<01:22,  6.61it/s, now=None]\u001b[A\n",
      "t:  57%|█████████████████████████████████████▎                            | 713/1260 [01:46<01:20,  6.75it/s, now=None]\u001b[A"
     ]
    },
    {
     "name": "stdout",
     "output_type": "stream",
     "text": [
      "389.32866050342824 m 409.12476461370284 m\n",
      "406.74115310290193 m 430.2305594907639 m\n"
     ]
    },
    {
     "name": "stderr",
     "output_type": "stream",
     "text": [
      "\n",
      "t:  57%|█████████████████████████████████████▍                            | 714/1260 [01:46<01:21,  6.73it/s, now=None]\u001b[A\n",
      "t:  57%|█████████████████████████████████████▍                            | 715/1260 [01:47<01:20,  6.75it/s, now=None]\u001b[A\n",
      "t:  57%|█████████████████████████████████████▌                            | 716/1260 [01:47<01:20,  6.77it/s, now=None]"
     ]
    },
    {
     "name": "stdout",
     "output_type": "stream",
     "text": [
      "382.4576591661792 m 425.32042524813716 m\n",
      "365.1432162775583 m 419.144383939912 m\n"
     ]
    },
    {
     "name": "stderr",
     "output_type": "stream",
     "text": [
      "\u001b[A\n",
      "t:  57%|█████████████████████████████████████▌                            | 717/1260 [01:47<01:19,  6.81it/s, now=None]\u001b[A\n",
      "t:  57%|█████████████████████████████████████▌                            | 718/1260 [01:47<01:19,  6.80it/s, now=None]\u001b[A"
     ]
    },
    {
     "name": "stdout",
     "output_type": "stream",
     "text": [
      "365.1163197198686 m 436.1351787875748 m\n",
      "372.10078358177776 m 465.81370145704335 m\n"
     ]
    },
    {
     "name": "stderr",
     "output_type": "stream",
     "text": [
      "\n",
      "t:  57%|█████████████████████████████████████▋                            | 719/1260 [01:47<01:20,  6.75it/s, now=None]\u001b[A\n"
     ]
    },
    {
     "name": "stdout",
     "output_type": "stream",
     "text": [
      "394.503869762201 m 460.10799536505925 m\n",
      "393.3183544418691 m 482.6002011170209 m\n"
     ]
    },
    {
     "name": "stderr",
     "output_type": "stream",
     "text": [
      "t:  57%|█████████████████████████████████████▋                            | 720/1260 [01:47<01:21,  6.65it/s, now=None]\u001b[A\n",
      "t:  57%|█████████████████████████████████████▊                            | 721/1260 [01:47<01:19,  6.76it/s, now=None]\u001b[A\n",
      "t:  57%|█████████████████████████████████████▊                            | 722/1260 [01:48<01:18,  6.87it/s, now=None]\u001b[A"
     ]
    },
    {
     "name": "stdout",
     "output_type": "stream",
     "text": [
      "402.22587807238347 m 467.93292354767004 m\n",
      "416.8383060967404 m 461.07522000630775 m\n"
     ]
    },
    {
     "name": "stderr",
     "output_type": "stream",
     "text": [
      "\n",
      "t:  57%|█████████████████████████████████████▊                            | 723/1260 [01:48<01:18,  6.86it/s, now=None]\u001b[A"
     ]
    },
    {
     "name": "stdout",
     "output_type": "stream",
     "text": [
      "428.6419743831974 m 490.93720726234386 m\n",
      "398.8348257930729 m 457.4730676371841 m\n"
     ]
    },
    {
     "name": "stderr",
     "output_type": "stream",
     "text": [
      "\n",
      "t:  57%|█████████████████████████████████████▉                            | 724/1260 [01:48<01:20,  6.67it/s, now=None]\u001b[A\n",
      "t:  58%|█████████████████████████████████████▉                            | 725/1260 [01:48<01:20,  6.66it/s, now=None]\u001b[A"
     ]
    },
    {
     "name": "stdout",
     "output_type": "stream",
     "text": [
      "414.9080611306764 m 455.6358495867868 m\n",
      "436.39150250432033 m 504.17401132146875 m\n"
     ]
    },
    {
     "name": "stderr",
     "output_type": "stream",
     "text": [
      "\n",
      "t:  58%|██████████████████████████████████████                            | 726/1260 [01:48<01:20,  6.63it/s, now=None]\u001b[A\n",
      "t:  58%|██████████████████████████████████████                            | 727/1260 [01:48<01:21,  6.55it/s, now=None]\u001b[A\n",
      "t:  58%|██████████████████████████████████████▏                           | 728/1260 [01:48<01:20,  6.63it/s, now=None]\u001b[A"
     ]
    },
    {
     "name": "stdout",
     "output_type": "stream",
     "text": [
      "413.4747212749187 m 479.59864214006683 m\n",
      "418.3557998472942 m 444.89660370598347 m\n"
     ]
    },
    {
     "name": "stderr",
     "output_type": "stream",
     "text": [
      "\n",
      "t:  58%|██████████████████████████████████████▏                           | 729/1260 [01:49<01:20,  6.57it/s, now=None]\u001b[A"
     ]
    },
    {
     "name": "stdout",
     "output_type": "stream",
     "text": [
      "407.35795279485166 m 443.1424743981651 m\n",
      "407.0101640148255 m 476.1403818774869 m\n"
     ]
    },
    {
     "name": "stderr",
     "output_type": "stream",
     "text": [
      "\n",
      "t:  58%|██████████████████████████████████████▏                           | 730/1260 [01:49<01:20,  6.58it/s, now=None]\u001b[A\n",
      "t:  58%|██████████████████████████████████████▎                           | 731/1260 [01:49<01:20,  6.54it/s, now=None]\u001b[A\n",
      "t:  58%|██████████████████████████████████████▎                           | 732/1260 [01:49<01:20,  6.59it/s, now=None]\u001b[A"
     ]
    },
    {
     "name": "stdout",
     "output_type": "stream",
     "text": [
      "407.4770091831206 m 482.218459192908 m\n",
      "426.6653899630937 m 450.0965131370547 m\n"
     ]
    },
    {
     "name": "stderr",
     "output_type": "stream",
     "text": [
      "\n",
      "t:  58%|██████████████████████████████████████▍                           | 733/1260 [01:49<01:17,  6.76it/s, now=None]\u001b[A\n",
      "t:  58%|██████████████████████████████████████▍                           | 734/1260 [01:49<01:16,  6.84it/s, now=None]\u001b[A"
     ]
    },
    {
     "name": "stdout",
     "output_type": "stream",
     "text": [
      "407.5225440057536 m 411.76478520734656 m\n",
      "394.9511978503302 m 376.910181432348 m\n"
     ]
    },
    {
     "name": "stderr",
     "output_type": "stream",
     "text": [
      "\n",
      "t:  58%|██████████████████████████████████████▌                           | 735/1260 [01:49<01:17,  6.82it/s, now=None]\u001b[A\n",
      "t:  58%|██████████████████████████████████████▌                           | 736/1260 [01:50<01:15,  6.92it/s, now=None]\u001b[A"
     ]
    },
    {
     "name": "stdout",
     "output_type": "stream",
     "text": [
      "394.7173995556776 m 368.95063544089174 m\n",
      "431.9564472353616 m 387.0898165907712 m\n"
     ]
    },
    {
     "name": "stderr",
     "output_type": "stream",
     "text": [
      "\n",
      "t:  58%|██████████████████████████████████████▌                           | 737/1260 [01:50<01:17,  6.72it/s, now=None]\u001b[A\n",
      "t:  59%|██████████████████████████████████████▋                           | 738/1260 [01:50<01:17,  6.75it/s, now=None]\u001b[A"
     ]
    },
    {
     "name": "stdout",
     "output_type": "stream",
     "text": [
      "414.25117054251297 m 374.9292351261321 m\n",
      "439.9381151947423 m 401.0053209735452 m\n"
     ]
    },
    {
     "name": "stderr",
     "output_type": "stream",
     "text": [
      "\n",
      "t:  59%|██████████████████████████████████████▋                           | 739/1260 [01:50<01:18,  6.66it/s, now=None]\u001b[A"
     ]
    },
    {
     "name": "stdout",
     "output_type": "stream",
     "text": [
      "421.45762443493186 m 394.4484522663747 m\n",
      "441.08584214530674 m 408.3815811763398 m\n"
     ]
    },
    {
     "name": "stderr",
     "output_type": "stream",
     "text": [
      "\n",
      "t:  59%|██████████████████████████████████████▊                           | 740/1260 [01:50<01:18,  6.63it/s, now=None]\u001b[A\n",
      "t:  59%|██████████████████████████████████████▊                           | 741/1260 [01:50<01:18,  6.62it/s, now=None]\u001b[A\n",
      "t:  59%|██████████████████████████████████████▊                           | 742/1260 [01:51<01:16,  6.75it/s, now=None]\u001b[A"
     ]
    },
    {
     "name": "stdout",
     "output_type": "stream",
     "text": [
      "428.0390257485136 m 394.764384104177 m\n",
      "431.76825453085644 m 392.3010885311279 m\n"
     ]
    },
    {
     "name": "stderr",
     "output_type": "stream",
     "text": [
      "\n",
      "t:  59%|██████████████████████████████████████▉                           | 743/1260 [01:51<01:15,  6.84it/s, now=None]\u001b[A\n",
      "t:  59%|██████████████████████████████████████▉                           | 744/1260 [01:51<01:15,  6.85it/s, now=None]\u001b[A"
     ]
    },
    {
     "name": "stdout",
     "output_type": "stream",
     "text": [
      "428.2025941048439 m 377.7644434655178 m\n",
      "394.1231665891191 m 361.69085241701964 m\n"
     ]
    },
    {
     "name": "stderr",
     "output_type": "stream",
     "text": [
      "\n",
      "t:  59%|███████████████████████████████████████                           | 745/1260 [01:51<01:15,  6.85it/s, now=None]\u001b[A"
     ]
    },
    {
     "name": "stdout",
     "output_type": "stream",
     "text": [
      "389.8551000834886 m 355.6621268518619 m\n",
      "414.8031092060187 m 361.5546286891194 m\n"
     ]
    },
    {
     "name": "stderr",
     "output_type": "stream",
     "text": [
      "\n",
      "t:  59%|███████████████████████████████████████                           | 746/1260 [01:51<01:16,  6.68it/s, now=None]\u001b[A\n",
      "t:  59%|███████████████████████████████████████▏                          | 747/1260 [01:51<01:17,  6.60it/s, now=None]\u001b[A\n",
      "t:  59%|███████████████████████████████████████▏                          | 748/1260 [01:51<01:17,  6.63it/s, now=None]\u001b[A"
     ]
    },
    {
     "name": "stdout",
     "output_type": "stream",
     "text": [
      "432.99788118880696 m 380.8588416805837 m\n",
      "438.7090464708405 m 393.2044381024054 m\n"
     ]
    },
    {
     "name": "stderr",
     "output_type": "stream",
     "text": [
      "\n",
      "t:  59%|███████████████████████████████████████▏                          | 749/1260 [01:52<01:15,  6.79it/s, now=None]\u001b[A\n",
      "t:  60%|███████████████████████████████████████▎                          | 750/1260 [01:52<01:15,  6.79it/s, now=None]\u001b[A"
     ]
    },
    {
     "name": "stdout",
     "output_type": "stream",
     "text": [
      "457.61363498624127 m 414.1098641190118 m\n",
      "436.3357648220391 m 436.7995165183604 m\n"
     ]
    },
    {
     "name": "stderr",
     "output_type": "stream",
     "text": [
      "\n",
      "t:  60%|███████████████████████████████████████▎                          | 751/1260 [01:52<01:16,  6.64it/s, now=None]\u001b[A\n",
      "t:  60%|███████████████████████████████████████▍                          | 752/1260 [01:52<01:15,  6.69it/s, now=None]\u001b[A"
     ]
    },
    {
     "name": "stdout",
     "output_type": "stream",
     "text": [
      "437.5627406760667 m 462.74207439017556 m\n",
      "434.0867028776059 m 493.49943951481026 m\n"
     ]
    },
    {
     "name": "stderr",
     "output_type": "stream",
     "text": [
      "\n",
      "t:  60%|███████████████████████████████████████▍                          | 753/1260 [01:52<01:18,  6.47it/s, now=None]\u001b[A\n",
      "t:  60%|███████████████████████████████████████▍                          | 754/1260 [01:52<01:17,  6.49it/s, now=None]\u001b[A"
     ]
    },
    {
     "name": "stdout",
     "output_type": "stream",
     "text": [
      "456.2995352505747 m 541.7566890658829 m\n",
      "412.2441709407789 m 537.1767488924803 m\n"
     ]
    },
    {
     "name": "stderr",
     "output_type": "stream",
     "text": [
      "\n",
      "t:  60%|███████████████████████████████████████▌                          | 755/1260 [01:52<01:18,  6.46it/s, now=None]\u001b[A\n",
      "t:  60%|███████████████████████████████████████▌                          | 756/1260 [01:53<01:17,  6.50it/s, now=None]\u001b[A"
     ]
    },
    {
     "name": "stdout",
     "output_type": "stream",
     "text": [
      "390.14036890797047 m 535.4215550754282 m\n",
      "377.94467759563196 m 490.0761714309755 m\n"
     ]
    },
    {
     "name": "stderr",
     "output_type": "stream",
     "text": [
      "\n",
      "t:  60%|███████████████████████████████████████▋                          | 757/1260 [01:53<01:16,  6.57it/s, now=None]\u001b[A\n"
     ]
    },
    {
     "name": "stdout",
     "output_type": "stream",
     "text": [
      "415.69969707719974 m 543.5100324949328 m\n",
      "401.62503091481125 m 553.510678055848 m\n"
     ]
    },
    {
     "name": "stderr",
     "output_type": "stream",
     "text": [
      "t:  60%|███████████████████████████████████████▋                          | 758/1260 [01:53<01:16,  6.53it/s, now=None]\u001b[A\n",
      "t:  60%|███████████████████████████████████████▊                          | 759/1260 [01:53<01:16,  6.59it/s, now=None]\u001b[A"
     ]
    },
    {
     "name": "stdout",
     "output_type": "stream",
     "text": [
      "394.4726688219286 m 526.4860255112623 m\n",
      "420.3002301691411 m 544.5699120508094 m\n"
     ]
    },
    {
     "name": "stderr",
     "output_type": "stream",
     "text": [
      "\n",
      "t:  60%|███████████████████████████████████████▊                          | 760/1260 [01:53<01:15,  6.61it/s, now=None]\u001b[A\n",
      "t:  60%|███████████████████████████████████████▊                          | 761/1260 [01:53<01:14,  6.68it/s, now=None]\u001b[A"
     ]
    },
    {
     "name": "stdout",
     "output_type": "stream",
     "text": [
      "427.9222132988807 m 522.4843292388199 m\n",
      "406.4584046910149 m 513.0931171518582 m\n"
     ]
    },
    {
     "name": "stderr",
     "output_type": "stream",
     "text": [
      "\n",
      "t:  60%|███████████████████████████████████████▉                          | 762/1260 [01:54<01:14,  6.66it/s, now=None]\u001b[A\n",
      "t:  61%|███████████████████████████████████████▉                          | 763/1260 [01:54<01:14,  6.64it/s, now=None]\u001b[A"
     ]
    },
    {
     "name": "stdout",
     "output_type": "stream",
     "text": [
      "402.00461593452576 m 547.5601483981809 m\n",
      "402.67682999027153 m 597.4665058517896 m\n"
     ]
    },
    {
     "name": "stderr",
     "output_type": "stream",
     "text": [
      "\n",
      "t:  61%|████████████████████████████████████████                          | 764/1260 [01:54<01:14,  6.63it/s, now=None]\u001b[A\n",
      "t:  61%|████████████████████████████████████████                          | 765/1260 [01:54<01:14,  6.63it/s, now=None]\u001b[A\n",
      "t:  61%|████████████████████████████████████████                          | 766/1260 [01:54<01:14,  6.67it/s, now=None]\u001b[A"
     ]
    },
    {
     "name": "stdout",
     "output_type": "stream",
     "text": [
      "407.671352234436 m 613.7961381558491 m\n",
      "404.17430163128125 m 615.5984885859845 m\n"
     ]
    },
    {
     "name": "stderr",
     "output_type": "stream",
     "text": [
      "\n",
      "t:  61%|████████████████████████████████████████▏                         | 767/1260 [01:54<01:14,  6.62it/s, now=None]\u001b[A"
     ]
    },
    {
     "name": "stdout",
     "output_type": "stream",
     "text": [
      "408.4388980768167 m 575.197517570596 m\n",
      "414.3050740298539 m 628.5270611762438 m\n"
     ]
    },
    {
     "name": "stderr",
     "output_type": "stream",
     "text": [
      "\n",
      "t:  61%|████████████████████████████████████████▏                         | 768/1260 [01:54<01:15,  6.53it/s, now=None]\u001b[A\n",
      "t:  61%|████████████████████████████████████████▎                         | 769/1260 [01:55<01:13,  6.69it/s, now=None]\u001b[A\n",
      "t:  61%|████████████████████████████████████████▎                         | 770/1260 [01:55<01:13,  6.62it/s, now=None]\u001b[A"
     ]
    },
    {
     "name": "stdout",
     "output_type": "stream",
     "text": [
      "404.2055665896841 m 625.3358523088154 m\n",
      "406.0702028725375 m 525.8830765031297 m\n"
     ]
    },
    {
     "name": "stderr",
     "output_type": "stream",
     "text": [
      "\n",
      "t:  61%|████████████████████████████████████████▍                         | 771/1260 [01:55<01:14,  6.55it/s, now=None]\u001b[A"
     ]
    },
    {
     "name": "stdout",
     "output_type": "stream",
     "text": [
      "400.61805683455185 m 479.8396038998699 m\n",
      "425.42676105985714 m 485.53413675685096 m\n"
     ]
    },
    {
     "name": "stderr",
     "output_type": "stream",
     "text": [
      "\n",
      "t:  61%|████████████████████████████████████████▍                         | 772/1260 [01:55<01:15,  6.50it/s, now=None]\u001b[A\n",
      "t:  61%|████████████████████████████████████████▍                         | 773/1260 [01:55<01:16,  6.35it/s, now=None]\u001b[A\n",
      "t:  61%|████████████████████████████████████████▌                         | 774/1260 [01:55<01:14,  6.53it/s, now=None]\u001b[A"
     ]
    },
    {
     "name": "stdout",
     "output_type": "stream",
     "text": [
      "448.73600055864756 m 495.16532805488987 m\n",
      "474.89191747957636 m 503.0509602669053 m\n"
     ]
    },
    {
     "name": "stderr",
     "output_type": "stream",
     "text": [
      "\n",
      "t:  62%|████████████████████████████████████████▌                         | 775/1260 [01:56<01:15,  6.46it/s, now=None]\u001b[A\n",
      "t:  62%|████████████████████████████████████████▋                         | 776/1260 [01:56<01:13,  6.60it/s, now=None]\u001b[A"
     ]
    },
    {
     "name": "stdout",
     "output_type": "stream",
     "text": [
      "478.4402499152153 m 494.6704426016965 m\n",
      "483.6994449751847 m 547.7474413325137 m\n"
     ]
    },
    {
     "name": "stderr",
     "output_type": "stream",
     "text": [
      "\n",
      "t:  62%|████████████████████████████████████████▋                         | 777/1260 [01:56<01:12,  6.69it/s, now=None]\u001b[A\n",
      "t:  62%|████████████████████████████████████████▊                         | 778/1260 [01:56<01:10,  6.81it/s, now=None]\u001b[A"
     ]
    },
    {
     "name": "stdout",
     "output_type": "stream",
     "text": [
      "487.61531233716755 m 499.5674045189237 m\n",
      "509.5412949905848 m 509.04867370050926 m\n"
     ]
    },
    {
     "name": "stderr",
     "output_type": "stream",
     "text": [
      "\n",
      "t:  62%|████████████████████████████████████████▊                         | 779/1260 [01:56<01:12,  6.63it/s, now=None]\u001b[A"
     ]
    },
    {
     "name": "stdout",
     "output_type": "stream",
     "text": [
      "524.6411540828524 m 483.54212086178046 m\n",
      "548.0174122299111 m 486.34363873155087 m\n"
     ]
    },
    {
     "name": "stderr",
     "output_type": "stream",
     "text": [
      "\n",
      "t:  62%|████████████████████████████████████████▊                         | 780/1260 [01:56<01:12,  6.58it/s, now=None]\u001b[A\n",
      "t:  62%|████████████████████████████████████████▉                         | 781/1260 [01:56<01:12,  6.64it/s, now=None]\u001b[A\n",
      "t:  62%|████████████████████████████████████████▉                         | 782/1260 [01:57<01:10,  6.77it/s, now=None]\u001b[A"
     ]
    },
    {
     "name": "stdout",
     "output_type": "stream",
     "text": [
      "580.4348418505884 m 499.1098380241785 m\n",
      "595.4338503196597 m 494.6568649755627 m\n"
     ]
    },
    {
     "name": "stderr",
     "output_type": "stream",
     "text": [
      "\n",
      "t:  62%|█████████████████████████████████████████                         | 783/1260 [01:57<01:13,  6.51it/s, now=None]\u001b[A"
     ]
    },
    {
     "name": "stdout",
     "output_type": "stream",
     "text": [
      "616.2431720698015 m 593.8781048816818 m\n",
      "621.6631390570664 m 562.2452799333229 m\n"
     ]
    },
    {
     "name": "stderr",
     "output_type": "stream",
     "text": [
      "\n",
      "t:  62%|█████████████████████████████████████████                         | 784/1260 [01:57<01:13,  6.50it/s, now=None]\u001b[A\n",
      "t:  62%|█████████████████████████████████████████                         | 785/1260 [01:57<01:12,  6.53it/s, now=None]\u001b[A"
     ]
    },
    {
     "name": "stdout",
     "output_type": "stream",
     "text": [
      "666.9935355442055 m 581.163674417232 m\n",
      "737.7926425051555 m 602.7658556837603 m\n"
     ]
    },
    {
     "name": "stderr",
     "output_type": "stream",
     "text": [
      "\n",
      "t:  62%|█████████████████████████████████████████▏                        | 786/1260 [01:57<01:11,  6.59it/s, now=None]\u001b[A\n",
      "t:  62%|█████████████████████████████████████████▏                        | 787/1260 [01:57<01:11,  6.60it/s, now=None]\u001b[A\n",
      "t:  63%|█████████████████████████████████████████▎                        | 788/1260 [01:57<01:10,  6.65it/s, now=None]\u001b[A"
     ]
    },
    {
     "name": "stdout",
     "output_type": "stream",
     "text": [
      "759.3186047563105 m 553.6834646210268 m\n",
      "691.8541349477475 m 683.9557987438737 m\n"
     ]
    },
    {
     "name": "stderr",
     "output_type": "stream",
     "text": [
      "\n",
      "t:  63%|█████████████████████████████████████████▎                        | 789/1260 [01:58<01:11,  6.62it/s, now=None]\u001b[A\n",
      "t:  63%|█████████████████████████████████████████▍                        | 790/1260 [01:58<01:10,  6.64it/s, now=None]\u001b[A"
     ]
    },
    {
     "name": "stdout",
     "output_type": "stream",
     "text": [
      "727.6453714315323 m 905.8483289306879 m\n",
      "700.6849566650708 m 1001.8729622637003 m\n"
     ]
    },
    {
     "name": "stderr",
     "output_type": "stream",
     "text": [
      "\n",
      "t:  63%|█████████████████████████████████████████▍                        | 791/1260 [01:58<01:09,  6.75it/s, now=None]\u001b[A\n",
      "t:  63%|█████████████████████████████████████████▍                        | 792/1260 [01:58<01:09,  6.74it/s, now=None]\u001b[A"
     ]
    },
    {
     "name": "stdout",
     "output_type": "stream",
     "text": [
      "676.8140931540931 m 921.0719495359908 m\n",
      "727.0173853921842 m 819.6866934647481 m\n"
     ]
    },
    {
     "name": "stderr",
     "output_type": "stream",
     "text": [
      "\n",
      "t:  63%|█████████████████████████████████████████▌                        | 793/1260 [01:58<01:10,  6.62it/s, now=None]\u001b[A\n",
      "t:  63%|█████████████████████████████████████████▌                        | 794/1260 [01:58<01:09,  6.72it/s, now=None]\u001b[A"
     ]
    },
    {
     "name": "stdout",
     "output_type": "stream",
     "text": [
      "716.1546437697015 m 932.3183784729844 m\n",
      "682.0957072003876 m 715.6245351887496 m\n"
     ]
    },
    {
     "name": "stderr",
     "output_type": "stream",
     "text": [
      "\n",
      "t:  63%|█████████████████████████████████████████▋                        | 795/1260 [01:59<01:09,  6.65it/s, now=None]\u001b[A"
     ]
    },
    {
     "name": "stdout",
     "output_type": "stream",
     "text": [
      "634.7475916837158 m 720.4880745494793 m\n",
      "602.8925464038367 m 651.4968602089571 m\n"
     ]
    },
    {
     "name": "stderr",
     "output_type": "stream",
     "text": [
      "\n",
      "t:  63%|█████████████████████████████████████████▋                        | 796/1260 [01:59<01:10,  6.60it/s, now=None]\u001b[A\n",
      "t:  63%|█████████████████████████████████████████▋                        | 797/1260 [01:59<01:09,  6.69it/s, now=None]\u001b[A"
     ]
    },
    {
     "name": "stdout",
     "output_type": "stream",
     "text": [
      "589.4838749744994 m 674.0804093117393 m\n",
      "551.5874184854607 m 691.4867293188618 m\n"
     ]
    },
    {
     "name": "stderr",
     "output_type": "stream",
     "text": [
      "\n",
      "t:  63%|█████████████████████████████████████████▊                        | 798/1260 [01:59<01:08,  6.72it/s, now=None]\u001b[A\n",
      "t:  63%|█████████████████████████████████████████▊                        | 799/1260 [01:59<01:09,  6.68it/s, now=None]\u001b[A"
     ]
    },
    {
     "name": "stdout",
     "output_type": "stream",
     "text": [
      "543.464678682262 m 716.1733286087667 m\n",
      "563.5738608926425 m 760.1223095801965 m\n"
     ]
    },
    {
     "name": "stderr",
     "output_type": "stream",
     "text": [
      "\n",
      "t:  63%|█████████████████████████████████████████▉                        | 800/1260 [01:59<01:09,  6.58it/s, now=None]\u001b[A\n",
      "t:  64%|█████████████████████████████████████████▉                        | 801/1260 [01:59<01:09,  6.59it/s, now=None]\u001b[A"
     ]
    },
    {
     "name": "stdout",
     "output_type": "stream",
     "text": [
      "576.4464095237155 m 779.9911461032405 m\n",
      "582.4703645467129 m 735.5204751013769 m\n"
     ]
    },
    {
     "name": "stderr",
     "output_type": "stream",
     "text": [
      "\n",
      "t:  64%|██████████████████████████████████████████                        | 802/1260 [02:00<01:09,  6.56it/s, now=None]\u001b[A\n",
      "t:  64%|██████████████████████████████████████████                        | 803/1260 [02:00<01:11,  6.40it/s, now=None]\u001b[A"
     ]
    },
    {
     "name": "stdout",
     "output_type": "stream",
     "text": [
      "591.7369831304213 m 740.673983104491 m\n",
      "551.752655302909 m 700.7602253733405 m\n"
     ]
    },
    {
     "name": "stderr",
     "output_type": "stream",
     "text": [
      "\n",
      "t:  64%|██████████████████████████████████████████                        | 804/1260 [02:00<01:12,  6.31it/s, now=None]\u001b[A\n",
      "t:  64%|██████████████████████████████████████████▏                       | 805/1260 [02:00<01:10,  6.43it/s, now=None]\u001b[A\n"
     ]
    },
    {
     "name": "stdout",
     "output_type": "stream",
     "text": [
      "512.4354310489326 m 524.9162872057033 m\n",
      "471.5690706331575 m 457.79370860970096 m\n"
     ]
    },
    {
     "name": "stderr",
     "output_type": "stream",
     "text": [
      "t:  64%|██████████████████████████████████████████▏                       | 806/1260 [02:00<01:10,  6.41it/s, now=None]\u001b[A\n",
      "t:  64%|██████████████████████████████████████████▎                       | 807/1260 [02:00<01:09,  6.55it/s, now=None]\u001b[A\n",
      "t:  64%|██████████████████████████████████████████▎                       | 808/1260 [02:01<01:08,  6.64it/s, now=None]\u001b[A"
     ]
    },
    {
     "name": "stdout",
     "output_type": "stream",
     "text": [
      "464.3156843911264 m 473.0190291333859 m\n",
      "456.7164349159958 m 479.55926304110363 m\n"
     ]
    },
    {
     "name": "stderr",
     "output_type": "stream",
     "text": [
      "\n",
      "t:  64%|██████████████████████████████████████████▍                       | 809/1260 [02:01<01:07,  6.64it/s, now=None]\u001b[A\n",
      "t:  64%|██████████████████████████████████████████▍                       | 810/1260 [02:01<01:07,  6.67it/s, now=None]\u001b[A"
     ]
    },
    {
     "name": "stdout",
     "output_type": "stream",
     "text": [
      "444.67226656259953 m 445.0740686897245 m\n",
      "498.2245120831468 m 470.7964337184237 m\n"
     ]
    },
    {
     "name": "stderr",
     "output_type": "stream",
     "text": [
      "\n",
      "t:  64%|██████████████████████████████████████████▍                       | 811/1260 [02:01<01:08,  6.56it/s, now=None]\u001b[A"
     ]
    },
    {
     "name": "stdout",
     "output_type": "stream",
     "text": [
      "490.3192940857372 m 459.7873770571798 m\n",
      "506.995995358443 m 405.54943736915266 m\n"
     ]
    },
    {
     "name": "stderr",
     "output_type": "stream",
     "text": [
      "\n",
      "t:  64%|██████████████████████████████████████████▌                       | 812/1260 [02:01<01:09,  6.49it/s, now=None]\u001b[A\n",
      "t:  65%|██████████████████████████████████████████▌                       | 813/1260 [02:01<01:09,  6.45it/s, now=None]\u001b[A"
     ]
    },
    {
     "name": "stdout",
     "output_type": "stream",
     "text": [
      "531.4644250060679 m 433.30324200756274 m\n",
      "562.8285941947132 m 433.45763068268053 m\n"
     ]
    },
    {
     "name": "stderr",
     "output_type": "stream",
     "text": [
      "\n",
      "t:  65%|██████████████████████████████████████████▋                       | 814/1260 [02:01<01:10,  6.32it/s, now=None]\u001b[A\n",
      "t:  65%|██████████████████████████████████████████▋                       | 815/1260 [02:02<01:09,  6.38it/s, now=None]\u001b[A"
     ]
    },
    {
     "name": "stdout",
     "output_type": "stream",
     "text": [
      "555.2573460949283 m 443.07048823435974 m\n",
      "583.943735892005 m 423.5050091543857 m\n"
     ]
    },
    {
     "name": "stderr",
     "output_type": "stream",
     "text": [
      "\n",
      "t:  65%|██████████████████████████████████████████▋                       | 816/1260 [02:02<01:09,  6.42it/s, now=None]\u001b[A\n",
      "t:  65%|██████████████████████████████████████████▊                       | 817/1260 [02:02<01:10,  6.32it/s, now=None]\u001b[A"
     ]
    },
    {
     "name": "stdout",
     "output_type": "stream",
     "text": [
      "539.4931866748025 m 408.4860627838479 m\n",
      "459.69459517988895 m 362.45963496269945 m\n"
     ]
    },
    {
     "name": "stderr",
     "output_type": "stream",
     "text": [
      "\n",
      "t:  65%|██████████████████████████████████████████▊                       | 818/1260 [02:02<01:10,  6.23it/s, now=None]\u001b[A\n",
      "t:  65%|██████████████████████████████████████████▉                       | 819/1260 [02:02<01:12,  6.06it/s, now=None]\u001b[A"
     ]
    },
    {
     "name": "stdout",
     "output_type": "stream",
     "text": [
      "433.2035767007749 m 350.918011162406 m\n",
      "464.24008848378014"
     ]
    },
    {
     "name": "stderr",
     "output_type": "stream",
     "text": [
      "\n",
      "t:  65%|██████████████████████████████████████████▉                       | 820/1260 [02:02<01:13,  6.01it/s, now=None]\u001b[A\n",
      "t:  65%|███████████████████████████████████████████                       | 821/1260 [02:03<01:09,  6.30it/s, now=None]\u001b[A"
     ]
    },
    {
     "name": "stdout",
     "output_type": "stream",
     "text": [
      " m 367.5974294079247 m\n",
      "483.58805343655695 m 378.92681188729574 m\n"
     ]
    },
    {
     "name": "stderr",
     "output_type": "stream",
     "text": [
      "\n",
      "t:  65%|███████████████████████████████████████████                       | 822/1260 [02:03<01:11,  6.12it/s, now=None]\u001b[A"
     ]
    },
    {
     "name": "stdout",
     "output_type": "stream",
     "text": [
      "518.6359729504032 m 388.79104720098434 m\n",
      "560.183447730103 m 404.1447237776644 m\n"
     ]
    },
    {
     "name": "stderr",
     "output_type": "stream",
     "text": [
      "\n",
      "t:  65%|███████████████████████████████████████████                       | 823/1260 [02:03<01:10,  6.19it/s, now=None]\u001b[A\n",
      "t:  65%|███████████████████████████████████████████▏                      | 824/1260 [02:03<01:11,  6.07it/s, now=None]\u001b[A"
     ]
    },
    {
     "name": "stdout",
     "output_type": "stream",
     "text": [
      "551.3507340661326 m 404.73837948603705 m\n",
      "541.1601097510691 m 433.05481033230757 m\n"
     ]
    },
    {
     "name": "stderr",
     "output_type": "stream",
     "text": [
      "\n",
      "t:  65%|███████████████████████████████████████████▏                      | 825/1260 [02:03<01:09,  6.22it/s, now=None]\u001b[A\n",
      "t:  66%|███████████████████████████████████████████▎                      | 826/1260 [02:03<01:11,  6.11it/s, now=None]\u001b[A"
     ]
    },
    {
     "name": "stdout",
     "output_type": "stream",
     "text": [
      "514.8012091023203 m 438.26704714470213 m\n",
      "468.14449724008784 m 421.84612982054784 m\n"
     ]
    },
    {
     "name": "stderr",
     "output_type": "stream",
     "text": [
      "\n",
      "t:  66%|███████████████████████████████████████████▎                      | 827/1260 [02:04<01:09,  6.24it/s, now=None]\u001b[A\n",
      "t:  66%|███████████████████████████████████████████▎                      | 828/1260 [02:04<01:09,  6.22it/s, now=None]\u001b[A"
     ]
    },
    {
     "name": "stdout",
     "output_type": "stream",
     "text": [
      "447.3861241859747 m 410.36280820741075 m\n",
      "465.59034791217937 m 426.9503047115069 m\n"
     ]
    },
    {
     "name": "stderr",
     "output_type": "stream",
     "text": [
      "\n",
      "t:  66%|███████████████████████████████████████████▍                      | 829/1260 [02:04<01:08,  6.31it/s, now=None]\u001b[A\n",
      "t:  66%|███████████████████████████████████████████▍                      | 830/1260 [02:04<01:09,  6.22it/s, now=None]\u001b[A"
     ]
    },
    {
     "name": "stdout",
     "output_type": "stream",
     "text": [
      "430.54086837413627 m 409.0232870301462 m\n",
      "448.0026215717856 m 439.51346656001135 m\n"
     ]
    },
    {
     "name": "stderr",
     "output_type": "stream",
     "text": [
      "\n",
      "t:  66%|███████████████████████████████████████████▌                      | 831/1260 [02:04<01:10,  6.12it/s, now=None]\u001b[A\n",
      "t:  66%|███████████████████████████████████████████▌                      | 832/1260 [02:04<01:09,  6.19it/s, now=None]\u001b[A"
     ]
    },
    {
     "name": "stdout",
     "output_type": "stream",
     "text": [
      "435.1790014807709 m 435.31820973308015 m\n",
      "424.03058083166445 m 429.2901059043975 m\n"
     ]
    },
    {
     "name": "stderr",
     "output_type": "stream",
     "text": [
      "\n",
      "t:  66%|███████████████████████████████████████████▋                      | 833/1260 [02:05<01:09,  6.19it/s, now=None]\u001b[A\n",
      "t:  66%|███████████████████████████████████████████▋                      | 834/1260 [02:05<01:07,  6.28it/s, now=None]\u001b[A\n",
      "t:  66%|███████████████████████████████████████████▋                      | 835/1260 [02:05<01:06,  6.40it/s, now=None]\u001b[A"
     ]
    },
    {
     "name": "stdout",
     "output_type": "stream",
     "text": [
      "418.9138703643468 m 436.3910464841645 m\n",
      "406.50316219115825 m 468.3849150683981 m\n"
     ]
    },
    {
     "name": "stderr",
     "output_type": "stream",
     "text": [
      "\n",
      "t:  66%|███████████████████████████████████████████▊                      | 836/1260 [02:05<01:05,  6.46it/s, now=None]\u001b[A\n",
      "t:  66%|███████████████████████████████████████████▊                      | 837/1260 [02:05<01:04,  6.52it/s, now=None]\u001b[A"
     ]
    },
    {
     "name": "stdout",
     "output_type": "stream",
     "text": [
      "416.312054221027 m 463.8461572479707 m\n",
      "425.8279617824073 m 493.13027288445824 m\n"
     ]
    },
    {
     "name": "stderr",
     "output_type": "stream",
     "text": [
      "\n",
      "t:  67%|███████████████████████████████████████████▉                      | 838/1260 [02:05<01:04,  6.54it/s, now=None]\u001b[A\n"
     ]
    },
    {
     "name": "stdout",
     "output_type": "stream",
     "text": [
      "453.5837274812625 m 502.4100834072564 m\n",
      "450.5682888005832 m 531.5512495373586 m\n"
     ]
    },
    {
     "name": "stderr",
     "output_type": "stream",
     "text": [
      "t:  67%|███████████████████████████████████████████▉                      | 839/1260 [02:05<01:05,  6.45it/s, now=None]\u001b[A\n",
      "t:  67%|████████████████████████████████████████████                      | 840/1260 [02:06<01:04,  6.47it/s, now=None]\u001b[A\n",
      "t:  67%|████████████████████████████████████████████                      | 841/1260 [02:06<01:04,  6.49it/s, now=None]\u001b[A"
     ]
    },
    {
     "name": "stdout",
     "output_type": "stream",
     "text": [
      "464.78316643075595 m 526.9173707032094 m\n",
      "471.931555329551 m 525.0132082251056 m\n"
     ]
    },
    {
     "name": "stderr",
     "output_type": "stream",
     "text": [
      "\n",
      "t:  67%|████████████████████████████████████████████                      | 842/1260 [02:06<01:06,  6.28it/s, now=None]\u001b[A"
     ]
    },
    {
     "name": "stdout",
     "output_type": "stream",
     "text": [
      "461.43515744871115 m 561.5567847099782 m\n",
      "518.0071346145912 m 553.0005062422216 m\n"
     ]
    },
    {
     "name": "stderr",
     "output_type": "stream",
     "text": [
      "\n",
      "t:  67%|████████████████████████████████████████████▏                     | 843/1260 [02:06<01:05,  6.38it/s, now=None]\u001b[A\n",
      "t:  67%|████████████████████████████████████████████▏                     | 844/1260 [02:06<01:06,  6.26it/s, now=None]\u001b[A"
     ]
    },
    {
     "name": "stdout",
     "output_type": "stream",
     "text": [
      "520.6079882953198 m 584.9006086528005 m\n",
      "585.411686646141 m 648.6176799803104 m\n"
     ]
    },
    {
     "name": "stderr",
     "output_type": "stream",
     "text": [
      "\n",
      "t:  67%|████████████████████████████████████████████▎                     | 845/1260 [02:06<01:05,  6.36it/s, now=None]\u001b[A\n",
      "t:  67%|████████████████████████████████████████████▎                     | 846/1260 [02:07<01:05,  6.33it/s, now=None]\u001b[A"
     ]
    },
    {
     "name": "stdout",
     "output_type": "stream",
     "text": [
      "623.2079705444158 m 693.252475331888 m\n",
      "549.7794872850022 m 683.975682594517 m\n"
     ]
    },
    {
     "name": "stderr",
     "output_type": "stream",
     "text": [
      "\n",
      "t:  67%|████████████████████████████████████████████▎                     | 847/1260 [02:07<01:04,  6.37it/s, now=None]\u001b[A\n",
      "t:  67%|████████████████████████████████████████████▍                     | 848/1260 [02:07<01:05,  6.33it/s, now=None]\u001b[A"
     ]
    },
    {
     "name": "stdout",
     "output_type": "stream",
     "text": [
      "558.2163100712017 m 635.5747917217349 m\n",
      "659.020933647075 m 667.9476224815558 m\n"
     ]
    },
    {
     "name": "stderr",
     "output_type": "stream",
     "text": [
      "\n",
      "t:  67%|████████████████████████████████████████████▍                     | 849/1260 [02:07<01:05,  6.29it/s, now=None]\u001b[A\n",
      "t:  67%|████████████████████████████████████████████▌                     | 850/1260 [02:07<01:06,  6.15it/s, now=None]\u001b[A\n",
      "t:  68%|████████████████████████████████████████████▌                     | 851/1260 [02:07<01:05,  6.26it/s, now=None]\u001b[A"
     ]
    },
    {
     "name": "stdout",
     "output_type": "stream",
     "text": [
      "665.4691695018898 m 614.1019407754591 m\n",
      "707.8040620685985 m 553.8700294196077 m\n"
     ]
    },
    {
     "name": "stderr",
     "output_type": "stream",
     "text": [
      "\n",
      "t:  68%|████████████████████████████████████████████▋                     | 852/1260 [02:08<01:06,  6.18it/s, now=None]\u001b[A"
     ]
    },
    {
     "name": "stdout",
     "output_type": "stream",
     "text": [
      "731.4449279713909 m 549.082966068568 m\n",
      "785.8759255556494 m 575.5340008849572 m\n"
     ]
    },
    {
     "name": "stderr",
     "output_type": "stream",
     "text": [
      "\n",
      "t:  68%|████████████████████████████████████████████▋                     | 853/1260 [02:08<01:04,  6.27it/s, now=None]\u001b[A\n",
      "t:  68%|████████████████████████████████████████████▋                     | 854/1260 [02:08<01:04,  6.30it/s, now=None]\u001b[A"
     ]
    },
    {
     "name": "stdout",
     "output_type": "stream",
     "text": [
      "743.9405482385259 m 556.6473885824963 m\n",
      "802.5961144861775 m 551.7718633315094 m\n"
     ]
    },
    {
     "name": "stderr",
     "output_type": "stream",
     "text": [
      "\n",
      "t:  68%|████████████████████████████████████████████▊                     | 855/1260 [02:08<01:06,  6.11it/s, now=None]\u001b[A\n",
      "t:  68%|████████████████████████████████████████████▊                     | 856/1260 [02:08<01:05,  6.21it/s, now=None]\u001b[A"
     ]
    },
    {
     "name": "stdout",
     "output_type": "stream",
     "text": [
      "800.1585284966114 m 557.8003655078738 m\n",
      "810.3779052774823 m 586.5756403897617 m\n"
     ]
    },
    {
     "name": "stderr",
     "output_type": "stream",
     "text": [
      "\n",
      "t:  68%|████████████████████████████████████████████▉                     | 857/1260 [02:08<01:04,  6.20it/s, now=None]\u001b[A\n",
      "t:  68%|████████████████████████████████████████████▉                     | 858/1260 [02:09<01:06,  6.04it/s, now=None]\u001b[A"
     ]
    },
    {
     "name": "stdout",
     "output_type": "stream",
     "text": [
      "779.8406115745247 m 630.7347763239462 m\n",
      "786.0051497905775 m 572.8540426217437 m\n"
     ]
    },
    {
     "name": "stderr",
     "output_type": "stream",
     "text": [
      "\n",
      "t:  68%|████████████████████████████████████████████▉                     | 859/1260 [02:09<01:05,  6.15it/s, now=None]\u001b[A\n",
      "t:  68%|█████████████████████████████████████████████                     | 860/1260 [02:09<01:04,  6.20it/s, now=None]\u001b[A\n",
      "t:  68%|█████████████████████████████████████████████                     | 861/1260 [02:09<01:02,  6.36it/s, now=None]\u001b[A"
     ]
    },
    {
     "name": "stdout",
     "output_type": "stream",
     "text": [
      "767.6994618164946 m 482.7144765475196 m\n",
      "719.5336245399021 m 487.707186924525 m\n"
     ]
    },
    {
     "name": "stderr",
     "output_type": "stream",
     "text": [
      "\n",
      "t:  68%|█████████████████████████████████████████████▏                    | 862/1260 [02:09<01:02,  6.38it/s, now=None]\u001b[A"
     ]
    },
    {
     "name": "stdout",
     "output_type": "stream",
     "text": [
      "664.2999031035735 m 478.26798883861267 m\n",
      "687.6607710769701 m 478.4295676829422 m\n"
     ]
    },
    {
     "name": "stderr",
     "output_type": "stream",
     "text": [
      "\n",
      "t:  68%|█████████████████████████████████████████████▏                    | 863/1260 [02:09<01:02,  6.38it/s, now=None]\u001b[A\n",
      "t:  69%|█████████████████████████████████████████████▎                    | 864/1260 [02:09<01:03,  6.24it/s, now=None]\u001b[A\n",
      "t:  69%|█████████████████████████████████████████████▎                    | 865/1260 [02:10<01:01,  6.47it/s, now=None]\u001b[A"
     ]
    },
    {
     "name": "stdout",
     "output_type": "stream",
     "text": [
      "698.1308332719233 m 531.3114890491343 m\n",
      "781.8731290067478 m 529.2714781143916 m\n"
     ]
    },
    {
     "name": "stderr",
     "output_type": "stream",
     "text": [
      "\n",
      "t:  69%|█████████████████████████████████████████████▎                    | 866/1260 [02:10<01:02,  6.33it/s, now=None]\u001b[A\n",
      "t:  69%|█████████████████████████████████████████████▍                    | 867/1260 [02:10<01:01,  6.41it/s, now=None]\u001b[A"
     ]
    },
    {
     "name": "stdout",
     "output_type": "stream",
     "text": [
      "778.7324802542704 m 554.3299137958843 m\n",
      "723.0982620753942 m 517.8809764429291 m\n"
     ]
    },
    {
     "name": "stderr",
     "output_type": "stream",
     "text": [
      "\n",
      "t:  69%|█████████████████████████████████████████████▍                    | 868/1260 [02:10<01:00,  6.44it/s, now=None]\u001b[A"
     ]
    },
    {
     "name": "stdout",
     "output_type": "stream",
     "text": [
      "748.7496054933265 m 558.3477610524521 m\n",
      "718.9580465352165 m 554.0689414246064 m\n"
     ]
    },
    {
     "name": "stderr",
     "output_type": "stream",
     "text": [
      "\n",
      "t:  69%|█████████████████████████████████████████████▌                    | 869/1260 [02:10<01:00,  6.41it/s, now=None]\u001b[A\n",
      "t:  69%|█████████████████████████████████████████████▌                    | 870/1260 [02:10<01:00,  6.43it/s, now=None]\u001b[A\n",
      "t:  69%|█████████████████████████████████████████████▌                    | 871/1260 [02:11<00:59,  6.57it/s, now=None]\u001b[A"
     ]
    },
    {
     "name": "stdout",
     "output_type": "stream",
     "text": [
      "617.3753756200332 m 763.1754829158167 m\n",
      "616.7858678332274 m 966.258868191134 m\n"
     ]
    },
    {
     "name": "stderr",
     "output_type": "stream",
     "text": [
      "\n",
      "t:  69%|█████████████████████████████████████████████▋                    | 872/1260 [02:11<00:59,  6.49it/s, now=None]\u001b[A\n",
      "t:  69%|█████████████████████████████████████████████▋                    | 873/1260 [02:11<00:58,  6.60it/s, now=None]\u001b[A"
     ]
    },
    {
     "name": "stdout",
     "output_type": "stream",
     "text": [
      "626.0228781181027 m 913.8407743596567 m\n",
      "655.2762232450511 m 984.905987388851 m\n"
     ]
    },
    {
     "name": "stderr",
     "output_type": "stream",
     "text": [
      "\n",
      "t:  69%|█████████████████████████████████████████████▊                    | 874/1260 [02:11<00:59,  6.51it/s, now=None]\u001b[A"
     ]
    },
    {
     "name": "stdout",
     "output_type": "stream",
     "text": [
      "626.3097610488007 m 943.5947480900005 m\n",
      "691.3907745472738 m 938.293829799391 m\n"
     ]
    },
    {
     "name": "stderr",
     "output_type": "stream",
     "text": [
      "\n",
      "t:  69%|█████████████████████████████████████████████▊                    | 875/1260 [02:11<00:59,  6.45it/s, now=None]\u001b[A\n",
      "t:  70%|█████████████████████████████████████████████▉                    | 876/1260 [02:11<00:59,  6.44it/s, now=None]\u001b[A"
     ]
    },
    {
     "name": "stdout",
     "output_type": "stream",
     "text": [
      "671.6777703408661 m 772.7433683585522 m\n",
      "620.962303028427 m 733.2435227482271 m\n"
     ]
    },
    {
     "name": "stderr",
     "output_type": "stream",
     "text": [
      "\n",
      "t:  70%|█████████████████████████████████████████████▉                    | 877/1260 [02:11<00:59,  6.40it/s, now=None]\u001b[A\n",
      "t:  70%|█████████████████████████████████████████████▉                    | 878/1260 [02:12<00:59,  6.43it/s, now=None]\u001b[A"
     ]
    },
    {
     "name": "stdout",
     "output_type": "stream",
     "text": [
      "644.7967585623605 m 711.8962930266905 m\n",
      "711.4216162147945 m 788.2437189183361 m\n"
     ]
    },
    {
     "name": "stderr",
     "output_type": "stream",
     "text": [
      "\n",
      "t:  70%|██████████████████████████████████████████████                    | 879/1260 [02:12<00:58,  6.47it/s, now=None]\u001b[A\n",
      "t:  70%|██████████████████████████████████████████████                    | 880/1260 [02:12<00:59,  6.35it/s, now=None]\u001b[A"
     ]
    },
    {
     "name": "stdout",
     "output_type": "stream",
     "text": [
      "742.3530473968707 m 708.43003863986 m\n",
      "739.2416355939017 m 672.8989256361663 m\n"
     ]
    },
    {
     "name": "stderr",
     "output_type": "stream",
     "text": [
      "\n",
      "t:  70%|██████████████████████████████████████████████▏                   | 881/1260 [02:12<01:00,  6.29it/s, now=None]\u001b[A\n",
      "t:  70%|██████████████████████████████████████████████▏                   | 882/1260 [02:12<01:01,  6.12it/s, now=None]\u001b[A"
     ]
    },
    {
     "name": "stdout",
     "output_type": "stream",
     "text": [
      "818.8531088871572 m 822.9094246922416 m\n",
      "869.9113599979886 m 1223.233887614879 m\n"
     ]
    },
    {
     "name": "stderr",
     "output_type": "stream",
     "text": [
      "\n",
      "t:  70%|██████████████████████████████████████████████▎                   | 883/1260 [02:12<01:01,  6.17it/s, now=None]\u001b[A\n",
      "t:  70%|██████████████████████████████████████████████▎                   | 884/1260 [02:13<01:02,  6.06it/s, now=None]\u001b[A"
     ]
    },
    {
     "name": "stdout",
     "output_type": "stream",
     "text": [
      "898.4001704575518 m 1536.817039482808 m\n",
      "1051.0479402877884 m 1043.2827824948888 m\n"
     ]
    },
    {
     "name": "stderr",
     "output_type": "stream",
     "text": [
      "\n",
      "t:  70%|██████████████████████████████████████████████▎                   | 885/1260 [02:13<01:00,  6.22it/s, now=None]\u001b[A\n",
      "t:  70%|██████████████████████████████████████████████▍                   | 886/1260 [02:13<01:00,  6.19it/s, now=None]\u001b[A"
     ]
    },
    {
     "name": "stdout",
     "output_type": "stream",
     "text": [
      "912.82380481902 m 730.6241526246973 m\n",
      "941.1962566311355 m 769.3879371096842 m\n"
     ]
    },
    {
     "name": "stderr",
     "output_type": "stream",
     "text": [
      "\n",
      "t:  70%|██████████████████████████████████████████████▍                   | 887/1260 [02:13<00:59,  6.32it/s, now=None]\u001b[A\n",
      "t:  70%|██████████████████████████████████████████████▌                   | 888/1260 [02:13<01:00,  6.11it/s, now=None]\u001b[A"
     ]
    },
    {
     "name": "stdout",
     "output_type": "stream",
     "text": [
      "989.0315043483483 m 776.7274419484688 m\n",
      "1013.2266372806123 m 719.7982383338893 m\n"
     ]
    },
    {
     "name": "stderr",
     "output_type": "stream",
     "text": [
      "\n",
      "t:  71%|██████████████████████████████████████████████▌                   | 889/1260 [02:13<01:00,  6.15it/s, now=None]\u001b[A\n",
      "t:  71%|██████████████████████████████████████████████▌                   | 890/1260 [02:14<01:00,  6.09it/s, now=None]\u001b[A"
     ]
    },
    {
     "name": "stdout",
     "output_type": "stream",
     "text": [
      "949.5065414299457 m 694.2576623903112 m\n",
      "964.6086735544924"
     ]
    },
    {
     "name": "stderr",
     "output_type": "stream",
     "text": [
      "\n",
      "t:  71%|██████████████████████████████████████████████▋                   | 891/1260 [02:14<01:01,  5.95it/s, now=None]\u001b[A"
     ]
    },
    {
     "name": "stdout",
     "output_type": "stream",
     "text": [
      " m 726.4681757310425 m\n",
      "1151.2912174700075 m 741.5580606184714 m\n"
     ]
    },
    {
     "name": "stderr",
     "output_type": "stream",
     "text": [
      "\n",
      "t:  71%|██████████████████████████████████████████████▋                   | 892/1260 [02:14<01:00,  6.04it/s, now=None]\u001b[A\n",
      "t:  71%|██████████████████████████████████████████████▊                   | 893/1260 [02:14<01:00,  6.08it/s, now=None]\u001b[A"
     ]
    },
    {
     "name": "stdout",
     "output_type": "stream",
     "text": [
      "1119.0289536489013 m 849.4596770933903 m\n",
      "1100.1400564948854 m 774.555340678553 m\n"
     ]
    },
    {
     "name": "stderr",
     "output_type": "stream",
     "text": [
      "\n",
      "t:  71%|██████████████████████████████████████████████▊                   | 894/1260 [02:14<01:00,  6.03it/s, now=None]\u001b[A\n",
      "t:  71%|██████████████████████████████████████████████▉                   | 895/1260 [02:14<00:58,  6.19it/s, now=None]\u001b[A"
     ]
    },
    {
     "name": "stdout",
     "output_type": "stream",
     "text": [
      "1070.2023721775408 m 688.4418606976985 m\n",
      "975.5502271306864 m 555.5753272674665 m\n"
     ]
    },
    {
     "name": "stderr",
     "output_type": "stream",
     "text": [
      "\n",
      "t:  71%|██████████████████████████████████████████████▉                   | 896/1260 [02:15<00:58,  6.20it/s, now=None]\u001b[A\n",
      "t:  71%|██████████████████████████████████████████████▉                   | 897/1260 [02:15<00:58,  6.21it/s, now=None]\u001b[A"
     ]
    },
    {
     "name": "stdout",
     "output_type": "stream",
     "text": [
      "942.1102774821401 m 525.8199566902036 m\n",
      "884.9855649337143 m 498.99952602952357 m\n"
     ]
    },
    {
     "name": "stderr",
     "output_type": "stream",
     "text": [
      "\n",
      "t:  71%|███████████████████████████████████████████████                   | 898/1260 [02:15<00:58,  6.17it/s, now=None]\u001b[A\n",
      "t:  71%|███████████████████████████████████████████████                   | 899/1260 [02:15<00:58,  6.14it/s, now=None]\u001b[A"
     ]
    },
    {
     "name": "stdout",
     "output_type": "stream",
     "text": [
      "873.8713876329539 m 512.0823107960458 m\n",
      "965.6074908614694 m 510.1339434911417 m\n"
     ]
    },
    {
     "name": "stderr",
     "output_type": "stream",
     "text": [
      "\n",
      "t:  71%|███████████████████████████████████████████████▏                  | 900/1260 [02:15<00:58,  6.11it/s, now=None]\u001b[A\n",
      "t:  72%|███████████████████████████████████████████████▏                  | 901/1260 [02:15<00:58,  6.18it/s, now=None]\u001b[A"
     ]
    },
    {
     "name": "stdout",
     "output_type": "stream",
     "text": [
      "908.6492574138579 m 508.29293130573376 m\n",
      "774.7562604547177 m 524.4662639320219 m\n"
     ]
    },
    {
     "name": "stderr",
     "output_type": "stream",
     "text": [
      "\n",
      "t:  72%|███████████████████████████████████████████████▏                  | 902/1260 [02:16<00:57,  6.18it/s, now=None]\u001b[A\n",
      "t:  72%|███████████████████████████████████████████████▎                  | 903/1260 [02:16<00:57,  6.18it/s, now=None]\u001b[A"
     ]
    },
    {
     "name": "stdout",
     "output_type": "stream",
     "text": [
      "750.0221858624236 m 502.56406620766694 m\n",
      "713.4900475031437 m 550.8214418263098 m\n"
     ]
    },
    {
     "name": "stderr",
     "output_type": "stream",
     "text": [
      "\n",
      "t:  72%|███████████████████████████████████████████████▎                  | 904/1260 [02:16<00:57,  6.23it/s, now=None]\u001b[A\n",
      "t:  72%|███████████████████████████████████████████████▍                  | 905/1260 [02:16<00:56,  6.28it/s, now=None]\u001b[A"
     ]
    },
    {
     "name": "stdout",
     "output_type": "stream",
     "text": [
      "748.4183861244884 m 555.6842214719258 m\n",
      "727.2501669110334 m 583.7128077609328 m\n"
     ]
    },
    {
     "name": "stderr",
     "output_type": "stream",
     "text": [
      "\n",
      "t:  72%|███████████████████████████████████████████████▍                  | 906/1260 [02:16<00:57,  6.11it/s, now=None]\u001b[A\n",
      "t:  72%|███████████████████████████████████████████████▌                  | 907/1260 [02:16<00:56,  6.24it/s, now=None]\u001b[A"
     ]
    },
    {
     "name": "stdout",
     "output_type": "stream",
     "text": [
      "623.4759691008094 m 626.6779634210043 m\n",
      "625.4430426236711 m 595.0509520861722 m\n"
     ]
    },
    {
     "name": "stderr",
     "output_type": "stream",
     "text": [
      "\n",
      "t:  72%|███████████████████████████████████████████████▌                  | 908/1260 [02:16<00:58,  6.00it/s, now=None]\u001b[A\n",
      "t:  72%|███████████████████████████████████████████████▌                  | 909/1260 [02:17<00:57,  6.11it/s, now=None]\u001b[A"
     ]
    },
    {
     "name": "stdout",
     "output_type": "stream",
     "text": [
      "528.668291729478 m 500.3392852954297 m\n",
      "506.6330780901418 m 498.89921724901853 m\n"
     ]
    },
    {
     "name": "stderr",
     "output_type": "stream",
     "text": [
      "\n",
      "t:  72%|███████████████████████████████████████████████▋                  | 910/1260 [02:17<00:56,  6.21it/s, now=None]\u001b[A\n",
      "t:  72%|███████████████████████████████████████████████▋                  | 911/1260 [02:17<00:56,  6.21it/s, now=None]\u001b[A"
     ]
    },
    {
     "name": "stdout",
     "output_type": "stream",
     "text": [
      "482.583704733081 m 487.7053416806539 m\n",
      "482.49480074424395 m 484.2009940436565 m\n"
     ]
    },
    {
     "name": "stderr",
     "output_type": "stream",
     "text": [
      "\n",
      "t:  72%|███████████████████████████████████████████████▊                  | 912/1260 [02:17<00:54,  6.33it/s, now=None]\u001b[A\n",
      "t:  72%|███████████████████████████████████████████████▊                  | 913/1260 [02:17<00:54,  6.34it/s, now=None]\u001b[A"
     ]
    },
    {
     "name": "stdout",
     "output_type": "stream",
     "text": [
      "502.9491864106381 m 527.7938525865461 m\n",
      "490.70305697884896 m 560.2985281854237 m\n"
     ]
    },
    {
     "name": "stderr",
     "output_type": "stream",
     "text": [
      "\n",
      "t:  73%|███████████████████████████████████████████████▉                  | 914/1260 [02:17<00:55,  6.26it/s, now=None]\u001b[A\n",
      "t:  73%|███████████████████████████████████████████████▉                  | 915/1260 [02:18<00:55,  6.24it/s, now=None]\u001b[A"
     ]
    },
    {
     "name": "stdout",
     "output_type": "stream",
     "text": [
      "498.2473063284042 m 620.2381012576991 m\n",
      "507.7716371411295 m 699.6370016386057 m\n"
     ]
    },
    {
     "name": "stderr",
     "output_type": "stream",
     "text": [
      "\n",
      "t:  73%|███████████████████████████████████████████████▉                  | 916/1260 [02:18<00:54,  6.32it/s, now=None]\u001b[A\n",
      "t:  73%|████████████████████████████████████████████████                  | 917/1260 [02:18<00:55,  6.20it/s, now=None]\u001b[A"
     ]
    },
    {
     "name": "stdout",
     "output_type": "stream",
     "text": [
      "529.1480517894676 m 726.1572715551471 m\n",
      "556.2851827375163 m 998.2526503232093 m\n"
     ]
    },
    {
     "name": "stderr",
     "output_type": "stream",
     "text": [
      "\n",
      "t:  73%|████████████████████████████████████████████████                  | 918/1260 [02:18<00:54,  6.31it/s, now=None]\u001b[A\n",
      "t:  73%|████████████████████████████████████████████████▏                 | 919/1260 [02:18<00:54,  6.25it/s, now=None]\u001b[A"
     ]
    },
    {
     "name": "stdout",
     "output_type": "stream",
     "text": [
      "558.0056246775608 m 739.378644768914 m\n",
      "616.9192132504625 m 699.4665281678616 m\n"
     ]
    },
    {
     "name": "stderr",
     "output_type": "stream",
     "text": [
      "\n",
      "t:  73%|████████████████████████████████████████████████▏                 | 920/1260 [02:18<00:54,  6.20it/s, now=None]\u001b[A\n",
      "t:  73%|████████████████████████████████████████████████▏                 | 921/1260 [02:19<00:55,  6.15it/s, now=None]\u001b[A"
     ]
    },
    {
     "name": "stdout",
     "output_type": "stream",
     "text": [
      "604.7073015913946 m 641.2105635567601 m\n",
      "645.6286166471889 m 606.7580007684957 m\n"
     ]
    },
    {
     "name": "stderr",
     "output_type": "stream",
     "text": [
      "\n",
      "t:  73%|████████████████████████████████████████████████▎                 | 922/1260 [02:19<00:55,  6.13it/s, now=None]\u001b[A\n",
      "t:  73%|████████████████████████████████████████████████▎                 | 923/1260 [02:19<00:54,  6.15it/s, now=None]\u001b[A"
     ]
    },
    {
     "name": "stdout",
     "output_type": "stream",
     "text": [
      "639.0813733452333 m 585.0776412517175 m\n",
      "710.4274884895466 m 539.9318054525812 m\n"
     ]
    },
    {
     "name": "stderr",
     "output_type": "stream",
     "text": [
      "\n",
      "t:  73%|████████████████████████████████████████████████▍                 | 924/1260 [02:19<00:54,  6.16it/s, now=None]\u001b[A\n",
      "t:  73%|████████████████████████████████████████████████▍                 | 925/1260 [02:19<00:54,  6.15it/s, now=None]\u001b[A\n",
      "t:  73%|████████████████████████████████████████████████▌                 | 926/1260 [02:19<00:53,  6.27it/s, now=None]\u001b[A"
     ]
    },
    {
     "name": "stdout",
     "output_type": "stream",
     "text": [
      "710.4201991650881 m 553.5064070890376 m\n",
      "643.113647437973 m 546.4760117108449 m\n"
     ]
    },
    {
     "name": "stderr",
     "output_type": "stream",
     "text": [
      "\n",
      "t:  74%|████████████████████████████████████████████████▌                 | 927/1260 [02:20<00:52,  6.39it/s, now=None]\u001b[A"
     ]
    },
    {
     "name": "stdout",
     "output_type": "stream",
     "text": [
      "676.0533582352871 m 541.6934803782693 m\n",
      "657.453314986809 m 540.6878099469363 m\n"
     ]
    },
    {
     "name": "stderr",
     "output_type": "stream",
     "text": [
      "\n",
      "t:  74%|████████████████████████████████████████████████▌                 | 928/1260 [02:20<00:52,  6.32it/s, now=None]\u001b[A\n",
      "t:  74%|████████████████████████████████████████████████▋                 | 929/1260 [02:20<00:52,  6.35it/s, now=None]\u001b[A"
     ]
    },
    {
     "name": "stdout",
     "output_type": "stream",
     "text": [
      "662.7512409362791 m 494.8208151790048 m\n",
      "677.7391825703836 m 462.50018658827423 m\n"
     ]
    },
    {
     "name": "stderr",
     "output_type": "stream",
     "text": [
      "\n",
      "t:  74%|████████████████████████████████████████████████▋                 | 930/1260 [02:20<00:51,  6.39it/s, now=None]\u001b[A\n",
      "t:  74%|████████████████████████████████████████████████▊                 | 931/1260 [02:20<00:51,  6.37it/s, now=None]\u001b[A"
     ]
    },
    {
     "name": "stdout",
     "output_type": "stream",
     "text": [
      "696.2622920748667 m 429.8115284587044 m\n",
      "665.5122482466896 m 424.6534030496651 m\n"
     ]
    },
    {
     "name": "stderr",
     "output_type": "stream",
     "text": [
      "\n",
      "t:  74%|████████████████████████████████████████████████▊                 | 932/1260 [02:20<00:51,  6.37it/s, now=None]\u001b[A\n",
      "t:  74%|████████████████████████████████████████████████▊                 | 933/1260 [02:20<00:51,  6.41it/s, now=None]\u001b[A\n",
      "t:  74%|████████████████████████████████████████████████▉                 | 934/1260 [02:21<00:49,  6.56it/s, now=None]\u001b[A"
     ]
    },
    {
     "name": "stdout",
     "output_type": "stream",
     "text": [
      "646.9570679435784 m 452.3426786714906 m\n",
      "600.7947417716296 m 457.09774429787166 m\n"
     ]
    },
    {
     "name": "stderr",
     "output_type": "stream",
     "text": [
      "\n",
      "t:  74%|████████████████████████████████████████████████▉                 | 935/1260 [02:21<00:51,  6.36it/s, now=None]\u001b[A"
     ]
    },
    {
     "name": "stdout",
     "output_type": "stream",
     "text": [
      "594.0849192892596 m 437.0598922843242 m\n",
      "576.1511074747527 m 437.0261880761112 m\n"
     ]
    },
    {
     "name": "stderr",
     "output_type": "stream",
     "text": [
      "\n",
      "t:  74%|█████████████████████████████████████████████████                 | 936/1260 [02:21<00:50,  6.43it/s, now=None]\u001b[A\n",
      "t:  74%|█████████████████████████████████████████████████                 | 937/1260 [02:21<00:50,  6.44it/s, now=None]\u001b[A\n",
      "t:  74%|█████████████████████████████████████████████████▏                | 938/1260 [02:21<00:49,  6.51it/s, now=None]\u001b[A"
     ]
    },
    {
     "name": "stdout",
     "output_type": "stream",
     "text": [
      "547.9377665360871 m 482.2154189968143 m\n",
      "589.7479495779122 m 480.7664752817878 m\n"
     ]
    },
    {
     "name": "stderr",
     "output_type": "stream",
     "text": [
      "\n",
      "t:  75%|█████████████████████████████████████████████████▏                | 939/1260 [02:21<00:49,  6.49it/s, now=None]\u001b[A"
     ]
    },
    {
     "name": "stdout",
     "output_type": "stream",
     "text": [
      "553.8859667925752 m 493.1210900623615 m\n",
      "545.6461919219408 m 516.1922734573826 m\n"
     ]
    },
    {
     "name": "stderr",
     "output_type": "stream",
     "text": [
      "\n",
      "t:  75%|█████████████████████████████████████████████████▏                | 940/1260 [02:22<00:48,  6.57it/s, now=None]\u001b[A\n",
      "t:  75%|█████████████████████████████████████████████████▎                | 941/1260 [02:22<00:48,  6.57it/s, now=None]\u001b[A\n",
      "t:  75%|█████████████████████████████████████████████████▎                | 942/1260 [02:22<00:48,  6.50it/s, now=None]\u001b[A"
     ]
    },
    {
     "name": "stdout",
     "output_type": "stream",
     "text": [
      "572.17775027204 m 495.8018289577876 m\n",
      "571.3125458611711 m 530.1296384426487 m\n"
     ]
    },
    {
     "name": "stderr",
     "output_type": "stream",
     "text": [
      "\n",
      "t:  75%|█████████████████████████████████████████████████▍                | 943/1260 [02:22<00:48,  6.54it/s, now=None]\u001b[A"
     ]
    },
    {
     "name": "stdout",
     "output_type": "stream",
     "text": [
      "604.7616383729242 m 522.7336320641956 m\n",
      "631.7810482295346 m 509.4622780907227 m\n"
     ]
    },
    {
     "name": "stderr",
     "output_type": "stream",
     "text": [
      "\n",
      "t:  75%|█████████████████████████████████████████████████▍                | 944/1260 [02:22<00:49,  6.38it/s, now=None]\u001b[A\n",
      "t:  75%|█████████████████████████████████████████████████▌                | 945/1260 [02:22<00:49,  6.35it/s, now=None]\u001b[A"
     ]
    },
    {
     "name": "stdout",
     "output_type": "stream",
     "text": [
      "642.5758751718097 m 536.2055489619738 m\n",
      "656.1881726496448 m 577.1962984881804 m\n"
     ]
    },
    {
     "name": "stderr",
     "output_type": "stream",
     "text": [
      "\n",
      "t:  75%|█████████████████████████████████████████████████▌                | 946/1260 [02:22<00:50,  6.23it/s, now=None]\u001b[A\n",
      "t:  75%|█████████████████████████████████████████████████▌                | 947/1260 [02:23<00:49,  6.33it/s, now=None]\u001b[A\n",
      "t:  75%|█████████████████████████████████████████████████▋                | 948/1260 [02:23<00:48,  6.45it/s, now=None]\u001b[A"
     ]
    },
    {
     "name": "stdout",
     "output_type": "stream",
     "text": [
      "627.1948442606179 m 605.3548195101162 m\n",
      "797.4754148906212 m 627.503988898872 m\n"
     ]
    },
    {
     "name": "stderr",
     "output_type": "stream",
     "text": [
      "\n",
      "t:  75%|█████████████████████████████████████████████████▋                | 949/1260 [02:23<00:48,  6.39it/s, now=None]\u001b[A"
     ]
    },
    {
     "name": "stdout",
     "output_type": "stream",
     "text": [
      "922.489064778913 m 752.8033135903497 m\n",
      "988.0484107563668 m 783.7069232708659 m\n"
     ]
    },
    {
     "name": "stderr",
     "output_type": "stream",
     "text": [
      "\n",
      "t:  75%|█████████████████████████████████████████████████▊                | 950/1260 [02:23<00:48,  6.39it/s, now=None]\u001b[A\n",
      "t:  75%|█████████████████████████████████████████████████▊                | 951/1260 [02:23<00:47,  6.53it/s, now=None]\u001b[A\n",
      "t:  76%|█████████████████████████████████████████████████▊                | 952/1260 [02:23<00:47,  6.55it/s, now=None]\u001b[A"
     ]
    },
    {
     "name": "stdout",
     "output_type": "stream",
     "text": [
      "866.0237496139454 m 895.3116956083187 m\n",
      "959.5599963942207 m 884.2243355572648 m\n"
     ]
    },
    {
     "name": "stderr",
     "output_type": "stream",
     "text": [
      "\n",
      "t:  76%|█████████████████████████████████████████████████▉                | 953/1260 [02:24<00:47,  6.47it/s, now=None]\u001b[A"
     ]
    },
    {
     "name": "stdout",
     "output_type": "stream",
     "text": [
      "1154.8342077302325 m 1049.56342970379 m\n",
      "637.8780819031205 m 871.507763910341 m\n"
     ]
    },
    {
     "name": "stderr",
     "output_type": "stream",
     "text": [
      "\n",
      "t:  76%|█████████████████████████████████████████████████▉                | 954/1260 [02:24<00:46,  6.55it/s, now=None]\u001b[A\n",
      "t:  76%|██████████████████████████████████████████████████                | 955/1260 [02:24<00:47,  6.41it/s, now=None]\u001b[A"
     ]
    },
    {
     "name": "stdout",
     "output_type": "stream",
     "text": [
      "663.9101775590533 m 927.9746044802372 m\n",
      "658.9262643519099 m 688.1086673224861 m\n"
     ]
    },
    {
     "name": "stderr",
     "output_type": "stream",
     "text": [
      "\n",
      "t:  76%|██████████████████████████████████████████████████                | 956/1260 [02:24<00:46,  6.53it/s, now=None]\u001b[A\n",
      "t:  76%|██████████████████████████████████████████████████▏               | 957/1260 [02:24<00:45,  6.63it/s, now=None]\u001b[A"
     ]
    },
    {
     "name": "stdout",
     "output_type": "stream",
     "text": [
      "641.6893064242082 m 712.3787300233738 m\n",
      "700.8335602520974 m 814.0855692050138 m\n"
     ]
    },
    {
     "name": "stderr",
     "output_type": "stream",
     "text": [
      "\n",
      "t:  76%|██████████████████████████████████████████████████▏               | 958/1260 [02:24<00:46,  6.55it/s, now=None]\u001b[A\n",
      "t:  76%|██████████████████████████████████████████████████▏               | 959/1260 [02:24<00:45,  6.60it/s, now=None]\u001b[A"
     ]
    },
    {
     "name": "stdout",
     "output_type": "stream",
     "text": [
      "704.7199720940356 m 884.1937226622133 m\n",
      "1017.6346837879098 m 863.229394108068 m\n"
     ]
    },
    {
     "name": "stderr",
     "output_type": "stream",
     "text": [
      "\n",
      "t:  76%|██████████████████████████████████████████████████▎               | 960/1260 [02:25<00:47,  6.38it/s, now=None]\u001b[A\n",
      "t:  76%|██████████████████████████████████████████████████▎               | 961/1260 [02:25<00:46,  6.45it/s, now=None]\u001b[A"
     ]
    },
    {
     "name": "stdout",
     "output_type": "stream",
     "text": [
      "2024.8324429439851 m 940.1959854217725 m\n",
      "3627.8256460052594 m 1030.6439679255525 m\n"
     ]
    },
    {
     "name": "stderr",
     "output_type": "stream",
     "text": [
      "\n",
      "t:  76%|██████████████████████████████████████████████████▍               | 962/1260 [02:25<00:46,  6.45it/s, now=None]\u001b[A\n",
      "t:  76%|██████████████████████████████████████████████████▍               | 963/1260 [02:25<00:45,  6.57it/s, now=None]\u001b[A"
     ]
    },
    {
     "name": "stdout",
     "output_type": "stream",
     "text": [
      "1805.2177219236803 m 1165.0637850299215 m\n",
      "990.157967140621 m 2499.7706717885662 m\n"
     ]
    },
    {
     "name": "stderr",
     "output_type": "stream",
     "text": [
      "\n",
      "t:  77%|██████████████████████████████████████████████████▍               | 964/1260 [02:25<00:45,  6.44it/s, now=None]\u001b[A\n",
      "t:  77%|██████████████████████████████████████████████████▌               | 965/1260 [02:25<00:45,  6.43it/s, now=None]\u001b[A\n",
      "t:  77%|██████████████████████████████████████████████████▌               | 966/1260 [02:26<00:45,  6.47it/s, now=None]\u001b[A"
     ]
    },
    {
     "name": "stdout",
     "output_type": "stream",
     "text": [
      "1192.8993291943882 m 14231.329277236106 m\n",
      "1395.3798837115955 m 1981.9083370097942 m\n"
     ]
    },
    {
     "name": "stderr",
     "output_type": "stream",
     "text": [
      "\n",
      "t:  77%|██████████████████████████████████████████████████▋               | 967/1260 [02:26<00:46,  6.35it/s, now=None]\u001b[A\n",
      "t:  77%|██████████████████████████████████████████████████▋               | 968/1260 [02:26<00:45,  6.44it/s, now=None]\u001b[A"
     ]
    },
    {
     "name": "stdout",
     "output_type": "stream",
     "text": [
      "1238.6586852334535 m 4086.3292490727677 m\n",
      "734.1130765012915 m 3771.9924984867453 m\n"
     ]
    },
    {
     "name": "stderr",
     "output_type": "stream",
     "text": [
      "\n",
      "t:  77%|██████████████████████████████████████████████████▊               | 969/1260 [02:26<00:44,  6.50it/s, now=None]\u001b[A"
     ]
    },
    {
     "name": "stdout",
     "output_type": "stream",
     "text": [
      "706.8543653933574 m 4738.479872765632 m\n",
      "835.6316889044957 m 9994.095816712652 m\n"
     ]
    },
    {
     "name": "stderr",
     "output_type": "stream",
     "text": [
      "\n",
      "t:  77%|██████████████████████████████████████████████████▊               | 970/1260 [02:26<00:44,  6.49it/s, now=None]\u001b[A\n",
      "t:  77%|██████████████████████████████████████████████████▊               | 971/1260 [02:26<00:44,  6.42it/s, now=None]\u001b[A"
     ]
    },
    {
     "name": "stdout",
     "output_type": "stream",
     "text": [
      "813.352371100504 m 3628.22162151825 m\n",
      "898.9543910361549 m 4693.561317326567 m\n"
     ]
    },
    {
     "name": "stderr",
     "output_type": "stream",
     "text": [
      "\n",
      "t:  77%|██████████████████████████████████████████████████▉               | 972/1260 [02:26<00:44,  6.47it/s, now=None]\u001b[A\n",
      "t:  77%|██████████████████████████████████████████████████▉               | 973/1260 [02:27<00:43,  6.54it/s, now=None]\u001b[A\n",
      "t:  77%|███████████████████████████████████████████████████               | 974/1260 [02:27<00:43,  6.63it/s, now=None]\u001b[A"
     ]
    },
    {
     "name": "stdout",
     "output_type": "stream",
     "text": [
      "1214.2687327152069 m 15458.035502350802 m\n",
      "2630.6310513273925 m 938.5025127526986 m\n"
     ]
    },
    {
     "name": "stderr",
     "output_type": "stream",
     "text": [
      "\n",
      "t:  77%|███████████████████████████████████████████████████               | 975/1260 [02:27<00:42,  6.63it/s, now=None]\u001b[A"
     ]
    },
    {
     "name": "stdout",
     "output_type": "stream",
     "text": [
      "8925.20157269551 m 724.1337655279513 m\n",
      "3817.0014563828677 m 451.2947571534857 m\n"
     ]
    },
    {
     "name": "stderr",
     "output_type": "stream",
     "text": [
      "\n",
      "t:  77%|███████████████████████████████████████████████████               | 976/1260 [02:27<00:43,  6.48it/s, now=None]\u001b[A\n",
      "t:  78%|███████████████████████████████████████████████████▏              | 977/1260 [02:27<00:43,  6.53it/s, now=None]\u001b[A\n"
     ]
    },
    {
     "name": "stdout",
     "output_type": "stream",
     "text": [
      "8947.675273141538 m 386.12861846536174 m\n",
      "2801.740230171421 m 421.68369340939506 m\n"
     ]
    },
    {
     "name": "stderr",
     "output_type": "stream",
     "text": [
      "t:  78%|███████████████████████████████████████████████████▏              | 978/1260 [02:27<00:43,  6.49it/s, now=None]\u001b[A\n",
      "t:  78%|███████████████████████████████████████████████████▎              | 979/1260 [02:28<00:43,  6.49it/s, now=None]\u001b[A\n",
      "t:  78%|███████████████████████████████████████████████████▎              | 980/1260 [02:28<00:42,  6.60it/s, now=None]\u001b[A"
     ]
    },
    {
     "name": "stdout",
     "output_type": "stream",
     "text": [
      "1849.332468492487 m 329.5182077495143 m\n",
      "4128.4957544175 m 379.93738999709734 m\n"
     ]
    },
    {
     "name": "stderr",
     "output_type": "stream",
     "text": [
      "\n",
      "t:  78%|███████████████████████████████████████████████████▍              | 981/1260 [02:28<00:42,  6.55it/s, now=None]\u001b[A"
     ]
    },
    {
     "name": "stdout",
     "output_type": "stream",
     "text": [
      "23979.85072817535 m 371.37918779431595 m\n",
      "8907.098400860139 m 372.85400585316415 m\n"
     ]
    },
    {
     "name": "stderr",
     "output_type": "stream",
     "text": [
      "\n",
      "t:  78%|███████████████████████████████████████████████████▍              | 982/1260 [02:28<00:43,  6.41it/s, now=None]\u001b[A\n",
      "t:  78%|███████████████████████████████████████████████████▍              | 983/1260 [02:28<00:42,  6.54it/s, now=None]\u001b[A\n",
      "t:  78%|███████████████████████████████████████████████████▌              | 984/1260 [02:28<00:42,  6.49it/s, now=None]\u001b[A"
     ]
    },
    {
     "name": "stdout",
     "output_type": "stream",
     "text": [
      "4742.841650624973 m 398.18992595200183 m\n",
      "905.3204046456126 m 408.91163890155156 m\n"
     ]
    },
    {
     "name": "stderr",
     "output_type": "stream",
     "text": [
      "\n",
      "t:  78%|███████████████████████████████████████████████████▌              | 985/1260 [02:29<00:46,  5.90it/s, now=None]\u001b[A"
     ]
    },
    {
     "name": "stdout",
     "output_type": "stream",
     "text": [
      "954.7705962155422 m 448.821782050724 m\n",
      "892.7698595576578"
     ]
    },
    {
     "name": "stderr",
     "output_type": "stream",
     "text": [
      "\n",
      "t:  78%|███████████████████████████████████████████████████▋              | 986/1260 [02:29<00:45,  6.03it/s, now=None]\u001b[A"
     ]
    },
    {
     "name": "stdout",
     "output_type": "stream",
     "text": [
      " m 476.9114691652449 m\n",
      "975.2570725787776 m 539.2005113344497 m\n"
     ]
    },
    {
     "name": "stderr",
     "output_type": "stream",
     "text": [
      "\n",
      "t:  78%|███████████████████████████████████████████████████▋              | 987/1260 [02:29<00:45,  5.99it/s, now=None]\u001b[A\n",
      "t:  78%|███████████████████████████████████████████████████▊              | 988/1260 [02:29<00:44,  6.05it/s, now=None]\u001b[A"
     ]
    },
    {
     "name": "stdout",
     "output_type": "stream",
     "text": [
      "991.3214409294558 m 562.721924136 m\n",
      "663.270229661088 m 510.4072068730611 m\n"
     ]
    },
    {
     "name": "stderr",
     "output_type": "stream",
     "text": [
      "\n",
      "t:  78%|███████████████████████████████████████████████████▊              | 989/1260 [02:29<00:44,  6.16it/s, now=None]\u001b[A\n",
      "t:  79%|███████████████████████████████████████████████████▊              | 990/1260 [02:29<00:43,  6.20it/s, now=None]\u001b[A"
     ]
    },
    {
     "name": "stdout",
     "output_type": "stream",
     "text": [
      "712.5509500322372 m 569.3196959685706 m\n",
      "635.5479525633882 m 633.6579861936324 m\n"
     ]
    },
    {
     "name": "stderr",
     "output_type": "stream",
     "text": [
      "\n",
      "t:  79%|███████████████████████████████████████████████████▉              | 991/1260 [02:29<00:43,  6.26it/s, now=None]\u001b[A\n",
      "t:  79%|███████████████████████████████████████████████████▉              | 992/1260 [02:30<00:42,  6.24it/s, now=None]\u001b[A"
     ]
    },
    {
     "name": "stdout",
     "output_type": "stream",
     "text": [
      "1043.214763036 m 543.2806647364296 m\n",
      "1024.1577028253942 m 551.9513336718586 m\n"
     ]
    },
    {
     "name": "stderr",
     "output_type": "stream",
     "text": [
      "\n",
      "t:  79%|████████████████████████████████████████████████████              | 993/1260 [02:30<00:44,  6.03it/s, now=None]\u001b[A\n",
      "t:  79%|████████████████████████████████████████████████████              | 994/1260 [02:30<00:44,  5.95it/s, now=None]\u001b[A"
     ]
    },
    {
     "name": "stdout",
     "output_type": "stream",
     "text": [
      "1134.217946567694 m 475.0189996665875 m\n",
      "828.0730205612164 m 490.3102846286372 m\n"
     ]
    },
    {
     "name": "stderr",
     "output_type": "stream",
     "text": [
      "\n",
      "t:  79%|████████████████████████████████████████████████████              | 995/1260 [02:30<00:44,  5.92it/s, now=None]\u001b[A\n",
      "t:  79%|████████████████████████████████████████████████████▏             | 996/1260 [02:30<00:44,  5.99it/s, now=None]\u001b[A"
     ]
    },
    {
     "name": "stdout",
     "output_type": "stream",
     "text": [
      "893.2449351968851 m 447.364376913187 m\n",
      "559.8854324447803"
     ]
    },
    {
     "name": "stderr",
     "output_type": "stream",
     "text": [
      "\n",
      "t:  79%|████████████████████████████████████████████████████▏             | 997/1260 [02:31<00:44,  5.86it/s, now=None]\u001b[A"
     ]
    },
    {
     "name": "stdout",
     "output_type": "stream",
     "text": [
      " m 458.5664045933916 m\n",
      "602.6107212498752 m 471.46219036782855 m\n"
     ]
    },
    {
     "name": "stderr",
     "output_type": "stream",
     "text": [
      "\n",
      "t:  79%|████████████████████████████████████████████████████▎             | 998/1260 [02:31<00:45,  5.81it/s, now=None]\u001b[A\n",
      "t:  79%|████████████████████████████████████████████████████▎             | 999/1260 [02:31<00:44,  5.84it/s, now=None]\u001b[A\n"
     ]
    },
    {
     "name": "stdout",
     "output_type": "stream",
     "text": [
      "468.52864961857324 m 508.310068360491 m\n",
      "500.64199462641534 m 727.4857255122697 m\n"
     ]
    },
    {
     "name": "stderr",
     "output_type": "stream",
     "text": [
      "t:  79%|███████████████████████████████████████████████████▌             | 1000/1260 [02:31<00:44,  5.84it/s, now=None]\u001b[A\n",
      "t:  79%|███████████████████████████████████████████████████▋             | 1001/1260 [02:31<00:44,  5.87it/s, now=None]\u001b[A\n",
      "t:  80%|███████████████████████████████████████████████████▋             | 1002/1260 [02:31<00:42,  6.08it/s, now=None]\u001b[A"
     ]
    },
    {
     "name": "stdout",
     "output_type": "stream",
     "text": [
      "815.3230473146109 m 667.6779477919058 m\n",
      "1487.1228761566585 m 1076.1007978674054 m\n"
     ]
    },
    {
     "name": "stderr",
     "output_type": "stream",
     "text": [
      "\n",
      "t:  80%|███████████████████████████████████████████████████▋             | 1003/1260 [02:32<00:41,  6.12it/s, now=None]\u001b[A"
     ]
    },
    {
     "name": "stdout",
     "output_type": "stream",
     "text": [
      "1787.5030630656172 m 734.4199370541963 m\n",
      "6190.729219046969 m 609.0466223166362 m\n"
     ]
    },
    {
     "name": "stderr",
     "output_type": "stream",
     "text": [
      "\n",
      "t:  80%|███████████████████████████████████████████████████▊             | 1004/1260 [02:32<00:42,  5.99it/s, now=None]\u001b[A\n",
      "t:  80%|███████████████████████████████████████████████████▊             | 1005/1260 [02:32<00:42,  5.95it/s, now=None]\u001b[A"
     ]
    },
    {
     "name": "stdout",
     "output_type": "stream",
     "text": [
      "44175.66384800375 m 325.51904558465293 m\n",
      "1506.1682106958306 m 286.17275383676844 m\n"
     ]
    },
    {
     "name": "stderr",
     "output_type": "stream",
     "text": [
      "\n",
      "t:  80%|███████████████████████████████████████████████████▉             | 1006/1260 [02:32<00:42,  6.03it/s, now=None]\u001b[A\n",
      "t:  80%|███████████████████████████████████████████████████▉             | 1007/1260 [02:32<00:40,  6.21it/s, now=None]\u001b[A"
     ]
    },
    {
     "name": "stdout",
     "output_type": "stream",
     "text": [
      "352.684618002602 m 466.27992332744 m\n",
      "393.8709198332224 m 503.78500865445426 m\n"
     ]
    },
    {
     "name": "stderr",
     "output_type": "stream",
     "text": [
      "\n",
      "t:  80%|████████████████████████████████████████████████████             | 1008/1260 [02:32<00:40,  6.21it/s, now=None]\u001b[A\n",
      "t:  80%|████████████████████████████████████████████████████             | 1009/1260 [02:32<00:40,  6.14it/s, now=None]\u001b[A"
     ]
    },
    {
     "name": "stdout",
     "output_type": "stream",
     "text": [
      "398.28692455676696 m 411.5090589533403 m\n",
      "2946.5683226362785 m 467.845367173132 m\n"
     ]
    },
    {
     "name": "stderr",
     "output_type": "stream",
     "text": [
      "\n",
      "t:  80%|████████████████████████████████████████████████████             | 1010/1260 [02:33<00:39,  6.36it/s, now=None]\u001b[A\n",
      "t:  80%|████████████████████████████████████████████████████▏            | 1011/1260 [02:33<00:39,  6.38it/s, now=None]\u001b[A\n",
      "t:  80%|████████████████████████████████████████████████████▏            | 1012/1260 [02:33<00:38,  6.47it/s, now=None]\u001b[A"
     ]
    },
    {
     "name": "stdout",
     "output_type": "stream",
     "text": [
      "1506.1603084558749 m 536.8815833875282 m\n",
      "773.1644436656119 m 511.9248331110388 m\n"
     ]
    },
    {
     "name": "stderr",
     "output_type": "stream",
     "text": [
      "\n",
      "t:  80%|████████████████████████████████████████████████████▎            | 1013/1260 [02:33<00:38,  6.39it/s, now=None]\u001b[A\n",
      "t:  80%|████████████████████████████████████████████████████▎            | 1014/1260 [02:33<00:37,  6.48it/s, now=None]\u001b[A"
     ]
    },
    {
     "name": "stdout",
     "output_type": "stream",
     "text": [
      "993.2709366575123 m 488.6712383990388 m\n",
      "844.9138846583668 m 559.7697845744237 m\n"
     ]
    },
    {
     "name": "stderr",
     "output_type": "stream",
     "text": [
      "\n",
      "t:  81%|████████████████████████████████████████████████████▎            | 1015/1260 [02:33<00:38,  6.34it/s, now=None]\u001b[A"
     ]
    },
    {
     "name": "stdout",
     "output_type": "stream",
     "text": [
      "749.1267109555108 m 569.6806054322399 m\n",
      "832.1853627811894 m 1136.4694505797447 m\n"
     ]
    },
    {
     "name": "stderr",
     "output_type": "stream",
     "text": [
      "\n",
      "t:  81%|████████████████████████████████████████████████████▍            | 1016/1260 [02:34<00:38,  6.33it/s, now=None]\u001b[A\n",
      "t:  81%|████████████████████████████████████████████████████▍            | 1017/1260 [02:34<00:38,  6.33it/s, now=None]\u001b[A"
     ]
    },
    {
     "name": "stdout",
     "output_type": "stream",
     "text": [
      "892.9435829086614 m 2094.420005428378 m\n",
      "1121.4149077038167 m 1246.621596707191 m\n"
     ]
    },
    {
     "name": "stderr",
     "output_type": "stream",
     "text": [
      "\n",
      "t:  81%|████████████████████████████████████████████████████▌            | 1018/1260 [02:34<00:38,  6.35it/s, now=None]\u001b[A\n",
      "t:  81%|████████████████████████████████████████████████████▌            | 1019/1260 [02:34<00:37,  6.39it/s, now=None]\u001b[A\n",
      "t:  81%|████████████████████████████████████████████████████▌            | 1020/1260 [02:34<00:37,  6.45it/s, now=None]\u001b[A"
     ]
    },
    {
     "name": "stdout",
     "output_type": "stream",
     "text": [
      "989.5513679535368 m 726.9090581635627 m\n",
      "750.5222751533189 m 809.6102366438076 m\n"
     ]
    },
    {
     "name": "stderr",
     "output_type": "stream",
     "text": [
      "\n",
      "t:  81%|████████████████████████████████████████████████████▋            | 1021/1260 [02:34<00:36,  6.53it/s, now=None]\u001b[A\n",
      "t:  81%|████████████████████████████████████████████████████▋            | 1022/1260 [02:34<00:35,  6.63it/s, now=None]\u001b[A"
     ]
    },
    {
     "name": "stdout",
     "output_type": "stream",
     "text": [
      "569.5140737298203 m 838.739626337441 m\n",
      "448.5108665991078 m 699.756931514153 m\n"
     ]
    },
    {
     "name": "stderr",
     "output_type": "stream",
     "text": [
      "\n",
      "t:  81%|████████████████████████████████████████████████████▊            | 1023/1260 [02:35<00:35,  6.71it/s, now=None]\u001b[A"
     ]
    },
    {
     "name": "stdout",
     "output_type": "stream",
     "text": [
      "418.90026197261744 m 1000.9327542515149 m\n",
      "416.0377267457292 m 1013.0533304391142 m\n"
     ]
    },
    {
     "name": "stderr",
     "output_type": "stream",
     "text": [
      "\n",
      "t:  81%|████████████████████████████████████████████████████▊            | 1024/1260 [02:35<00:35,  6.60it/s, now=None]\u001b[A\n",
      "t:  81%|████████████████████████████████████████████████████▉            | 1025/1260 [02:35<00:35,  6.65it/s, now=None]\u001b[A\n",
      "t:  81%|████████████████████████████████████████████████████▉            | 1026/1260 [02:35<00:34,  6.75it/s, now=None]\u001b[A"
     ]
    },
    {
     "name": "stdout",
     "output_type": "stream",
     "text": [
      "403.0853412974608 m 1169.3956651065948 m\n",
      "447.4513859719569 m 1232.2254710088664 m\n"
     ]
    },
    {
     "name": "stderr",
     "output_type": "stream",
     "text": [
      "\n",
      "t:  82%|████████████████████████████████████████████████████▉            | 1027/1260 [02:35<00:33,  6.87it/s, now=None]\u001b[A\n",
      "t:  82%|█████████████████████████████████████████████████████            | 1028/1260 [02:35<00:33,  6.86it/s, now=None]"
     ]
    },
    {
     "name": "stdout",
     "output_type": "stream",
     "text": [
      "563.4239904466693 m 690.6247180676611 m\n",
      "702.0946241467208 m 421.8080049325704 m\n"
     ]
    },
    {
     "name": "stderr",
     "output_type": "stream",
     "text": [
      "\u001b[A\n",
      "t:  82%|█████████████████████████████████████████████████████            | 1029/1260 [02:36<00:33,  6.80it/s, now=None]\u001b[A\n",
      "t:  82%|█████████████████████████████████████████████████████▏           | 1030/1260 [02:36<00:33,  6.95it/s, now=None]\u001b[A"
     ]
    },
    {
     "name": "stdout",
     "output_type": "stream",
     "text": [
      "614.0151144882418 m 337.3201866048894 m\n",
      "512.4549901357814 m 327.3651747840046 m\n"
     ]
    },
    {
     "name": "stderr",
     "output_type": "stream",
     "text": [
      "\n",
      "t:  82%|█████████████████████████████████████████████████████▏           | 1031/1260 [02:36<00:32,  7.04it/s, now=None]\u001b[A\n",
      "t:  82%|█████████████████████████████████████████████████████▏           | 1032/1260 [02:36<00:32,  7.02it/s, now=None]\u001b[A"
     ]
    },
    {
     "name": "stdout",
     "output_type": "stream",
     "text": [
      "526.3979925641731 m 350.0592618811174 m\n",
      "415.023094503692 m 365.6875157211167 m\n"
     ]
    },
    {
     "name": "stderr",
     "output_type": "stream",
     "text": [
      "\n",
      "t:  82%|█████████████████████████████████████████████████████▎           | 1033/1260 [02:36<00:33,  6.79it/s, now=None]\u001b[A\n",
      "t:  82%|█████████████████████████████████████████████████████▎           | 1034/1260 [02:36<00:33,  6.81it/s, now=None]\u001b[A"
     ]
    },
    {
     "name": "stdout",
     "output_type": "stream",
     "text": [
      "457.4221719572965 m 358.83426215855644 m\n",
      "484.8111995176089 m 398.39358775815776 m\n"
     ]
    },
    {
     "name": "stderr",
     "output_type": "stream",
     "text": [
      "\n",
      "t:  82%|█████████████████████████████████████████████████████▍           | 1035/1260 [02:36<00:33,  6.71it/s, now=None]\u001b[A"
     ]
    },
    {
     "name": "stdout",
     "output_type": "stream",
     "text": [
      "413.838418704398 m 415.84235334602414 m\n",
      "442.34405093675707 m 368.8144169927202 m\n"
     ]
    },
    {
     "name": "stderr",
     "output_type": "stream",
     "text": [
      "\n",
      "t:  82%|█████████████████████████████████████████████████████▍           | 1036/1260 [02:37<00:33,  6.71it/s, now=None]\u001b[A\n",
      "t:  82%|█████████████████████████████████████████████████████▍           | 1037/1260 [02:37<00:33,  6.68it/s, now=None]\u001b[A\n",
      "t:  82%|█████████████████████████████████████████████████████▌           | 1038/1260 [02:37<00:33,  6.72it/s, now=None]\u001b[A"
     ]
    },
    {
     "name": "stdout",
     "output_type": "stream",
     "text": [
      "377.85936541230143 m 328.0064625843781 m\n",
      "373.9841743659318 m 392.58862898337014 m\n"
     ]
    },
    {
     "name": "stderr",
     "output_type": "stream",
     "text": [
      "\n",
      "t:  82%|█████████████████████████████████████████████████████▌           | 1039/1260 [02:37<00:32,  6.72it/s, now=None]\u001b[A"
     ]
    },
    {
     "name": "stdout",
     "output_type": "stream",
     "text": [
      "381.486730926027 m 428.4837203935995 m\n",
      "400.9698930924188 m 482.89150053049747 m\n"
     ]
    },
    {
     "name": "stderr",
     "output_type": "stream",
     "text": [
      "\n",
      "t:  83%|█████████████████████████████████████████████████████▋           | 1040/1260 [02:37<00:33,  6.63it/s, now=None]\u001b[A\n",
      "t:  83%|█████████████████████████████████████████████████████▋           | 1041/1260 [02:37<00:32,  6.65it/s, now=None]\u001b[A"
     ]
    },
    {
     "name": "stdout",
     "output_type": "stream",
     "text": [
      "404.149870164102 m 502.7818480580837 m\n",
      "414.5850496205407 m 530.5600303393031 m\n"
     ]
    },
    {
     "name": "stderr",
     "output_type": "stream",
     "text": [
      "\n",
      "t:  83%|█████████████████████████████████████████████████████▊           | 1042/1260 [02:37<00:33,  6.55it/s, now=None]\u001b[A\n",
      "t:  83%|█████████████████████████████████████████████████████▊           | 1043/1260 [02:38<00:32,  6.58it/s, now=None]\u001b[A"
     ]
    },
    {
     "name": "stdout",
     "output_type": "stream",
     "text": [
      "455.3319457681038 m 604.546746572264 m\n",
      "492.76267274447247 m 596.7144047184055 m\n"
     ]
    },
    {
     "name": "stderr",
     "output_type": "stream",
     "text": [
      "\n",
      "t:  83%|█████████████████████████████████████████████████████▊           | 1044/1260 [02:38<00:33,  6.50it/s, now=None]\u001b[A\n",
      "t:  83%|█████████████████████████████████████████████████████▉           | 1045/1260 [02:38<00:33,  6.38it/s, now=None]\u001b[A"
     ]
    },
    {
     "name": "stdout",
     "output_type": "stream",
     "text": [
      "514.9238075512691 m 668.5862912337477 m\n",
      "565.9391788605217 m 646.8493595935367 m\n"
     ]
    },
    {
     "name": "stderr",
     "output_type": "stream",
     "text": [
      "\n",
      "t:  83%|█████████████████████████████████████████████████████▉           | 1046/1260 [02:38<00:33,  6.33it/s, now=None]\u001b[A\n",
      "t:  83%|██████████████████████████████████████████████████████           | 1047/1260 [02:38<00:33,  6.45it/s, now=None]\u001b[A"
     ]
    },
    {
     "name": "stdout",
     "output_type": "stream",
     "text": [
      "554.9274505028266 m 802.4001266995175 m\n",
      "625.6127083542061 m 828.9090947244146 m\n"
     ]
    },
    {
     "name": "stderr",
     "output_type": "stream",
     "text": [
      "\n",
      "t:  83%|██████████████████████████████████████████████████████           | 1048/1260 [02:38<00:33,  6.40it/s, now=None]\u001b[A\n",
      "t:  83%|██████████████████████████████████████████████████████           | 1049/1260 [02:39<00:33,  6.31it/s, now=None]\u001b[A\n"
     ]
    },
    {
     "name": "stdout",
     "output_type": "stream",
     "text": [
      "720.1050343475619 m 1692.588081546334 m\n",
      "773.5704807491228 m 1399.1049538392865 m\n"
     ]
    },
    {
     "name": "stderr",
     "output_type": "stream",
     "text": [
      "t:  83%|██████████████████████████████████████████████████████▏          | 1050/1260 [02:39<00:33,  6.35it/s, now=None]\u001b[A\n",
      "t:  83%|██████████████████████████████████████████████████████▏          | 1051/1260 [02:39<00:32,  6.42it/s, now=None]\u001b[A"
     ]
    },
    {
     "name": "stdout",
     "output_type": "stream",
     "text": [
      "912.2183192734888 m 1887.3705379014423 m\n",
      "927.0870730211016 m 854.9752989609277 m\n"
     ]
    },
    {
     "name": "stderr",
     "output_type": "stream",
     "text": [
      "\n",
      "t:  83%|██████████████████████████████████████████████████████▎          | 1052/1260 [02:39<00:32,  6.41it/s, now=None]\u001b[A\n",
      "t:  84%|██████████████████████████████████████████████████████▎          | 1053/1260 [02:39<00:32,  6.43it/s, now=None]\u001b[A"
     ]
    },
    {
     "name": "stdout",
     "output_type": "stream",
     "text": [
      "972.3047781422174 m 725.5757107698561 m\n",
      "1064.1925793698013 m 708.4696488263004 m\n"
     ]
    },
    {
     "name": "stderr",
     "output_type": "stream",
     "text": [
      "\n",
      "t:  84%|██████████████████████████████████████████████████████▎          | 1054/1260 [02:39<00:32,  6.26it/s, now=None]\u001b[A\n",
      "t:  84%|██████████████████████████████████████████████████████▍          | 1055/1260 [02:40<00:33,  6.10it/s, now=None]\u001b[A"
     ]
    },
    {
     "name": "stdout",
     "output_type": "stream",
     "text": [
      "836.8111076286635 m 548.0989779244456 m\n",
      "809.1198899759571 m 554.7838551301941 m\n"
     ]
    },
    {
     "name": "stderr",
     "output_type": "stream",
     "text": [
      "\n",
      "t:  84%|██████████████████████████████████████████████████████▍          | 1056/1260 [02:40<00:33,  6.05it/s, now=None]\u001b[A\n",
      "t:  84%|██████████████████████████████████████████████████████▌          | 1057/1260 [02:40<00:33,  6.09it/s, now=None]\u001b[A"
     ]
    },
    {
     "name": "stdout",
     "output_type": "stream",
     "text": [
      "809.2159870960396 m 515.0340299269766 m\n",
      "749.6166310316124 m 445.98807416926263 m\n"
     ]
    },
    {
     "name": "stderr",
     "output_type": "stream",
     "text": [
      "\n",
      "t:  84%|██████████████████████████████████████████████████████▌          | 1058/1260 [02:40<00:32,  6.25it/s, now=None]\u001b[A\n",
      "t:  84%|██████████████████████████████████████████████████████▋          | 1059/1260 [02:40<00:32,  6.22it/s, now=None]\u001b[A"
     ]
    },
    {
     "name": "stdout",
     "output_type": "stream",
     "text": [
      "722.8780606849557 m 462.9516994293229 m\n",
      "626.857823945601 m 424.26956859240187 m\n"
     ]
    },
    {
     "name": "stderr",
     "output_type": "stream",
     "text": [
      "\n",
      "t:  84%|██████████████████████████████████████████████████████▋          | 1060/1260 [02:40<00:32,  6.10it/s, now=None]\u001b[A\n",
      "t:  84%|██████████████████████████████████████████████████████▋          | 1061/1260 [02:41<00:32,  6.04it/s, now=None]\u001b[A\n"
     ]
    },
    {
     "name": "stdout",
     "output_type": "stream",
     "text": [
      "558.3244812330588 m 395.5754699024432 m\n",
      "545.0720350621192 m 341.130793986918 m\n"
     ]
    },
    {
     "name": "stderr",
     "output_type": "stream",
     "text": [
      "t:  84%|██████████████████████████████████████████████████████▊          | 1062/1260 [02:41<00:31,  6.24it/s, now=None]\u001b[A\n",
      "t:  84%|██████████████████████████████████████████████████████▊          | 1063/1260 [02:41<00:31,  6.33it/s, now=None]\u001b[A"
     ]
    },
    {
     "name": "stdout",
     "output_type": "stream",
     "text": [
      "562.9128265631 m 362.15378570958285 m\n",
      "691.1831426182972 m 491.7810371177669 m\n"
     ]
    },
    {
     "name": "stderr",
     "output_type": "stream",
     "text": [
      "\n",
      "t:  84%|██████████████████████████████████████████████████████▉          | 1064/1260 [02:41<00:30,  6.38it/s, now=None]\u001b[A\n",
      "t:  85%|██████████████████████████████████████████████████████▉          | 1065/1260 [02:41<00:31,  6.25it/s, now=None]\u001b[A"
     ]
    },
    {
     "name": "stdout",
     "output_type": "stream",
     "text": [
      "832.3663225617223 m 492.57723138786554 m\n",
      "969.5616515872097 m 543.1413981257049 m\n"
     ]
    },
    {
     "name": "stderr",
     "output_type": "stream",
     "text": [
      "\n",
      "t:  85%|██████████████████████████████████████████████████████▉          | 1066/1260 [02:41<00:31,  6.13it/s, now=None]\u001b[A\n",
      "t:  85%|███████████████████████████████████████████████████████          | 1067/1260 [02:41<00:32,  6.03it/s, now=None]\u001b[A"
     ]
    },
    {
     "name": "stdout",
     "output_type": "stream",
     "text": [
      "1034.1659939884387 m 616.9800261979182 m\n",
      "958.6639757869114 m 634.9024388092756 m\n"
     ]
    },
    {
     "name": "stderr",
     "output_type": "stream",
     "text": [
      "\n",
      "t:  85%|███████████████████████████████████████████████████████          | 1068/1260 [02:42<00:31,  6.05it/s, now=None]\u001b[A\n",
      "t:  85%|███████████████████████████████████████████████████████▏         | 1069/1260 [02:42<00:31,  6.09it/s, now=None]\u001b[A\n",
      "t:  85%|███████████████████████████████████████████████████████▏         | 1070/1260 [02:42<00:30,  6.21it/s, now=None]"
     ]
    },
    {
     "name": "stdout",
     "output_type": "stream",
     "text": [
      "962.5135696957967 m 593.0013426443808 m\n",
      "918.4699945657818 m 608.8721309430503 m\n"
     ]
    },
    {
     "name": "stderr",
     "output_type": "stream",
     "text": [
      "\u001b[A\n",
      "t:  85%|███████████████████████████████████████████████████████▎         | 1071/1260 [02:42<00:30,  6.23it/s, now=None]\u001b[A"
     ]
    },
    {
     "name": "stdout",
     "output_type": "stream",
     "text": [
      "845.2171527305204 m 692.6871772323393 m\n",
      "971.8932970277949 m 873.3913134676483 m\n"
     ]
    },
    {
     "name": "stderr",
     "output_type": "stream",
     "text": [
      "\n",
      "t:  85%|███████████████████████████████████████████████████████▎         | 1072/1260 [02:42<00:30,  6.26it/s, now=None]\u001b[A\n",
      "t:  85%|███████████████████████████████████████████████████████▎         | 1073/1260 [02:42<00:30,  6.10it/s, now=None]\u001b[A"
     ]
    },
    {
     "name": "stdout",
     "output_type": "stream",
     "text": [
      "881.142827844282 m 808.0828421010051 m\n",
      "893.5393135353406 m 797.8874523667665 m\n"
     ]
    },
    {
     "name": "stderr",
     "output_type": "stream",
     "text": [
      "\n",
      "t:  85%|███████████████████████████████████████████████████████▍         | 1074/1260 [02:43<00:30,  6.20it/s, now=None]\u001b[A\n",
      "t:  85%|███████████████████████████████████████████████████████▍         | 1075/1260 [02:43<00:29,  6.18it/s, now=None]\u001b[A"
     ]
    },
    {
     "name": "stdout",
     "output_type": "stream",
     "text": [
      "854.0011864220527 m 642.9444131741291 m\n",
      "795.5052999776785 m 618.6251349403645 m\n"
     ]
    },
    {
     "name": "stderr",
     "output_type": "stream",
     "text": [
      "\n",
      "t:  85%|███████████████████████████████████████████████████████▌         | 1076/1260 [02:43<00:29,  6.19it/s, now=None]\u001b[A\n",
      "t:  85%|███████████████████████████████████████████████████████▌         | 1077/1260 [02:43<00:29,  6.20it/s, now=None]\u001b[A"
     ]
    },
    {
     "name": "stdout",
     "output_type": "stream",
     "text": [
      "810.8975001662081 m 583.8863078547199 m\n",
      "669.9541706000439 m 550.9689252758533 m\n"
     ]
    },
    {
     "name": "stderr",
     "output_type": "stream",
     "text": [
      "\n",
      "t:  86%|███████████████████████████████████████████████████████▌         | 1078/1260 [02:43<00:29,  6.10it/s, now=None]\u001b[A\n",
      "t:  86%|███████████████████████████████████████████████████████▋         | 1079/1260 [02:43<00:29,  6.18it/s, now=None]\u001b[A"
     ]
    },
    {
     "name": "stdout",
     "output_type": "stream",
     "text": [
      "714.2715006204947 m 521.867719392293 m\n",
      "728.893809656956 m 563.217321764198 m\n"
     ]
    },
    {
     "name": "stderr",
     "output_type": "stream",
     "text": [
      "\n",
      "t:  86%|███████████████████████████████████████████████████████▋         | 1080/1260 [02:44<00:29,  6.01it/s, now=None]\u001b[A\n",
      "t:  86%|███████████████████████████████████████████████████████▊         | 1081/1260 [02:44<00:29,  5.97it/s, now=None]\u001b[A"
     ]
    },
    {
     "name": "stdout",
     "output_type": "stream",
     "text": [
      "756.9594742680379 m 566.3381262671587 m\n",
      "824.2511327649469"
     ]
    },
    {
     "name": "stderr",
     "output_type": "stream",
     "text": [
      "\n",
      "t:  86%|███████████████████████████████████████████████████████▊         | 1082/1260 [02:44<00:30,  5.74it/s, now=None]\u001b[A"
     ]
    },
    {
     "name": "stdout",
     "output_type": "stream",
     "text": [
      " m 609.6414710268854 m\n",
      "771.0924527947777 m 640.9416425305312 m\n"
     ]
    },
    {
     "name": "stderr",
     "output_type": "stream",
     "text": [
      "\n",
      "t:  86%|███████████████████████████████████████████████████████▊         | 1083/1260 [02:44<00:30,  5.72it/s, now=None]\u001b[A\n",
      "t:  86%|███████████████████████████████████████████████████████▉         | 1084/1260 [02:44<00:30,  5.74it/s, now=None]\u001b[A"
     ]
    },
    {
     "name": "stdout",
     "output_type": "stream",
     "text": [
      "802.3383621365491 m 730.0029113043188 m\n",
      "889.1672858286818 m 828.7894956616764 m\n"
     ]
    },
    {
     "name": "stderr",
     "output_type": "stream",
     "text": [
      "\n",
      "t:  86%|███████████████████████████████████████████████████████▉         | 1085/1260 [02:44<00:30,  5.81it/s, now=None]\u001b[A\n",
      "t:  86%|████████████████████████████████████████████████████████         | 1086/1260 [02:45<00:29,  5.89it/s, now=None]\u001b[A"
     ]
    },
    {
     "name": "stdout",
     "output_type": "stream",
     "text": [
      "1000.191252511558 m 706.5145808737457 m\n",
      "1117.6838858244687 m 828.6381176108291 m\n"
     ]
    },
    {
     "name": "stderr",
     "output_type": "stream",
     "text": [
      "\n",
      "t:  86%|████████████████████████████████████████████████████████         | 1087/1260 [02:45<00:28,  5.97it/s, now=None]\u001b[A\n",
      "t:  86%|████████████████████████████████████████████████████████▏        | 1088/1260 [02:45<00:28,  6.09it/s, now=None]\u001b[A"
     ]
    },
    {
     "name": "stdout",
     "output_type": "stream",
     "text": [
      "1108.2871692400784 m 598.9246612618908 m\n",
      "1253.9142870786404 m 549.3843748972506 m\n"
     ]
    },
    {
     "name": "stderr",
     "output_type": "stream",
     "text": [
      "\n",
      "t:  86%|████████████████████████████████████████████████████████▏        | 1089/1260 [02:45<00:28,  5.98it/s, now=None]\u001b[A\n",
      "t:  87%|████████████████████████████████████████████████████████▏        | 1090/1260 [02:45<00:28,  6.00it/s, now=None]\u001b[A"
     ]
    },
    {
     "name": "stdout",
     "output_type": "stream",
     "text": [
      "1266.631643598741 m 626.7496727516677 m\n",
      "1237.6752045110454 m 644.2437748196066 m\n"
     ]
    },
    {
     "name": "stderr",
     "output_type": "stream",
     "text": [
      "\n",
      "t:  87%|████████████████████████████████████████████████████████▎        | 1091/1260 [02:45<00:27,  6.06it/s, now=None]\u001b[A\n",
      "t:  87%|████████████████████████████████████████████████████████▎        | 1092/1260 [02:46<00:27,  6.09it/s, now=None]\u001b[A"
     ]
    },
    {
     "name": "stdout",
     "output_type": "stream",
     "text": [
      "1430.6313472554393 m 666.8714712978256 m\n",
      "1573.240706121699 m 677.9443005159143 m\n"
     ]
    },
    {
     "name": "stderr",
     "output_type": "stream",
     "text": [
      "\n",
      "t:  87%|████████████████████████████████████████████████████████▍        | 1093/1260 [02:46<00:27,  6.03it/s, now=None]\u001b[A\n",
      "t:  87%|████████████████████████████████████████████████████████▍        | 1094/1260 [02:46<00:27,  6.12it/s, now=None]\u001b[A"
     ]
    },
    {
     "name": "stdout",
     "output_type": "stream",
     "text": [
      "1470.157482636059 m 811.1596921092491 m\n",
      "1434.2945914686256 m 1241.889367479282 m\n"
     ]
    },
    {
     "name": "stderr",
     "output_type": "stream",
     "text": [
      "\n",
      "t:  87%|████████████████████████████████████████████████████████▍        | 1095/1260 [02:46<00:26,  6.16it/s, now=None]\u001b[A\n",
      "t:  87%|████████████████████████████████████████████████████████▌        | 1096/1260 [02:46<00:27,  6.04it/s, now=None]\u001b[A"
     ]
    },
    {
     "name": "stdout",
     "output_type": "stream",
     "text": [
      "1187.8337621108433 m 1305.8220933906946 m\n",
      "1247.6474862772745 m 953.2336540931042 m\n"
     ]
    },
    {
     "name": "stderr",
     "output_type": "stream",
     "text": [
      "\n",
      "t:  87%|████████████████████████████████████████████████████████▌        | 1097/1260 [02:46<00:26,  6.09it/s, now=None]\u001b[A\n",
      "t:  87%|████████████████████████████████████████████████████████▋        | 1098/1260 [02:47<00:26,  6.03it/s, now=None]\u001b[A"
     ]
    },
    {
     "name": "stdout",
     "output_type": "stream",
     "text": [
      "1241.9751733610392 m 702.5229400508011 m\n",
      "1272.2116204733106 m 659.2163823263448 m\n"
     ]
    },
    {
     "name": "stderr",
     "output_type": "stream",
     "text": [
      "\n",
      "t:  87%|████████████████████████████████████████████████████████▋        | 1099/1260 [02:47<00:27,  5.96it/s, now=None]\u001b[A\n",
      "t:  87%|████████████████████████████████████████████████████████▋        | 1100/1260 [02:47<00:26,  6.06it/s, now=None]\u001b[A"
     ]
    },
    {
     "name": "stdout",
     "output_type": "stream",
     "text": [
      "1263.8574631092376 m 714.0967173783202 m\n",
      "1052.205564712439 m 659.5887582397615 m\n"
     ]
    },
    {
     "name": "stderr",
     "output_type": "stream",
     "text": [
      "\n",
      "t:  87%|████████████████████████████████████████████████████████▊        | 1101/1260 [02:47<00:25,  6.12it/s, now=None]\u001b[A\n",
      "t:  87%|████████████████████████████████████████████████████████▊        | 1102/1260 [02:47<00:25,  6.14it/s, now=None]\u001b[A"
     ]
    },
    {
     "name": "stdout",
     "output_type": "stream",
     "text": [
      "1103.023765874964 m 594.101675218989 m\n",
      "1157.308290593508 m 747.5744306896561 m\n"
     ]
    },
    {
     "name": "stderr",
     "output_type": "stream",
     "text": [
      "\n",
      "t:  88%|████████████████████████████████████████████████████████▉        | 1103/1260 [02:47<00:25,  6.13it/s, now=None]\u001b[A\n",
      "t:  88%|████████████████████████████████████████████████████████▉        | 1104/1260 [02:48<00:25,  6.08it/s, now=None]\u001b[A"
     ]
    },
    {
     "name": "stdout",
     "output_type": "stream",
     "text": [
      "1122.190058738958 m 637.9074771978121 m\n",
      "1128.7036246138098 m 600.0896149381965 m\n"
     ]
    },
    {
     "name": "stderr",
     "output_type": "stream",
     "text": [
      "\n",
      "t:  88%|█████████████████████████████████████████████████████████        | 1105/1260 [02:48<00:25,  6.19it/s, now=None]\u001b[A\n",
      "t:  88%|█████████████████████████████████████████████████████████        | 1106/1260 [02:48<00:24,  6.22it/s, now=None]\u001b[A"
     ]
    },
    {
     "name": "stdout",
     "output_type": "stream",
     "text": [
      "1114.356825843083 m 540.0696881432474 m\n",
      "1095.3532890054316 m 559.7653786933618 m\n"
     ]
    },
    {
     "name": "stderr",
     "output_type": "stream",
     "text": [
      "\n",
      "t:  88%|█████████████████████████████████████████████████████████        | 1107/1260 [02:48<00:24,  6.30it/s, now=None]\u001b[A\n",
      "t:  88%|█████████████████████████████████████████████████████████▏       | 1108/1260 [02:48<00:23,  6.34it/s, now=None]\u001b[A"
     ]
    },
    {
     "name": "stdout",
     "output_type": "stream",
     "text": [
      "1095.3635075935172 m 585.8899225962826 m\n",
      "1130.5305714319252 m 493.5525499289032 m\n"
     ]
    },
    {
     "name": "stderr",
     "output_type": "stream",
     "text": [
      "\n",
      "t:  88%|█████████████████████████████████████████████████████████▏       | 1109/1260 [02:48<00:23,  6.32it/s, now=None]\u001b[A\n",
      "t:  88%|█████████████████████████████████████████████████████████▎       | 1110/1260 [02:49<00:23,  6.35it/s, now=None]\u001b[A"
     ]
    },
    {
     "name": "stdout",
     "output_type": "stream",
     "text": [
      "1177.3192893712585 m 503.7468702835168 m\n",
      "1378.5352304487778 m 431.9890997783757 m\n"
     ]
    },
    {
     "name": "stderr",
     "output_type": "stream",
     "text": [
      "\n",
      "t:  88%|█████████████████████████████████████████████████████████▎       | 1111/1260 [02:49<00:24,  6.15it/s, now=None]\u001b[A\n",
      "t:  88%|█████████████████████████████████████████████████████████▎       | 1112/1260 [02:49<00:24,  6.02it/s, now=None]\u001b[A"
     ]
    },
    {
     "name": "stdout",
     "output_type": "stream",
     "text": [
      "1150.204706966832 m 419.5527444498963 m\n",
      "1188.3150218191688"
     ]
    },
    {
     "name": "stderr",
     "output_type": "stream",
     "text": [
      "\n",
      "t:  88%|█████████████████████████████████████████████████████████▍       | 1113/1260 [02:49<00:24,  5.92it/s, now=None]\u001b[A\n",
      "t:  88%|█████████████████████████████████████████████████████████▍       | 1114/1260 [02:49<00:24,  6.06it/s, now=None]"
     ]
    },
    {
     "name": "stdout",
     "output_type": "stream",
     "text": [
      " m 427.36432611576 m\n",
      "1199.3488506496337 m 449.6040308030211 m\n"
     ]
    },
    {
     "name": "stderr",
     "output_type": "stream",
     "text": [
      "\u001b[A\n",
      "t:  88%|█████████████████████████████████████████████████████████▌       | 1115/1260 [02:49<00:23,  6.14it/s, now=None]\u001b[A"
     ]
    },
    {
     "name": "stdout",
     "output_type": "stream",
     "text": [
      "1254.6306776729284 m 482.45398804104155 m\n",
      "1262.0768400998356 m 461.1571862168945 m\n"
     ]
    },
    {
     "name": "stderr",
     "output_type": "stream",
     "text": [
      "\n",
      "t:  89%|█████████████████████████████████████████████████████████▌       | 1116/1260 [02:50<00:23,  6.19it/s, now=None]\u001b[A\n",
      "t:  89%|█████████████████████████████████████████████████████████▌       | 1117/1260 [02:50<00:22,  6.28it/s, now=None]\u001b[A\n"
     ]
    },
    {
     "name": "stdout",
     "output_type": "stream",
     "text": [
      "962.3545614650023 m 585.0699209274392 m\n",
      "961.7791442769 m 635.3713760247346 m\n"
     ]
    },
    {
     "name": "stderr",
     "output_type": "stream",
     "text": [
      "t:  89%|█████████████████████████████████████████████████████████▋       | 1118/1260 [02:50<00:22,  6.31it/s, now=None]\u001b[A\n",
      "t:  89%|█████████████████████████████████████████████████████████▋       | 1119/1260 [02:50<00:22,  6.22it/s, now=None]\u001b[A"
     ]
    },
    {
     "name": "stdout",
     "output_type": "stream",
     "text": [
      "955.5568202540093 m 648.1591854815017 m\n",
      "902.1679055782297 m 607.4493471056169 m\n"
     ]
    },
    {
     "name": "stderr",
     "output_type": "stream",
     "text": [
      "\n",
      "t:  89%|█████████████████████████████████████████████████████████▊       | 1120/1260 [02:50<00:22,  6.22it/s, now=None]\u001b[A\n",
      "t:  89%|█████████████████████████████████████████████████████████▊       | 1121/1260 [02:50<00:22,  6.25it/s, now=None]\u001b[A"
     ]
    },
    {
     "name": "stdout",
     "output_type": "stream",
     "text": [
      "975.4384071565629 m 658.9985341728639 m\n",
      "1021.9421551500717 m 659.6778582717304 m\n"
     ]
    },
    {
     "name": "stderr",
     "output_type": "stream",
     "text": [
      "\n",
      "t:  89%|█████████████████████████████████████████████████████████▉       | 1122/1260 [02:50<00:22,  6.16it/s, now=None]\u001b[A\n",
      "t:  89%|█████████████████████████████████████████████████████████▉       | 1123/1260 [02:51<00:22,  6.16it/s, now=None]\u001b[A\n"
     ]
    },
    {
     "name": "stdout",
     "output_type": "stream",
     "text": [
      "1061.050756833743 m 682.826951650277 m\n",
      "1111.6901305434733 m 705.1147413727607 m\n"
     ]
    },
    {
     "name": "stderr",
     "output_type": "stream",
     "text": [
      "t:  89%|█████████████████████████████████████████████████████████▉       | 1124/1260 [02:51<00:21,  6.19it/s, now=None]\u001b[A\n",
      "t:  89%|██████████████████████████████████████████████████████████       | 1125/1260 [02:51<00:21,  6.18it/s, now=None]\u001b[A\n",
      "t:  89%|██████████████████████████████████████████████████████████       | 1126/1260 [02:51<00:21,  6.29it/s, now=None]\u001b[A"
     ]
    },
    {
     "name": "stdout",
     "output_type": "stream",
     "text": [
      "913.8994319158668 m 623.7212870799655 m\n",
      "881.4465049604705 m 624.3488194029137 m\n"
     ]
    },
    {
     "name": "stderr",
     "output_type": "stream",
     "text": [
      "\n",
      "t:  89%|██████████████████████████████████████████████████████████▏      | 1127/1260 [02:51<00:21,  6.32it/s, now=None]\u001b[A"
     ]
    },
    {
     "name": "stdout",
     "output_type": "stream",
     "text": [
      "797.3703594481332 m 748.151373884053 m\n",
      "823.2805167501664 m 718.6442300063794 m\n"
     ]
    },
    {
     "name": "stderr",
     "output_type": "stream",
     "text": [
      "\n",
      "t:  90%|██████████████████████████████████████████████████████████▏      | 1128/1260 [02:51<00:21,  6.15it/s, now=None]\u001b[A\n",
      "t:  90%|██████████████████████████████████████████████████████████▏      | 1129/1260 [02:52<00:21,  6.16it/s, now=None]\u001b[A"
     ]
    },
    {
     "name": "stdout",
     "output_type": "stream",
     "text": [
      "857.3378691467411 m 726.1107024873374 m\n",
      "872.4467931720652 m 1290.3808484096292 m\n"
     ]
    },
    {
     "name": "stderr",
     "output_type": "stream",
     "text": [
      "\n",
      "t:  90%|██████████████████████████████████████████████████████████▎      | 1130/1260 [02:52<00:21,  6.09it/s, now=None]\u001b[A\n",
      "t:  90%|██████████████████████████████████████████████████████████▎      | 1131/1260 [02:52<00:20,  6.19it/s, now=None]\u001b[A"
     ]
    },
    {
     "name": "stdout",
     "output_type": "stream",
     "text": [
      "1011.2766575255042 m 1046.0125733207167 m\n",
      "1015.4730732422693"
     ]
    },
    {
     "name": "stderr",
     "output_type": "stream",
     "text": [
      "\n",
      "t:  90%|██████████████████████████████████████████████████████████▍      | 1132/1260 [02:52<00:21,  5.94it/s, now=None]\u001b[A"
     ]
    },
    {
     "name": "stdout",
     "output_type": "stream",
     "text": [
      " m 822.9899496983895 m\n",
      "984.5811315781041 m 567.7968273325505 m\n"
     ]
    },
    {
     "name": "stderr",
     "output_type": "stream",
     "text": [
      "\n",
      "t:  90%|██████████████████████████████████████████████████████████▍      | 1133/1260 [02:52<00:21,  5.95it/s, now=None]\u001b[A\n",
      "t:  90%|██████████████████████████████████████████████████████████▌      | 1134/1260 [02:52<00:20,  6.01it/s, now=None]\u001b[A"
     ]
    },
    {
     "name": "stdout",
     "output_type": "stream",
     "text": [
      "1050.6073067481423 m 631.4626552448296 m\n",
      "1230.34396721891 m 700.4045214405626 m\n"
     ]
    },
    {
     "name": "stderr",
     "output_type": "stream",
     "text": [
      "\n",
      "t:  90%|██████████████████████████████████████████████████████████▌      | 1135/1260 [02:53<00:20,  6.03it/s, now=None]\u001b[A\n",
      "t:  90%|██████████████████████████████████████████████████████████▌      | 1136/1260 [02:53<00:20,  5.99it/s, now=None]\u001b[A"
     ]
    },
    {
     "name": "stdout",
     "output_type": "stream",
     "text": [
      "1304.8248189424867 m 661.2979193846453 m\n",
      "1197.7986176902023 m 625.685130868108 m\n"
     ]
    },
    {
     "name": "stderr",
     "output_type": "stream",
     "text": [
      "\n",
      "t:  90%|██████████████████████████████████████████████████████████▋      | 1137/1260 [02:53<00:20,  6.03it/s, now=None]\u001b[A\n",
      "t:  90%|██████████████████████████████████████████████████████████▋      | 1138/1260 [02:53<00:20,  6.04it/s, now=None]\u001b[A"
     ]
    },
    {
     "name": "stdout",
     "output_type": "stream",
     "text": [
      "1116.9843291717996 m 643.3714862367399 m\n",
      "1168.2154833309337 m 673.0255228620583 m\n"
     ]
    },
    {
     "name": "stderr",
     "output_type": "stream",
     "text": [
      "\n",
      "t:  90%|██████████████████████████████████████████████████████████▊      | 1139/1260 [02:53<00:19,  6.15it/s, now=None]\u001b[A\n",
      "t:  90%|██████████████████████████████████████████████████████████▊      | 1140/1260 [02:53<00:19,  6.16it/s, now=None]\u001b[A"
     ]
    },
    {
     "name": "stdout",
     "output_type": "stream",
     "text": [
      "1045.6876758562462 m 752.0067465052573 m\n",
      "1052.158142033798 m 614.9997014823757 m\n"
     ]
    },
    {
     "name": "stderr",
     "output_type": "stream",
     "text": [
      "\n",
      "t:  91%|██████████████████████████████████████████████████████████▊      | 1141/1260 [02:54<00:19,  6.09it/s, now=None]\u001b[A\n",
      "t:  91%|██████████████████████████████████████████████████████████▉      | 1142/1260 [02:54<00:19,  6.03it/s, now=None]\u001b[A\n",
      "t:  91%|██████████████████████████████████████████████████████████▉      | 1143/1260 [02:54<00:18,  6.18it/s, now=None]\u001b[A"
     ]
    },
    {
     "name": "stdout",
     "output_type": "stream",
     "text": [
      "1229.8239274849852 m 701.2777019780648 m\n",
      "1156.8224336659498 m 639.514870390705 m\n"
     ]
    },
    {
     "name": "stderr",
     "output_type": "stream",
     "text": [
      "\n",
      "t:  91%|███████████████████████████████████████████████████████████      | 1144/1260 [02:54<00:19,  6.05it/s, now=None]\u001b[A"
     ]
    },
    {
     "name": "stdout",
     "output_type": "stream",
     "text": [
      "1097.9345650245227 m 578.8883283690528 m\n",
      "1021.9903772457764 m 530.9770446243058 m\n"
     ]
    },
    {
     "name": "stderr",
     "output_type": "stream",
     "text": [
      "\n",
      "t:  91%|███████████████████████████████████████████████████████████      | 1145/1260 [02:54<00:18,  6.06it/s, now=None]\u001b[A\n",
      "t:  91%|███████████████████████████████████████████████████████████      | 1146/1260 [02:54<00:18,  6.12it/s, now=None]\u001b[A"
     ]
    },
    {
     "name": "stdout",
     "output_type": "stream",
     "text": [
      "1007.6931817070841 m 526.7545631978792 m\n",
      "865.7984516715786 m 555.7735799040491 m\n"
     ]
    },
    {
     "name": "stderr",
     "output_type": "stream",
     "text": [
      "\n",
      "t:  91%|███████████████████████████████████████████████████████████▏     | 1147/1260 [02:55<00:18,  6.23it/s, now=None]\u001b[A\n",
      "t:  91%|███████████████████████████████████████████████████████████▏     | 1148/1260 [02:55<00:18,  6.17it/s, now=None]\u001b[A"
     ]
    },
    {
     "name": "stdout",
     "output_type": "stream",
     "text": [
      "887.0302275914795 m 540.6994219332823 m\n",
      "746.3445666216544 m 498.76924138069177 m\n"
     ]
    },
    {
     "name": "stderr",
     "output_type": "stream",
     "text": [
      "\n",
      "t:  91%|███████████████████████████████████████████████████████████▎     | 1149/1260 [02:55<00:18,  6.04it/s, now=None]\u001b[A\n",
      "t:  91%|███████████████████████████████████████████████████████████▎     | 1150/1260 [02:55<00:18,  6.09it/s, now=None]\u001b[A"
     ]
    },
    {
     "name": "stdout",
     "output_type": "stream",
     "text": [
      "747.2653515984425 m 525.9414462559735 m\n",
      "672.785880416823 m 586.0710342566468 m\n"
     ]
    },
    {
     "name": "stderr",
     "output_type": "stream",
     "text": [
      "\n",
      "t:  91%|███████████████████████████████████████████████████████████▍     | 1151/1260 [02:55<00:17,  6.15it/s, now=None]\u001b[A\n",
      "t:  91%|███████████████████████████████████████████████████████████▍     | 1152/1260 [02:55<00:17,  6.25it/s, now=None]\u001b[A"
     ]
    },
    {
     "name": "stdout",
     "output_type": "stream",
     "text": [
      "590.9500865594645 m 622.973899591387 m\n",
      "551.3967824318232 m 642.2842811078955 m\n"
     ]
    },
    {
     "name": "stderr",
     "output_type": "stream",
     "text": [
      "\n",
      "t:  92%|███████████████████████████████████████████████████████████▍     | 1153/1260 [02:56<00:16,  6.31it/s, now=None]\u001b[A\n",
      "t:  92%|███████████████████████████████████████████████████████████▌     | 1154/1260 [02:56<00:17,  6.24it/s, now=None]\u001b[A"
     ]
    },
    {
     "name": "stdout",
     "output_type": "stream",
     "text": [
      "570.0974077424714 m 534.1398016728799 m\n",
      "637.9574098498562 m 641.4714142796005 m\n"
     ]
    },
    {
     "name": "stderr",
     "output_type": "stream",
     "text": [
      "\n",
      "t:  92%|███████████████████████████████████████████████████████████▌     | 1155/1260 [02:56<00:17,  6.16it/s, now=None]\u001b[A\n",
      "t:  92%|███████████████████████████████████████████████████████████▋     | 1156/1260 [02:56<00:17,  6.07it/s, now=None]\u001b[A"
     ]
    },
    {
     "name": "stdout",
     "output_type": "stream",
     "text": [
      "614.2377507187568 m 527.8976749096761 m\n",
      "605.6799118941664 m 515.4118024938003 m\n"
     ]
    },
    {
     "name": "stderr",
     "output_type": "stream",
     "text": [
      "\n",
      "t:  92%|███████████████████████████████████████████████████████████▋     | 1157/1260 [02:56<00:16,  6.06it/s, now=None]\u001b[A\n",
      "t:  92%|███████████████████████████████████████████████████████████▋     | 1158/1260 [02:56<00:16,  6.11it/s, now=None]\u001b[A"
     ]
    },
    {
     "name": "stdout",
     "output_type": "stream",
     "text": [
      "657.1713778609824 m 538.2265371171594 m\n",
      "648.4268878897162 m 487.20441724824775 m\n"
     ]
    },
    {
     "name": "stderr",
     "output_type": "stream",
     "text": [
      "\n",
      "t:  92%|███████████████████████████████████████████████████████████▊     | 1159/1260 [02:57<00:16,  6.09it/s, now=None]\u001b[A\n",
      "t:  92%|███████████████████████████████████████████████████████████▊     | 1160/1260 [02:57<00:16,  6.07it/s, now=None]\u001b[A"
     ]
    },
    {
     "name": "stdout",
     "output_type": "stream",
     "text": [
      "686.4355236153685 m 482.3535531246679 m\n",
      "649.0996644501814 m 480.7077314426453 m\n"
     ]
    },
    {
     "name": "stderr",
     "output_type": "stream",
     "text": [
      "\n",
      "t:  92%|███████████████████████████████████████████████████████████▉     | 1161/1260 [02:57<00:15,  6.26it/s, now=None]\u001b[A\n",
      "t:  92%|███████████████████████████████████████████████████████████▉     | 1162/1260 [02:57<00:15,  6.31it/s, now=None]\u001b[A"
     ]
    },
    {
     "name": "stdout",
     "output_type": "stream",
     "text": [
      "678.4676328977341 m 513.2534724668084 m\n",
      "725.1979506424881 m 531.4677436562815 m\n"
     ]
    },
    {
     "name": "stderr",
     "output_type": "stream",
     "text": [
      "\n",
      "t:  92%|███████████████████████████████████████████████████████████▉     | 1163/1260 [02:57<00:15,  6.33it/s, now=None]\u001b[A\n",
      "t:  92%|████████████████████████████████████████████████████████████     | 1164/1260 [02:57<00:15,  6.34it/s, now=None]\u001b[A"
     ]
    },
    {
     "name": "stdout",
     "output_type": "stream",
     "text": [
      "753.8496265698863 m 593.1554230294001 m\n",
      "870.7448079998867 m 611.8834167006338 m\n"
     ]
    },
    {
     "name": "stderr",
     "output_type": "stream",
     "text": [
      "\n",
      "t:  92%|████████████████████████████████████████████████████████████     | 1165/1260 [02:57<00:15,  6.21it/s, now=None]\u001b[A\n",
      "t:  93%|████████████████████████████████████████████████████████████▏    | 1166/1260 [02:58<00:14,  6.30it/s, now=None]\u001b[A\n",
      "t:  93%|████████████████████████████████████████████████████████████▏    | 1167/1260 [02:58<00:14,  6.29it/s, now=None]"
     ]
    },
    {
     "name": "stdout",
     "output_type": "stream",
     "text": [
      "987.5305887572249 m 658.8980790041318 m\n",
      "1049.0960692881094 m 567.3598965637194 m\n"
     ]
    },
    {
     "name": "stderr",
     "output_type": "stream",
     "text": [
      "\u001b[A\n",
      "t:  93%|████████████████████████████████████████████████████████████▎    | 1168/1260 [02:58<00:14,  6.25it/s, now=None]\u001b[A"
     ]
    },
    {
     "name": "stdout",
     "output_type": "stream",
     "text": [
      "1118.0992126218246 m 547.3211742711493 m\n",
      "1148.9937869335167 m 506.88750771150455 m\n"
     ]
    },
    {
     "name": "stderr",
     "output_type": "stream",
     "text": [
      "\n",
      "t:  93%|████████████████████████████████████████████████████████████▎    | 1169/1260 [02:58<00:14,  6.24it/s, now=None]\u001b[A\n",
      "t:  93%|████████████████████████████████████████████████████████████▎    | 1170/1260 [02:58<00:14,  6.32it/s, now=None]\u001b[A"
     ]
    },
    {
     "name": "stdout",
     "output_type": "stream",
     "text": [
      "1220.0224836866014 m 603.360443239187 m\n",
      "1237.053045706389 m 566.9818074061151 m\n"
     ]
    },
    {
     "name": "stderr",
     "output_type": "stream",
     "text": [
      "\n",
      "t:  93%|████████████████████████████████████████████████████████████▍    | 1171/1260 [02:58<00:13,  6.40it/s, now=None]\u001b[A\n",
      "t:  93%|████████████████████████████████████████████████████████████▍    | 1172/1260 [02:59<00:13,  6.41it/s, now=None]\u001b[A"
     ]
    },
    {
     "name": "stdout",
     "output_type": "stream",
     "text": [
      "1447.2951228528086 m 586.29971124267 m\n",
      "1527.6306663175037 m 638.4921396942665 m\n"
     ]
    },
    {
     "name": "stderr",
     "output_type": "stream",
     "text": [
      "\n",
      "t:  93%|████████████████████████████████████████████████████████████▌    | 1173/1260 [02:59<00:13,  6.43it/s, now=None]\u001b[A\n",
      "t:  93%|████████████████████████████████████████████████████████████▌    | 1174/1260 [02:59<00:13,  6.35it/s, now=None]\u001b[A"
     ]
    },
    {
     "name": "stdout",
     "output_type": "stream",
     "text": [
      "1582.0347413381169 m 675.5794669265739 m\n",
      "1379.2705114287983 m 708.9079183220526 m\n"
     ]
    },
    {
     "name": "stderr",
     "output_type": "stream",
     "text": [
      "\n",
      "t:  93%|████████████████████████████████████████████████████████████▌    | 1175/1260 [02:59<00:13,  6.41it/s, now=None]\u001b[A\n",
      "t:  93%|████████████████████████████████████████████████████████████▋    | 1176/1260 [02:59<00:13,  6.39it/s, now=None]\u001b[A"
     ]
    },
    {
     "name": "stdout",
     "output_type": "stream",
     "text": [
      "1130.4606857352978 m 699.435227771752 m\n",
      "1253.8519897292956 m 595.7985866742459 m\n"
     ]
    },
    {
     "name": "stderr",
     "output_type": "stream",
     "text": [
      "\n",
      "t:  93%|████████████████████████████████████████████████████████████▋    | 1177/1260 [02:59<00:13,  6.34it/s, now=None]\u001b[A\n",
      "t:  93%|████████████████████████████████████████████████████████████▊    | 1178/1260 [03:00<00:13,  6.27it/s, now=None]\u001b[A"
     ]
    },
    {
     "name": "stdout",
     "output_type": "stream",
     "text": [
      "1158.9254142794716 m 553.0373328317535 m\n",
      "1179.5781662589468 m 550.0867437750826 m\n"
     ]
    },
    {
     "name": "stderr",
     "output_type": "stream",
     "text": [
      "\n",
      "t:  94%|████████████████████████████████████████████████████████████▊    | 1179/1260 [03:00<00:12,  6.26it/s, now=None]\u001b[A\n",
      "t:  94%|████████████████████████████████████████████████████████████▊    | 1180/1260 [03:00<00:12,  6.31it/s, now=None]\u001b[A"
     ]
    },
    {
     "name": "stdout",
     "output_type": "stream",
     "text": [
      "1188.7126737072472 m 596.6037488344725 m\n",
      "1009.2072456206427 m 597.7671599579131 m\n"
     ]
    },
    {
     "name": "stderr",
     "output_type": "stream",
     "text": [
      "\n",
      "t:  94%|████████████████████████████████████████████████████████████▉    | 1181/1260 [03:00<00:12,  6.31it/s, now=None]\u001b[A\n",
      "t:  94%|████████████████████████████████████████████████████████████▉    | 1182/1260 [03:00<00:12,  6.33it/s, now=None]\u001b[A"
     ]
    },
    {
     "name": "stdout",
     "output_type": "stream",
     "text": [
      "1096.0923463527033 m 659.8357955264023 m\n",
      "890.9785563908742 m 568.725231652677 m\n"
     ]
    },
    {
     "name": "stderr",
     "output_type": "stream",
     "text": [
      "\n",
      "t:  94%|█████████████████████████████████████████████████████████████    | 1183/1260 [03:00<00:12,  6.41it/s, now=None]\u001b[A\n",
      "t:  94%|█████████████████████████████████████████████████████████████    | 1184/1260 [03:00<00:12,  6.29it/s, now=None]\u001b[A"
     ]
    },
    {
     "name": "stdout",
     "output_type": "stream",
     "text": [
      "851.8751833165705 m 564.5496307076969 m\n",
      "770.0378886185485"
     ]
    },
    {
     "name": "stderr",
     "output_type": "stream",
     "text": [
      "\n",
      "t:  94%|█████████████████████████████████████████████████████████████▏   | 1185/1260 [03:01<00:12,  6.11it/s, now=None]\u001b[A\n",
      "t:  94%|█████████████████████████████████████████████████████████████▏   | 1186/1260 [03:01<00:11,  6.22it/s, now=None]\u001b[A"
     ]
    },
    {
     "name": "stdout",
     "output_type": "stream",
     "text": [
      " m 631.2873478532581 m\n",
      "733.5533750023196 m 724.6633519003134 m\n"
     ]
    },
    {
     "name": "stderr",
     "output_type": "stream",
     "text": [
      "\n",
      "t:  94%|█████████████████████████████████████████████████████████████▏   | 1187/1260 [03:01<00:11,  6.24it/s, now=None]\u001b[A"
     ]
    },
    {
     "name": "stdout",
     "output_type": "stream",
     "text": [
      "699.6150721982109 m 768.1237089413879 m\n",
      "694.7075163151372 m 677.1838396695464 m\n"
     ]
    },
    {
     "name": "stderr",
     "output_type": "stream",
     "text": [
      "\n",
      "t:  94%|█████████████████████████████████████████████████████████████▎   | 1188/1260 [03:01<00:11,  6.07it/s, now=None]\u001b[A\n",
      "t:  94%|█████████████████████████████████████████████████████████████▎   | 1189/1260 [03:01<00:11,  6.00it/s, now=None]\u001b[A"
     ]
    },
    {
     "name": "stdout",
     "output_type": "stream",
     "text": [
      "703.4822147095206 m 588.657842639446 m\n",
      "770.4198589447097 m 586.215338054318 m\n"
     ]
    },
    {
     "name": "stderr",
     "output_type": "stream",
     "text": [
      "\n",
      "t:  94%|█████████████████████████████████████████████████████████████▍   | 1190/1260 [03:01<00:11,  6.03it/s, now=None]\u001b[A\n",
      "t:  95%|█████████████████████████████████████████████████████████████▍   | 1191/1260 [03:02<00:11,  6.04it/s, now=None]\u001b[A"
     ]
    },
    {
     "name": "stdout",
     "output_type": "stream",
     "text": [
      "685.627743305413 m 529.2039853682454 m\n",
      "675.1648214523624 m 566.9332256059985 m\n"
     ]
    },
    {
     "name": "stderr",
     "output_type": "stream",
     "text": [
      "\n",
      "t:  95%|█████████████████████████████████████████████████████████████▍   | 1192/1260 [03:02<00:11,  6.04it/s, now=None]\u001b[A\n",
      "t:  95%|█████████████████████████████████████████████████████████████▌   | 1193/1260 [03:02<00:10,  6.12it/s, now=None]\u001b[A\n",
      "t:  95%|█████████████████████████████████████████████████████████████▌   | 1194/1260 [03:02<00:10,  6.18it/s, now=None]\u001b[A"
     ]
    },
    {
     "name": "stdout",
     "output_type": "stream",
     "text": [
      "663.7703349714002 m 487.04666889509326 m\n",
      "550.8326110023751 m 476.7487349135881 m\n"
     ]
    },
    {
     "name": "stderr",
     "output_type": "stream",
     "text": [
      "\n",
      "t:  95%|█████████████████████████████████████████████████████████████▋   | 1195/1260 [03:02<00:10,  6.27it/s, now=None]\u001b[A"
     ]
    },
    {
     "name": "stdout",
     "output_type": "stream",
     "text": [
      "586.5867845910248 m 496.26006265281325 m\n",
      "519.4362584109707 m 447.2838545803416 m\n"
     ]
    },
    {
     "name": "stderr",
     "output_type": "stream",
     "text": [
      "\n",
      "t:  95%|█████████████████████████████████████████████████████████████▋   | 1196/1260 [03:02<00:10,  6.26it/s, now=None]\u001b[A\n",
      "t:  95%|█████████████████████████████████████████████████████████████▊   | 1197/1260 [03:03<00:09,  6.39it/s, now=None]\u001b[A\n",
      "t:  95%|█████████████████████████████████████████████████████████████▊   | 1198/1260 [03:03<00:09,  6.43it/s, now=None]\u001b[A"
     ]
    },
    {
     "name": "stdout",
     "output_type": "stream",
     "text": [
      "553.0640509564906 m 418.64387961773144 m\n",
      "611.3686753817452 m 425.2505292550672 m\n"
     ]
    },
    {
     "name": "stderr",
     "output_type": "stream",
     "text": [
      "\n",
      "t:  95%|█████████████████████████████████████████████████████████████▊   | 1199/1260 [03:03<00:09,  6.35it/s, now=None]\u001b[A"
     ]
    },
    {
     "name": "stdout",
     "output_type": "stream",
     "text": [
      "668.4975703012284 m 458.477444693078 m\n",
      "724.1940774338628 m 578.5196699080741 m\n"
     ]
    },
    {
     "name": "stderr",
     "output_type": "stream",
     "text": [
      "\n",
      "t:  95%|█████████████████████████████████████████████████████████████▉   | 1200/1260 [03:03<00:09,  6.28it/s, now=None]\u001b[A\n",
      "t:  95%|█████████████████████████████████████████████████████████████▉   | 1201/1260 [03:03<00:09,  6.28it/s, now=None]\u001b[A"
     ]
    },
    {
     "name": "stdout",
     "output_type": "stream",
     "text": [
      "790.9270051206835 m 630.9765590711299 m\n",
      "811.0119756271273 m 512.7737184828429 m\n"
     ]
    },
    {
     "name": "stderr",
     "output_type": "stream",
     "text": [
      "\n",
      "t:  95%|██████████████████████████████████████████████████████████████   | 1202/1260 [03:03<00:09,  6.26it/s, now=None]\u001b[A\n",
      "t:  95%|██████████████████████████████████████████████████████████████   | 1203/1260 [03:04<00:09,  6.30it/s, now=None]\u001b[A"
     ]
    },
    {
     "name": "stdout",
     "output_type": "stream",
     "text": [
      "760.2971214435182 m 479.13146345393784 m\n",
      "723.1448872452108"
     ]
    },
    {
     "name": "stderr",
     "output_type": "stream",
     "text": [
      "\n",
      "t:  96%|██████████████████████████████████████████████████████████████   | 1204/1260 [03:04<00:09,  6.03it/s, now=None]\u001b[A\n"
     ]
    },
    {
     "name": "stdout",
     "output_type": "stream",
     "text": [
      " m 436.32921066847183 m\n",
      "670.4991464383617 m 461.1118208292009 m\n"
     ]
    },
    {
     "name": "stderr",
     "output_type": "stream",
     "text": [
      "t:  96%|██████████████████████████████████████████████████████████████▏  | 1205/1260 [03:04<00:09,  6.02it/s, now=None]\u001b[A\n",
      "t:  96%|██████████████████████████████████████████████████████████████▏  | 1206/1260 [03:04<00:08,  6.21it/s, now=None]\u001b[A"
     ]
    },
    {
     "name": "stdout",
     "output_type": "stream",
     "text": [
      "673.988562043565 m 434.8241385022214 m\n",
      "648.9521207369859 m 492.5473768864334 m\n"
     ]
    },
    {
     "name": "stderr",
     "output_type": "stream",
     "text": [
      "\n",
      "t:  96%|██████████████████████████████████████████████████████████████▎  | 1207/1260 [03:04<00:08,  6.35it/s, now=None]\u001b[A\n",
      "t:  96%|██████████████████████████████████████████████████████████████▎  | 1208/1260 [03:04<00:08,  6.36it/s, now=None]\u001b[A"
     ]
    },
    {
     "name": "stdout",
     "output_type": "stream",
     "text": [
      "663.172552480835 m 482.4795334017978 m\n",
      "703.3323509450383 m 560.7865969694601 m\n"
     ]
    },
    {
     "name": "stderr",
     "output_type": "stream",
     "text": [
      "\n",
      "t:  96%|██████████████████████████████████████████████████████████████▎  | 1209/1260 [03:05<00:08,  6.31it/s, now=None]\u001b[A\n",
      "t:  96%|██████████████████████████████████████████████████████████████▍  | 1210/1260 [03:05<00:08,  6.23it/s, now=None]\u001b[A"
     ]
    },
    {
     "name": "stdout",
     "output_type": "stream",
     "text": [
      "702.9125084148052 m 459.6444473614139 m\n",
      "742.2580155802352 m 478.07301852148055 m\n"
     ]
    },
    {
     "name": "stderr",
     "output_type": "stream",
     "text": [
      "\n",
      "t:  96%|██████████████████████████████████████████████████████████████▍  | 1211/1260 [03:05<00:07,  6.23it/s, now=None]\u001b[A\n",
      "t:  96%|██████████████████████████████████████████████████████████████▌  | 1212/1260 [03:05<00:07,  6.11it/s, now=None]\u001b[A"
     ]
    },
    {
     "name": "stdout",
     "output_type": "stream",
     "text": [
      "778.4993526775748 m 473.0331763179256 m\n",
      "817.88568492843 m 473.8541432410624 m\n"
     ]
    },
    {
     "name": "stderr",
     "output_type": "stream",
     "text": [
      "\n",
      "t:  96%|██████████████████████████████████████████████████████████████▌  | 1213/1260 [03:05<00:07,  6.15it/s, now=None]\u001b[A\n",
      "t:  96%|██████████████████████████████████████████████████████████████▋  | 1214/1260 [03:05<00:07,  6.18it/s, now=None]\u001b[A"
     ]
    },
    {
     "name": "stdout",
     "output_type": "stream",
     "text": [
      "929.1227787932496 m 520.5278522067105 m\n",
      "932.3637808327358 m 516.8680972411038 m\n"
     ]
    },
    {
     "name": "stderr",
     "output_type": "stream",
     "text": [
      "\n",
      "t:  96%|██████████████████████████████████████████████████████████████▋  | 1215/1260 [03:05<00:07,  6.21it/s, now=None]\u001b[A\n",
      "t:  97%|██████████████████████████████████████████████████████████████▋  | 1216/1260 [03:06<00:07,  6.26it/s, now=None]\u001b[A"
     ]
    },
    {
     "name": "stdout",
     "output_type": "stream",
     "text": [
      "973.0902569394112 m 524.2475776624572 m\n",
      "1005.7954451288833 m 514.9578972561611 m\n"
     ]
    },
    {
     "name": "stderr",
     "output_type": "stream",
     "text": [
      "\n",
      "t:  97%|██████████████████████████████████████████████████████████████▊  | 1217/1260 [03:06<00:06,  6.17it/s, now=None]\u001b[A\n",
      "t:  97%|██████████████████████████████████████████████████████████████▊  | 1218/1260 [03:06<00:06,  6.05it/s, now=None]\u001b[A"
     ]
    },
    {
     "name": "stdout",
     "output_type": "stream",
     "text": [
      "1087.608440392376 m 501.1322740022058 m\n",
      "1036.0715599290002 m 593.800531643737 m\n"
     ]
    },
    {
     "name": "stderr",
     "output_type": "stream",
     "text": [
      "\n",
      "t:  97%|██████████████████████████████████████████████████████████████▉  | 1219/1260 [03:06<00:06,  6.10it/s, now=None]\u001b[A\n",
      "t:  97%|██████████████████████████████████████████████████████████████▉  | 1220/1260 [03:06<00:06,  6.17it/s, now=None]\u001b[A"
     ]
    },
    {
     "name": "stdout",
     "output_type": "stream",
     "text": [
      "1051.5899870777014 m 843.6642438959032 m\n",
      "996.686204742063 m 776.6531692448443 m\n"
     ]
    },
    {
     "name": "stderr",
     "output_type": "stream",
     "text": [
      "\n",
      "t:  97%|██████████████████████████████████████████████████████████████▉  | 1221/1260 [03:06<00:06,  6.24it/s, now=None]\u001b[A\n",
      "t:  97%|███████████████████████████████████████████████████████████████  | 1222/1260 [03:07<00:06,  6.11it/s, now=None]\u001b[A"
     ]
    },
    {
     "name": "stdout",
     "output_type": "stream",
     "text": [
      "1093.0780514882003 m 718.4748671633038 m\n",
      "1169.4322799190388 m 575.0304177183965 m\n"
     ]
    },
    {
     "name": "stderr",
     "output_type": "stream",
     "text": [
      "\n",
      "t:  97%|███████████████████████████████████████████████████████████████  | 1223/1260 [03:07<00:06,  6.12it/s, now=None]\u001b[A\n",
      "t:  97%|███████████████████████████████████████████████████████████████▏ | 1224/1260 [03:07<00:05,  6.14it/s, now=None]\u001b[A"
     ]
    },
    {
     "name": "stdout",
     "output_type": "stream",
     "text": [
      "1337.379253839768 m 622.4865444315418 m\n",
      "1307.2557888929548 m 657.8982833633801 m\n"
     ]
    },
    {
     "name": "stderr",
     "output_type": "stream",
     "text": [
      "\n",
      "t:  97%|███████████████████████████████████████████████████████████████▏ | 1225/1260 [03:07<00:05,  6.30it/s, now=None]\u001b[A\n",
      "t:  97%|███████████████████████████████████████████████████████████████▏ | 1226/1260 [03:07<00:05,  6.23it/s, now=None]\u001b[A"
     ]
    },
    {
     "name": "stdout",
     "output_type": "stream",
     "text": [
      "1314.559330117043 m 623.7091674009516 m\n",
      "1529.8344632758403 m 665.5256377211755 m\n"
     ]
    },
    {
     "name": "stderr",
     "output_type": "stream",
     "text": [
      "\n",
      "t:  97%|███████████████████████████████████████████████████████████████▎ | 1227/1260 [03:07<00:05,  6.10it/s, now=None]\u001b[A\n",
      "t:  97%|███████████████████████████████████████████████████████████████▎ | 1228/1260 [03:08<00:05,  6.11it/s, now=None]\u001b[A"
     ]
    },
    {
     "name": "stdout",
     "output_type": "stream",
     "text": [
      "1799.8496985788747 m 742.5945983656956 m\n",
      "1674.5970829150615 m 764.5536283619995 m\n"
     ]
    },
    {
     "name": "stderr",
     "output_type": "stream",
     "text": [
      "\n",
      "t:  98%|███████████████████████████████████████████████████████████████▍ | 1229/1260 [03:08<00:05,  6.06it/s, now=None]\u001b[A\n",
      "t:  98%|███████████████████████████████████████████████████████████████▍ | 1230/1260 [03:08<00:04,  6.02it/s, now=None]\u001b[A"
     ]
    },
    {
     "name": "stdout",
     "output_type": "stream",
     "text": [
      "2140.7489349486686 m 838.5131004696425 m\n",
      "2518.54660428691 m 982.3720359198047 m\n"
     ]
    },
    {
     "name": "stderr",
     "output_type": "stream",
     "text": [
      "\n",
      "t:  98%|███████████████████████████████████████████████████████████████▌ | 1231/1260 [03:08<00:04,  6.03it/s, now=None]\u001b[A\n",
      "t:  98%|███████████████████████████████████████████████████████████████▌ | 1232/1260 [03:08<00:04,  6.07it/s, now=None]\u001b[A"
     ]
    },
    {
     "name": "stdout",
     "output_type": "stream",
     "text": [
      "2292.558394986918 m 12767.095375243098 m\n",
      "2813.49206063747 m 3397.0316794134387 m\n"
     ]
    },
    {
     "name": "stderr",
     "output_type": "stream",
     "text": [
      "\n",
      "t:  98%|███████████████████████████████████████████████████████████████▌ | 1233/1260 [03:08<00:04,  6.30it/s, now=None]\u001b[A\n",
      "t:  98%|███████████████████████████████████████████████████████████████▋ | 1234/1260 [03:09<00:04,  6.25it/s, now=None]\u001b[A\n",
      "t:  98%|███████████████████████████████████████████████████████████████▋ | 1235/1260 [03:09<00:04,  6.23it/s, now=None]"
     ]
    },
    {
     "name": "stdout",
     "output_type": "stream",
     "text": [
      "2502.6613576497716 m 1041.8990406584633 m\n",
      "4041.2947046512736 m 1084.0772242100916 m\n"
     ]
    },
    {
     "name": "stderr",
     "output_type": "stream",
     "text": [
      "\u001b[A\n",
      "t:  98%|███████████████████████████████████████████████████████████████▊ | 1236/1260 [03:09<00:03,  6.24it/s, now=None]\u001b[A"
     ]
    },
    {
     "name": "stdout",
     "output_type": "stream",
     "text": [
      "3609.841598394561 m 1032.1964481712766 m\n",
      "4528.998631423001 m 1665.6420850079676 m\n"
     ]
    },
    {
     "name": "stderr",
     "output_type": "stream",
     "text": [
      "\n",
      "t:  98%|███████████████████████████████████████████████████████████████▊ | 1237/1260 [03:09<00:03,  6.23it/s, now=None]\u001b[A\n",
      "t:  98%|███████████████████████████████████████████████████████████████▊ | 1238/1260 [03:09<00:03,  6.14it/s, now=None]\u001b[A"
     ]
    },
    {
     "name": "stdout",
     "output_type": "stream",
     "text": [
      "5823.214153962405 m 1634.2980580301792 m\n",
      "5240.295637511978 m 1880.5042951250741 m\n"
     ]
    },
    {
     "name": "stderr",
     "output_type": "stream",
     "text": [
      "\n",
      "t:  98%|███████████████████████████████████████████████████████████████▉ | 1239/1260 [03:09<00:03,  6.11it/s, now=None]\u001b[A\n",
      "t:  98%|███████████████████████████████████████████████████████████████▉ | 1240/1260 [03:10<00:03,  6.03it/s, now=None]\u001b[A"
     ]
    },
    {
     "name": "stdout",
     "output_type": "stream",
     "text": [
      "4498.704639680204 m 7128.092563323865 m\n",
      "5221.919202242974 m 15578.75351016638 m\n"
     ]
    },
    {
     "name": "stderr",
     "output_type": "stream",
     "text": [
      "\n",
      "t:  98%|████████████████████████████████████████████████████████████████ | 1241/1260 [03:10<00:03,  6.17it/s, now=None]\u001b[A\n",
      "t:  99%|████████████████████████████████████████████████████████████████ | 1242/1260 [03:10<00:02,  6.20it/s, now=None]\u001b[A"
     ]
    },
    {
     "name": "stdout",
     "output_type": "stream",
     "text": [
      "4283.744589001464 m 1643.9288871056187 m\n",
      "3703.173305407931 m 2566.5082304498055 m\n"
     ]
    },
    {
     "name": "stderr",
     "output_type": "stream",
     "text": [
      "\n",
      "t:  99%|████████████████████████████████████████████████████████████████ | 1243/1260 [03:10<00:02,  6.24it/s, now=None]\u001b[A\n",
      "t:  99%|████████████████████████████████████████████████████████████████▏| 1244/1260 [03:10<00:02,  6.30it/s, now=None]\u001b[A\n",
      "t:  99%|████████████████████████████████████████████████████████████████▏| 1245/1260 [03:10<00:02,  6.35it/s, now=None]\u001b[A"
     ]
    },
    {
     "name": "stdout",
     "output_type": "stream",
     "text": [
      "9425.108777803001 m 53179.785544923456 m\n",
      "8474.330752362148 m 5993.377448820395 m\n"
     ]
    },
    {
     "name": "stderr",
     "output_type": "stream",
     "text": [
      "\n",
      "t:  99%|████████████████████████████████████████████████████████████████▎| 1246/1260 [03:10<00:02,  6.36it/s, now=None]\u001b[A\n",
      "t:  99%|████████████████████████████████████████████████████████████████▎| 1247/1260 [03:11<00:02,  6.49it/s, now=None]\u001b[A"
     ]
    },
    {
     "name": "stdout",
     "output_type": "stream",
     "text": [
      "4974.839615429204 m 3220.8408902168303 m\n",
      "5930.259535539238 m 4833.726369314269 m\n"
     ]
    },
    {
     "name": "stderr",
     "output_type": "stream",
     "text": [
      "\n",
      "t:  99%|████████████████████████████████████████████████████████████████▍| 1248/1260 [03:11<00:01,  6.47it/s, now=None]\u001b[A\n"
     ]
    },
    {
     "name": "stdout",
     "output_type": "stream",
     "text": [
      "5036.4670240823425 m 1438.5778203802242 m\n",
      "6210.562273309811 m 3322.748639589428 m\n"
     ]
    },
    {
     "name": "stderr",
     "output_type": "stream",
     "text": [
      "t:  99%|████████████████████████████████████████████████████████████████▍| 1249/1260 [03:11<00:01,  6.30it/s, now=None]\u001b[A\n",
      "t:  99%|████████████████████████████████████████████████████████████████▍| 1250/1260 [03:11<00:01,  6.30it/s, now=None]\u001b[A\n",
      "t:  99%|████████████████████████████████████████████████████████████████▌| 1251/1260 [03:11<00:01,  6.41it/s, now=None]\u001b[A"
     ]
    },
    {
     "name": "stdout",
     "output_type": "stream",
     "text": [
      "15656.398742987756 m 1243.3612415182067 m\n",
      "12611.812295417149 m 991.1471465156463 m\n"
     ]
    },
    {
     "name": "stderr",
     "output_type": "stream",
     "text": [
      "\n",
      "t:  99%|████████████████████████████████████████████████████████████████▌| 1252/1260 [03:11<00:01,  6.32it/s, now=None]\u001b[A"
     ]
    },
    {
     "name": "stdout",
     "output_type": "stream",
     "text": [
      "31342.972939095678 m 1514.2908024960445 m\n",
      "53563.30217140466 m 1202.6969402885297 m\n"
     ]
    },
    {
     "name": "stderr",
     "output_type": "stream",
     "text": [
      "\n",
      "t:  99%|████████████████████████████████████████████████████████████████▋| 1253/1260 [03:12<00:01,  6.26it/s, now=None]\u001b[A\n",
      "t: 100%|████████████████████████████████████████████████████████████████▋| 1254/1260 [03:12<00:00,  6.13it/s, now=None]\u001b[A"
     ]
    },
    {
     "name": "stdout",
     "output_type": "stream",
     "text": [
      "15949.723857191488 m 1088.9339671864927 m\n",
      "30250.66092045427 m 1715.197280236135 m\n"
     ]
    },
    {
     "name": "stderr",
     "output_type": "stream",
     "text": [
      "\n",
      "t: 100%|████████████████████████████████████████████████████████████████▋| 1255/1260 [03:12<00:00,  6.10it/s, now=None]\u001b[A\n",
      "t: 100%|████████████████████████████████████████████████████████████████▊| 1256/1260 [03:12<00:00,  6.19it/s, now=None]\u001b[A"
     ]
    },
    {
     "name": "stdout",
     "output_type": "stream",
     "text": [
      "23888.94121324414 m 1736.683336998605 m\n",
      "12551.244123420402 m 2126.0713462964513 m\n"
     ]
    },
    {
     "name": "stderr",
     "output_type": "stream",
     "text": [
      "\n",
      "t: 100%|████████████████████████████████████████████████████████████████▊| 1257/1260 [03:12<00:00,  6.21it/s, now=None]\u001b[A\n",
      "t: 100%|████████████████████████████████████████████████████████████████▉| 1258/1260 [03:12<00:00,  6.31it/s, now=None]\u001b[A\n",
      "t: 100%|████████████████████████████████████████████████████████████████▉| 1259/1260 [03:13<00:00,  6.39it/s, now=None]\u001b[A"
     ]
    },
    {
     "name": "stdout",
     "output_type": "stream",
     "text": [
      "13367.840841640173 m 1205.270023765828 m\n",
      "48224.7179220458 m 820.9832660260474 m\n"
     ]
    },
    {
     "name": "stderr",
     "output_type": "stream",
     "text": [
      "\n",
      "t: 100%|█████████████████████████████████████████████████████████████████| 1260/1260 [03:13<00:00,  6.52it/s, now=None]\u001b[A"
     ]
    },
    {
     "name": "stdout",
     "output_type": "stream",
     "text": [
      "21271.87678960981 m 2089.5906759673167 m\n",
      "7312.611885865279 m 3676.7045584930715 m\n"
     ]
    },
    {
     "name": "stderr",
     "output_type": "stream",
     "text": [
      "\n",
      "t:   0%|                                                               | 1/1260 [08:05<169:37:17, 485.02s/it, now=None]\u001b[A"
     ]
    },
    {
     "name": "stdout",
     "output_type": "stream",
     "text": [
      "Moviepy - Done !\n",
      "Moviepy - video ready output_images/project_video_output2.mp4\n",
      "Wall time: 3min 13s\n"
     ]
    },
    {
     "data": {
      "image/png": "[encoded data removed]",
      "text/plain": [
       "<Figure size 432x288 with 1 Axes>"
      ]
     },
     "metadata": {
      "needs_background": "light"
     },
     "output_type": "display_data"
    }
   ],
   "source": [
    "white_output = 'output_images/project_video_output2.mp4'\n",
    "## To speed up the testing process you may want to try your pipeline on a shorter subclip of the video\n",
    "## To do so add .subclip(start_second,end_second) to the end of the line below\n",
    "## Where start_second and end_second are integer values representing the start and end of the subclip\n",
    "## You may also uncomment the following line for a subclip of the first 5 seconds\n",
    "##clip1 = VideoFileClip(\"test_videos/solidWhiteRight.mp4\").subclip(0,5)\n",
    "clip1 = VideoFileClip(\"./project_video.mp4\")\n",
    "white_clip = clip1.fl_image(process_image) #NOTE: this function expects color images!!\n",
    "%time white_clip.write_videofile(white_output, audio=False)"
   ]
  },
  {
   "cell_type": "code",
   "execution_count": 21,
   "metadata": {},
   "outputs": [
    {
     "data": {
      "text/html": [
       "\n",
       "<video width=\"960\" height=\"540\" controls>\n",
       "  <source src=\"output_images/project_video_output2.mp4\">\n",
       "</video>\n"
      ],
      "text/plain": [
       "<IPython.core.display.HTML object>"
      ]
     },
     "execution_count": 21,
     "metadata": {},
     "output_type": "execute_result"
    }
   ],
   "source": [
    "HTML(\"\"\"\n",
    "<video width=\"960\" height=\"540\" controls>\n",
    "  <source src=\"{0}\">\n",
    "</video>\n",
    "\"\"\".format(white_output))"
   ]
  },
  {
   "cell_type": "code",
   "execution_count": null,
   "metadata": {},
   "outputs": [],
   "source": []
  }
 ],
 "metadata": {
  "kernelspec": {
   "display_name": "Python 3",
   "language": "python",
   "name": "python3"
  },
  "language_info": {
   "codemirror_mode": {
    "name": "ipython",
    "version": 3
   },
   "file_extension": ".py",
   "mimetype": "text/x-python",
   "name": "python",
   "nbconvert_exporter": "python",
   "pygments_lexer": "ipython3",
   "version": "3.8.5"
  }
 },
 "nbformat": 4,
 "nbformat_minor": 4
}
